{
 "cells": [
  {
   "cell_type": "markdown",
   "id": "16a0c1b9-7679-48a9-bd98-67caf2123963",
   "metadata": {
    "tags": []
   },
   "source": [
    "# Hotspots\n",
    "\n",
    "Hotspots California map: \n",
    "- Wildifre-wildifreSmokePM2.5, \n",
    "- Heat-wildfire,\n",
    "- Heat-PM2.5, \n",
    "- Wildifre-Heat-SmokePM2.5P"
   ]
  },
  {
   "cell_type": "code",
   "execution_count": 55,
   "id": "2ab11051-f28d-48be-8867-bd37d5046b9c",
   "metadata": {
    "tags": []
   },
   "outputs": [],
   "source": [
    "import numpy as np\n",
    "import pandas as pd\n",
    "\n",
    "import matplotlib.pyplot as plt\n",
    "df = pd.read_parquet(\"outputs/merged_heatday_coldday_wfday_polluted_smoke_polluted_rolling.parquet\")"
   ]
  },
  {
   "cell_type": "code",
   "execution_count": 56,
   "id": "a7a8fdd1-262c-4e60-9d5a-71d320ee773b",
   "metadata": {},
   "outputs": [],
   "source": [
    "df = df.drop(columns = ['tmin','tmax','pm25','smoke_pm'])"
   ]
  },
  {
   "attachments": {},
   "cell_type": "markdown",
   "id": "3abbfd11-43fa-4c54-b172-7474c3bf8f7d",
   "metadata": {
    "tags": []
   },
   "source": [
    "### Find hotspots\n",
    "\n",
    "Terminology:\n",
    "- h heat\n",
    "- w wildfire\n",
    "- p polluted\n",
    "- s smoke polluted\n",
    "\n",
    "Example:\n",
    "- hwp is a hotspot where heat wildfire and pollution are co-occurring \n",
    "\n",
    "- _hws is where heat OR wildfire OR smoke are occurring on the same day\n",
    "\n",
    "- hws_2d is where heat wildfire and smoke are occurring within 24 hours window (2 days)"
   ]
  },
  {
   "cell_type": "code",
   "execution_count": 57,
   "id": "e48a5bd0-1ce1-46b4-867d-441fb10e4308",
   "metadata": {
    "tags": []
   },
   "outputs": [],
   "source": [
    "df['hw'] = df['wfday'] & df['heatday']\n",
    "df['hp'] = df['heatday'] & df['polluted']\n",
    "df['hwp'] = df['heatday'] & df['wfday'] & df['polluted']"
   ]
  },
  {
   "cell_type": "code",
   "execution_count": 58,
   "id": "f47e2221-bbcc-4215-9cd8-2fcce3d6ebc6",
   "metadata": {
    "tags": []
   },
   "outputs": [],
   "source": [
    "df['_hws'] = df[['heatday','wfday','smoke_pm_non_zero']].any(axis=1)"
   ]
  },
  {
   "cell_type": "code",
   "execution_count": 59,
   "id": "d515cb23-1779-433e-b6ea-b12af418bb60",
   "metadata": {
    "tags": []
   },
   "outputs": [],
   "source": [
    "# smoke_pm_non_zero taken as main\n",
    "\n",
    "df['hs'] = df['heatday'] & df['smoke_pm_non_zero']\n",
    "df['hws'] = df['heatday'] & df['wfday'] & df['smoke_pm_non_zero']\n",
    "df['ws'] = df['wfday'] & df['smoke_pm_non_zero']"
   ]
  },
  {
   "cell_type": "code",
   "execution_count": 60,
   "id": "11a0b1ee-3900-40ad-9739-c0d63d1c6da3",
   "metadata": {
    "tags": []
   },
   "outputs": [],
   "source": [
    "df['hs5'] = df['heatday'] & df['smoke_pm_gt_five']\n",
    "df['hws5'] = df['heatday'] & df['wfday'] & df['smoke_pm_gt_five']\n",
    "df['ws5'] = df['wfday'] & df['smoke_pm_gt_five']"
   ]
  },
  {
   "cell_type": "code",
   "execution_count": 61,
   "id": "3f1c5a62-6aa5-4605-a5ae-022063f32888",
   "metadata": {
    "tags": []
   },
   "outputs": [],
   "source": [
    "df = df.drop(columns=['index', 'FIPS_1'])"
   ]
  },
  {
   "cell_type": "code",
   "execution_count": 78,
   "id": "7a55fb7d-1086-4a6e-b080-a185daaefabc",
   "metadata": {
    "tags": []
   },
   "outputs": [],
   "source": [
    "df.to_parquet(\"outputs/hotspots_per_fips_rolling.parquet\")"
   ]
  },
  {
   "attachments": {},
   "cell_type": "markdown",
   "id": "22b53823",
   "metadata": {},
   "source": [
    "## Hotspots in time window of 2D"
   ]
  },
  {
   "cell_type": "code",
   "execution_count": 18,
   "id": "c695eddb",
   "metadata": {},
   "outputs": [],
   "source": [
    "df = pd.read_parquet(\"outputs/hotspots_per_fips_rolling.parquet\")"
   ]
  },
  {
   "cell_type": "code",
   "execution_count": 62,
   "id": "fafdf9dc",
   "metadata": {},
   "outputs": [],
   "source": [
    "df.set_index('time', inplace=True)"
   ]
  },
  {
   "cell_type": "code",
   "execution_count": 63,
   "id": "e80d7e17",
   "metadata": {},
   "outputs": [
    {
     "name": "stderr",
     "output_type": "stream",
     "text": [
      "/var/folders/b_/vlxgm9n10bz569rffzmcc5dc0000gn/T/ipykernel_33428/830991533.py:11: FutureWarning: Not prepending group keys to the result index of transform-like apply. In the future, the group keys will be included in the index, regardless of whether the applied function returns a like-indexed object.\n",
      "To preserve the previous behavior, use\n",
      "\n",
      "\t>>> .groupby(..., group_keys=False)\n",
      "\n",
      "To adopt the future behavior and silence this warning, use \n",
      "\n",
      "\t>>> .groupby(..., group_keys=True)\n",
      "  df = df.groupby(by=['GEOID']).apply(get_time_hotspot)\n"
     ]
    }
   ],
   "source": [
    "def get_time_hotspot(x):\n",
    "    x['heatday_2d'] = x['heatday'].rolling('2D', min_periods=1).max()\n",
    "    x['smoke_pm_non_zero_2d'] = x['smoke_pm_non_zero'].rolling('2D', min_periods=1).max()\n",
    "    x['wfday_2d'] = x['wfday'].rolling('2D', min_periods=1).max()\n",
    "    return x\n",
    "\n",
    "df['heatday_2d'] = False  # Initialize the 'new' column as False\n",
    "df['smoke_pm_non_zero_2d'] = False  # Initialize the 'new' column as False\n",
    "df['wfday_2d'] = False  # Initialize the 'new' column as False\n",
    "\n",
    "df = df.groupby(by=['GEOID']).apply(get_time_hotspot)"
   ]
  },
  {
   "cell_type": "code",
   "execution_count": 64,
   "id": "8b4c66c0",
   "metadata": {},
   "outputs": [],
   "source": [
    "df['heatday_2d'] = df['heatday_2d'].astype(int)\n",
    "df['smoke_pm_non_zero_2d'] = df['smoke_pm_non_zero_2d'].astype(int)\n",
    "df['wfday_2d'] = df['wfday_2d'].astype(int)"
   ]
  },
  {
   "cell_type": "code",
   "execution_count": 65,
   "id": "bb0cb98a",
   "metadata": {},
   "outputs": [],
   "source": [
    "df['_hws_2d'] = df[['heatday_2d','wfday_2d','smoke_pm_non_zero_2d']].any(axis=1)\n",
    "df['hs_2d'] = df['heatday_2d'] & df['smoke_pm_non_zero_2d']\n",
    "df['hws_2d'] = df['heatday_2d'] & df['wfday_2d'] & df['smoke_pm_non_zero_2d']\n",
    "df['ws_2d'] = df['wfday_2d'] & df['smoke_pm_non_zero_2d']"
   ]
  },
  {
   "cell_type": "code",
   "execution_count": 66,
   "id": "a9b6e370",
   "metadata": {},
   "outputs": [
    {
     "data": {
      "text/plain": [
       "Index(['rhum', 'wfday', 'GEOID', 'heatday', 'coldday', 'polluted',\n",
       "       'smoke_pm_non_zero', 'smoke_pm_gt_five', 'hw', 'hp', 'hwp', '_hws',\n",
       "       'hs', 'hws', 'ws', 'hs5', 'hws5', 'ws5', 'heatday_2d',\n",
       "       'smoke_pm_non_zero_2d', 'wfday_2d', '_hws_2d', 'hs_2d', 'hws_2d',\n",
       "       'ws_2d'],\n",
       "      dtype='object')"
      ]
     },
     "execution_count": 66,
     "metadata": {},
     "output_type": "execute_result"
    }
   ],
   "source": [
    "df.columns"
   ]
  },
  {
   "cell_type": "code",
   "execution_count": 67,
   "id": "561703dd",
   "metadata": {},
   "outputs": [],
   "source": [
    "df.to_parquet(\"outputs/hotspots_per_fips_rolling.parquet\") "
   ]
  },
  {
   "cell_type": "code",
   "execution_count": null,
   "id": "bcb0e171",
   "metadata": {},
   "outputs": [],
   "source": []
  }
 ],
 "metadata": {
  "kernelspec": {
   "display_name": "space",
   "language": "python",
   "name": "space"
  },
  "language_info": {
   "codemirror_mode": {
    "name": "ipython",
    "version": 3
   },
   "file_extension": ".py",
   "mimetype": "text/x-python",
   "name": "python",
   "nbconvert_exporter": "python",
   "pygments_lexer": "ipython3",
   "version": "3.9.12"
  }
 },
 "nbformat": 4,
 "nbformat_minor": 5
}
