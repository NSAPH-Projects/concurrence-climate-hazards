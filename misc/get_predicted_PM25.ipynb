{
 "cells": [
  {
   "cell_type": "markdown",
   "id": "c31dec16-5c3f-48de-b92c-cb67b1b94189",
   "metadata": {
    "tags": []
   },
   "source": [
    "Daily smoke PM2.5 predictions\n",
    "--------------------------------------------------------------------------------\n",
    "\n",
    "- `tract/tracts/`: This is a folder that contains the shapefiles for CONUS census tracts by state/territory in 2019. Files were downloaded from the US Census Bureau TIGER/Line Shapefiles website (https://www.census.gov/cgi-bin/geo/shapefiles/index.php). \n",
    "\n",
    "- `tract/smokePM2pt5_predictions_daily_tract_20060101-20201231`: This is a file that contains a data frame with the final set of **daily smoke PM2.5 predictions on smoke days** at the tract level from **January 1, 2006 to December 31, 2020** for the contiguous US. Tract-level smoke PM2.5 predictions are aggregated from smoke PM2.5 predictions at the 10 km resolution using population and area of intersection-weighted averaging. \n",
    "\n",
    "- The `GEOID` column in this file corresponds to the 'GEOID' column in the tract shapefiles.\n",
    "\n",
    "- All rows in this file are predictions on smoke days. Predictions on non-smoke days are by construction 0 ug/m^3 and not included in this file. A smoke PM2.5 prediction of 0 in this file means that the tract-day did have a smoke day but did not have elevated PM2.5. The full set of smoke PM2.5 predictions on both smoke days and non-smoke days can be obtained by setting the smoke PM2.5 prediction to 0 on tract-days in the tracts and in the January 1, 2006-December 31, 2020 date range that are not in this file."
   ]
  },
  {
   "cell_type": "code",
   "execution_count": 1,
   "id": "ec8c9567-ff1b-4713-bad3-107421bde406",
   "metadata": {
    "tags": []
   },
   "outputs": [],
   "source": [
    "import numpy as np\n",
    "import pandas as pd"
   ]
  },
  {
   "cell_type": "code",
   "execution_count": 75,
   "id": "e7f68237-43fd-46bf-8e73-b50347d8aa21",
   "metadata": {
    "tags": []
   },
   "outputs": [],
   "source": [
    "df = pd.read_csv(\"data/tract/smokePM2pt5_predictions_daily_tract_20060101-20201231.csv\")"
   ]
  },
  {
   "cell_type": "markdown",
   "id": "ce44d306-52c9-47a1-8fd5-da89d16ad528",
   "metadata": {},
   "source": [
    "## Get only California \n",
    "\n",
    "State = 06\n",
    "\n",
    "**Note**: STATE+COUNTY+TRACT - 2+3+6=11 digits"
   ]
  },
  {
   "cell_type": "code",
   "execution_count": 76,
   "id": "74f727f1-83a6-4123-b23d-40bd18194585",
   "metadata": {
    "tags": []
   },
   "outputs": [
    {
     "data": {
      "text/html": [
       "<div>\n",
       "<style scoped>\n",
       "    .dataframe tbody tr th:only-of-type {\n",
       "        vertical-align: middle;\n",
       "    }\n",
       "\n",
       "    .dataframe tbody tr th {\n",
       "        vertical-align: top;\n",
       "    }\n",
       "\n",
       "    .dataframe thead th {\n",
       "        text-align: right;\n",
       "    }\n",
       "</style>\n",
       "<table border=\"1\" class=\"dataframe\">\n",
       "  <thead>\n",
       "    <tr style=\"text-align: right;\">\n",
       "      <th></th>\n",
       "      <th>GEOID</th>\n",
       "      <th>date</th>\n",
       "      <th>smokePM_pred</th>\n",
       "    </tr>\n",
       "  </thead>\n",
       "  <tbody>\n",
       "    <tr>\n",
       "      <th>0</th>\n",
       "      <td>20019964600</td>\n",
       "      <td>20060101</td>\n",
       "      <td>3.278776</td>\n",
       "    </tr>\n",
       "    <tr>\n",
       "      <th>1</th>\n",
       "      <td>20035493100</td>\n",
       "      <td>20060101</td>\n",
       "      <td>0.556782</td>\n",
       "    </tr>\n",
       "    <tr>\n",
       "      <th>2</th>\n",
       "      <td>20049965100</td>\n",
       "      <td>20060101</td>\n",
       "      <td>0.796605</td>\n",
       "    </tr>\n",
       "    <tr>\n",
       "      <th>3</th>\n",
       "      <td>20125950700</td>\n",
       "      <td>20060101</td>\n",
       "      <td>1.467832</td>\n",
       "    </tr>\n",
       "    <tr>\n",
       "      <th>4</th>\n",
       "      <td>20125950800</td>\n",
       "      <td>20060101</td>\n",
       "      <td>5.903700</td>\n",
       "    </tr>\n",
       "  </tbody>\n",
       "</table>\n",
       "</div>"
      ],
      "text/plain": [
       "         GEOID      date  smokePM_pred\n",
       "0  20019964600  20060101      3.278776\n",
       "1  20035493100  20060101      0.556782\n",
       "2  20049965100  20060101      0.796605\n",
       "3  20125950700  20060101      1.467832\n",
       "4  20125950800  20060101      5.903700"
      ]
     },
     "execution_count": 76,
     "metadata": {},
     "output_type": "execute_result"
    }
   ],
   "source": [
    "df.head()"
   ]
  },
  {
   "cell_type": "code",
   "execution_count": 77,
   "id": "b740e7d4-be55-43dd-a700-8c0fb2ac3600",
   "metadata": {
    "tags": []
   },
   "outputs": [],
   "source": [
    "df = df[df[\"GEOID\"].astype(str).str[:1]=='6']"
   ]
  },
  {
   "cell_type": "code",
   "execution_count": 78,
   "id": "de31530c-3d8f-4005-8db6-e79ef28312b8",
   "metadata": {
    "tags": []
   },
   "outputs": [
    {
     "data": {
      "text/plain": [
       "6001400100"
      ]
     },
     "execution_count": 78,
     "metadata": {},
     "output_type": "execute_result"
    }
   ],
   "source": [
    "df[\"GEOID\"].min()"
   ]
  },
  {
   "cell_type": "code",
   "execution_count": 79,
   "id": "05a0f06a-2165-4e7b-a8ac-602f47cfe098",
   "metadata": {
    "tags": []
   },
   "outputs": [
    {
     "data": {
      "text/plain": [
       "6115041100"
      ]
     },
     "execution_count": 79,
     "metadata": {},
     "output_type": "execute_result"
    }
   ],
   "source": [
    "df[\"GEOID\"].max()"
   ]
  },
  {
   "cell_type": "markdown",
   "id": "4f3e5865-78f9-4785-bb53-037bbdbc3720",
   "metadata": {},
   "source": [
    "## Get ESRI crosswalk"
   ]
  },
  {
   "cell_type": "code",
   "execution_count": 84,
   "id": "68c94824-37de-4a67-a264-5d0100e274d4",
   "metadata": {
    "tags": []
   },
   "outputs": [],
   "source": [
    "crosswalk = pd.read_csv(\"data/fips_crosswalk_merged_county.csv\", usecols = [\"long_FIPS\", \"FIPS\"])"
   ]
  },
  {
   "cell_type": "code",
   "execution_count": 85,
   "id": "e2c1b114-3013-4b57-b941-79f75da0958f",
   "metadata": {
    "tags": []
   },
   "outputs": [
    {
     "data": {
      "text/plain": [
       "6001400100"
      ]
     },
     "execution_count": 85,
     "metadata": {},
     "output_type": "execute_result"
    }
   ],
   "source": [
    "crosswalk[\"long_FIPS\"].min()"
   ]
  },
  {
   "cell_type": "code",
   "execution_count": 86,
   "id": "44f8eb32-6134-4811-9a36-c399c49401e0",
   "metadata": {
    "tags": []
   },
   "outputs": [
    {
     "data": {
      "text/plain": [
       "6115041102"
      ]
     },
     "execution_count": 86,
     "metadata": {},
     "output_type": "execute_result"
    }
   ],
   "source": [
    "crosswalk[\"long_FIPS\"].max()"
   ]
  },
  {
   "cell_type": "code",
   "execution_count": 87,
   "id": "b132f67f-6a40-4b7a-bf2a-206962f8c289",
   "metadata": {
    "tags": []
   },
   "outputs": [
    {
     "data": {
      "text/plain": [
       "9096"
      ]
     },
     "execution_count": 87,
     "metadata": {},
     "output_type": "execute_result"
    }
   ],
   "source": [
    "len(crosswalk)"
   ]
  },
  {
   "cell_type": "code",
   "execution_count": 88,
   "id": "43e1a0d8-3ed9-4efc-a415-bdd247c0be93",
   "metadata": {
    "tags": []
   },
   "outputs": [
    {
     "data": {
      "text/plain": [
       "8057"
      ]
     },
     "execution_count": 88,
     "metadata": {},
     "output_type": "execute_result"
    }
   ],
   "source": [
    "len(df[\"GEOID\"].unique())"
   ]
  },
  {
   "cell_type": "markdown",
   "id": "087affed-f97e-4f8b-9259-db1ada66a081",
   "metadata": {},
   "source": [
    "## Join smoke PM & FIPS codes"
   ]
  },
  {
   "cell_type": "code",
   "execution_count": 89,
   "id": "d5c9ced3-79c9-4ef1-ad32-f6782242f19a",
   "metadata": {
    "tags": []
   },
   "outputs": [],
   "source": [
    "df = df.merge(crosswalk, left_on=[\"GEOID\"], right_on=[\"long_FIPS\"])"
   ]
  },
  {
   "cell_type": "code",
   "execution_count": 90,
   "id": "7abe5a80-1f89-48a0-ad4f-e3982e68557f",
   "metadata": {
    "tags": []
   },
   "outputs": [
    {
     "data": {
      "text/plain": [
       "2599492"
      ]
     },
     "execution_count": 90,
     "metadata": {},
     "output_type": "execute_result"
    }
   ],
   "source": [
    "len(df)"
   ]
  },
  {
   "cell_type": "code",
   "execution_count": 91,
   "id": "01217c5c-7145-4c48-aa82-c23b0b014290",
   "metadata": {
    "tags": []
   },
   "outputs": [
    {
     "data": {
      "text/plain": [
       "6854"
      ]
     },
     "execution_count": 91,
     "metadata": {},
     "output_type": "execute_result"
    }
   ],
   "source": [
    "len(df[\"GEOID\"].unique())"
   ]
  },
  {
   "cell_type": "code",
   "execution_count": 92,
   "id": "96e2c476-8519-47f4-a2a1-5508f9c9a0cd",
   "metadata": {
    "tags": []
   },
   "outputs": [
    {
     "data": {
      "text/html": [
       "<div>\n",
       "<style scoped>\n",
       "    .dataframe tbody tr th:only-of-type {\n",
       "        vertical-align: middle;\n",
       "    }\n",
       "\n",
       "    .dataframe tbody tr th {\n",
       "        vertical-align: top;\n",
       "    }\n",
       "\n",
       "    .dataframe thead th {\n",
       "        text-align: right;\n",
       "    }\n",
       "</style>\n",
       "<table border=\"1\" class=\"dataframe\">\n",
       "  <thead>\n",
       "    <tr style=\"text-align: right;\">\n",
       "      <th></th>\n",
       "      <th>GEOID</th>\n",
       "      <th>date</th>\n",
       "      <th>smokePM_pred</th>\n",
       "      <th>long_FIPS</th>\n",
       "      <th>FIPS</th>\n",
       "    </tr>\n",
       "  </thead>\n",
       "  <tbody>\n",
       "    <tr>\n",
       "      <th>0</th>\n",
       "      <td>6025010101</td>\n",
       "      <td>20060103</td>\n",
       "      <td>2.294267</td>\n",
       "      <td>6025010101</td>\n",
       "      <td>2677.0</td>\n",
       "    </tr>\n",
       "    <tr>\n",
       "      <th>1</th>\n",
       "      <td>6025010101</td>\n",
       "      <td>20060105</td>\n",
       "      <td>1.291195</td>\n",
       "      <td>6025010101</td>\n",
       "      <td>2677.0</td>\n",
       "    </tr>\n",
       "    <tr>\n",
       "      <th>2</th>\n",
       "      <td>6025010101</td>\n",
       "      <td>20060106</td>\n",
       "      <td>3.173662</td>\n",
       "      <td>6025010101</td>\n",
       "      <td>2677.0</td>\n",
       "    </tr>\n",
       "    <tr>\n",
       "      <th>3</th>\n",
       "      <td>6025010101</td>\n",
       "      <td>20060109</td>\n",
       "      <td>1.147731</td>\n",
       "      <td>6025010101</td>\n",
       "      <td>2677.0</td>\n",
       "    </tr>\n",
       "    <tr>\n",
       "      <th>4</th>\n",
       "      <td>6025010101</td>\n",
       "      <td>20060120</td>\n",
       "      <td>1.624987</td>\n",
       "      <td>6025010101</td>\n",
       "      <td>2677.0</td>\n",
       "    </tr>\n",
       "  </tbody>\n",
       "</table>\n",
       "</div>"
      ],
      "text/plain": [
       "        GEOID      date  smokePM_pred   long_FIPS    FIPS\n",
       "0  6025010101  20060103      2.294267  6025010101  2677.0\n",
       "1  6025010101  20060105      1.291195  6025010101  2677.0\n",
       "2  6025010101  20060106      3.173662  6025010101  2677.0\n",
       "3  6025010101  20060109      1.147731  6025010101  2677.0\n",
       "4  6025010101  20060120      1.624987  6025010101  2677.0"
      ]
     },
     "execution_count": 92,
     "metadata": {},
     "output_type": "execute_result"
    }
   ],
   "source": [
    "df.head()"
   ]
  },
  {
   "cell_type": "code",
   "execution_count": 93,
   "id": "ce69fb2d-4ee1-4ff4-a10a-c5bffc3714c3",
   "metadata": {
    "tags": []
   },
   "outputs": [],
   "source": [
    "df['date2'] =  pd.to_datetime(df['date'], format='%Y%m%d')"
   ]
  },
  {
   "cell_type": "code",
   "execution_count": 94,
   "id": "d8dcd133-c321-4a94-b8b3-eead88625630",
   "metadata": {
    "tags": []
   },
   "outputs": [
    {
     "data": {
      "text/html": [
       "<div>\n",
       "<style scoped>\n",
       "    .dataframe tbody tr th:only-of-type {\n",
       "        vertical-align: middle;\n",
       "    }\n",
       "\n",
       "    .dataframe tbody tr th {\n",
       "        vertical-align: top;\n",
       "    }\n",
       "\n",
       "    .dataframe thead th {\n",
       "        text-align: right;\n",
       "    }\n",
       "</style>\n",
       "<table border=\"1\" class=\"dataframe\">\n",
       "  <thead>\n",
       "    <tr style=\"text-align: right;\">\n",
       "      <th></th>\n",
       "      <th>GEOID</th>\n",
       "      <th>date</th>\n",
       "      <th>smokePM_pred</th>\n",
       "      <th>long_FIPS</th>\n",
       "      <th>FIPS</th>\n",
       "      <th>date2</th>\n",
       "    </tr>\n",
       "  </thead>\n",
       "  <tbody>\n",
       "    <tr>\n",
       "      <th>0</th>\n",
       "      <td>6025010101</td>\n",
       "      <td>20060103</td>\n",
       "      <td>2.294267</td>\n",
       "      <td>6025010101</td>\n",
       "      <td>2677.0</td>\n",
       "      <td>2006-01-03</td>\n",
       "    </tr>\n",
       "    <tr>\n",
       "      <th>1</th>\n",
       "      <td>6025010101</td>\n",
       "      <td>20060105</td>\n",
       "      <td>1.291195</td>\n",
       "      <td>6025010101</td>\n",
       "      <td>2677.0</td>\n",
       "      <td>2006-01-05</td>\n",
       "    </tr>\n",
       "    <tr>\n",
       "      <th>2</th>\n",
       "      <td>6025010101</td>\n",
       "      <td>20060106</td>\n",
       "      <td>3.173662</td>\n",
       "      <td>6025010101</td>\n",
       "      <td>2677.0</td>\n",
       "      <td>2006-01-06</td>\n",
       "    </tr>\n",
       "    <tr>\n",
       "      <th>3</th>\n",
       "      <td>6025010101</td>\n",
       "      <td>20060109</td>\n",
       "      <td>1.147731</td>\n",
       "      <td>6025010101</td>\n",
       "      <td>2677.0</td>\n",
       "      <td>2006-01-09</td>\n",
       "    </tr>\n",
       "    <tr>\n",
       "      <th>4</th>\n",
       "      <td>6025010101</td>\n",
       "      <td>20060120</td>\n",
       "      <td>1.624987</td>\n",
       "      <td>6025010101</td>\n",
       "      <td>2677.0</td>\n",
       "      <td>2006-01-20</td>\n",
       "    </tr>\n",
       "  </tbody>\n",
       "</table>\n",
       "</div>"
      ],
      "text/plain": [
       "        GEOID      date  smokePM_pred   long_FIPS    FIPS      date2\n",
       "0  6025010101  20060103      2.294267  6025010101  2677.0 2006-01-03\n",
       "1  6025010101  20060105      1.291195  6025010101  2677.0 2006-01-05\n",
       "2  6025010101  20060106      3.173662  6025010101  2677.0 2006-01-06\n",
       "3  6025010101  20060109      1.147731  6025010101  2677.0 2006-01-09\n",
       "4  6025010101  20060120      1.624987  6025010101  2677.0 2006-01-20"
      ]
     },
     "execution_count": 94,
     "metadata": {},
     "output_type": "execute_result"
    }
   ],
   "source": [
    "df.head()"
   ]
  },
  {
   "cell_type": "code",
   "execution_count": 96,
   "id": "061ff1c2-819b-45fa-af0a-cb5a9d88e83e",
   "metadata": {
    "tags": []
   },
   "outputs": [],
   "source": [
    "df = df.drop(columns=[\"date\", \"long_FIPS\"])"
   ]
  },
  {
   "cell_type": "code",
   "execution_count": 101,
   "id": "9f43ce63-0eee-46c9-9c08-b030b09e6fa2",
   "metadata": {
    "tags": []
   },
   "outputs": [],
   "source": [
    "df = df.rename(columns={\"date2\":\"time\"})"
   ]
  },
  {
   "cell_type": "code",
   "execution_count": 102,
   "id": "5ab9996e-fc12-41b0-a457-3ab828198a28",
   "metadata": {
    "tags": []
   },
   "outputs": [],
   "source": [
    "df.to_parquet(\"outputs/smoke_pm25_predicted_with_fips.parquet\")"
   ]
  },
  {
   "cell_type": "code",
   "execution_count": null,
   "id": "86279fd9-7446-4c06-906a-ff1abe617255",
   "metadata": {},
   "outputs": [],
   "source": []
  }
 ],
 "metadata": {
  "kernelspec": {
   "display_name": "Python 3 (ipykernel)",
   "language": "python",
   "name": "python3"
  },
  "language_info": {
   "codemirror_mode": {
    "name": "ipython",
    "version": 3
   },
   "file_extension": ".py",
   "mimetype": "text/x-python",
   "name": "python",
   "nbconvert_exporter": "python",
   "pygments_lexer": "ipython3",
   "version": "3.10.11"
  }
 },
 "nbformat": 4,
 "nbformat_minor": 5
}
