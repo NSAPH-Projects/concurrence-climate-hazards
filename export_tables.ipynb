{
 "cells": [
  {
   "cell_type": "markdown",
   "id": "5ff9ce7a-3454-4a50-872f-9a3fb0268331",
   "metadata": {},
   "source": [
    "### Export Table A\n",
    "\n",
    "Table A (~8000 rows  x  at least 6 columns  including Heat, wildfire, wildfire smoke >0, wildfire smoke > 5, population (2020), FIPS (11 digits) ) each entry is # number of exposure days all time  \n",
    " \n",
    "2020 population data: From Esri "
   ]
  },
  {
   "cell_type": "code",
   "execution_count": 45,
   "id": "2bcd401d-8317-43de-9795-c9b94efbcabe",
   "metadata": {
    "tags": []
   },
   "outputs": [],
   "source": [
    "import numpy as np\n",
    "import pandas as pd"
   ]
  },
  {
   "cell_type": "code",
   "execution_count": 46,
   "id": "02eac134-5ac9-4748-a829-acb578775ea4",
   "metadata": {
    "tags": []
   },
   "outputs": [
    {
     "name": "stdout",
     "output_type": "stream",
     "text": [
      "The lab_black extension is already loaded. To reload it, use:\n",
      "  %reload_ext lab_black\n"
     ]
    }
   ],
   "source": [
    "%load_ext lab_black"
   ]
  },
  {
   "cell_type": "code",
   "execution_count": 47,
   "id": "d7b8a598-ee07-4046-97dc-74ba64ab61fb",
   "metadata": {
    "tags": []
   },
   "outputs": [],
   "source": [
    "df = pd.read_parquet(\"outputs/hotspots_per_fips_rolling.parquet\")"
   ]
  },
  {
   "cell_type": "code",
   "execution_count": 48,
   "id": "1d3d37a0-b342-446f-a850-14bbea6b3d32",
   "metadata": {
    "tags": []
   },
   "outputs": [],
   "source": [
    "df = df[\n",
    "    [\n",
    "        \"wfday\",\n",
    "        \"GEOID\",\n",
    "        \"smoke_pm\",\n",
    "        \"heatday\",\n",
    "        \"coldday\",\n",
    "        \"polluted\",\n",
    "        \"smoke_pm_non_zero\",\n",
    "        \"smoke_pm_gt_five\",\n",
    "        \"hw\",\n",
    "        \"hp\",\n",
    "        \"hwp\",\n",
    "        \"hwps\",\n",
    "        \"hs\",\n",
    "        \"hws\",\n",
    "        \"ws\",\n",
    "        \"hs5\",\n",
    "        \"hws5\",\n",
    "        \"ws5\",\n",
    "    ]\n",
    "]\n",
    "\n",
    "df = df.groupby(\"GEOID\").sum()\n",
    "\n",
    "df = df.reset_index()\n",
    "\n",
    "pop = pd.read_csv(\n",
    "    \"data/esri/crosswalk_ana/FIPSMapping_gdb_censustract_2020_ca.csv.csv\",\n",
    "    usecols=[\"FIPS\", \"POPULATION_2020\", \"POP20_SQMI\", \"SQMI\"],\n",
    ")\n",
    "\n",
    "df = df.merge(pop, left_on=\"GEOID\", right_on=\"FIPS\")\n",
    "\n",
    "df = df[\n",
    "    [\n",
    "        \"GEOID\",\n",
    "        \"heatday\",\n",
    "        \"wfday\",\n",
    "        \"coldday\",\n",
    "        \"polluted\",\n",
    "        \"smoke_pm_non_zero\",\n",
    "        \"smoke_pm_gt_five\",\n",
    "        \"hw\",\n",
    "        \"hp\",\n",
    "        \"hwp\",\n",
    "        \"hwps\",\n",
    "        \"hs\",\n",
    "        \"hws\",\n",
    "        \"ws\",\n",
    "        \"hs5\",\n",
    "        \"hws5\",\n",
    "        \"ws5\",\n",
    "        \"POPULATION_2020\",\n",
    "        \"POP20_SQMI\",\n",
    "        \"SQMI\",\n",
    "    ]\n",
    "]\n",
    "\n",
    "df.to_csv(\"table_a.csv\", index=False)"
   ]
  },
  {
   "cell_type": "code",
   "execution_count": 49,
   "id": "a4c42816-8cb5-4794-9173-b517fc055a80",
   "metadata": {
    "tags": []
   },
   "outputs": [
    {
     "data": {
      "text/html": [
       "<div>\n",
       "<style scoped>\n",
       "    .dataframe tbody tr th:only-of-type {\n",
       "        vertical-align: middle;\n",
       "    }\n",
       "\n",
       "    .dataframe tbody tr th {\n",
       "        vertical-align: top;\n",
       "    }\n",
       "\n",
       "    .dataframe thead th {\n",
       "        text-align: right;\n",
       "    }\n",
       "</style>\n",
       "<table border=\"1\" class=\"dataframe\">\n",
       "  <thead>\n",
       "    <tr style=\"text-align: right;\">\n",
       "      <th></th>\n",
       "      <th>GEOID</th>\n",
       "      <th>heatday</th>\n",
       "      <th>wfday</th>\n",
       "      <th>coldday</th>\n",
       "      <th>polluted</th>\n",
       "      <th>smoke_pm_non_zero</th>\n",
       "      <th>smoke_pm_gt_five</th>\n",
       "      <th>hw</th>\n",
       "      <th>hp</th>\n",
       "      <th>hwp</th>\n",
       "      <th>hwps</th>\n",
       "      <th>hs</th>\n",
       "      <th>hws</th>\n",
       "      <th>ws</th>\n",
       "      <th>hs5</th>\n",
       "      <th>hws5</th>\n",
       "      <th>ws5</th>\n",
       "      <th>POPULATION_2020</th>\n",
       "      <th>POP20_SQMI</th>\n",
       "      <th>SQMI</th>\n",
       "    </tr>\n",
       "  </thead>\n",
       "  <tbody>\n",
       "    <tr>\n",
       "      <th>0</th>\n",
       "      <td>6001400100</td>\n",
       "      <td>289</td>\n",
       "      <td>0</td>\n",
       "      <td>228</td>\n",
       "      <td>34</td>\n",
       "      <td>433</td>\n",
       "      <td>134</td>\n",
       "      <td>0</td>\n",
       "      <td>7</td>\n",
       "      <td>0</td>\n",
       "      <td>756</td>\n",
       "      <td>61</td>\n",
       "      <td>0</td>\n",
       "      <td>0</td>\n",
       "      <td>25</td>\n",
       "      <td>0</td>\n",
       "      <td>0</td>\n",
       "      <td>3038</td>\n",
       "      <td>1133.6</td>\n",
       "      <td>2.68</td>\n",
       "    </tr>\n",
       "    <tr>\n",
       "      <th>1</th>\n",
       "      <td>6001400200</td>\n",
       "      <td>300</td>\n",
       "      <td>0</td>\n",
       "      <td>242</td>\n",
       "      <td>54</td>\n",
       "      <td>410</td>\n",
       "      <td>136</td>\n",
       "      <td>0</td>\n",
       "      <td>8</td>\n",
       "      <td>0</td>\n",
       "      <td>764</td>\n",
       "      <td>50</td>\n",
       "      <td>0</td>\n",
       "      <td>0</td>\n",
       "      <td>20</td>\n",
       "      <td>0</td>\n",
       "      <td>0</td>\n",
       "      <td>2001</td>\n",
       "      <td>8700.0</td>\n",
       "      <td>0.23</td>\n",
       "    </tr>\n",
       "    <tr>\n",
       "      <th>2</th>\n",
       "      <td>6001400300</td>\n",
       "      <td>300</td>\n",
       "      <td>0</td>\n",
       "      <td>242</td>\n",
       "      <td>54</td>\n",
       "      <td>410</td>\n",
       "      <td>136</td>\n",
       "      <td>0</td>\n",
       "      <td>8</td>\n",
       "      <td>0</td>\n",
       "      <td>764</td>\n",
       "      <td>50</td>\n",
       "      <td>0</td>\n",
       "      <td>0</td>\n",
       "      <td>20</td>\n",
       "      <td>0</td>\n",
       "      <td>0</td>\n",
       "      <td>5504</td>\n",
       "      <td>12800.0</td>\n",
       "      <td>0.43</td>\n",
       "    </tr>\n",
       "    <tr>\n",
       "      <th>3</th>\n",
       "      <td>6001400400</td>\n",
       "      <td>300</td>\n",
       "      <td>0</td>\n",
       "      <td>242</td>\n",
       "      <td>48</td>\n",
       "      <td>410</td>\n",
       "      <td>136</td>\n",
       "      <td>0</td>\n",
       "      <td>8</td>\n",
       "      <td>0</td>\n",
       "      <td>758</td>\n",
       "      <td>50</td>\n",
       "      <td>0</td>\n",
       "      <td>0</td>\n",
       "      <td>20</td>\n",
       "      <td>0</td>\n",
       "      <td>0</td>\n",
       "      <td>4112</td>\n",
       "      <td>14685.7</td>\n",
       "      <td>0.28</td>\n",
       "    </tr>\n",
       "    <tr>\n",
       "      <th>4</th>\n",
       "      <td>6001400500</td>\n",
       "      <td>300</td>\n",
       "      <td>0</td>\n",
       "      <td>242</td>\n",
       "      <td>54</td>\n",
       "      <td>410</td>\n",
       "      <td>136</td>\n",
       "      <td>0</td>\n",
       "      <td>8</td>\n",
       "      <td>0</td>\n",
       "      <td>764</td>\n",
       "      <td>50</td>\n",
       "      <td>0</td>\n",
       "      <td>0</td>\n",
       "      <td>20</td>\n",
       "      <td>0</td>\n",
       "      <td>0</td>\n",
       "      <td>3644</td>\n",
       "      <td>15843.5</td>\n",
       "      <td>0.23</td>\n",
       "    </tr>\n",
       "  </tbody>\n",
       "</table>\n",
       "</div>"
      ],
      "text/plain": [
       "        GEOID  heatday  wfday  coldday  polluted  smoke_pm_non_zero  \\\n",
       "0  6001400100      289      0      228        34                433   \n",
       "1  6001400200      300      0      242        54                410   \n",
       "2  6001400300      300      0      242        54                410   \n",
       "3  6001400400      300      0      242        48                410   \n",
       "4  6001400500      300      0      242        54                410   \n",
       "\n",
       "   smoke_pm_gt_five  hw  hp  hwp  hwps  hs  hws  ws  hs5  hws5  ws5  \\\n",
       "0               134   0   7    0   756  61    0   0   25     0    0   \n",
       "1               136   0   8    0   764  50    0   0   20     0    0   \n",
       "2               136   0   8    0   764  50    0   0   20     0    0   \n",
       "3               136   0   8    0   758  50    0   0   20     0    0   \n",
       "4               136   0   8    0   764  50    0   0   20     0    0   \n",
       "\n",
       "   POPULATION_2020  POP20_SQMI  SQMI  \n",
       "0             3038      1133.6  2.68  \n",
       "1             2001      8700.0  0.23  \n",
       "2             5504     12800.0  0.43  \n",
       "3             4112     14685.7  0.28  \n",
       "4             3644     15843.5  0.23  "
      ]
     },
     "execution_count": 49,
     "metadata": {},
     "output_type": "execute_result"
    }
   ],
   "source": [
    "df.head()"
   ]
  },
  {
   "cell_type": "markdown",
   "id": "bc82c425-ea08-49e9-8abc-eeba3afc593e",
   "metadata": {},
   "source": [
    "## Export Table B: Add demographics"
   ]
  },
  {
   "cell_type": "markdown",
   "id": "a4bb271e-6105-4ccd-9d97-3bd1b8d85a53",
   "metadata": {},
   "source": [
    "Data Request: Table B = Table A + columns of Index,  income, ethnicity (, % high school, Age group, whether owning a car, …  \n",
    "\n",
    "Visualization (Ana)  \n",
    "Distribution of sociodemographic variables at the census tract level in California.  \n",
    "See Supplementary Figure 4:in https://iopscience.iop.org/article/10.1088/2752-5309/acc4e1/meta#erhacc4e1bib11 \n",
    "Compare ours to their plotsto verify the code is correct \n",
    " \n",
    "Bivariate plots Age groups, Index, Income,  \n",
    " \n",
    "  Visual 1: Bivariate plots of coexposure frequency and Social vulnerability Index  \n",
    "  Visual 2: Bivariate plots of coexposure frequency and Income  \n",
    "  Visual 3: Bivariate plots of coexposure frequency and Age  \n",
    "  Visual 4: Average co-exposure frequency among black, white, Hispanic and the rest  \n",
    "                    Reference: https://www.nature.com/articles/s41586-021-04190-y "
   ]
  },
  {
   "cell_type": "code",
   "execution_count": 50,
   "id": "aa411b6a-e4af-484b-aa5e-455c887d5ef5",
   "metadata": {
    "tags": []
   },
   "outputs": [],
   "source": [
    "cols = [\n",
    "    \"FIPS\",\n",
    "    \"E_TOTPOP\",\n",
    "    \"M_TOTPOP\",\n",
    "    \"E_HU\",\n",
    "    \"M_HU\",\n",
    "    \"E_HH\",\n",
    "    \"M_HH\",\n",
    "    \"EP_POV150\",\n",
    "    \"MP_POV150\",\n",
    "    \"EP_UNEMP\",\n",
    "    \"MP_UNEMP\",\n",
    "    \"EP_HBURD\",\n",
    "    \"MP_HBURD\",\n",
    "    \"EP_NOHSDP\",\n",
    "    \"MP_NOHSDP\",\n",
    "    \"EP_UNINSUR\",\n",
    "    \"MP_UNINSUR\",\n",
    "    \"EP_AGE65\",\n",
    "    \"MP_AGE65\",\n",
    "    \"EP_AGE17\",\n",
    "    \"MP_AGE17\",\n",
    "    \"EP_DISABL\",\n",
    "    \"MP_DISABL\",\n",
    "    \"EP_SNGPNT\",\n",
    "    \"MP_SNGPNT\",\n",
    "    \"EP_LIMENG\",\n",
    "    \"MP_LIMENG\",\n",
    "    \"EP_MINRTY\",\n",
    "    \"MP_MINRTY\",\n",
    "    \"EP_NOVEH\",\n",
    "    \"MP_NOVEH\",\n",
    "    \"RPL_THEME1\",\n",
    "    \"RPL_THEME2\",\n",
    "    \"RPL_THEME3\",\n",
    "    \"RPL_THEME4\",\n",
    "    \"RPL_THEMES\",\n",
    "]"
   ]
  },
  {
   "cell_type": "code",
   "execution_count": 51,
   "id": "858b5e14-8ea2-4150-9084-e926e162d8b3",
   "metadata": {
    "tags": []
   },
   "outputs": [],
   "source": [
    "svi = pd.read_csv(\"data/California.csv\", usecols=cols, dtype={\"FIPS\": str})"
   ]
  },
  {
   "cell_type": "code",
   "execution_count": 52,
   "id": "8a9b7d23-b652-4dbd-b759-20a8c669f55a",
   "metadata": {
    "tags": []
   },
   "outputs": [
    {
     "data": {
      "text/html": [
       "<div>\n",
       "<style scoped>\n",
       "    .dataframe tbody tr th:only-of-type {\n",
       "        vertical-align: middle;\n",
       "    }\n",
       "\n",
       "    .dataframe tbody tr th {\n",
       "        vertical-align: top;\n",
       "    }\n",
       "\n",
       "    .dataframe thead th {\n",
       "        text-align: right;\n",
       "    }\n",
       "</style>\n",
       "<table border=\"1\" class=\"dataframe\">\n",
       "  <thead>\n",
       "    <tr style=\"text-align: right;\">\n",
       "      <th></th>\n",
       "      <th>GEOID</th>\n",
       "      <th>heatday</th>\n",
       "      <th>wfday</th>\n",
       "      <th>coldday</th>\n",
       "      <th>polluted</th>\n",
       "      <th>smoke_pm_non_zero</th>\n",
       "      <th>smoke_pm_gt_five</th>\n",
       "      <th>hw</th>\n",
       "      <th>hp</th>\n",
       "      <th>hwp</th>\n",
       "      <th>hwps</th>\n",
       "      <th>hs</th>\n",
       "      <th>hws</th>\n",
       "      <th>ws</th>\n",
       "      <th>hs5</th>\n",
       "      <th>hws5</th>\n",
       "      <th>ws5</th>\n",
       "      <th>POPULATION_2020</th>\n",
       "      <th>POP20_SQMI</th>\n",
       "      <th>SQMI</th>\n",
       "    </tr>\n",
       "  </thead>\n",
       "  <tbody>\n",
       "    <tr>\n",
       "      <th>0</th>\n",
       "      <td>6001400100</td>\n",
       "      <td>289</td>\n",
       "      <td>0</td>\n",
       "      <td>228</td>\n",
       "      <td>34</td>\n",
       "      <td>433</td>\n",
       "      <td>134</td>\n",
       "      <td>0</td>\n",
       "      <td>7</td>\n",
       "      <td>0</td>\n",
       "      <td>756</td>\n",
       "      <td>61</td>\n",
       "      <td>0</td>\n",
       "      <td>0</td>\n",
       "      <td>25</td>\n",
       "      <td>0</td>\n",
       "      <td>0</td>\n",
       "      <td>3038</td>\n",
       "      <td>1133.6</td>\n",
       "      <td>2.68</td>\n",
       "    </tr>\n",
       "    <tr>\n",
       "      <th>1</th>\n",
       "      <td>6001400200</td>\n",
       "      <td>300</td>\n",
       "      <td>0</td>\n",
       "      <td>242</td>\n",
       "      <td>54</td>\n",
       "      <td>410</td>\n",
       "      <td>136</td>\n",
       "      <td>0</td>\n",
       "      <td>8</td>\n",
       "      <td>0</td>\n",
       "      <td>764</td>\n",
       "      <td>50</td>\n",
       "      <td>0</td>\n",
       "      <td>0</td>\n",
       "      <td>20</td>\n",
       "      <td>0</td>\n",
       "      <td>0</td>\n",
       "      <td>2001</td>\n",
       "      <td>8700.0</td>\n",
       "      <td>0.23</td>\n",
       "    </tr>\n",
       "    <tr>\n",
       "      <th>2</th>\n",
       "      <td>6001400300</td>\n",
       "      <td>300</td>\n",
       "      <td>0</td>\n",
       "      <td>242</td>\n",
       "      <td>54</td>\n",
       "      <td>410</td>\n",
       "      <td>136</td>\n",
       "      <td>0</td>\n",
       "      <td>8</td>\n",
       "      <td>0</td>\n",
       "      <td>764</td>\n",
       "      <td>50</td>\n",
       "      <td>0</td>\n",
       "      <td>0</td>\n",
       "      <td>20</td>\n",
       "      <td>0</td>\n",
       "      <td>0</td>\n",
       "      <td>5504</td>\n",
       "      <td>12800.0</td>\n",
       "      <td>0.43</td>\n",
       "    </tr>\n",
       "    <tr>\n",
       "      <th>3</th>\n",
       "      <td>6001400400</td>\n",
       "      <td>300</td>\n",
       "      <td>0</td>\n",
       "      <td>242</td>\n",
       "      <td>48</td>\n",
       "      <td>410</td>\n",
       "      <td>136</td>\n",
       "      <td>0</td>\n",
       "      <td>8</td>\n",
       "      <td>0</td>\n",
       "      <td>758</td>\n",
       "      <td>50</td>\n",
       "      <td>0</td>\n",
       "      <td>0</td>\n",
       "      <td>20</td>\n",
       "      <td>0</td>\n",
       "      <td>0</td>\n",
       "      <td>4112</td>\n",
       "      <td>14685.7</td>\n",
       "      <td>0.28</td>\n",
       "    </tr>\n",
       "    <tr>\n",
       "      <th>4</th>\n",
       "      <td>6001400500</td>\n",
       "      <td>300</td>\n",
       "      <td>0</td>\n",
       "      <td>242</td>\n",
       "      <td>54</td>\n",
       "      <td>410</td>\n",
       "      <td>136</td>\n",
       "      <td>0</td>\n",
       "      <td>8</td>\n",
       "      <td>0</td>\n",
       "      <td>764</td>\n",
       "      <td>50</td>\n",
       "      <td>0</td>\n",
       "      <td>0</td>\n",
       "      <td>20</td>\n",
       "      <td>0</td>\n",
       "      <td>0</td>\n",
       "      <td>3644</td>\n",
       "      <td>15843.5</td>\n",
       "      <td>0.23</td>\n",
       "    </tr>\n",
       "  </tbody>\n",
       "</table>\n",
       "</div>"
      ],
      "text/plain": [
       "        GEOID  heatday  wfday  coldday  polluted  smoke_pm_non_zero  \\\n",
       "0  6001400100      289      0      228        34                433   \n",
       "1  6001400200      300      0      242        54                410   \n",
       "2  6001400300      300      0      242        54                410   \n",
       "3  6001400400      300      0      242        48                410   \n",
       "4  6001400500      300      0      242        54                410   \n",
       "\n",
       "   smoke_pm_gt_five  hw  hp  hwp  hwps  hs  hws  ws  hs5  hws5  ws5  \\\n",
       "0               134   0   7    0   756  61    0   0   25     0    0   \n",
       "1               136   0   8    0   764  50    0   0   20     0    0   \n",
       "2               136   0   8    0   764  50    0   0   20     0    0   \n",
       "3               136   0   8    0   758  50    0   0   20     0    0   \n",
       "4               136   0   8    0   764  50    0   0   20     0    0   \n",
       "\n",
       "   POPULATION_2020  POP20_SQMI  SQMI  \n",
       "0             3038      1133.6  2.68  \n",
       "1             2001      8700.0  0.23  \n",
       "2             5504     12800.0  0.43  \n",
       "3             4112     14685.7  0.28  \n",
       "4             3644     15843.5  0.23  "
      ]
     },
     "execution_count": 52,
     "metadata": {},
     "output_type": "execute_result"
    }
   ],
   "source": [
    "df.head()"
   ]
  },
  {
   "cell_type": "code",
   "execution_count": 53,
   "id": "4dc5011f-3bf6-4be9-bfe6-2c4b42124b64",
   "metadata": {
    "tags": []
   },
   "outputs": [],
   "source": [
    "svi.FIPS = svi.FIPS.astype(int)"
   ]
  },
  {
   "cell_type": "code",
   "execution_count": 54,
   "id": "93dbcd58-76d1-4ea0-8040-948f63018413",
   "metadata": {
    "tags": []
   },
   "outputs": [],
   "source": [
    "dfsvi = df.merge(svi, left_on=\"GEOID\", right_on=\"FIPS\")"
   ]
  },
  {
   "cell_type": "code",
   "execution_count": 55,
   "id": "7e0a76f9-0f3b-4bd5-996d-d1294898e7f7",
   "metadata": {
    "tags": []
   },
   "outputs": [
    {
     "data": {
      "text/plain": [
       "8673"
      ]
     },
     "execution_count": 55,
     "metadata": {},
     "output_type": "execute_result"
    }
   ],
   "source": [
    "len(dfsvi)"
   ]
  },
  {
   "cell_type": "code",
   "execution_count": 32,
   "id": "d7183f94-89ac-41f9-86d3-a460ee2352a3",
   "metadata": {
    "tags": []
   },
   "outputs": [],
   "source": [
    "dfsvi.to_csv(\"table_b.csv\", index=False)"
   ]
  },
  {
   "cell_type": "markdown",
   "id": "55fb1368-a933-4cd1-952d-8186e4059cc8",
   "metadata": {},
   "source": [
    "## Time trend analysis"
   ]
  },
  {
   "cell_type": "markdown",
   "id": "eda9e8e0-6b4c-46e7-8820-494f7ab70714",
   "metadata": {},
   "source": [
    "Objective 3: time trend analysis   \n",
    " \n",
    "Data Request: Table C = Table B + Year column (8000 x 15 rows) \n",
    "Statistics: (Kate)  \n",
    "Test whether there is a year trend \n",
    "Fit regression models of co-exposure days ~ year  \n",
    "Test whether there is the disparity varies over years \n",
    "Fit regression models of co-exposure days ~ \\alpha1 + \\beta1*year + \\beta2*social economic status + \\beta3*year*social economic status  \n",
    "\n",
    "(Ana) Plots of social economic status \n",
    "for each of the exposure and the co-exposurve of three over time (4 sets of figures)   \n",
    "See Supplementary Figure 1: Five measures of census tract-level wildfire PM2.5 exposure by year from 2006–2020 in https://www.researchsquare.com/article/rs-2866201/v1 "
   ]
  },
  {
   "cell_type": "code",
   "execution_count": 15,
   "id": "5b66abe7-66f1-4492-aa1e-a787008d713e",
   "metadata": {
    "tags": []
   },
   "outputs": [],
   "source": [
    "df = pd.read_parquet(\"outputs/hotspots_per_fips_rolling.parquet\")"
   ]
  },
  {
   "cell_type": "code",
   "execution_count": 16,
   "id": "c2c78f30-c4f8-4e11-81e9-8f17ada831b1",
   "metadata": {
    "tags": []
   },
   "outputs": [],
   "source": [
    "trends_df = (\n",
    "    df.groupby(\"GEOID\")[\n",
    "        [\n",
    "            \"time\",\n",
    "            \"ws\",\n",
    "            \"hw\",\n",
    "            \"hp\",\n",
    "            \"hs\",\n",
    "            \"hwp\",\n",
    "            \"hws\",\n",
    "            \"hwps\",\n",
    "            \"wfday\",\n",
    "            \"hs5\",\n",
    "            \"hws5\",\n",
    "            \"ws5\",\n",
    "            \"heatday\",\n",
    "            \"coldday\",\n",
    "            \"polluted\",\n",
    "            \"smoke_pm_non_zero\",\n",
    "            \"smoke_pm_gt_five\",\n",
    "        ]\n",
    "    ]\n",
    "    .resample(\"Y\", on=\"time\")\n",
    "    .sum()\n",
    ")"
   ]
  },
  {
   "cell_type": "code",
   "execution_count": 18,
   "id": "870aed08-dc1f-4dc3-830a-5e27ebd0473f",
   "metadata": {
    "tags": []
   },
   "outputs": [],
   "source": [
    "trends_df = trends_df.reset_index()"
   ]
  },
  {
   "cell_type": "code",
   "execution_count": 19,
   "id": "aa97e0ee-5c39-4a93-b4e4-06476b0bf0ef",
   "metadata": {
    "tags": []
   },
   "outputs": [],
   "source": [
    "trends_df[\"year\"] = trends_df[\"time\"].dt.year"
   ]
  },
  {
   "cell_type": "code",
   "execution_count": 21,
   "id": "b885707e-9c79-444c-98fb-77565634ef61",
   "metadata": {
    "tags": []
   },
   "outputs": [],
   "source": [
    "trends_df = trends_df[\n",
    "    [\n",
    "        \"GEOID\",\n",
    "        \"year\",\n",
    "        \"ws\",\n",
    "        \"hw\",\n",
    "        \"hp\",\n",
    "        \"hs\",\n",
    "        \"hwp\",\n",
    "        \"hws\",\n",
    "        \"wfday\",\n",
    "        \"heatday\",\n",
    "        \"polluted\",\n",
    "        \"smoke_pm_non_zero\",\n",
    "    ]\n",
    "]"
   ]
  },
  {
   "cell_type": "code",
   "execution_count": 30,
   "id": "4303f6d4-b3fc-4499-b17f-51dc53a61707",
   "metadata": {
    "tags": []
   },
   "outputs": [],
   "source": [
    "varnames = [\n",
    "    # \"ws\", # first\n",
    "    \"hw\",\n",
    "    \"hp\",\n",
    "    \"hs\",\n",
    "    \"hwp\",\n",
    "    \"hws\",\n",
    "    \"wfday\",\n",
    "    \"heatday\",\n",
    "    \"polluted\",\n",
    "    \"smoke_pm_non_zero\",\n",
    "]"
   ]
  },
  {
   "cell_type": "code",
   "execution_count": 27,
   "id": "c10cfb23-70e7-4d9a-ace2-db7dd9ac071b",
   "metadata": {
    "tags": []
   },
   "outputs": [],
   "source": [
    "def format_table(df, variable):\n",
    "    pivoted = trends_df.pivot_table(\n",
    "        index=\"GEOID\", columns=\"year\", values=variable\n",
    "    ).add_prefix(variable + \"_\")\n",
    "    return pivoted"
   ]
  },
  {
   "cell_type": "code",
   "execution_count": 39,
   "id": "88f4c4db-e815-423d-811d-0f591b2b54da",
   "metadata": {
    "tags": []
   },
   "outputs": [],
   "source": [
    "result = format_table(trends_df, \"ws\")"
   ]
  },
  {
   "cell_type": "code",
   "execution_count": 40,
   "id": "5f55185a-34fe-47cc-9e13-ff6e1f636da4",
   "metadata": {
    "tags": []
   },
   "outputs": [],
   "source": [
    "for varname in varnames:\n",
    "    temp = format_table(trends_df, varname)\n",
    "    result = pd.concat([result, temp], axis=1)"
   ]
  },
  {
   "cell_type": "code",
   "execution_count": 37,
   "id": "1f43851f-9a69-4770-84de-b0bc05909257",
   "metadata": {
    "tags": []
   },
   "outputs": [],
   "source": [
    "result.reset_index(inplace=True)"
   ]
  },
  {
   "cell_type": "code",
   "execution_count": 60,
   "id": "3fe6c39a-572b-44a1-a20b-d7112fdbb3a6",
   "metadata": {
    "tags": []
   },
   "outputs": [
    {
     "data": {
      "text/plain": [
       "8673"
      ]
     },
     "execution_count": 60,
     "metadata": {},
     "output_type": "execute_result"
    }
   ],
   "source": [
    "len(result)"
   ]
  },
  {
   "cell_type": "code",
   "execution_count": 59,
   "id": "d0c8b749-4e36-4a4c-a5cc-096b56682991",
   "metadata": {
    "tags": []
   },
   "outputs": [
    {
     "data": {
      "text/plain": [
       "8673"
      ]
     },
     "execution_count": 59,
     "metadata": {},
     "output_type": "execute_result"
    }
   ],
   "source": [
    "len(dfsvi)"
   ]
  },
  {
   "cell_type": "code",
   "execution_count": 64,
   "id": "08f916cd-19b5-4a2d-9810-5f1e8888eba0",
   "metadata": {
    "tags": []
   },
   "outputs": [],
   "source": [
    "result = dfsvi.groupby(\"GEOID\").first().join(result)"
   ]
  },
  {
   "cell_type": "code",
   "execution_count": 65,
   "id": "20a4e967-8fb2-48e1-9a71-9de115ed0594",
   "metadata": {
    "tags": []
   },
   "outputs": [
    {
     "data": {
      "text/plain": [
       "heatday                   0\n",
       "wfday                     0\n",
       "coldday                   0\n",
       "polluted                  0\n",
       "smoke_pm_non_zero         0\n",
       "                         ..\n",
       "smoke_pm_non_zero_2016    0\n",
       "smoke_pm_non_zero_2017    0\n",
       "smoke_pm_non_zero_2018    0\n",
       "smoke_pm_non_zero_2019    0\n",
       "smoke_pm_non_zero_2020    0\n",
       "Length: 205, dtype: int64"
      ]
     },
     "execution_count": 65,
     "metadata": {},
     "output_type": "execute_result"
    }
   ],
   "source": [
    "result.isna().sum()"
   ]
  },
  {
   "cell_type": "code",
   "execution_count": 66,
   "id": "b083d9c5-6055-4fb2-ad11-702bf589eb49",
   "metadata": {
    "tags": []
   },
   "outputs": [],
   "source": [
    "result.to_csv(\"table_c.csv\")"
   ]
  },
  {
   "cell_type": "code",
   "execution_count": null,
   "id": "94fad1c7-b7ef-4bc8-84f7-fc77fed13000",
   "metadata": {},
   "outputs": [],
   "source": []
  },
  {
   "cell_type": "code",
   "execution_count": null,
   "id": "6222fb4c-26cb-44cc-b73c-b26fe8e8e21e",
   "metadata": {},
   "outputs": [],
   "source": []
  }
 ],
 "metadata": {
  "kernelspec": {
   "display_name": "Python 3 (ipykernel)",
   "language": "python",
   "name": "python3"
  },
  "language_info": {
   "codemirror_mode": {
    "name": "ipython",
    "version": 3
   },
   "file_extension": ".py",
   "mimetype": "text/x-python",
   "name": "python",
   "nbconvert_exporter": "python",
   "pygments_lexer": "ipython3",
   "version": "3.10.11"
  }
 },
 "nbformat": 4,
 "nbformat_minor": 5
}
