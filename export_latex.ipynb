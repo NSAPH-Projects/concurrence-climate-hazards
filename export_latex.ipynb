{
 "cells": [
  {
   "cell_type": "code",
   "execution_count": 22,
   "id": "491c9c7c-3ca1-489c-be9f-de87b1c65da3",
   "metadata": {
    "tags": []
   },
   "outputs": [],
   "source": [
    "import os\n",
    "from pylatex import Document, Section, Figure, SubFigure, NoEscape\n",
    "# set the name of the LaTeX file\n",
    "latex_file = \"latex/all_figures.tex\"\n",
    "\n",
    "# set the path to the figures folder\n",
    "figures_folder = \"figures\""
   ]
  },
  {
   "cell_type": "code",
   "execution_count": 23,
   "id": "bbda9259-836f-4846-9057-3e5f66a8aa7d",
   "metadata": {
    "tags": []
   },
   "outputs": [],
   "source": [
    "# get a list of all .png files in the folder\n",
    "png_files = [os.path.join(figures_folder, f) for f in os.listdir(figures_folder) if f.endswith(\".png\")]"
   ]
  },
  {
   "cell_type": "code",
   "execution_count": 24,
   "id": "cca026b1-1dc6-4eb0-9d56-f8314f04ca98",
   "metadata": {
    "tags": []
   },
   "outputs": [],
   "source": [
    "png_files.sort()"
   ]
  },
  {
   "cell_type": "code",
   "execution_count": 25,
   "id": "6f9bfcc4-81e7-42fa-bf5b-7e22aa6e7230",
   "metadata": {
    "tags": []
   },
   "outputs": [
    {
     "data": {
      "text/plain": [
       "['figures/concurrence.png',\n",
       " 'figures/cross-correlation.png',\n",
       " 'figures/map_hotspot_vunerability_population_weighted.png',\n",
       " 'figures/map_hp_svi.png',\n",
       " 'figures/map_hw_svi.png',\n",
       " 'figures/map_hwp_svi.png',\n",
       " 'figures/map_hws_svi.png',\n",
       " 'figures/map_ws_svi.png',\n",
       " 'figures/mapsVunerability index.png',\n",
       " 'figures/maps_hp_hotspot.png',\n",
       " 'figures/maps_hw_hotspot.png',\n",
       " 'figures/maps_hwp_hotspot.png',\n",
       " 'figures/maps_hws_hotspot.png',\n",
       " 'figures/maps_ws_hotspot.png',\n",
       " 'figures/trends_Heat & Pollution.png',\n",
       " 'figures/trends_Heat & Wildfire & Pollution.png',\n",
       " 'figures/trends_Heat & Wildfire & Smoke PM 25.png',\n",
       " 'figures/trends_Heat & Wildfire.png',\n",
       " 'figures/trends_Wildfire & Smoke PM 25.png']"
      ]
     },
     "execution_count": 25,
     "metadata": {},
     "output_type": "execute_result"
    }
   ],
   "source": [
    "png_files"
   ]
  },
  {
   "cell_type": "code",
   "execution_count": 26,
   "id": "8b4df077-cba7-444d-8c2d-3a25e04bce28",
   "metadata": {
    "tags": []
   },
   "outputs": [],
   "source": [
    "import plotting\n",
    "hs_dict = plotting.get_hotspopt_dict()"
   ]
  },
  {
   "cell_type": "code",
   "execution_count": 27,
   "id": "307b4c9a-9319-452d-a1c1-3d0ad9907695",
   "metadata": {
    "tags": []
   },
   "outputs": [
    {
     "name": "stdout",
     "output_type": "stream",
     "text": [
      "figures/maps_hwp_hotspot.png\n",
      "figures/map_hwp_svi.png\n",
      "figures/maps_hws_hotspot.png\n",
      "figures/map_hws_svi.png\n",
      "figures/maps_hp_hotspot.png\n",
      "figures/map_hp_svi.png\n",
      "figures/maps_hw_hotspot.png\n",
      "figures/map_hw_svi.png\n",
      "figures/maps_ws_hotspot.png\n",
      "figures/map_ws_svi.png\n"
     ]
    }
   ],
   "source": [
    "# create a new LaTeX document\n",
    "geometry_options = {\n",
    "    \"head\": \"40pt\",\n",
    "    \"margin\": \"0.5in\",\n",
    "    \"bottom\": \"0.6in\",\n",
    "    \"includeheadfoot\": True\n",
    "}\n",
    "\n",
    "doc = Document(document_options=['10pt','a4paper','showtrims'],\n",
    "                            geometry_options=geometry_options, lmodern = True)\n",
    "\n",
    "with doc.create(Section('Hotspots and Vunerability SVI')):\n",
    "    for hotspot in hs_dict.keys():\n",
    "        image_filename1 = \"figures/maps_\"+hotspot+\"_hotspot.png\"\n",
    "        image_filename2 = \"figures/map_\"+hotspot+\"_svi.png\" \n",
    "        print(image_filename1)\n",
    "        print(image_filename2)\n",
    "        png_files.remove(image_filename1)\n",
    "        png_files.remove(image_filename2)\n",
    "        with doc.create(Figure(position='h!')) as kittens:\n",
    "            with doc.create(SubFigure(\n",
    "                    position='b',\n",
    "                    width=NoEscape(r'0.45\\linewidth'))) as left_kitten:\n",
    "                left_kitten.add_image(\"../\"+image_filename1,\n",
    "                                      width=NoEscape(r'\\linewidth'))\n",
    "                #left_kitten.add_caption()\n",
    "            with doc.create(SubFigure(\n",
    "                    position='b',\n",
    "                    width=NoEscape(r'0.45\\linewidth'))) as right_kitten:\n",
    "\n",
    "                right_kitten.add_image(\"../\"+image_filename2,\n",
    "                                       width=NoEscape(r'\\linewidth'))\n",
    "                #right_kitten.add_caption('Kitten on the right')\n",
    "            kittens.add_caption(hs_dict[hotspot])\n",
    "\n",
    "\n",
    "# loop through the .png files and add them to the document as figures\n",
    "for png_file in png_files:\n",
    "    with doc.create(Figure(position='htbp')) as fig:\n",
    "        fig.add_image(\"../\"+png_file, width=NoEscape(r'\\textwidth'))\n",
    "        fig.add_caption(png_file[8:-4])\n",
    "\n",
    "# compile the LaTeX document into a PDF\n",
    "doc.generate_pdf(latex_file, clean_tex=False)\n"
   ]
  },
  {
   "cell_type": "code",
   "execution_count": null,
   "id": "c9f463cf-31a9-4602-8755-c689e7f0258f",
   "metadata": {},
   "outputs": [],
   "source": []
  }
 ],
 "metadata": {
  "kernelspec": {
   "display_name": "Python 3 (ipykernel)",
   "language": "python",
   "name": "python3"
  },
  "language_info": {
   "codemirror_mode": {
    "name": "ipython",
    "version": 3
   },
   "file_extension": ".py",
   "mimetype": "text/x-python",
   "name": "python",
   "nbconvert_exporter": "python",
   "pygments_lexer": "ipython3",
   "version": "3.9.12"
  }
 },
 "nbformat": 4,
 "nbformat_minor": 5
}
