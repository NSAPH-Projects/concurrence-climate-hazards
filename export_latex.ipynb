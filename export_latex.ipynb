{
 "cells": [
  {
   "cell_type": "code",
   "execution_count": 110,
   "id": "491c9c7c-3ca1-489c-be9f-de87b1c65da3",
   "metadata": {
    "tags": []
   },
   "outputs": [],
   "source": [
    "import os\n",
    "from pylatex import Document, Section, Figure, SubFigure, NoEscape\n",
    "# set the name of the LaTeX file\n",
    "latex_file = \"latex/all_figures.tex\"\n",
    "\n",
    "# set the path to the figures folder\n",
    "figures_folder = \"figures\""
   ]
  },
  {
   "cell_type": "code",
   "execution_count": 111,
   "id": "bc70c62e-e9a1-4eda-9701-cce08c9d6e8d",
   "metadata": {
    "tags": []
   },
   "outputs": [],
   "source": [
    "def add_two_subfigure(image_filename1, image_filename2, c1=\"\",c2=\"\",c=\"\"):\n",
    "    with doc.create(Figure(position='h!')) as kittens:\n",
    "        with doc.create(SubFigure(\n",
    "                position='b',\n",
    "                width=NoEscape(r'0.45\\linewidth'))) as left_kitten:\n",
    "            left_kitten.add_image(\"../\"+image_filename1,\n",
    "                                  width=NoEscape(r'\\linewidth'))\n",
    "            left_kitten.add_caption(c1)\n",
    "        with doc.create(SubFigure(\n",
    "                position='b',\n",
    "                width=NoEscape(r'0.45\\linewidth'))) as right_kitten:\n",
    "\n",
    "            right_kitten.add_image(\"../\"+image_filename2,\n",
    "                                   width=NoEscape(r'\\linewidth'))\n",
    "            right_kitten.add_caption(c2)\n",
    "        kittens.add_caption(c)"
   ]
  },
  {
   "cell_type": "code",
   "execution_count": 112,
   "id": "bb1fb875-3907-4aaa-bddd-56090a24a891",
   "metadata": {
    "tags": []
   },
   "outputs": [],
   "source": [
    "def remove_from_png_files(image_filename1, image_filename2):\n",
    "    if image_filename1 in png_files:\n",
    "        png_files.remove(image_filename1)\n",
    "    if image_filename2 in png_files:\n",
    "        png_files.remove(image_filename2)"
   ]
  },
  {
   "cell_type": "code",
   "execution_count": 122,
   "id": "a8b1f08c-ad66-4bb7-97f3-fd0392fa2324",
   "metadata": {
    "tags": []
   },
   "outputs": [],
   "source": [
    "# create a new LaTeX document\n",
    "geometry_options = {\n",
    "    \"head\": \"40pt\",\n",
    "    \"margin\": \"0.5in\",\n",
    "    \"bottom\": \"0.6in\",\n",
    "    \"includeheadfoot\": True\n",
    "}\n",
    "\n",
    "doc = Document(document_options=['10pt','a4paper','showtrims'],\n",
    "                            geometry_options=geometry_options, lmodern = True)"
   ]
  },
  {
   "cell_type": "code",
   "execution_count": 123,
   "id": "bbda9259-836f-4846-9057-3e5f66a8aa7d",
   "metadata": {
    "tags": []
   },
   "outputs": [],
   "source": [
    "# get a list of all .png files in the folder\n",
    "png_files = [os.path.join(figures_folder, f) for f in os.listdir(figures_folder) if f.endswith(\".png\")]"
   ]
  },
  {
   "cell_type": "code",
   "execution_count": 124,
   "id": "cca026b1-1dc6-4eb0-9d56-f8314f04ca98",
   "metadata": {
    "tags": []
   },
   "outputs": [],
   "source": [
    "png_files.sort()"
   ]
  },
  {
   "cell_type": "code",
   "execution_count": 125,
   "id": "8b4df077-cba7-444d-8c2d-3a25e04bce28",
   "metadata": {
    "tags": []
   },
   "outputs": [],
   "source": [
    "import plotting\n",
    "hs_dict = plotting.get_hotspopt_dict()"
   ]
  },
  {
   "cell_type": "code",
   "execution_count": 126,
   "id": "307b4c9a-9319-452d-a1c1-3d0ad9907695",
   "metadata": {
    "tags": []
   },
   "outputs": [],
   "source": [
    "with doc.create(Section('Hotspots and Vunerability SVI')):\n",
    "    for hotspot in hs_dict.keys():\n",
    "        image_filename1 = \"figures/maps_\"+hotspot+\"_hotspot.png\"\n",
    "        image_filename2 = \"figures/map_\"+hotspot+\"_svi.png\" \n",
    "        remove_from_png_files(image_filename1, image_filename2)\n",
    "        add_two_subfigure(image_filename1, image_filename2, c=hs_dict[hotspot])"
   ]
  },
  {
   "cell_type": "code",
   "execution_count": 127,
   "id": "aa8f502f-32fd-4f9b-a815-9802b4c4a00a",
   "metadata": {
    "tags": []
   },
   "outputs": [],
   "source": [
    "events = [\"tmax\", \"tmin\", \"pm25\", \"wfday\",\"smokePM_pred\"]\n",
    "filenames = []\n",
    "for e1 in events:\n",
    "    for e2 in events:\n",
    "        filenames.append(\n",
    "            \"figures/\"+e1+\"_\"+e2+\"_\"+\"cross-correlation.png\")   \n",
    "events.sort()"
   ]
  },
  {
   "cell_type": "code",
   "execution_count": 128,
   "id": "c9f463cf-31a9-4602-8755-c689e7f0258f",
   "metadata": {},
   "outputs": [],
   "source": [
    "with doc.create(Section('Events Cross-correlations')):\n",
    "    for i in range(0,len(filenames),2):\n",
    "        image_filename1 = filenames[i]\n",
    "        try:\n",
    "            image_filename2 = filenames[i+1]\n",
    "        except:\n",
    "            image_filename2 = image_filename1\n",
    "        remove_from_png_files(image_filename1, image_filename2)\n",
    "        add_two_subfigure(\n",
    "            image_filename1, image_filename2, \n",
    "            c1=image_filename1[8:-4], c2=image_filename2[8:-4])"
   ]
  },
  {
   "cell_type": "code",
   "execution_count": 129,
   "id": "21b1f28b-a6ac-4763-8235-a3db97aabf79",
   "metadata": {
    "tags": []
   },
   "outputs": [],
   "source": [
    "# loop through the .png files and add them to the document as figures\n",
    "for png_file in png_files:\n",
    "    with doc.create(Figure(position='htbp')) as fig:\n",
    "        fig.add_image(\"../\"+png_file, width=NoEscape(r'\\textwidth'))\n",
    "        fig.add_caption(png_file[8:-4])"
   ]
  },
  {
   "cell_type": "code",
   "execution_count": 130,
   "id": "dd22130c-e270-4ff5-9b5d-56cd1c380d1f",
   "metadata": {
    "tags": []
   },
   "outputs": [],
   "source": [
    "\n",
    "# compile the LaTeX document into a PDF\n",
    "doc.generate_pdf(latex_file, clean_tex=False)"
   ]
  },
  {
   "cell_type": "code",
   "execution_count": null,
   "id": "b0f40bb5-a1e0-46ab-95e6-b7d73e2c4462",
   "metadata": {},
   "outputs": [],
   "source": []
  }
 ],
 "metadata": {
  "kernelspec": {
   "display_name": "Python 3 (ipykernel)",
   "language": "python",
   "name": "python3"
  },
  "language_info": {
   "codemirror_mode": {
    "name": "ipython",
    "version": 3
   },
   "file_extension": ".py",
   "mimetype": "text/x-python",
   "name": "python",
   "nbconvert_exporter": "python",
   "pygments_lexer": "ipython3",
   "version": "3.9.12"
  }
 },
 "nbformat": 4,
 "nbformat_minor": 5
}
