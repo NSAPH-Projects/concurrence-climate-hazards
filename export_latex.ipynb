{
 "cells": [
  {
   "cell_type": "code",
   "execution_count": 54,
   "id": "491c9c7c-3ca1-489c-be9f-de87b1c65da3",
   "metadata": {
    "tags": []
   },
   "outputs": [],
   "source": [
    "import os\n",
    "from datetime import date\n",
    "from pylatex import Document, Section, Figure, SubFigure, NoEscape, NewPage\n",
    "\n",
    "# %load_ext lab_black\n",
    "# set the name of the LaTeX file\n",
    "today = date.today()\n",
    "latex_file = \"latex/figures_\" + str(today.strftime(\"%Y-%m-%d\")) + \".tex\"\n",
    "\n",
    "# set the path to the figures folder\n",
    "figures_folder = \"figures\""
   ]
  },
  {
   "cell_type": "code",
   "execution_count": 55,
   "id": "bc70c62e-e9a1-4eda-9701-cce08c9d6e8d",
   "metadata": {
    "tags": []
   },
   "outputs": [],
   "source": [
    "def add_two_subfigure(image_filename1, image_filename2, c1=\"\", c2=\"\", c=\"\"):\n",
    "    with doc.create(Figure(position=\"h!\")) as kittens:\n",
    "        with doc.create(\n",
    "            SubFigure(position=\"b\", width=NoEscape(r\"0.45\\linewidth\"))\n",
    "        ) as left_kitten:\n",
    "            left_kitten.add_image(\n",
    "                \"../\" + image_filename1, width=NoEscape(r\"\\linewidth\")\n",
    "            )\n",
    "            left_kitten.add_caption(c1)\n",
    "        with doc.create(\n",
    "            SubFigure(position=\"b\", width=NoEscape(r\"0.45\\linewidth\"))\n",
    "        ) as right_kitten:\n",
    "            right_kitten.add_image(\n",
    "                \"../\" + image_filename2, width=NoEscape(r\"\\linewidth\")\n",
    "            )\n",
    "            right_kitten.add_caption(c2)\n",
    "        kittens.add_caption(c)"
   ]
  },
  {
   "cell_type": "code",
   "execution_count": 56,
   "id": "bb1fb875-3907-4aaa-bddd-56090a24a891",
   "metadata": {
    "tags": []
   },
   "outputs": [],
   "source": [
    "def remove_from_png_files(image_filename1, image_filename2):\n",
    "    if image_filename1 in png_files:\n",
    "        png_files.remove(image_filename1)\n",
    "    if image_filename2 in png_files:\n",
    "        png_files.remove(image_filename2)"
   ]
  },
  {
   "cell_type": "code",
   "execution_count": 57,
   "id": "a8b1f08c-ad66-4bb7-97f3-fd0392fa2324",
   "metadata": {
    "tags": []
   },
   "outputs": [],
   "source": [
    "# create a new LaTeX document\n",
    "geometry_options = {\n",
    "    \"head\": \"40pt\",\n",
    "    \"margin\": \"0.5in\",\n",
    "    \"bottom\": \"0.6in\",\n",
    "    \"includeheadfoot\": True,\n",
    "}\n",
    "\n",
    "doc = Document(\n",
    "    document_options=[\"10pt\", \"a4paper\", \"showtrims\"],\n",
    "    geometry_options=geometry_options,\n",
    "    lmodern=True,\n",
    ")"
   ]
  },
  {
   "cell_type": "code",
   "execution_count": 58,
   "id": "bbda9259-836f-4846-9057-3e5f66a8aa7d",
   "metadata": {
    "tags": []
   },
   "outputs": [],
   "source": [
    "# get a list of all .png files in the folder\n",
    "png_files = [\n",
    "    os.path.join(figures_folder, f)\n",
    "    for f in os.listdir(figures_folder)\n",
    "    if f.endswith(\".png\")\n",
    "]"
   ]
  },
  {
   "cell_type": "code",
   "execution_count": 59,
   "id": "cca026b1-1dc6-4eb0-9d56-f8314f04ca98",
   "metadata": {
    "tags": []
   },
   "outputs": [],
   "source": [
    "png_files.sort()"
   ]
  },
  {
   "cell_type": "code",
   "execution_count": 60,
   "id": "8b4df077-cba7-444d-8c2d-3a25e04bce28",
   "metadata": {
    "tags": []
   },
   "outputs": [],
   "source": [
    "import plotting\n",
    "\n",
    "hs_dict = plotting.get_hotspopt_dict()"
   ]
  },
  {
   "cell_type": "code",
   "execution_count": 61,
   "id": "ca94e5e1-ffe7-44bc-921c-2ff4467bd57a",
   "metadata": {
    "tags": []
   },
   "outputs": [],
   "source": [
    "with doc.create(Section(\"Hotspots and Vunerability SVI (on Census Tract)\")):\n",
    "    for x in hs_dict.keys():\n",
    "        image_filename1 = \"figures/centract_hotspots_\" + hs_dict[x][\"title\"] + \".png\"\n",
    "        image_filename2 = \"figures/bivariate_census_\" + hs_dict[x][\"title\"] + \".png\"\n",
    "        remove_from_png_files(image_filename1, image_filename2)\n",
    "        add_two_subfigure(\n",
    "            image_filename1, image_filename2, c=\"\" #hs_dict[x][\"title_map\"]\n",
    "        )"
   ]
  },
  {
   "cell_type": "code",
   "execution_count": 62,
   "id": "9a225633-29c6-4c09-a842-06b5029f31b1",
   "metadata": {
    "tags": []
   },
   "outputs": [],
   "source": [
    "hs_dict_c = plotting.get_hotspopt_dict_county()\n",
    "with doc.create(Section('Hotspots and Vunerability SVI (on County)')):\n",
    "    for hotspot in hs_dict_c.keys():\n",
    "        image_filename1 = \"figures/maps_\"+hotspot+\"_hotspot.png\"\n",
    "        image_filename2 = \"figures/bivariate_county_\" + hs_dict_c[hotspot][\"title\"] + \".png\"\n",
    "        remove_from_png_files(image_filename1, image_filename2)\n",
    "        add_two_subfigure(image_filename1, image_filename2, c=\"\") # hs_dict[hotspot][\"title_map\"])"
   ]
  },
  {
   "cell_type": "code",
   "execution_count": 63,
   "id": "1fd4d8ce-b33e-4c0d-9155-14e2074023a4",
   "metadata": {
    "tags": []
   },
   "outputs": [],
   "source": [
    "with doc.create(Section('Exposure per year trends (Census Tract)')):\n",
    "    keys = list(hs_dict.keys())\n",
    "    for i in range(0, len(keys), 2):\n",
    "        c1 = hs_dict[keys[i]][\"title\"]\n",
    "        image_filename1 = 'figures/trends_' + c1 +'.png'\n",
    "        try:\n",
    "            c2 = hs_dict[keys[i+1]][\"title\"]\n",
    "            image_filename2 = 'figures/trends_' + c2 +'.png'\n",
    "        except:\n",
    "            image_filename2 = image_filename1\n",
    "            c2 = c1\n",
    "        \n",
    "        remove_from_png_files(image_filename1, image_filename2)\n",
    "        add_two_subfigure(\n",
    "            image_filename1, image_filename2, \n",
    "            c1=c1, c2=c2)"
   ]
  },
  {
   "cell_type": "code",
   "execution_count": 64,
   "id": "a9cc11f2-6548-4dac-a017-3191db5123df",
   "metadata": {
    "tags": []
   },
   "outputs": [],
   "source": [
    "doc.append(NewPage())"
   ]
  },
  {
   "cell_type": "code",
   "execution_count": 65,
   "id": "c9f463cf-31a9-4602-8755-c689e7f0258f",
   "metadata": {},
   "outputs": [],
   "source": [
    "with doc.create(Section('Events Cross-correlations')):\n",
    "    events = [\"tmax\", \"tmin\", \"pm25\", \"wfday\",\"smokePM_pred\"]\n",
    "    filenames = []\n",
    "    for e1 in events:\n",
    "        for e2 in events:\n",
    "            filenames.append(\n",
    "                \"figures/\"+e1+\"_\"+e2+\"_\"+\"cross-correlation.png\")   \n",
    "    events.sort()\n",
    "    \n",
    "    \n",
    "    for i in range(0,len(filenames),2):\n",
    "        image_filename1 = filenames[i]\n",
    "        try:\n",
    "            image_filename2 = filenames[i+1]\n",
    "        except:\n",
    "            image_filename2 = image_filename1\n",
    "        remove_from_png_files(image_filename1, image_filename2)\n",
    "        add_two_subfigure(\n",
    "            image_filename1, image_filename2, \n",
    "            c1=image_filename1[8:-4], c2=image_filename2[8:-4])"
   ]
  },
  {
   "cell_type": "code",
   "execution_count": 66,
   "id": "2ea3c851-273a-4c01-a617-5f6ec0d91f09",
   "metadata": {
    "tags": []
   },
   "outputs": [],
   "source": [
    "doc.append(NewPage())"
   ]
  },
  {
   "cell_type": "code",
   "execution_count": 67,
   "id": "11e1f91e-0675-41c0-9c70-934c074d2e5b",
   "metadata": {
    "tags": []
   },
   "outputs": [],
   "source": [
    "with doc.create(Section('Hotspots calculated on ZIP code')):\n",
    "    keys = list(hs_dict_c.keys())\n",
    "    \n",
    "    keys.remove(\"hs\")\n",
    "    \n",
    "    for i in range(0, len(keys), 2):\n",
    "        image_filename1 = 'figures/zip_hotspots_' + keys[i] +'.png'\n",
    "        c1 = \"\" # hs_dict_c[keys[i]][\"title_map\"]\n",
    "        try:\n",
    "            image_filename2 = 'figures/zip_hotspots_' + keys[i+1] +'.png'\n",
    "            c2 = \"\" # hs_dict_c[keys[i+1]][\"title_map\"]\n",
    "        except:\n",
    "            image_filename2 = image_filename1\n",
    "            c2 = c1\n",
    "        \n",
    "        remove_from_png_files(image_filename1, image_filename2)\n",
    "        # add_two_subfigure(\n",
    "        #     image_filename1, image_filename2, \n",
    "        #     c1=c1, c2=c2)"
   ]
  },
  {
   "cell_type": "code",
   "execution_count": 68,
   "id": "21b1f28b-a6ac-4763-8235-a3db97aabf79",
   "metadata": {
    "tags": []
   },
   "outputs": [],
   "source": [
    "# loop through the .png files and add them to the document as figures\n",
    "for png_file in png_files:\n",
    "    with doc.create(Figure(position='htbp')) as fig:\n",
    "        fig.add_image(\"../\"+png_file, width=NoEscape(r'\\textwidth'))\n",
    "        fig.add_caption(\"\") #png_file[8:-4])"
   ]
  },
  {
   "cell_type": "code",
   "execution_count": 69,
   "id": "bda7acb6-114f-4206-85f0-9324ac675beb",
   "metadata": {
    "tags": []
   },
   "outputs": [],
   "source": [
    "\n",
    "# compile the LaTeX document into a PDF\n",
    "doc.generate_pdf(latex_file, clean_tex=False)"
   ]
  },
  {
   "cell_type": "code",
   "execution_count": 70,
   "id": "b0f40bb5-a1e0-46ab-95e6-b7d73e2c4462",
   "metadata": {},
   "outputs": [
    {
     "data": {
      "text/plain": [
       "'/Users/ant746/OneDrive - Harvard University/extreme_exposure/pdf/figures_2023-05-18.tex.pdf'"
      ]
     },
     "execution_count": 70,
     "metadata": {},
     "output_type": "execute_result"
    }
   ],
   "source": [
    "import shutil\n",
    "src = latex_file + \".pdf\"\n",
    "dst = \"/Users/ant746/OneDrive - Harvard University/extreme_exposure/pdf/\" + src[6:]\n",
    "shutil.copyfile(src, dst)"
   ]
  },
  {
   "cell_type": "code",
   "execution_count": null,
   "id": "868485a0-834d-4ce8-a50d-b5f8c1f866dd",
   "metadata": {},
   "outputs": [],
   "source": []
  }
 ],
 "metadata": {
  "kernelspec": {
   "display_name": "Python 3 (ipykernel)",
   "language": "python",
   "name": "python3"
  },
  "language_info": {
   "codemirror_mode": {
    "name": "ipython",
    "version": 3
   },
   "file_extension": ".py",
   "mimetype": "text/x-python",
   "name": "python",
   "nbconvert_exporter": "python",
   "pygments_lexer": "ipython3",
   "version": "3.10.11"
  }
 },
 "nbformat": 4,
 "nbformat_minor": 5
}
