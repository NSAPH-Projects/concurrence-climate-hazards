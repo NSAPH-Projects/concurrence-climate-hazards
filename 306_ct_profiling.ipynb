{
 "cells": [
  {
   "cell_type": "code",
   "execution_count": 1,
   "metadata": {
    "tags": []
   },
   "outputs": [],
   "source": [
    "import pandas as pd\n",
    "import numpy as np\n",
    "import seaborn as sns\n",
    "import geopandas as gpd\n",
    "import matplotlib.pyplot as plt"
   ]
  },
  {
   "cell_type": "code",
   "execution_count": 2,
   "metadata": {
    "tags": []
   },
   "outputs": [
    {
     "data": {
      "text/plain": [
       "<Figure size 800x600 with 0 Axes>"
      ]
     },
     "metadata": {},
     "output_type": "display_data"
    }
   ],
   "source": [
    "import helper_400\n",
    "\n",
    "%load_ext autoreload\n",
    "%autoreload 2\n",
    "helper_400.set_sns_style()"
   ]
  },
  {
   "cell_type": "code",
   "execution_count": 23,
   "metadata": {
    "tags": []
   },
   "outputs": [],
   "source": [
    "#df = pd.read_parquet(\"outputs/agg_hotspots_new_heat.parquet\")"
   ]
  },
  {
   "cell_type": "code",
   "execution_count": 3,
   "metadata": {
    "tags": []
   },
   "outputs": [],
   "source": [
    "df = gpd.read_file(\"outputs/d2-events-2d-230929_SVI_shapefile.geojson\")"
   ]
  },
  {
   "cell_type": "code",
   "execution_count": 4,
   "metadata": {
    "tags": []
   },
   "outputs": [],
   "source": [
    "df[\"TRACT\"] = df.GEOID.str.slice(5, 12)"
   ]
  },
  {
   "cell_type": "code",
   "execution_count": 5,
   "metadata": {},
   "outputs": [],
   "source": [
    "from tabulate import tabulate"
   ]
  },
  {
   "cell_type": "code",
   "execution_count": 6,
   "metadata": {
    "tags": []
   },
   "outputs": [
    {
     "data": {
      "text/plain": [
       "Index(['ST', 'STATE', 'ST_ABBR', 'STCNTY', 'COUNTY', 'FIPS', 'LOCATION',\n",
       "       'AREA_SQMI', 'E_TOTPOP', 'M_TOTPOP',\n",
       "       ...\n",
       "       'ws5', 'heatday_2d', 'smoke_pm_non_zero_2d', 'wfday_2d', '_hws_2d',\n",
       "       'hs_2d', 'hws_2d', 'ws_2d', 'geometry', 'TRACT'],\n",
       "      dtype='object', length=182)"
      ]
     },
     "execution_count": 6,
     "metadata": {},
     "output_type": "execute_result"
    }
   ],
   "source": [
    "df.columns"
   ]
  },
  {
   "cell_type": "markdown",
   "metadata": {},
   "source": [
    "# Average"
   ]
  },
  {
   "cell_type": "code",
   "execution_count": 7,
   "metadata": {},
   "outputs": [],
   "source": [
    "df = df[df != \"-999\"]"
   ]
  },
  {
   "cell_type": "code",
   "execution_count": 8,
   "metadata": {
    "tags": []
   },
   "outputs": [
    {
     "data": {
      "text/plain": [
       "ws      2.4\n",
       "hws     0.1\n",
       "hs     31.7\n",
       "hw      0.2\n",
       "dtype: float64"
      ]
     },
     "execution_count": 8,
     "metadata": {},
     "output_type": "execute_result"
    }
   ],
   "source": [
    "df[[\"ws\", \"hws\", \"hs\", \"hw\"]].mean().round(1)"
   ]
  },
  {
   "cell_type": "code",
   "execution_count": 9,
   "metadata": {},
   "outputs": [
    {
     "data": {
      "text/plain": [
       "EP_AGE65      11.4\n",
       "EP_DISABL      5.0\n",
       "EP_MINRTY     48.0\n",
       "EP_POV150     20.9\n",
       "EP_UNINSUR     0.8\n",
       "dtype: float64"
      ]
     },
     "execution_count": 9,
     "metadata": {},
     "output_type": "execute_result"
    }
   ],
   "source": [
    "df[[\"EP_AGE65\",\"EP_DISABL\",\"EP_MINRTY\",\"EP_POV150\",\"EP_UNINSUR\"]].mean().round(1)"
   ]
  },
  {
   "cell_type": "markdown",
   "metadata": {},
   "source": [
    "# Top CTs"
   ]
  },
  {
   "cell_type": "code",
   "execution_count": 10,
   "metadata": {
    "tags": []
   },
   "outputs": [
    {
     "name": "stdout",
     "output_type": "stream",
     "text": [
      "|   TRACT |       GEOID | COUNTY     | ST_ABBR   |   EP_AGE65 |   EP_DISABL |   EP_MINRTY |   EP_POV150 |   EP_UNINSUR |   ws |\n",
      "|--------:|------------:|:-----------|:----------|-----------:|------------:|------------:|------------:|-------------:|-----:|\n",
      "|  960100 | 16049960100 | Idaho      | ID        |       34.5 |        28.6 |         6.3 |        22.7 |         17.7 |  627 |\n",
      "|  960200 | 16029960200 | Caribou    | ID        |       15.7 |        15.5 |         5.7 |        16   |         12.9 |  478 |\n",
      "|  001300 | 06093001300 | Siskiyou   | CA        |       26.3 |        21.1 |        38   |        35.7 |          5.8 |  438 |\n",
      "|  000800 | 06093000800 | Siskiyou   | CA        |       28.9 |        18.7 |        21.7 |        27.7 |          3.6 |  403 |\n",
      "|  002701 | 06107002701 | Tulare     | CA        |       32.4 |        25.7 |        26.6 |        45.9 |          5.2 |  387 |\n",
      "|  001500 | 04005001500 | Coconino   | AZ        |       36.3 |        14.7 |        17.3 |        15.8 |         11.1 |  378 |\n",
      "|  970100 | 16085970100 | Valley     | ID        |       47.7 |        29.4 |         6.7 |        24.8 |          6.5 |  340 |\n",
      "|  970100 | 16035970100 | Clearwater | ID        |       36.6 |        24.4 |         3.8 |        21.4 |         15.7 |  318 |\n",
      "|  960200 | 16037960200 | Custer     | ID        |       33.2 |        27   |        14.8 |        27.2 |          6.2 |  311 |\n",
      "|  960200 | 16079960200 | Shoshone   | ID        |       28.8 |        29.7 |         7   |        29.3 |         13   |  308 |\n",
      "|   TRACT |       GEOID | COUNTY   | ST_ABBR   |   EP_AGE65 |   EP_DISABL |   EP_MINRTY |   EP_POV150 |   EP_UNINSUR |   hws |\n",
      "|--------:|------------:|:---------|:----------|-----------:|------------:|------------:|------------:|-------------:|------:|\n",
      "|  964100 | 35017964100 | Grant    | NM        |       36.2 |        24.4 |        32.4 |        30.2 |          5.8 |    25 |\n",
      "|  951700 | 32007951700 | Elko     | NV        |       13.7 |        15.2 |        74.4 |        31.4 |         12.5 |    24 |\n",
      "|  001300 | 06093001300 | Siskiyou | CA        |       26.3 |        21.1 |        38   |        35.7 |          5.8 |    22 |\n",
      "|  210000 | 41019210000 | Douglas  | OR        |       29.7 |        22.6 |         9.1 |        29.5 |          9.4 |    22 |\n",
      "|  970900 | 41045970900 | Malheur  | OR        |       13.1 |        13.9 |        29.5 |        21   |         13.6 |    21 |\n",
      "|  976401 | 35003976401 | Catron   | NM        |       37.3 |        24.3 |        26.7 |        53.9 |          3.1 |    21 |\n",
      "|  960100 | 04011960100 | Greenlee | AZ        |       25.4 |        19.6 |        60.4 |        26.3 |          2.2 |    21 |\n",
      "|  962402 | 35051962402 | Sierra   | NM        |       39.4 |        19.2 |        42.5 |        34.3 |          3.4 |    20 |\n",
      "|  940400 | 04007940400 | Gila     | AZ        |        7.9 |        12.7 |        98.2 |        58.6 |          8.3 |    19 |\n",
      "|  961600 | 04009961600 | Graham   | AZ        |        8.2 |        12.7 |        53.7 |        18   |         10.3 |    19 |\n",
      "|   TRACT |       GEOID | COUNTY     | ST_ABBR   |   EP_AGE65 |   EP_DISABL |   EP_MINRTY |   EP_POV150 |   EP_UNINSUR |   hs |\n",
      "|--------:|------------:|:-----------|:----------|-----------:|------------:|------------:|------------:|-------------:|-----:|\n",
      "|  960100 | 04011960100 | Greenlee   | AZ        |       25.4 |        19.6 |        60.4 |        26.3 |          2.2 |  100 |\n",
      "|  000400 | 08087000400 | Morgan     | CO        |       19.9 |        11.5 |        49.3 |        18.6 |          7.4 |   97 |\n",
      "|  000500 | 08087000500 | Morgan     | CO        |       12.8 |        10.7 |        69.5 |        34.4 |          8.6 |   97 |\n",
      "|  000300 | 08087000300 | Morgan     | CO        |       16.6 |        11.3 |        42.6 |        18.2 |         12.8 |   95 |\n",
      "|  000600 | 08087000600 | Morgan     | CO        |       10.1 |         7.4 |        59.8 |        25.3 |         10.7 |   92 |\n",
      "|  000800 | 08071000800 | Las Animas | CO        |       20   |        19.3 |        40.1 |        23   |          5.6 |   92 |\n",
      "|  962402 | 35051962402 | Sierra     | NM        |       39.4 |        19.2 |        42.5 |        34.3 |          3.4 |   90 |\n",
      "|  964200 | 35017964200 | Grant      | NM        |       35.5 |        21.7 |        25.4 |        26.9 |          6.5 |   89 |\n",
      "|  962100 | 08063962100 | Kit Carson | CO        |       17.2 |        14   |        27.2 |        22.7 |         12   |   87 |\n",
      "|  000700 | 08087000700 | Morgan     | CO        |       14.1 |        11.8 |        26.4 |        22.1 |          8.9 |   86 |\n",
      "|   TRACT |       GEOID | COUNTY   | ST_ABBR   |   EP_AGE65 |   EP_DISABL |   EP_MINRTY |   EP_POV150 |   EP_UNINSUR |   hw |\n",
      "|--------:|------------:|:---------|:----------|-----------:|------------:|------------:|------------:|-------------:|-----:|\n",
      "|  000800 | 04007000800 | Gila     | AZ        |       31   |        29.4 |        46.5 |        51.7 |          3.5 |   44 |\n",
      "|  001300 | 04007001300 | Gila     | AZ        |       20.5 |        22.8 |        73.7 |        43.7 |          7.6 |   38 |\n",
      "|  964100 | 35017964100 | Grant    | NM        |       36.2 |        24.4 |        32.4 |        30.2 |          5.8 |   27 |\n",
      "|  970900 | 41045970900 | Malheur  | OR        |       13.1 |        13.9 |        29.5 |        21   |         13.6 |   27 |\n",
      "|  210000 | 41019210000 | Douglas  | OR        |       29.7 |        22.6 |         9.1 |        29.5 |          9.4 |   26 |\n",
      "|  960100 | 04011960100 | Greenlee | AZ        |       25.4 |        19.6 |        60.4 |        26.3 |          2.2 |   25 |\n",
      "|  001500 | 04005001500 | Coconino | AZ        |       36.3 |        14.7 |        17.3 |        15.8 |         11.1 |   25 |\n",
      "|  951700 | 32007951700 | Elko     | NV        |       13.7 |        15.2 |        74.4 |        31.4 |         12.5 |   25 |\n",
      "|  961600 | 04009961600 | Graham   | AZ        |        8.2 |        12.7 |        53.7 |        18   |         10.3 |   24 |\n",
      "|  976401 | 35003976401 | Catron   | NM        |       37.3 |        24.3 |        26.7 |        53.9 |          3.1 |   23 |\n"
     ]
    }
   ],
   "source": [
    "for x in [\"ws\", \"hws\", \"hs\", \"hw\"]:\n",
    "    a= df.sort_values(by=x, ascending=False)[[\"TRACT\",\"GEOID\",\"COUNTY\",\"ST_ABBR\",\"EP_AGE65\",\"EP_DISABL\",\"EP_MINRTY\",\"EP_POV150\",\"EP_UNINSUR\",x]].head(10)\n",
    "    print(tabulate(a, headers='keys', tablefmt='pipe', showindex=False))"
   ]
  },
  {
   "cell_type": "markdown",
   "metadata": {},
   "source": [
    "|   TRACT |       GEOID | COUNTY     | ST_ABBR   |   EP_AGE65 |   EP_DISABL |   EP_MINRTY |   EP_POV150 |   EP_UNINSUR |   ws |\n",
    "|--------:|------------:|:-----------|:----------|-----------:|------------:|------------:|------------:|-------------:|-----:|\n",
    "|  960100 | 16049960100 | Idaho      | ID        |       34.5 |        28.6 |         6.3 |        22.7 |         17.7 |  627 |\n",
    "|  960200 | 16029960200 | Caribou    | ID        |       15.7 |        15.5 |         5.7 |        16   |         12.9 |  478 |\n",
    "|  001300 | 06093001300 | Siskiyou   | CA        |       26.3 |        21.1 |        38   |        35.7 |          5.8 |  438 |\n",
    "|  000800 | 06093000800 | Siskiyou   | CA        |       28.9 |        18.7 |        21.7 |        27.7 |          3.6 |  403 |\n",
    "|  002701 | 06107002701 | Tulare     | CA        |       32.4 |        25.7 |        26.6 |        45.9 |          5.2 |  387 |\n",
    "|  001500 | 04005001500 | Coconino   | AZ        |       36.3 |        14.7 |        17.3 |        15.8 |         11.1 |  378 |\n",
    "|  970100 | 16085970100 | Valley     | ID        |       47.7 |        29.4 |         6.7 |        24.8 |          6.5 |  340 |\n",
    "|  970100 | 16035970100 | Clearwater | ID        |       36.6 |        24.4 |         3.8 |        21.4 |         15.7 |  318 |\n",
    "|  960200 | 16037960200 | Custer     | ID        |       33.2 |        27   |        14.8 |        27.2 |          6.2 |  311 |\n",
    "|  960200 | 16079960200 | Shoshone   | ID        |       28.8 |        29.7 |         7   |        29.3 |         13   |  308 |\n",
    "|   TRACT |       GEOID | COUNTY   | ST_ABBR   |   EP_AGE65 |   EP_DISABL |   EP_MINRTY |   EP_POV150 |   EP_UNINSUR |   hws |\n",
    "|--------:|------------:|:---------|:----------|-----------:|------------:|------------:|------------:|-------------:|------:|\n",
    "|  964100 | 35017964100 | Grant    | NM        |       36.2 |        24.4 |        32.4 |        30.2 |          5.8 |    25 |\n",
    "|  951700 | 32007951700 | Elko     | NV        |       13.7 |        15.2 |        74.4 |        31.4 |         12.5 |    24 |\n",
    "|  001300 | 06093001300 | Siskiyou | CA        |       26.3 |        21.1 |        38   |        35.7 |          5.8 |    22 |\n",
    "|  210000 | 41019210000 | Douglas  | OR        |       29.7 |        22.6 |         9.1 |        29.5 |          9.4 |    22 |\n",
    "|  970900 | 41045970900 | Malheur  | OR        |       13.1 |        13.9 |        29.5 |        21   |         13.6 |    21 |\n",
    "|  976401 | 35003976401 | Catron   | NM        |       37.3 |        24.3 |        26.7 |        53.9 |          3.1 |    21 |\n",
    "|  960100 | 04011960100 | Greenlee | AZ        |       25.4 |        19.6 |        60.4 |        26.3 |          2.2 |    21 |\n",
    "|  962402 | 35051962402 | Sierra   | NM        |       39.4 |        19.2 |        42.5 |        34.3 |          3.4 |    20 |\n",
    "|  940400 | 04007940400 | Gila     | AZ        |        7.9 |        12.7 |        98.2 |        58.6 |          8.3 |    19 |\n",
    "|  961600 | 04009961600 | Graham   | AZ        |        8.2 |        12.7 |        53.7 |        18   |         10.3 |    19 |\n",
    "|   TRACT |       GEOID | COUNTY     | ST_ABBR   |   EP_AGE65 |   EP_DISABL |   EP_MINRTY |   EP_POV150 |   EP_UNINSUR |   hs |\n",
    "|--------:|------------:|:-----------|:----------|-----------:|------------:|------------:|------------:|-------------:|-----:|\n",
    "|  960100 | 04011960100 | Greenlee   | AZ        |       25.4 |        19.6 |        60.4 |        26.3 |          2.2 |  100 |\n",
    "|  000400 | 08087000400 | Morgan     | CO        |       19.9 |        11.5 |        49.3 |        18.6 |          7.4 |   97 |\n",
    "|  000500 | 08087000500 | Morgan     | CO        |       12.8 |        10.7 |        69.5 |        34.4 |          8.6 |   97 |\n",
    "|  000300 | 08087000300 | Morgan     | CO        |       16.6 |        11.3 |        42.6 |        18.2 |         12.8 |   95 |\n",
    "|  000600 | 08087000600 | Morgan     | CO        |       10.1 |         7.4 |        59.8 |        25.3 |         10.7 |   92 |\n",
    "|  000800 | 08071000800 | Las Animas | CO        |       20   |        19.3 |        40.1 |        23   |          5.6 |   92 |\n",
    "|  962402 | 35051962402 | Sierra     | NM        |       39.4 |        19.2 |        42.5 |        34.3 |          3.4 |   90 |\n",
    "|  964200 | 35017964200 | Grant      | NM        |       35.5 |        21.7 |        25.4 |        26.9 |          6.5 |   89 |\n",
    "|  962100 | 08063962100 | Kit Carson | CO        |       17.2 |        14   |        27.2 |        22.7 |         12   |   87 |\n",
    "|  000700 | 08087000700 | Morgan     | CO        |       14.1 |        11.8 |        26.4 |        22.1 |          8.9 |   86 |\n",
    "|   TRACT |       GEOID | COUNTY   | ST_ABBR   |   EP_AGE65 |   EP_DISABL |   EP_MINRTY |   EP_POV150 |   EP_UNINSUR |   hw |\n",
    "|--------:|------------:|:---------|:----------|-----------:|------------:|------------:|------------:|-------------:|-----:|\n",
    "|  000800 | 04007000800 | Gila     | AZ        |       31   |        29.4 |        46.5 |        51.7 |          3.5 |   44 |\n",
    "|  001300 | 04007001300 | Gila     | AZ        |       20.5 |        22.8 |        73.7 |        43.7 |          7.6 |   38 |\n",
    "|  964100 | 35017964100 | Grant    | NM        |       36.2 |        24.4 |        32.4 |        30.2 |          5.8 |   27 |\n",
    "|  970900 | 41045970900 | Malheur  | OR        |       13.1 |        13.9 |        29.5 |        21   |         13.6 |   27 |\n",
    "|  210000 | 41019210000 | Douglas  | OR        |       29.7 |        22.6 |         9.1 |        29.5 |          9.4 |   26 |\n",
    "|  960100 | 04011960100 | Greenlee | AZ        |       25.4 |        19.6 |        60.4 |        26.3 |          2.2 |   25 |\n",
    "|  001500 | 04005001500 | Coconino | AZ        |       36.3 |        14.7 |        17.3 |        15.8 |         11.1 |   25 |\n",
    "|  951700 | 32007951700 | Elko     | NV        |       13.7 |        15.2 |        74.4 |        31.4 |         12.5 |   25 |\n",
    "|  961600 | 04009961600 | Graham   | AZ        |        8.2 |        12.7 |        53.7 |        18   |         10.3 |   24 |\n",
    "|  976401 | 35003976401 | Catron   | NM        |       37.3 |        24.3 |        26.7 |        53.9 |          3.1 |   23 |"
   ]
  },
  {
   "cell_type": "code",
   "execution_count": 11,
   "metadata": {},
   "outputs": [
    {
     "data": {
      "text/html": [
       "<div>\n",
       "<style scoped>\n",
       "    .dataframe tbody tr th:only-of-type {\n",
       "        vertical-align: middle;\n",
       "    }\n",
       "\n",
       "    .dataframe tbody tr th {\n",
       "        vertical-align: top;\n",
       "    }\n",
       "\n",
       "    .dataframe thead th {\n",
       "        text-align: right;\n",
       "    }\n",
       "</style>\n",
       "<table border=\"1\" class=\"dataframe\">\n",
       "  <thead>\n",
       "    <tr style=\"text-align: right;\">\n",
       "      <th></th>\n",
       "      <th>TRACT</th>\n",
       "      <th>GEOID</th>\n",
       "      <th>COUNTY</th>\n",
       "      <th>ST_ABBR</th>\n",
       "      <th>EP_AGE65</th>\n",
       "      <th>EP_DISABL</th>\n",
       "      <th>EP_MINRTY</th>\n",
       "      <th>EP_POV150</th>\n",
       "      <th>EP_UNINSUR</th>\n",
       "      <th>hw</th>\n",
       "    </tr>\n",
       "  </thead>\n",
       "  <tbody>\n",
       "    <tr>\n",
       "      <th>103</th>\n",
       "      <td>000800</td>\n",
       "      <td>04007000800</td>\n",
       "      <td>Gila</td>\n",
       "      <td>AZ</td>\n",
       "      <td>31.0</td>\n",
       "      <td>29.4</td>\n",
       "      <td>46.5</td>\n",
       "      <td>51.7</td>\n",
       "      <td>3.5</td>\n",
       "      <td>44</td>\n",
       "    </tr>\n",
       "    <tr>\n",
       "      <th>108</th>\n",
       "      <td>001300</td>\n",
       "      <td>04007001300</td>\n",
       "      <td>Gila</td>\n",
       "      <td>AZ</td>\n",
       "      <td>20.5</td>\n",
       "      <td>22.8</td>\n",
       "      <td>73.7</td>\n",
       "      <td>43.7</td>\n",
       "      <td>7.6</td>\n",
       "      <td>38</td>\n",
       "    </tr>\n",
       "    <tr>\n",
       "      <th>14157</th>\n",
       "      <td>964100</td>\n",
       "      <td>35017964100</td>\n",
       "      <td>Grant</td>\n",
       "      <td>NM</td>\n",
       "      <td>36.2</td>\n",
       "      <td>24.4</td>\n",
       "      <td>32.4</td>\n",
       "      <td>30.2</td>\n",
       "      <td>5.8</td>\n",
       "      <td>27</td>\n",
       "    </tr>\n",
       "    <tr>\n",
       "      <th>14982</th>\n",
       "      <td>970900</td>\n",
       "      <td>41045970900</td>\n",
       "      <td>Malheur</td>\n",
       "      <td>OR</td>\n",
       "      <td>13.1</td>\n",
       "      <td>13.9</td>\n",
       "      <td>29.5</td>\n",
       "      <td>21.0</td>\n",
       "      <td>13.6</td>\n",
       "      <td>27</td>\n",
       "    </tr>\n",
       "    <tr>\n",
       "      <th>14717</th>\n",
       "      <td>210000</td>\n",
       "      <td>41019210000</td>\n",
       "      <td>Douglas</td>\n",
       "      <td>OR</td>\n",
       "      <td>29.7</td>\n",
       "      <td>22.6</td>\n",
       "      <td>9.1</td>\n",
       "      <td>29.5</td>\n",
       "      <td>9.4</td>\n",
       "      <td>26</td>\n",
       "    </tr>\n",
       "    <tr>\n",
       "      <th>120</th>\n",
       "      <td>960100</td>\n",
       "      <td>04011960100</td>\n",
       "      <td>Greenlee</td>\n",
       "      <td>AZ</td>\n",
       "      <td>25.4</td>\n",
       "      <td>19.6</td>\n",
       "      <td>60.4</td>\n",
       "      <td>26.3</td>\n",
       "      <td>2.2</td>\n",
       "      <td>25</td>\n",
       "    </tr>\n",
       "    <tr>\n",
       "      <th>75</th>\n",
       "      <td>001500</td>\n",
       "      <td>04005001500</td>\n",
       "      <td>Coconino</td>\n",
       "      <td>AZ</td>\n",
       "      <td>36.3</td>\n",
       "      <td>14.7</td>\n",
       "      <td>17.3</td>\n",
       "      <td>15.8</td>\n",
       "      <td>11.1</td>\n",
       "      <td>25</td>\n",
       "    </tr>\n",
       "    <tr>\n",
       "      <th>13655</th>\n",
       "      <td>951700</td>\n",
       "      <td>32007951700</td>\n",
       "      <td>Elko</td>\n",
       "      <td>NV</td>\n",
       "      <td>13.7</td>\n",
       "      <td>15.2</td>\n",
       "      <td>74.4</td>\n",
       "      <td>31.4</td>\n",
       "      <td>12.5</td>\n",
       "      <td>25</td>\n",
       "    </tr>\n",
       "    <tr>\n",
       "      <th>118</th>\n",
       "      <td>961600</td>\n",
       "      <td>04009961600</td>\n",
       "      <td>Graham</td>\n",
       "      <td>AZ</td>\n",
       "      <td>8.2</td>\n",
       "      <td>12.7</td>\n",
       "      <td>53.7</td>\n",
       "      <td>18.0</td>\n",
       "      <td>10.3</td>\n",
       "      <td>24</td>\n",
       "    </tr>\n",
       "    <tr>\n",
       "      <th>14037</th>\n",
       "      <td>976401</td>\n",
       "      <td>35003976401</td>\n",
       "      <td>Catron</td>\n",
       "      <td>NM</td>\n",
       "      <td>37.3</td>\n",
       "      <td>24.3</td>\n",
       "      <td>26.7</td>\n",
       "      <td>53.9</td>\n",
       "      <td>3.1</td>\n",
       "      <td>23</td>\n",
       "    </tr>\n",
       "  </tbody>\n",
       "</table>\n",
       "</div>"
      ],
      "text/plain": [
       "        TRACT        GEOID    COUNTY ST_ABBR  EP_AGE65  EP_DISABL  EP_MINRTY  \\\n",
       "103    000800  04007000800      Gila      AZ      31.0       29.4       46.5   \n",
       "108    001300  04007001300      Gila      AZ      20.5       22.8       73.7   \n",
       "14157  964100  35017964100     Grant      NM      36.2       24.4       32.4   \n",
       "14982  970900  41045970900   Malheur      OR      13.1       13.9       29.5   \n",
       "14717  210000  41019210000   Douglas      OR      29.7       22.6        9.1   \n",
       "120    960100  04011960100  Greenlee      AZ      25.4       19.6       60.4   \n",
       "75     001500  04005001500  Coconino      AZ      36.3       14.7       17.3   \n",
       "13655  951700  32007951700      Elko      NV      13.7       15.2       74.4   \n",
       "118    961600  04009961600    Graham      AZ       8.2       12.7       53.7   \n",
       "14037  976401  35003976401    Catron      NM      37.3       24.3       26.7   \n",
       "\n",
       "       EP_POV150  EP_UNINSUR  hw  \n",
       "103         51.7         3.5  44  \n",
       "108         43.7         7.6  38  \n",
       "14157       30.2         5.8  27  \n",
       "14982       21.0        13.6  27  \n",
       "14717       29.5         9.4  26  \n",
       "120         26.3         2.2  25  \n",
       "75          15.8        11.1  25  \n",
       "13655       31.4        12.5  25  \n",
       "118         18.0        10.3  24  \n",
       "14037       53.9         3.1  23  "
      ]
     },
     "execution_count": 11,
     "metadata": {},
     "output_type": "execute_result"
    }
   ],
   "source": [
    "a"
   ]
  },
  {
   "cell_type": "code",
   "execution_count": null,
   "metadata": {},
   "outputs": [],
   "source": []
  }
 ],
 "metadata": {
  "kernelspec": {
   "display_name": ".venv",
   "language": "python",
   "name": "python3"
  },
  "language_info": {
   "codemirror_mode": {
    "name": "ipython",
    "version": 3
   },
   "file_extension": ".py",
   "mimetype": "text/x-python",
   "name": "python",
   "nbconvert_exporter": "python",
   "pygments_lexer": "ipython3",
   "version": "3.12.0"
  }
 },
 "nbformat": 4,
 "nbformat_minor": 4
}
