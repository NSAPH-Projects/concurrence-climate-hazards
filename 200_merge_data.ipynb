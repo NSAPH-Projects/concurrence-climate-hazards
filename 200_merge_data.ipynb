{
 "cells": [
  {
   "cell_type": "code",
   "execution_count": 3,
   "id": "336519da-4d2e-4de9-8c39-42cc67546ecd",
   "metadata": {},
   "outputs": [],
   "source": [
    "import numpy as np\n",
    "import pandas as pd\n",
    "import xarray as xr"
   ]
  },
  {
   "cell_type": "markdown",
   "id": "07d6c9ef-b880-4e32-ae6b-be746871244b",
   "metadata": {},
   "source": [
    "## ESRI data\n",
    "\n",
    "The most recent 2020 census tracts are used to aggregate the data. More info about each netCDF is below:\n",
    " \n",
    "- Daily Minimum temperature from 2006-2021  \n",
    "- Daily Maximum temperature from 2006-2021\n",
    "- Daily Relative Humidity from 2006-2021  \n",
    "- Daily Smoke from 2006-2021 \n",
    "- and Daily PM 2.5 data from 2006-2020"
   ]
  },
  {
   "cell_type": "code",
   "execution_count": 2,
   "id": "a476f172-7479-43dd-8729-10b2dd8fa9b3",
   "metadata": {},
   "outputs": [],
   "source": [
    "tmax = xr.open_dataset(\"data/wc/MaxTemp_daily_CensusTract_2005_2021_WesternUS.nc\")"
   ]
  },
  {
   "cell_type": "code",
   "execution_count": 3,
   "id": "0d2a5ad9",
   "metadata": {},
   "outputs": [],
   "source": [
    "locs = tmax[[\"location_label\"]].to_dataframe()"
   ]
  },
  {
   "cell_type": "code",
   "execution_count": 4,
   "id": "16fcc399",
   "metadata": {},
   "outputs": [],
   "source": [
    "tmax = tmax[[\"MEAN_NONE_SPATIAL_NEIGHBORS\"]].to_dataframe()"
   ]
  },
  {
   "cell_type": "code",
   "execution_count": 5,
   "id": "8360fcb7",
   "metadata": {},
   "outputs": [],
   "source": [
    "# Kelvin to Censius\n",
    "tmax[\"MEAN_NONE_SPATIAL_NEIGHBORS\"] = tmax[\"MEAN_NONE_SPATIAL_NEIGHBORS\"] - 273.15"
   ]
  },
  {
   "cell_type": "code",
   "execution_count": 6,
   "id": "498350a1",
   "metadata": {},
   "outputs": [
    {
     "data": {
      "text/html": [
       "<div>\n",
       "<style scoped>\n",
       "    .dataframe tbody tr th:only-of-type {\n",
       "        vertical-align: middle;\n",
       "    }\n",
       "\n",
       "    .dataframe tbody tr th {\n",
       "        vertical-align: top;\n",
       "    }\n",
       "\n",
       "    .dataframe thead th {\n",
       "        text-align: right;\n",
       "    }\n",
       "</style>\n",
       "<table border=\"1\" class=\"dataframe\">\n",
       "  <thead>\n",
       "    <tr style=\"text-align: right;\">\n",
       "      <th></th>\n",
       "      <th></th>\n",
       "      <th>MEAN_NONE_SPATIAL_NEIGHBORS</th>\n",
       "      <th>lat</th>\n",
       "      <th>lon</th>\n",
       "    </tr>\n",
       "    <tr>\n",
       "      <th>time</th>\n",
       "      <th>locations</th>\n",
       "      <th></th>\n",
       "      <th></th>\n",
       "      <th></th>\n",
       "    </tr>\n",
       "  </thead>\n",
       "  <tbody>\n",
       "    <tr>\n",
       "      <th rowspan=\"5\" valign=\"top\">2004-12-31</th>\n",
       "      <th>0</th>\n",
       "      <td>10.507685</td>\n",
       "      <td>36.740146</td>\n",
       "      <td>-109.854391</td>\n",
       "    </tr>\n",
       "    <tr>\n",
       "      <th>1</th>\n",
       "      <td>10.008235</td>\n",
       "      <td>36.752539</td>\n",
       "      <td>-109.366007</td>\n",
       "    </tr>\n",
       "    <tr>\n",
       "      <th>2</th>\n",
       "      <td>8.527029</td>\n",
       "      <td>35.955471</td>\n",
       "      <td>-109.145939</td>\n",
       "    </tr>\n",
       "    <tr>\n",
       "      <th>3</th>\n",
       "      <td>8.570941</td>\n",
       "      <td>36.386734</td>\n",
       "      <td>-109.313362</td>\n",
       "    </tr>\n",
       "    <tr>\n",
       "      <th>4</th>\n",
       "      <td>9.604968</td>\n",
       "      <td>36.171561</td>\n",
       "      <td>-109.686426</td>\n",
       "    </tr>\n",
       "  </tbody>\n",
       "</table>\n",
       "</div>"
      ],
      "text/plain": [
       "                      MEAN_NONE_SPATIAL_NEIGHBORS        lat         lon\n",
       "time       locations                                                    \n",
       "2004-12-31 0                            10.507685  36.740146 -109.854391\n",
       "           1                            10.008235  36.752539 -109.366007\n",
       "           2                             8.527029  35.955471 -109.145939\n",
       "           3                             8.570941  36.386734 -109.313362\n",
       "           4                             9.604968  36.171561 -109.686426"
      ]
     },
     "execution_count": 6,
     "metadata": {},
     "output_type": "execute_result"
    }
   ],
   "source": [
    "tmax.head()"
   ]
  },
  {
   "cell_type": "code",
   "execution_count": 7,
   "id": "3ce43f4e",
   "metadata": {},
   "outputs": [],
   "source": [
    "tmax = tmax.reset_index()\n",
    "locs = locs.reset_index()"
   ]
  },
  {
   "cell_type": "code",
   "execution_count": 8,
   "id": "55dc2ab7",
   "metadata": {},
   "outputs": [
    {
     "data": {
      "text/plain": [
       "112432572"
      ]
     },
     "execution_count": 8,
     "metadata": {},
     "output_type": "execute_result"
    }
   ],
   "source": [
    "len(tmax)"
   ]
  },
  {
   "cell_type": "code",
   "execution_count": 9,
   "id": "f3e4ed04",
   "metadata": {},
   "outputs": [],
   "source": [
    "df = tmax.merge(locs, left_on='locations', right_on=\"labelDim\", how='left')"
   ]
  },
  {
   "cell_type": "code",
   "execution_count": 10,
   "id": "e1053626",
   "metadata": {},
   "outputs": [
    {
     "data": {
      "text/plain": [
       "112432572"
      ]
     },
     "execution_count": 10,
     "metadata": {},
     "output_type": "execute_result"
    }
   ],
   "source": [
    "len(df)"
   ]
  },
  {
   "cell_type": "code",
   "execution_count": 16,
   "id": "705564c6",
   "metadata": {},
   "outputs": [
    {
     "data": {
      "text/html": [
       "<div>\n",
       "<style scoped>\n",
       "    .dataframe tbody tr th:only-of-type {\n",
       "        vertical-align: middle;\n",
       "    }\n",
       "\n",
       "    .dataframe tbody tr th {\n",
       "        vertical-align: top;\n",
       "    }\n",
       "\n",
       "    .dataframe thead th {\n",
       "        text-align: right;\n",
       "    }\n",
       "</style>\n",
       "<table border=\"1\" class=\"dataframe\">\n",
       "  <thead>\n",
       "    <tr style=\"text-align: right;\">\n",
       "      <th></th>\n",
       "      <th>time</th>\n",
       "      <th>locations</th>\n",
       "      <th>tmax</th>\n",
       "      <th>lat</th>\n",
       "      <th>lon</th>\n",
       "      <th>labelDim</th>\n",
       "      <th>location_label</th>\n",
       "    </tr>\n",
       "  </thead>\n",
       "  <tbody>\n",
       "    <tr>\n",
       "      <th>0</th>\n",
       "      <td>2004-12-31</td>\n",
       "      <td>0</td>\n",
       "      <td>10.507685</td>\n",
       "      <td>36.740146</td>\n",
       "      <td>-109.854391</td>\n",
       "      <td>0</td>\n",
       "      <td>04001942600</td>\n",
       "    </tr>\n",
       "    <tr>\n",
       "      <th>1</th>\n",
       "      <td>2004-12-31</td>\n",
       "      <td>1</td>\n",
       "      <td>10.008235</td>\n",
       "      <td>36.752539</td>\n",
       "      <td>-109.366007</td>\n",
       "      <td>1</td>\n",
       "      <td>04001942700</td>\n",
       "    </tr>\n",
       "    <tr>\n",
       "      <th>2</th>\n",
       "      <td>2004-12-31</td>\n",
       "      <td>2</td>\n",
       "      <td>8.527029</td>\n",
       "      <td>35.955471</td>\n",
       "      <td>-109.145939</td>\n",
       "      <td>2</td>\n",
       "      <td>04001944000</td>\n",
       "    </tr>\n",
       "    <tr>\n",
       "      <th>3</th>\n",
       "      <td>2004-12-31</td>\n",
       "      <td>3</td>\n",
       "      <td>8.570941</td>\n",
       "      <td>36.386734</td>\n",
       "      <td>-109.313362</td>\n",
       "      <td>3</td>\n",
       "      <td>04001944100</td>\n",
       "    </tr>\n",
       "    <tr>\n",
       "      <th>4</th>\n",
       "      <td>2004-12-31</td>\n",
       "      <td>4</td>\n",
       "      <td>9.604968</td>\n",
       "      <td>36.171561</td>\n",
       "      <td>-109.686426</td>\n",
       "      <td>4</td>\n",
       "      <td>04001944201</td>\n",
       "    </tr>\n",
       "  </tbody>\n",
       "</table>\n",
       "</div>"
      ],
      "text/plain": [
       "        time  locations       tmax        lat         lon  labelDim  \\\n",
       "0 2004-12-31          0  10.507685  36.740146 -109.854391         0   \n",
       "1 2004-12-31          1  10.008235  36.752539 -109.366007         1   \n",
       "2 2004-12-31          2   8.527029  35.955471 -109.145939         2   \n",
       "3 2004-12-31          3   8.570941  36.386734 -109.313362         3   \n",
       "4 2004-12-31          4   9.604968  36.171561 -109.686426         4   \n",
       "\n",
       "  location_label  \n",
       "0    04001942600  \n",
       "1    04001942700  \n",
       "2    04001944000  \n",
       "3    04001944100  \n",
       "4    04001944201  "
      ]
     },
     "execution_count": 16,
     "metadata": {},
     "output_type": "execute_result"
    }
   ],
   "source": [
    "df.head()"
   ]
  },
  {
   "cell_type": "code",
   "execution_count": 13,
   "id": "65fdb169",
   "metadata": {},
   "outputs": [
    {
     "data": {
      "text/plain": [
       "<Axes: >"
      ]
     },
     "execution_count": 13,
     "metadata": {},
     "output_type": "execute_result"
    },
    {
     "data": {
      "image/png": "[encoded data removed]",
      "text/plain": [
       "<Figure size 640x480 with 1 Axes>"
      ]
     },
     "metadata": {},
     "output_type": "display_data"
    }
   ],
   "source": [
    "df.MEAN_NONE_SPATIAL_NEIGHBORS.hist()"
   ]
  },
  {
   "cell_type": "code",
   "execution_count": 14,
   "id": "9582d806",
   "metadata": {},
   "outputs": [],
   "source": [
    "df = df.rename(\n",
    "    columns={\n",
    "        \"MEAN_NONE_SPATIAL_NEIGHBORS\": \"tmax\",\n",
    "    }\n",
    ")"
   ]
  },
  {
   "cell_type": "code",
   "execution_count": 15,
   "id": "c4fd5b01",
   "metadata": {},
   "outputs": [
    {
     "data": {
      "text/plain": [
       "Index(['time', 'locations', 'tmax', 'lat', 'lon', 'labelDim',\n",
       "       'location_label'],\n",
       "      dtype='object')"
      ]
     },
     "execution_count": 15,
     "metadata": {},
     "output_type": "execute_result"
    }
   ],
   "source": [
    "df.columns"
   ]
  },
  {
   "cell_type": "code",
   "execution_count": 18,
   "id": "e1bd88af",
   "metadata": {},
   "outputs": [],
   "source": [
    "df = df.drop(columns=[\"lat\",\"lon\",\"locations\",\"labelDim\"])"
   ]
  },
  {
   "cell_type": "code",
   "execution_count": 19,
   "id": "dafc6d3e",
   "metadata": {},
   "outputs": [
    {
     "data": {
      "text/html": [
       "<div>\n",
       "<style scoped>\n",
       "    .dataframe tbody tr th:only-of-type {\n",
       "        vertical-align: middle;\n",
       "    }\n",
       "\n",
       "    .dataframe tbody tr th {\n",
       "        vertical-align: top;\n",
       "    }\n",
       "\n",
       "    .dataframe thead th {\n",
       "        text-align: right;\n",
       "    }\n",
       "</style>\n",
       "<table border=\"1\" class=\"dataframe\">\n",
       "  <thead>\n",
       "    <tr style=\"text-align: right;\">\n",
       "      <th></th>\n",
       "      <th>time</th>\n",
       "      <th>tmax</th>\n",
       "      <th>location_label</th>\n",
       "    </tr>\n",
       "  </thead>\n",
       "  <tbody>\n",
       "    <tr>\n",
       "      <th>0</th>\n",
       "      <td>2004-12-31</td>\n",
       "      <td>10.507685</td>\n",
       "      <td>04001942600</td>\n",
       "    </tr>\n",
       "    <tr>\n",
       "      <th>1</th>\n",
       "      <td>2004-12-31</td>\n",
       "      <td>10.008235</td>\n",
       "      <td>04001942700</td>\n",
       "    </tr>\n",
       "    <tr>\n",
       "      <th>2</th>\n",
       "      <td>2004-12-31</td>\n",
       "      <td>8.527029</td>\n",
       "      <td>04001944000</td>\n",
       "    </tr>\n",
       "    <tr>\n",
       "      <th>3</th>\n",
       "      <td>2004-12-31</td>\n",
       "      <td>8.570941</td>\n",
       "      <td>04001944100</td>\n",
       "    </tr>\n",
       "    <tr>\n",
       "      <th>4</th>\n",
       "      <td>2004-12-31</td>\n",
       "      <td>9.604968</td>\n",
       "      <td>04001944201</td>\n",
       "    </tr>\n",
       "  </tbody>\n",
       "</table>\n",
       "</div>"
      ],
      "text/plain": [
       "        time       tmax location_label\n",
       "0 2004-12-31  10.507685    04001942600\n",
       "1 2004-12-31  10.008235    04001942700\n",
       "2 2004-12-31   8.527029    04001944000\n",
       "3 2004-12-31   8.570941    04001944100\n",
       "4 2004-12-31   9.604968    04001944201"
      ]
     },
     "execution_count": 19,
     "metadata": {},
     "output_type": "execute_result"
    }
   ],
   "source": [
    "df.head()"
   ]
  },
  {
   "cell_type": "code",
   "execution_count": 20,
   "id": "fd46b959",
   "metadata": {},
   "outputs": [],
   "source": [
    "df.to_parquet(\"outputs/temp_merge_1.parquet\")"
   ]
  },
  {
   "cell_type": "code",
   "execution_count": 26,
   "id": "5d0170cb-ec15-45c2-9bcd-816ba59c12bf",
   "metadata": {
    "tags": []
   },
   "outputs": [],
   "source": [
    "# tmax[\"MEAN_NONE_SPATIAL_NEIGHBORS\"].plot()"
   ]
  },
  {
   "cell_type": "code",
   "execution_count": 27,
   "id": "76da3821-2f44-4fb6-a0f0-2a5c6854e019",
   "metadata": {
    "tags": []
   },
   "outputs": [],
   "source": [
    "# tmin = xr.open_dataset(\"data/esri/MinTemp_2006_2021_Cali.nc\")"
   ]
  },
  {
   "cell_type": "code",
   "execution_count": 28,
   "id": "876b28e5-81e7-4d2d-9ce4-b56c6d0ad56b",
   "metadata": {
    "tags": []
   },
   "outputs": [],
   "source": [
    "# rhum = xr.open_dataset(\"data/esri/RelHum_2006_2021_Cali.nc\")"
   ]
  },
  {
   "cell_type": "markdown",
   "id": "e4199cad-b239-4464-909f-5999a85d7bc5",
   "metadata": {},
   "source": [
    "## Join tmax, tmin and rhum"
   ]
  },
  {
   "cell_type": "code",
   "execution_count": 29,
   "id": "ee8d8863-3a41-4082-997d-258a23d99123",
   "metadata": {
    "tags": []
   },
   "outputs": [],
   "source": [
    "# df = xr.merge([tmax, tmin[[\"MIN_TEMPERATURE_NONE_SPATIAL_NEIGHBORS\"]]])"
   ]
  },
  {
   "cell_type": "code",
   "execution_count": 30,
   "id": "66e2f9f0-bacf-463c-be30-d379b27b4215",
   "metadata": {
    "tags": []
   },
   "outputs": [],
   "source": [
    "# df = xr.merge([df, rhum[[\"RELATIVE_HUMIDITY_NONE_SPATIAL_NEIGHBORS\"]]])"
   ]
  },
  {
   "cell_type": "code",
   "execution_count": 31,
   "id": "12380552-a76d-40fc-a37b-ff626e14218e",
   "metadata": {
    "tags": []
   },
   "outputs": [],
   "source": [
    "# del tmin\n",
    "# del tmax\n",
    "# del rhum"
   ]
  },
  {
   "cell_type": "code",
   "execution_count": 32,
   "id": "3ef7a5cc-94f7-4d0e-b9e1-f12868d7f3b3",
   "metadata": {
    "tags": []
   },
   "outputs": [],
   "source": [
    "# df = df[\n",
    "#     [\n",
    "#         \"FIPS\",\n",
    "#         \"MAX_TEMPERATURE_NONE_SPATIAL_NEIGHBORS\",\n",
    "#         \"MIN_TEMPERATURE_NONE_SPATIAL_NEIGHBORS\",\n",
    "#         \"RELATIVE_HUMIDITY_NONE_SPATIAL_NEIGHBORS\",\n",
    "#     ]\n",
    "# ].to_dataframe()\n",
    "\n",
    "# df = df.rename(\n",
    "#     columns={\n",
    "#         \"MAX_TEMPERATURE_NONE_SPATIAL_NEIGHBORS\": \"tmax\",\n",
    "#         \"MIN_TEMPERATURE_NONE_SPATIAL_NEIGHBORS\": \"tmin\",\n",
    "#         \"RELATIVE_HUMIDITY_NONE_SPATIAL_NEIGHBORS\": \"rhum\",\n",
    "#     }\n",
    "# )"
   ]
  },
  {
   "cell_type": "code",
   "execution_count": 8,
   "id": "73c06547",
   "metadata": {},
   "outputs": [],
   "source": [
    "wf = xr.open_dataset(\"data/wc/Wildfireday_daily_CensusTract_2006_2021_WesternUS.nc\")"
   ]
  },
  {
   "cell_type": "code",
   "execution_count": 9,
   "id": "76fe33ad",
   "metadata": {},
   "outputs": [],
   "source": [
    "locs = wf[[\"location_label\"]].to_dataframe()"
   ]
  },
  {
   "cell_type": "code",
   "execution_count": 10,
   "id": "b18989e5",
   "metadata": {},
   "outputs": [],
   "source": [
    "wf = wf[[\"FIREDAY_NONE_ZEROS\"]].to_dataframe()"
   ]
  },
  {
   "cell_type": "code",
   "execution_count": 11,
   "id": "9d8f43bf",
   "metadata": {},
   "outputs": [
    {
     "data": {
      "text/plain": [
       "FIREDAY_NONE_ZEROS\n",
       "0.0    105698359\n",
       "1.0       124793\n",
       "Name: count, dtype: int64"
      ]
     },
     "execution_count": 11,
     "metadata": {},
     "output_type": "execute_result"
    }
   ],
   "source": [
    "wf.FIREDAY_NONE_ZEROS.value_counts(dropna=False)"
   ]
  },
  {
   "cell_type": "code",
   "execution_count": 18,
   "id": "65c99d17",
   "metadata": {},
   "outputs": [
    {
     "data": {
      "text/plain": [
       "18108"
      ]
     },
     "execution_count": 18,
     "metadata": {},
     "output_type": "execute_result"
    }
   ],
   "source": [
    "wf.locations.nunique()"
   ]
  },
  {
   "cell_type": "code",
   "execution_count": 13,
   "id": "05e8a83e",
   "metadata": {},
   "outputs": [],
   "source": [
    "wf = wf.reset_index()\n",
    "locs = locs.reset_index()"
   ]
  },
  {
   "cell_type": "code",
   "execution_count": 25,
   "id": "a32a79d4",
   "metadata": {},
   "outputs": [],
   "source": [
    "df = wf.merge(locs, left_on='locations', right_on=\"labelDim\", how='left')"
   ]
  },
  {
   "cell_type": "code",
   "execution_count": 27,
   "id": "7d0483ee",
   "metadata": {},
   "outputs": [],
   "source": [
    "df = df.drop(columns=[\"lat\",\"lon\",\"locations\",\"labelDim\"])"
   ]
  },
  {
   "cell_type": "code",
   "execution_count": 29,
   "id": "f143a142",
   "metadata": {},
   "outputs": [],
   "source": [
    "df = df.rename(\n",
    "    columns={\n",
    "        \"FIREDAY_NONE_ZEROS\": \"wfday\",\n",
    "    }\n",
    ")"
   ]
  },
  {
   "cell_type": "code",
   "execution_count": 35,
   "id": "f5219a29",
   "metadata": {},
   "outputs": [
    {
     "data": {
      "text/html": [
       "<div>\n",
       "<style scoped>\n",
       "    .dataframe tbody tr th:only-of-type {\n",
       "        vertical-align: middle;\n",
       "    }\n",
       "\n",
       "    .dataframe tbody tr th {\n",
       "        vertical-align: top;\n",
       "    }\n",
       "\n",
       "    .dataframe thead th {\n",
       "        text-align: right;\n",
       "    }\n",
       "</style>\n",
       "<table border=\"1\" class=\"dataframe\">\n",
       "  <thead>\n",
       "    <tr style=\"text-align: right;\">\n",
       "      <th></th>\n",
       "      <th></th>\n",
       "      <th>wfday</th>\n",
       "    </tr>\n",
       "    <tr>\n",
       "      <th>time</th>\n",
       "      <th>location_label</th>\n",
       "      <th></th>\n",
       "    </tr>\n",
       "  </thead>\n",
       "  <tbody>\n",
       "    <tr>\n",
       "      <th rowspan=\"5\" valign=\"top\">2005-12-31</th>\n",
       "      <th>04001942600</th>\n",
       "      <td>0.0</td>\n",
       "    </tr>\n",
       "    <tr>\n",
       "      <th>04001942700</th>\n",
       "      <td>0.0</td>\n",
       "    </tr>\n",
       "    <tr>\n",
       "      <th>04001944000</th>\n",
       "      <td>0.0</td>\n",
       "    </tr>\n",
       "    <tr>\n",
       "      <th>04001944100</th>\n",
       "      <td>0.0</td>\n",
       "    </tr>\n",
       "    <tr>\n",
       "      <th>04001944201</th>\n",
       "      <td>0.0</td>\n",
       "    </tr>\n",
       "  </tbody>\n",
       "</table>\n",
       "</div>"
      ],
      "text/plain": [
       "                           wfday\n",
       "time       location_label       \n",
       "2005-12-31 04001942600       0.0\n",
       "           04001942700       0.0\n",
       "           04001944000       0.0\n",
       "           04001944100       0.0\n",
       "           04001944201       0.0"
      ]
     },
     "execution_count": 35,
     "metadata": {},
     "output_type": "execute_result"
    }
   ],
   "source": [
    "df.head()"
   ]
  },
  {
   "cell_type": "code",
   "execution_count": 32,
   "id": "34fd9f7b",
   "metadata": {},
   "outputs": [
    {
     "data": {
      "text/plain": [
       "105823152"
      ]
     },
     "execution_count": 32,
     "metadata": {},
     "output_type": "execute_result"
    }
   ],
   "source": [
    "len(df)"
   ]
  },
  {
   "cell_type": "code",
   "execution_count": 33,
   "id": "ebf8b0f2",
   "metadata": {},
   "outputs": [],
   "source": [
    "df = df.groupby(by=[\"time\", \"location_label\"]).first()"
   ]
  },
  {
   "cell_type": "code",
   "execution_count": 34,
   "id": "b63c7b5f",
   "metadata": {},
   "outputs": [
    {
     "data": {
      "text/plain": [
       "105823152"
      ]
     },
     "execution_count": 34,
     "metadata": {},
     "output_type": "execute_result"
    }
   ],
   "source": [
    "len(df)"
   ]
  },
  {
   "cell_type": "code",
   "execution_count": 36,
   "id": "f57e2788",
   "metadata": {},
   "outputs": [],
   "source": [
    "df.to_parquet(\"outputs/temp_merge_2.parquet\")"
   ]
  },
  {
   "cell_type": "code",
   "execution_count": 45,
   "id": "d01d359e",
   "metadata": {},
   "outputs": [],
   "source": [
    "df2 = pd.read_parquet(\"outputs/temp_merge_1.parquet\")"
   ]
  },
  {
   "cell_type": "code",
   "execution_count": 46,
   "id": "24f5226a",
   "metadata": {},
   "outputs": [],
   "source": [
    "df = pd.read_parquet(\"outputs/temp_merge_2.parquet\")"
   ]
  },
  {
   "cell_type": "code",
   "execution_count": 38,
   "id": "5c654b8d",
   "metadata": {},
   "outputs": [
    {
     "data": {
      "text/plain": [
       "112432572"
      ]
     },
     "execution_count": 38,
     "metadata": {},
     "output_type": "execute_result"
    }
   ],
   "source": [
    "len(df2)"
   ]
  },
  {
   "cell_type": "code",
   "execution_count": 47,
   "id": "73d75c23",
   "metadata": {},
   "outputs": [],
   "source": [
    "df2 = df2.groupby(by=[\"time\", \"location_label\"]).first()"
   ]
  },
  {
   "cell_type": "code",
   "execution_count": 48,
   "id": "3a49e822",
   "metadata": {},
   "outputs": [],
   "source": [
    "df = df.join(df2)"
   ]
  },
  {
   "cell_type": "code",
   "execution_count": 17,
   "id": "c29a8fae-2fb1-41d6-b54a-4b67b5335c5a",
   "metadata": {
    "tags": []
   },
   "outputs": [],
   "source": [
    "# df = xr.merge([tmax, wf[[\"FIREDAY_NONE_ZEROS\"]]])\n",
    "# df = df[\n",
    "#     [\n",
    "#         \"FIPS\",\n",
    "#         \"MEAN_NONE_SPATIAL_NEIGHBORS\",\n",
    "#         \"FIREDAY_NONE_ZEROS\",\n",
    "#     ]\n",
    "# ].to_dataframe()\n",
    "\n",
    "# df = df.rename(\n",
    "#     columns={\n",
    "#         \"MEAN_NONE_SPATIAL_NEIGHBORS\": \"tmax\",\n",
    "#         \"FIREDAY_NONE_ZEROS\": \"wfday\",\n",
    "#     }\n",
    "# )"
   ]
  },
  {
   "cell_type": "code",
   "execution_count": 49,
   "id": "897fe035",
   "metadata": {},
   "outputs": [],
   "source": [
    "df.to_parquet(\"outputs/temp_merge_3.parquet\")"
   ]
  },
  {
   "cell_type": "code",
   "execution_count": 50,
   "id": "404f7a1f",
   "metadata": {},
   "outputs": [
    {
     "data": {
      "text/html": [
       "<div>\n",
       "<style scoped>\n",
       "    .dataframe tbody tr th:only-of-type {\n",
       "        vertical-align: middle;\n",
       "    }\n",
       "\n",
       "    .dataframe tbody tr th {\n",
       "        vertical-align: top;\n",
       "    }\n",
       "\n",
       "    .dataframe thead th {\n",
       "        text-align: right;\n",
       "    }\n",
       "</style>\n",
       "<table border=\"1\" class=\"dataframe\">\n",
       "  <thead>\n",
       "    <tr style=\"text-align: right;\">\n",
       "      <th></th>\n",
       "      <th></th>\n",
       "      <th>wfday</th>\n",
       "      <th>tmax</th>\n",
       "    </tr>\n",
       "    <tr>\n",
       "      <th>time</th>\n",
       "      <th>location_label</th>\n",
       "      <th></th>\n",
       "      <th></th>\n",
       "    </tr>\n",
       "  </thead>\n",
       "  <tbody>\n",
       "    <tr>\n",
       "      <th rowspan=\"5\" valign=\"top\">2005-12-31</th>\n",
       "      <th>04001942600</th>\n",
       "      <td>0.0</td>\n",
       "      <td>12.056090</td>\n",
       "    </tr>\n",
       "    <tr>\n",
       "      <th>04001942700</th>\n",
       "      <td>0.0</td>\n",
       "      <td>11.032996</td>\n",
       "    </tr>\n",
       "    <tr>\n",
       "      <th>04001944000</th>\n",
       "      <td>0.0</td>\n",
       "      <td>9.850354</td>\n",
       "    </tr>\n",
       "    <tr>\n",
       "      <th>04001944100</th>\n",
       "      <td>0.0</td>\n",
       "      <td>9.774376</td>\n",
       "    </tr>\n",
       "    <tr>\n",
       "      <th>04001944201</th>\n",
       "      <td>0.0</td>\n",
       "      <td>11.232711</td>\n",
       "    </tr>\n",
       "  </tbody>\n",
       "</table>\n",
       "</div>"
      ],
      "text/plain": [
       "                           wfday       tmax\n",
       "time       location_label                  \n",
       "2005-12-31 04001942600       0.0  12.056090\n",
       "           04001942700       0.0  11.032996\n",
       "           04001944000       0.0   9.850354\n",
       "           04001944100       0.0   9.774376\n",
       "           04001944201       0.0  11.232711"
      ]
     },
     "execution_count": 50,
     "metadata": {},
     "output_type": "execute_result"
    }
   ],
   "source": [
    "df.head()"
   ]
  },
  {
   "cell_type": "code",
   "execution_count": 51,
   "id": "f000de13-6966-4391-9b12-dec5d3107488",
   "metadata": {
    "tags": []
   },
   "outputs": [],
   "source": [
    "df = df.loc[(slice(pd.Timestamp(\"2006-01-01\"), None), slice(None)), :]"
   ]
  },
  {
   "cell_type": "code",
   "execution_count": 52,
   "id": "8fedc0a5-f951-46ca-841d-f742e83d213b",
   "metadata": {
    "tags": []
   },
   "outputs": [],
   "source": [
    "df = df.loc[(slice(None, pd.Timestamp(\"2020-12-31\")), slice(None)), :]"
   ]
  },
  {
   "cell_type": "code",
   "execution_count": 53,
   "id": "353e5996-6e80-4417-98b5-3a7de386581c",
   "metadata": {
    "tags": []
   },
   "outputs": [],
   "source": [
    "df.to_parquet(\"outputs/temp_merge_4.parquet\")"
   ]
  },
  {
   "cell_type": "code",
   "execution_count": null,
   "id": "02292928-b92c-46cf-92c5-600ac916d378",
   "metadata": {
    "tags": []
   },
   "outputs": [],
   "source": [
    "df = pd.read_parquet(\"outputs/temp_merge_4.parquet\", engine=\"pyarrow\")"
   ]
  },
  {
   "cell_type": "code",
   "execution_count": 4,
   "id": "ff0d0e04",
   "metadata": {},
   "outputs": [
    {
     "data": {
      "text/html": [
       "<div>\n",
       "<style scoped>\n",
       "    .dataframe tbody tr th:only-of-type {\n",
       "        vertical-align: middle;\n",
       "    }\n",
       "\n",
       "    .dataframe tbody tr th {\n",
       "        vertical-align: top;\n",
       "    }\n",
       "\n",
       "    .dataframe thead th {\n",
       "        text-align: right;\n",
       "    }\n",
       "</style>\n",
       "<table border=\"1\" class=\"dataframe\">\n",
       "  <thead>\n",
       "    <tr style=\"text-align: right;\">\n",
       "      <th></th>\n",
       "      <th></th>\n",
       "      <th>wfday</th>\n",
       "      <th>tmax</th>\n",
       "    </tr>\n",
       "    <tr>\n",
       "      <th>time</th>\n",
       "      <th>location_label</th>\n",
       "      <th></th>\n",
       "      <th></th>\n",
       "    </tr>\n",
       "  </thead>\n",
       "  <tbody>\n",
       "    <tr>\n",
       "      <th rowspan=\"5\" valign=\"top\">2006-01-01</th>\n",
       "      <th>04001942600</th>\n",
       "      <td>0.0</td>\n",
       "      <td>15.978498</td>\n",
       "    </tr>\n",
       "    <tr>\n",
       "      <th>04001942700</th>\n",
       "      <td>0.0</td>\n",
       "      <td>14.836937</td>\n",
       "    </tr>\n",
       "    <tr>\n",
       "      <th>04001944000</th>\n",
       "      <td>0.0</td>\n",
       "      <td>14.192923</td>\n",
       "    </tr>\n",
       "    <tr>\n",
       "      <th>04001944100</th>\n",
       "      <td>0.0</td>\n",
       "      <td>14.254541</td>\n",
       "    </tr>\n",
       "    <tr>\n",
       "      <th>04001944201</th>\n",
       "      <td>0.0</td>\n",
       "      <td>15.200634</td>\n",
       "    </tr>\n",
       "  </tbody>\n",
       "</table>\n",
       "</div>"
      ],
      "text/plain": [
       "                           wfday       tmax\n",
       "time       location_label                  \n",
       "2006-01-01 04001942600       0.0  15.978498\n",
       "           04001942700       0.0  14.836937\n",
       "           04001944000       0.0  14.192923\n",
       "           04001944100       0.0  14.254541\n",
       "           04001944201       0.0  15.200634"
      ]
     },
     "execution_count": 4,
     "metadata": {},
     "output_type": "execute_result"
    }
   ],
   "source": [
    "df.head()"
   ]
  },
  {
   "cell_type": "code",
   "execution_count": 24,
   "id": "b2503ebc-c3a0-44a6-a2e8-8f6aea83033b",
   "metadata": {
    "tags": []
   },
   "outputs": [],
   "source": [
    "#df = df.groupby(by=[\"time\", \"lat\", \"lon\"]).first()"
   ]
  },
  {
   "cell_type": "code",
   "execution_count": 54,
   "id": "a1a7424b-e780-43bd-bad7-be936758763f",
   "metadata": {
    "tags": []
   },
   "outputs": [
    {
     "data": {
      "text/html": [
       "<div>\n",
       "<style scoped>\n",
       "    .dataframe tbody tr th:only-of-type {\n",
       "        vertical-align: middle;\n",
       "    }\n",
       "\n",
       "    .dataframe tbody tr th {\n",
       "        vertical-align: top;\n",
       "    }\n",
       "\n",
       "    .dataframe thead th {\n",
       "        text-align: right;\n",
       "    }\n",
       "</style>\n",
       "<table border=\"1\" class=\"dataframe\">\n",
       "  <thead>\n",
       "    <tr style=\"text-align: right;\">\n",
       "      <th></th>\n",
       "      <th></th>\n",
       "      <th>wfday</th>\n",
       "      <th>tmax</th>\n",
       "    </tr>\n",
       "    <tr>\n",
       "      <th>time</th>\n",
       "      <th>location_label</th>\n",
       "      <th></th>\n",
       "      <th></th>\n",
       "    </tr>\n",
       "  </thead>\n",
       "  <tbody>\n",
       "    <tr>\n",
       "      <th rowspan=\"5\" valign=\"top\">2006-01-01</th>\n",
       "      <th>04001942600</th>\n",
       "      <td>0.0</td>\n",
       "      <td>15.978498</td>\n",
       "    </tr>\n",
       "    <tr>\n",
       "      <th>04001942700</th>\n",
       "      <td>0.0</td>\n",
       "      <td>14.836937</td>\n",
       "    </tr>\n",
       "    <tr>\n",
       "      <th>04001944000</th>\n",
       "      <td>0.0</td>\n",
       "      <td>14.192923</td>\n",
       "    </tr>\n",
       "    <tr>\n",
       "      <th>04001944100</th>\n",
       "      <td>0.0</td>\n",
       "      <td>14.254541</td>\n",
       "    </tr>\n",
       "    <tr>\n",
       "      <th>04001944201</th>\n",
       "      <td>0.0</td>\n",
       "      <td>15.200634</td>\n",
       "    </tr>\n",
       "  </tbody>\n",
       "</table>\n",
       "</div>"
      ],
      "text/plain": [
       "                           wfday       tmax\n",
       "time       location_label                  \n",
       "2006-01-01 04001942600       0.0  15.978498\n",
       "           04001942700       0.0  14.836937\n",
       "           04001944000       0.0  14.192923\n",
       "           04001944100       0.0  14.254541\n",
       "           04001944201       0.0  15.200634"
      ]
     },
     "execution_count": 54,
     "metadata": {},
     "output_type": "execute_result"
    }
   ],
   "source": [
    "df.head()"
   ]
  },
  {
   "cell_type": "code",
   "execution_count": 55,
   "id": "8aa3d145-6e4d-4f44-9c8a-8476dbd98b0a",
   "metadata": {
    "tags": []
   },
   "outputs": [
    {
     "data": {
      "text/plain": [
       "wfday    0\n",
       "tmax     0\n",
       "dtype: int64"
      ]
     },
     "execution_count": 55,
     "metadata": {},
     "output_type": "execute_result"
    }
   ],
   "source": [
    "df.isna().sum()"
   ]
  },
  {
   "cell_type": "markdown",
   "id": "ea18f227-d75c-4764-93bd-9afcf9190c2b",
   "metadata": {},
   "source": [
    "## Add PM 2.5"
   ]
  },
  {
   "cell_type": "code",
   "execution_count": 28,
   "id": "47b71a2f-3f8a-4fbc-a1a5-9d3be4344bcb",
   "metadata": {
    "tags": []
   },
   "outputs": [],
   "source": [
    "# pm25 = xr.open_dataset(\"data/esri/PM25_Nature_2006_2020_Cali.nc\")\n",
    "# df_pm25 = pm25[[\"MEAN_NONE_SPATIAL_NEIGHBORS\"]].to_dataframe()\n",
    "# df_pm25 = df_pm25.rename(columns={\"MEAN_NONE_SPATIAL_NEIGHBORS\": \"pm25\"})\n",
    "# df_pm25 = df_pm25.reset_index()\n",
    "# df_pm25 = df_pm25.groupby(by=[\"time\", \"lat\", \"lon\"]).first()\n",
    "# df_pm25.head()\n",
    "# df.head()\n",
    "# df = df.join(df_pm25, rsuffix=\"_pm25\").progress_apply(lambda x: x)\n",
    "# df.to_parquet(\"outputs/temp_merge_3.parquet\")\n",
    "# df.isna().sum()\n",
    "# df.head()\n",
    "# len(df.FIPS.unique())\n",
    "# df = df.reset_index()"
   ]
  },
  {
   "cell_type": "markdown",
   "id": "c61462f2-4d61-4195-905a-e59380dba392",
   "metadata": {},
   "source": [
    "## Add crosswalk"
   ]
  },
  {
   "cell_type": "code",
   "execution_count": 1,
   "id": "764ae365-911c-42f9-9343-53b049cad571",
   "metadata": {
    "tags": []
   },
   "outputs": [
    {
     "data": {
      "text/html": [
       "<div>\n",
       "<style scoped>\n",
       "    .dataframe tbody tr th:only-of-type {\n",
       "        vertical-align: middle;\n",
       "    }\n",
       "\n",
       "    .dataframe tbody tr th {\n",
       "        vertical-align: top;\n",
       "    }\n",
       "\n",
       "    .dataframe thead th {\n",
       "        text-align: right;\n",
       "    }\n",
       "</style>\n",
       "<table border=\"1\" class=\"dataframe\">\n",
       "  <thead>\n",
       "    <tr style=\"text-align: right;\">\n",
       "      <th></th>\n",
       "      <th>STATE_ABBR</th>\n",
       "      <th>STATE_FIPS</th>\n",
       "      <th>COUNTY_FIP</th>\n",
       "      <th>STCOFIPS</th>\n",
       "      <th>TRACT_FIPS</th>\n",
       "      <th>FIPS</th>\n",
       "      <th>POPULATION</th>\n",
       "      <th>POP_SQMI</th>\n",
       "      <th>SQMI</th>\n",
       "      <th>Shape_Leng</th>\n",
       "      <th>Shape_Area</th>\n",
       "      <th>geometry</th>\n",
       "    </tr>\n",
       "  </thead>\n",
       "  <tbody>\n",
       "    <tr>\n",
       "      <th>0</th>\n",
       "      <td>AZ</td>\n",
       "      <td>04</td>\n",
       "      <td>001</td>\n",
       "      <td>04001</td>\n",
       "      <td>942600</td>\n",
       "      <td>04001942600</td>\n",
       "      <td>1549</td>\n",
       "      <td>2.6</td>\n",
       "      <td>589.09</td>\n",
       "      <td>232812.475761</td>\n",
       "      <td>1.525731e+09</td>\n",
       "      <td>POLYGON ((-1218270.401 32832.246, -1211358.143...</td>\n",
       "    </tr>\n",
       "    <tr>\n",
       "      <th>1</th>\n",
       "      <td>AZ</td>\n",
       "      <td>04</td>\n",
       "      <td>001</td>\n",
       "      <td>04001</td>\n",
       "      <td>942700</td>\n",
       "      <td>04001942700</td>\n",
       "      <td>4491</td>\n",
       "      <td>3.9</td>\n",
       "      <td>1155.35</td>\n",
       "      <td>494105.485641</td>\n",
       "      <td>2.992333e+09</td>\n",
       "      <td>POLYGON ((-1152995.229 23611.170, -1151650.010...</td>\n",
       "    </tr>\n",
       "    <tr>\n",
       "      <th>2</th>\n",
       "      <td>AZ</td>\n",
       "      <td>04</td>\n",
       "      <td>001</td>\n",
       "      <td>04001</td>\n",
       "      <td>944000</td>\n",
       "      <td>04001944000</td>\n",
       "      <td>5348</td>\n",
       "      <td>17.5</td>\n",
       "      <td>305.81</td>\n",
       "      <td>189340.223564</td>\n",
       "      <td>7.920447e+08</td>\n",
       "      <td>POLYGON ((-1163367.996 -71037.222, -1163356.94...</td>\n",
       "    </tr>\n",
       "    <tr>\n",
       "      <th>3</th>\n",
       "      <td>AZ</td>\n",
       "      <td>04</td>\n",
       "      <td>001</td>\n",
       "      <td>04001</td>\n",
       "      <td>944100</td>\n",
       "      <td>04001944100</td>\n",
       "      <td>5495</td>\n",
       "      <td>7.8</td>\n",
       "      <td>708.25</td>\n",
       "      <td>396654.409548</td>\n",
       "      <td>1.834355e+09</td>\n",
       "      <td>POLYGON ((-1174876.260 -9365.197, -1174863.596...</td>\n",
       "    </tr>\n",
       "    <tr>\n",
       "      <th>4</th>\n",
       "      <td>AZ</td>\n",
       "      <td>04</td>\n",
       "      <td>001</td>\n",
       "      <td>04001</td>\n",
       "      <td>944201</td>\n",
       "      <td>04001944201</td>\n",
       "      <td>4021</td>\n",
       "      <td>20.7</td>\n",
       "      <td>193.93</td>\n",
       "      <td>116350.697095</td>\n",
       "      <td>5.022734e+08</td>\n",
       "      <td>POLYGON ((-1210854.946 -45587.815, -1210757.05...</td>\n",
       "    </tr>\n",
       "  </tbody>\n",
       "</table>\n",
       "</div>"
      ],
      "text/plain": [
       "  STATE_ABBR STATE_FIPS COUNTY_FIP STCOFIPS TRACT_FIPS         FIPS  \\\n",
       "0         AZ         04        001    04001     942600  04001942600   \n",
       "1         AZ         04        001    04001     942700  04001942700   \n",
       "2         AZ         04        001    04001     944000  04001944000   \n",
       "3         AZ         04        001    04001     944100  04001944100   \n",
       "4         AZ         04        001    04001     944201  04001944201   \n",
       "\n",
       "   POPULATION  POP_SQMI     SQMI     Shape_Leng    Shape_Area  \\\n",
       "0        1549       2.6   589.09  232812.475761  1.525731e+09   \n",
       "1        4491       3.9  1155.35  494105.485641  2.992333e+09   \n",
       "2        5348      17.5   305.81  189340.223564  7.920447e+08   \n",
       "3        5495       7.8   708.25  396654.409548  1.834355e+09   \n",
       "4        4021      20.7   193.93  116350.697095  5.022734e+08   \n",
       "\n",
       "                                            geometry  \n",
       "0  POLYGON ((-1218270.401 32832.246, -1211358.143...  \n",
       "1  POLYGON ((-1152995.229 23611.170, -1151650.010...  \n",
       "2  POLYGON ((-1163367.996 -71037.222, -1163356.94...  \n",
       "3  POLYGON ((-1174876.260 -9365.197, -1174863.596...  \n",
       "4  POLYGON ((-1210854.946 -45587.815, -1210757.05...  "
      ]
     },
     "execution_count": 1,
     "metadata": {},
     "output_type": "execute_result"
    }
   ],
   "source": [
    "import geopandas as gpd\n",
    "gdf = gpd.read_file(\"data/WesternUSCensusTract/CensusTract2020_WesternUS.shp\")\n",
    "gdf.head()\n",
    "# df.FIPS = df.FIPS.astype(int)\n",
    "# gdf = gdf.drop(columns=[\"Shape_Leng\", \"Shape_Area\"])\n",
    "# df.FIPS.value_counts()\n",
    "# df = df.merge(gdf, on=\"FIPS\")\n",
    "# len(df)\n",
    "# df.isna().sum()\n",
    "# type(df)\n",
    "# df = df.drop(columns=\"geometry\")\n",
    "# df.to_parquet(\"outputs/temp_merge_4.parquet\")"
   ]
  },
  {
   "cell_type": "code",
   "execution_count": 3,
   "id": "fa7175c9",
   "metadata": {},
   "outputs": [
    {
     "data": {
      "text/plain": [
       "array(['AZ', 'CA', 'CO', 'ID', 'MT', 'NV', 'NM', 'OR', 'TX', 'UT', 'WA',\n",
       "       'WY'], dtype=object)"
      ]
     },
     "execution_count": 3,
     "metadata": {},
     "output_type": "execute_result"
    }
   ],
   "source": [
    "gdf[\"STATE_ABBR\"].unique()"
   ]
  },
  {
   "cell_type": "code",
   "execution_count": 4,
   "id": "33fafda3",
   "metadata": {},
   "outputs": [
    {
     "data": {
      "text/plain": [
       "18108"
      ]
     },
     "execution_count": 4,
     "metadata": {},
     "output_type": "execute_result"
    }
   ],
   "source": [
    "gdf[\"FIPS\"].nunique()"
   ]
  },
  {
   "cell_type": "markdown",
   "id": "146288b1-27f0-461f-8550-e3e454b761ec",
   "metadata": {},
   "source": [
    "## Join smoke PM2.5"
   ]
  },
  {
   "cell_type": "code",
   "execution_count": null,
   "id": "74f56b79-ce34-4acc-a7fe-401b6ce87678",
   "metadata": {
    "tags": []
   },
   "outputs": [],
   "source": [
    "# smoke_df = pd.read_parquet(\"outputs/smoke_pm25_predicted_with_fips.parquet\")"
   ]
  },
  {
   "cell_type": "code",
   "execution_count": 3,
   "id": "33a947f5-3b26-4ce7-ad9d-499b5c83356b",
   "metadata": {
    "tags": []
   },
   "outputs": [],
   "source": [
    "smoke_df = pd.read_parquet(\n",
    "    \"data/smoke_pm/smoke_pm_all_time_2020_map.parquet\")"
   ]
  },
  {
   "cell_type": "code",
   "execution_count": 4,
   "id": "fa968eb0",
   "metadata": {},
   "outputs": [
    {
     "data": {
      "text/html": [
       "<div>\n",
       "<style scoped>\n",
       "    .dataframe tbody tr th:only-of-type {\n",
       "        vertical-align: middle;\n",
       "    }\n",
       "\n",
       "    .dataframe tbody tr th {\n",
       "        vertical-align: top;\n",
       "    }\n",
       "\n",
       "    .dataframe thead th {\n",
       "        text-align: right;\n",
       "    }\n",
       "</style>\n",
       "<table border=\"1\" class=\"dataframe\">\n",
       "  <thead>\n",
       "    <tr style=\"text-align: right;\">\n",
       "      <th></th>\n",
       "      <th>FIPS</th>\n",
       "      <th>smoke_pm</th>\n",
       "      <th>date</th>\n",
       "    </tr>\n",
       "  </thead>\n",
       "  <tbody>\n",
       "    <tr>\n",
       "      <th>0</th>\n",
       "      <td>04001942600</td>\n",
       "      <td>0.0</td>\n",
       "      <td>2006-01-01</td>\n",
       "    </tr>\n",
       "    <tr>\n",
       "      <th>1</th>\n",
       "      <td>04001942700</td>\n",
       "      <td>0.0</td>\n",
       "      <td>2006-01-01</td>\n",
       "    </tr>\n",
       "    <tr>\n",
       "      <th>2</th>\n",
       "      <td>04001944000</td>\n",
       "      <td>0.0</td>\n",
       "      <td>2006-01-01</td>\n",
       "    </tr>\n",
       "    <tr>\n",
       "      <th>3</th>\n",
       "      <td>04001944100</td>\n",
       "      <td>0.0</td>\n",
       "      <td>2006-01-01</td>\n",
       "    </tr>\n",
       "    <tr>\n",
       "      <th>4</th>\n",
       "      <td>04001944201</td>\n",
       "      <td>0.0</td>\n",
       "      <td>2006-01-01</td>\n",
       "    </tr>\n",
       "  </tbody>\n",
       "</table>\n",
       "</div>"
      ],
      "text/plain": [
       "          FIPS  smoke_pm       date\n",
       "0  04001942600       0.0 2006-01-01\n",
       "1  04001942700       0.0 2006-01-01\n",
       "2  04001944000       0.0 2006-01-01\n",
       "3  04001944100       0.0 2006-01-01\n",
       "4  04001944201       0.0 2006-01-01"
      ]
     },
     "execution_count": 4,
     "metadata": {},
     "output_type": "execute_result"
    }
   ],
   "source": [
    "smoke_df.head()"
   ]
  },
  {
   "cell_type": "code",
   "execution_count": 5,
   "id": "ffd4e70c",
   "metadata": {},
   "outputs": [
    {
     "data": {
      "text/plain": [
       "18108"
      ]
     },
     "execution_count": 5,
     "metadata": {},
     "output_type": "execute_result"
    }
   ],
   "source": [
    "len(smoke_df.FIPS.unique())"
   ]
  },
  {
   "cell_type": "code",
   "execution_count": 6,
   "id": "9cb24aec-b5dc-48a4-a8af-ae76cd5960b0",
   "metadata": {
    "tags": []
   },
   "outputs": [],
   "source": [
    "smoke_df = smoke_df.rename(columns={\"FIPS\":\"location_label\"})"
   ]
  },
  {
   "cell_type": "code",
   "execution_count": 7,
   "id": "08e18194",
   "metadata": {},
   "outputs": [],
   "source": [
    "smoke_df = smoke_df.rename(columns={\"date\":\"time\"})"
   ]
  },
  {
   "cell_type": "code",
   "execution_count": 8,
   "id": "982bf5fe",
   "metadata": {},
   "outputs": [],
   "source": [
    "smoke_df = smoke_df.groupby(by=[\"time\", \"location_label\"]).first()"
   ]
  },
  {
   "cell_type": "code",
   "execution_count": 9,
   "id": "2e5258d6",
   "metadata": {},
   "outputs": [
    {
     "data": {
      "text/html": [
       "<div>\n",
       "<style scoped>\n",
       "    .dataframe tbody tr th:only-of-type {\n",
       "        vertical-align: middle;\n",
       "    }\n",
       "\n",
       "    .dataframe tbody tr th {\n",
       "        vertical-align: top;\n",
       "    }\n",
       "\n",
       "    .dataframe thead th {\n",
       "        text-align: right;\n",
       "    }\n",
       "</style>\n",
       "<table border=\"1\" class=\"dataframe\">\n",
       "  <thead>\n",
       "    <tr style=\"text-align: right;\">\n",
       "      <th></th>\n",
       "      <th></th>\n",
       "      <th>smoke_pm</th>\n",
       "    </tr>\n",
       "    <tr>\n",
       "      <th>time</th>\n",
       "      <th>location_label</th>\n",
       "      <th></th>\n",
       "    </tr>\n",
       "  </thead>\n",
       "  <tbody>\n",
       "    <tr>\n",
       "      <th rowspan=\"5\" valign=\"top\">2006-01-01</th>\n",
       "      <th>04001942600</th>\n",
       "      <td>0.0</td>\n",
       "    </tr>\n",
       "    <tr>\n",
       "      <th>04001942700</th>\n",
       "      <td>0.0</td>\n",
       "    </tr>\n",
       "    <tr>\n",
       "      <th>04001944000</th>\n",
       "      <td>0.0</td>\n",
       "    </tr>\n",
       "    <tr>\n",
       "      <th>04001944100</th>\n",
       "      <td>0.0</td>\n",
       "    </tr>\n",
       "    <tr>\n",
       "      <th>04001944201</th>\n",
       "      <td>0.0</td>\n",
       "    </tr>\n",
       "  </tbody>\n",
       "</table>\n",
       "</div>"
      ],
      "text/plain": [
       "                           smoke_pm\n",
       "time       location_label          \n",
       "2006-01-01 04001942600          0.0\n",
       "           04001942700          0.0\n",
       "           04001944000          0.0\n",
       "           04001944100          0.0\n",
       "           04001944201          0.0"
      ]
     },
     "execution_count": 9,
     "metadata": {},
     "output_type": "execute_result"
    }
   ],
   "source": [
    "smoke_df.head()"
   ]
  },
  {
   "cell_type": "code",
   "execution_count": null,
   "id": "70738985-90bf-4628-8dcf-8d838dcb55bd",
   "metadata": {
    "tags": []
   },
   "outputs": [],
   "source": [
    "df.head()"
   ]
  },
  {
   "cell_type": "code",
   "execution_count": 19,
   "id": "01956ce7",
   "metadata": {},
   "outputs": [],
   "source": [
    "merged = df.join(smoke_df)"
   ]
  },
  {
   "cell_type": "code",
   "execution_count": null,
   "id": "3dd20720-c1af-4bdd-a77d-f236f758f4ff",
   "metadata": {
    "tags": []
   },
   "outputs": [],
   "source": [
    "# df[\"FIPS_1\"] = df[\"FIPS_1\"].astype(int)"
   ]
  },
  {
   "cell_type": "code",
   "execution_count": null,
   "id": "9ee3442f-1cf9-4a37-bf63-64a8aa09a6e2",
   "metadata": {
    "tags": []
   },
   "outputs": [],
   "source": [
    "# merged = df.merge(smoke_df, left_on=[\"FIPS_1\", \"time\"], right_on=[\"GEOID\", \"date\"])"
   ]
  },
  {
   "cell_type": "code",
   "execution_count": 20,
   "id": "50e154bc-61ae-4f02-84d6-569dc06efb91",
   "metadata": {
    "tags": []
   },
   "outputs": [
    {
     "data": {
      "text/html": [
       "<div>\n",
       "<style scoped>\n",
       "    .dataframe tbody tr th:only-of-type {\n",
       "        vertical-align: middle;\n",
       "    }\n",
       "\n",
       "    .dataframe tbody tr th {\n",
       "        vertical-align: top;\n",
       "    }\n",
       "\n",
       "    .dataframe thead th {\n",
       "        text-align: right;\n",
       "    }\n",
       "</style>\n",
       "<table border=\"1\" class=\"dataframe\">\n",
       "  <thead>\n",
       "    <tr style=\"text-align: right;\">\n",
       "      <th></th>\n",
       "      <th></th>\n",
       "      <th>wfday</th>\n",
       "      <th>tmax</th>\n",
       "      <th>smoke_pm</th>\n",
       "    </tr>\n",
       "    <tr>\n",
       "      <th>time</th>\n",
       "      <th>location_label</th>\n",
       "      <th></th>\n",
       "      <th></th>\n",
       "      <th></th>\n",
       "    </tr>\n",
       "  </thead>\n",
       "  <tbody>\n",
       "    <tr>\n",
       "      <th rowspan=\"5\" valign=\"top\">2006-01-01</th>\n",
       "      <th>04001942600</th>\n",
       "      <td>0.0</td>\n",
       "      <td>15.978498</td>\n",
       "      <td>0.0</td>\n",
       "    </tr>\n",
       "    <tr>\n",
       "      <th>04001942700</th>\n",
       "      <td>0.0</td>\n",
       "      <td>14.836937</td>\n",
       "      <td>0.0</td>\n",
       "    </tr>\n",
       "    <tr>\n",
       "      <th>04001944000</th>\n",
       "      <td>0.0</td>\n",
       "      <td>14.192923</td>\n",
       "      <td>0.0</td>\n",
       "    </tr>\n",
       "    <tr>\n",
       "      <th>04001944100</th>\n",
       "      <td>0.0</td>\n",
       "      <td>14.254541</td>\n",
       "      <td>0.0</td>\n",
       "    </tr>\n",
       "    <tr>\n",
       "      <th>04001944201</th>\n",
       "      <td>0.0</td>\n",
       "      <td>15.200634</td>\n",
       "      <td>0.0</td>\n",
       "    </tr>\n",
       "  </tbody>\n",
       "</table>\n",
       "</div>"
      ],
      "text/plain": [
       "                           wfday       tmax  smoke_pm\n",
       "time       location_label                            \n",
       "2006-01-01 04001942600       0.0  15.978498       0.0\n",
       "           04001942700       0.0  14.836937       0.0\n",
       "           04001944000       0.0  14.192923       0.0\n",
       "           04001944100       0.0  14.254541       0.0\n",
       "           04001944201       0.0  15.200634       0.0"
      ]
     },
     "execution_count": 20,
     "metadata": {},
     "output_type": "execute_result"
    }
   ],
   "source": [
    "merged.head()"
   ]
  },
  {
   "cell_type": "code",
   "execution_count": 23,
   "id": "bfa66f96",
   "metadata": {},
   "outputs": [
    {
     "data": {
      "text/plain": [
       "97946172"
      ]
     },
     "execution_count": 23,
     "metadata": {},
     "output_type": "execute_result"
    }
   ],
   "source": [
    "len(smoke_df)"
   ]
  },
  {
   "cell_type": "code",
   "execution_count": 21,
   "id": "93a66a3d-fb93-4245-9a82-64a0a0a8b185",
   "metadata": {
    "tags": []
   },
   "outputs": [
    {
     "data": {
      "text/plain": [
       "99213732"
      ]
     },
     "execution_count": 21,
     "metadata": {},
     "output_type": "execute_result"
    }
   ],
   "source": [
    "len(merged)"
   ]
  },
  {
   "cell_type": "code",
   "execution_count": null,
   "id": "72c3f98c-39d4-4e10-85e8-bc1bd7da54c8",
   "metadata": {
    "tags": []
   },
   "outputs": [],
   "source": [
    "# merged = merged.drop(\n",
    "#     columns=[\"lat\", \"lon\", \"locations\", \"FIPS\", \"locations_pm25\", \"date\"]\n",
    "# )"
   ]
  },
  {
   "cell_type": "code",
   "execution_count": 27,
   "id": "f927ed2b",
   "metadata": {},
   "outputs": [
    {
     "data": {
      "text/html": [
       "<div>\n",
       "<style scoped>\n",
       "    .dataframe tbody tr th:only-of-type {\n",
       "        vertical-align: middle;\n",
       "    }\n",
       "\n",
       "    .dataframe tbody tr th {\n",
       "        vertical-align: top;\n",
       "    }\n",
       "\n",
       "    .dataframe thead th {\n",
       "        text-align: right;\n",
       "    }\n",
       "</style>\n",
       "<table border=\"1\" class=\"dataframe\">\n",
       "  <thead>\n",
       "    <tr style=\"text-align: right;\">\n",
       "      <th></th>\n",
       "      <th></th>\n",
       "      <th>wfday</th>\n",
       "      <th>tmax</th>\n",
       "      <th>smoke_pm</th>\n",
       "    </tr>\n",
       "    <tr>\n",
       "      <th>time</th>\n",
       "      <th>location_label</th>\n",
       "      <th></th>\n",
       "      <th></th>\n",
       "      <th></th>\n",
       "    </tr>\n",
       "  </thead>\n",
       "  <tbody>\n",
       "    <tr>\n",
       "      <th rowspan=\"5\" valign=\"top\">2006-01-01</th>\n",
       "      <th>04001942600</th>\n",
       "      <td>0.0</td>\n",
       "      <td>15.978498</td>\n",
       "      <td>0.0</td>\n",
       "    </tr>\n",
       "    <tr>\n",
       "      <th>04001942700</th>\n",
       "      <td>0.0</td>\n",
       "      <td>14.836937</td>\n",
       "      <td>0.0</td>\n",
       "    </tr>\n",
       "    <tr>\n",
       "      <th>04001944000</th>\n",
       "      <td>0.0</td>\n",
       "      <td>14.192923</td>\n",
       "      <td>0.0</td>\n",
       "    </tr>\n",
       "    <tr>\n",
       "      <th>04001944100</th>\n",
       "      <td>0.0</td>\n",
       "      <td>14.254541</td>\n",
       "      <td>0.0</td>\n",
       "    </tr>\n",
       "    <tr>\n",
       "      <th>04001944201</th>\n",
       "      <td>0.0</td>\n",
       "      <td>15.200634</td>\n",
       "      <td>0.0</td>\n",
       "    </tr>\n",
       "  </tbody>\n",
       "</table>\n",
       "</div>"
      ],
      "text/plain": [
       "                           wfday       tmax  smoke_pm\n",
       "time       location_label                            \n",
       "2006-01-01 04001942600       0.0  15.978498       0.0\n",
       "           04001942700       0.0  14.836937       0.0\n",
       "           04001944000       0.0  14.192923       0.0\n",
       "           04001944100       0.0  14.254541       0.0\n",
       "           04001944201       0.0  15.200634       0.0"
      ]
     },
     "execution_count": 27,
     "metadata": {},
     "output_type": "execute_result"
    }
   ],
   "source": [
    "merged.head()"
   ]
  },
  {
   "cell_type": "code",
   "execution_count": 24,
   "id": "8f805680-aaca-4f26-8a69-be777cb9c632",
   "metadata": {
    "tags": []
   },
   "outputs": [],
   "source": [
    "merged.to_parquet(\"outputs/final_merge_5_western_us.parquet\")"
   ]
  },
  {
   "cell_type": "code",
   "execution_count": null,
   "id": "8e1ca435-b9b7-4fb0-8e73-3137ddefafeb",
   "metadata": {},
   "outputs": [],
   "source": []
  }
 ],
 "metadata": {
  "kernelspec": {
   "display_name": "Python 3 (ipykernel)",
   "language": "python",
   "name": "python3"
  },
  "language_info": {
   "codemirror_mode": {
    "name": "ipython",
    "version": 3
   },
   "file_extension": ".py",
   "mimetype": "text/x-python",
   "name": "python",
   "nbconvert_exporter": "python",
   "pygments_lexer": "ipython3",
   "version": "3.9.6"
  }
 },
 "nbformat": 4,
 "nbformat_minor": 5
}
