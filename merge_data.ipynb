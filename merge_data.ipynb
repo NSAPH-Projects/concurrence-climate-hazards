{
 "cells": [
  {
   "cell_type": "code",
   "execution_count": 16,
   "id": "336519da-4d2e-4de9-8c39-42cc67546ecd",
   "metadata": {},
   "outputs": [],
   "source": [
    "import numpy as np\n",
    "import pandas as pd\n",
    "import xarray as xr\n",
    "from tqdm import tqdm"
   ]
  },
  {
   "cell_type": "code",
   "execution_count": 17,
   "id": "a476f172-7479-43dd-8729-10b2dd8fa9b3",
   "metadata": {},
   "outputs": [],
   "source": [
    "tmax = xr.open_dataset('data/esri/MaxTemp_2006_2021_Cali.nc')"
   ]
  },
  {
   "cell_type": "code",
   "execution_count": 18,
   "id": "ee931690-7103-4d0b-a6d8-a902d9a8c426",
   "metadata": {},
   "outputs": [],
   "source": [
    "df_tmax = tmax[['FIPS','MAX_TEMPERATURE_NONE_SPATIAL_NEIGHBORS']].to_dataframe()"
   ]
  },
  {
   "cell_type": "code",
   "execution_count": 19,
   "id": "9f2eff76-7d23-4c12-87a4-13eb3da9f5d5",
   "metadata": {},
   "outputs": [],
   "source": [
    "df_tmax = df_tmax.drop(columns=['lat', 'lon'])"
   ]
  },
  {
   "cell_type": "code",
   "execution_count": 20,
   "id": "6a6d7488-d46b-42ac-a3c9-967a568966ef",
   "metadata": {},
   "outputs": [
    {
     "data": {
      "text/html": [
       "<div>\n",
       "<style scoped>\n",
       "    .dataframe tbody tr th:only-of-type {\n",
       "        vertical-align: middle;\n",
       "    }\n",
       "\n",
       "    .dataframe tbody tr th {\n",
       "        vertical-align: top;\n",
       "    }\n",
       "\n",
       "    .dataframe thead th {\n",
       "        text-align: right;\n",
       "    }\n",
       "</style>\n",
       "<table border=\"1\" class=\"dataframe\">\n",
       "  <thead>\n",
       "    <tr style=\"text-align: right;\">\n",
       "      <th></th>\n",
       "      <th></th>\n",
       "      <th>FIPS</th>\n",
       "      <th>MAX_TEMPERATURE_NONE_SPATIAL_NEIGHBORS</th>\n",
       "    </tr>\n",
       "    <tr>\n",
       "      <th>time</th>\n",
       "      <th>locations</th>\n",
       "      <th></th>\n",
       "      <th></th>\n",
       "    </tr>\n",
       "  </thead>\n",
       "  <tbody>\n",
       "    <tr>\n",
       "      <th rowspan=\"5\" valign=\"top\">2005-12-31</th>\n",
       "      <th>0</th>\n",
       "      <td>1765.0</td>\n",
       "      <td>13.350000</td>\n",
       "    </tr>\n",
       "    <tr>\n",
       "      <th>1</th>\n",
       "      <td>1766.0</td>\n",
       "      <td>14.950006</td>\n",
       "    </tr>\n",
       "    <tr>\n",
       "      <th>2</th>\n",
       "      <td>1767.0</td>\n",
       "      <td>14.950006</td>\n",
       "    </tr>\n",
       "    <tr>\n",
       "      <th>3</th>\n",
       "      <td>1768.0</td>\n",
       "      <td>14.950006</td>\n",
       "    </tr>\n",
       "    <tr>\n",
       "      <th>4</th>\n",
       "      <td>1769.0</td>\n",
       "      <td>14.950006</td>\n",
       "    </tr>\n",
       "  </tbody>\n",
       "</table>\n",
       "</div>"
      ],
      "text/plain": [
       "                        FIPS  MAX_TEMPERATURE_NONE_SPATIAL_NEIGHBORS\n",
       "time       locations                                                \n",
       "2005-12-31 0          1765.0                               13.350000\n",
       "           1          1766.0                               14.950006\n",
       "           2          1767.0                               14.950006\n",
       "           3          1768.0                               14.950006\n",
       "           4          1769.0                               14.950006"
      ]
     },
     "execution_count": 20,
     "metadata": {},
     "output_type": "execute_result"
    }
   ],
   "source": [
    "df_tmax.head()"
   ]
  },
  {
   "cell_type": "code",
   "execution_count": 21,
   "id": "0561ea8c-cd78-45a7-a361-1f8ebf294e24",
   "metadata": {},
   "outputs": [],
   "source": [
    "tmin = xr.open_dataset('data/esri/MinTemp_2006_2021_Cali.nc')"
   ]
  },
  {
   "cell_type": "code",
   "execution_count": 22,
   "id": "063ce719-faee-4e5a-b74c-7005843c0ee6",
   "metadata": {},
   "outputs": [],
   "source": [
    "df_tmin = tmin[['FIPS','MIN_TEMPERATURE_NONE_SPATIAL_NEIGHBORS']].to_dataframe()"
   ]
  },
  {
   "cell_type": "code",
   "execution_count": 23,
   "id": "5b5e44fc-a5e9-4fac-bece-e7fd50032ef4",
   "metadata": {},
   "outputs": [],
   "source": [
    "df_tmin = df_tmin.drop(columns=['lat', 'lon'])"
   ]
  },
  {
   "cell_type": "code",
   "execution_count": 24,
   "id": "e3f853f3-9bb6-4b6c-b558-bf055a25910d",
   "metadata": {},
   "outputs": [
    {
     "data": {
      "text/html": [
       "<div>\n",
       "<style scoped>\n",
       "    .dataframe tbody tr th:only-of-type {\n",
       "        vertical-align: middle;\n",
       "    }\n",
       "\n",
       "    .dataframe tbody tr th {\n",
       "        vertical-align: top;\n",
       "    }\n",
       "\n",
       "    .dataframe thead th {\n",
       "        text-align: right;\n",
       "    }\n",
       "</style>\n",
       "<table border=\"1\" class=\"dataframe\">\n",
       "  <thead>\n",
       "    <tr style=\"text-align: right;\">\n",
       "      <th></th>\n",
       "      <th></th>\n",
       "      <th>FIPS</th>\n",
       "      <th>MIN_TEMPERATURE_NONE_SPATIAL_NEIGHBORS</th>\n",
       "    </tr>\n",
       "    <tr>\n",
       "      <th>time</th>\n",
       "      <th>locations</th>\n",
       "      <th></th>\n",
       "      <th></th>\n",
       "    </tr>\n",
       "  </thead>\n",
       "  <tbody>\n",
       "    <tr>\n",
       "      <th rowspan=\"5\" valign=\"top\">2005-12-31</th>\n",
       "      <th>0</th>\n",
       "      <td>1765.0</td>\n",
       "      <td>7.850000</td>\n",
       "    </tr>\n",
       "    <tr>\n",
       "      <th>1</th>\n",
       "      <td>1766.0</td>\n",
       "      <td>8.249994</td>\n",
       "    </tr>\n",
       "    <tr>\n",
       "      <th>2</th>\n",
       "      <td>1767.0</td>\n",
       "      <td>8.249994</td>\n",
       "    </tr>\n",
       "    <tr>\n",
       "      <th>3</th>\n",
       "      <td>1768.0</td>\n",
       "      <td>8.249994</td>\n",
       "    </tr>\n",
       "    <tr>\n",
       "      <th>4</th>\n",
       "      <td>1769.0</td>\n",
       "      <td>8.249994</td>\n",
       "    </tr>\n",
       "  </tbody>\n",
       "</table>\n",
       "</div>"
      ],
      "text/plain": [
       "                        FIPS  MIN_TEMPERATURE_NONE_SPATIAL_NEIGHBORS\n",
       "time       locations                                                \n",
       "2005-12-31 0          1765.0                                7.850000\n",
       "           1          1766.0                                8.249994\n",
       "           2          1767.0                                8.249994\n",
       "           3          1768.0                                8.249994\n",
       "           4          1769.0                                8.249994"
      ]
     },
     "execution_count": 24,
     "metadata": {},
     "output_type": "execute_result"
    }
   ],
   "source": [
    "df_tmin.head()"
   ]
  },
  {
   "cell_type": "code",
   "execution_count": 25,
   "id": "53bbddbd-46b9-4cd4-90ae-db3adad52c8b",
   "metadata": {},
   "outputs": [
    {
     "data": {
      "text/plain": [
       "52543404"
      ]
     },
     "execution_count": 25,
     "metadata": {},
     "output_type": "execute_result"
    }
   ],
   "source": [
    "len(df_tmax)"
   ]
  },
  {
   "cell_type": "code",
   "execution_count": 26,
   "id": "fa7eda3f-7118-4447-9909-5d3e10902424",
   "metadata": {},
   "outputs": [
    {
     "data": {
      "text/plain": [
       "52543404"
      ]
     },
     "execution_count": 26,
     "metadata": {},
     "output_type": "execute_result"
    }
   ],
   "source": [
    "len(df_tmin)"
   ]
  },
  {
   "cell_type": "markdown",
   "id": "468b1b17-8863-401b-b038-4826db18bfc0",
   "metadata": {},
   "source": [
    "## Join tmin and tmax"
   ]
  },
  {
   "cell_type": "code",
   "execution_count": 27,
   "id": "6099c0d4-8596-41de-ad37-3cf117171dff",
   "metadata": {},
   "outputs": [
    {
     "name": "stderr",
     "output_type": "stream",
     "text": [
      "100%|██████████████████████████████████████████████████████████████████████████████████████████████████████| 4/4 [00:01<00:00,  2.25it/s]\n"
     ]
    }
   ],
   "source": [
    "tqdm.pandas()\n",
    "df_t = df_tmax.join(df_tmin, rsuffix= \"_tmin\").progress_apply(lambda x: x)"
   ]
  },
  {
   "cell_type": "code",
   "execution_count": 28,
   "id": "c72664e5-490e-4580-92c6-6461c7d11f25",
   "metadata": {},
   "outputs": [
    {
     "data": {
      "text/plain": [
       "52543404"
      ]
     },
     "execution_count": 28,
     "metadata": {},
     "output_type": "execute_result"
    }
   ],
   "source": [
    "len(df_t)"
   ]
  },
  {
   "cell_type": "code",
   "execution_count": 29,
   "id": "30fa0bb3-0475-4456-94a4-1bc9d6a5792c",
   "metadata": {},
   "outputs": [
    {
     "data": {
      "text/html": [
       "<div>\n",
       "<style scoped>\n",
       "    .dataframe tbody tr th:only-of-type {\n",
       "        vertical-align: middle;\n",
       "    }\n",
       "\n",
       "    .dataframe tbody tr th {\n",
       "        vertical-align: top;\n",
       "    }\n",
       "\n",
       "    .dataframe thead th {\n",
       "        text-align: right;\n",
       "    }\n",
       "</style>\n",
       "<table border=\"1\" class=\"dataframe\">\n",
       "  <thead>\n",
       "    <tr style=\"text-align: right;\">\n",
       "      <th></th>\n",
       "      <th></th>\n",
       "      <th>FIPS</th>\n",
       "      <th>MAX_TEMPERATURE_NONE_SPATIAL_NEIGHBORS</th>\n",
       "      <th>FIPS_tmin</th>\n",
       "      <th>MIN_TEMPERATURE_NONE_SPATIAL_NEIGHBORS</th>\n",
       "    </tr>\n",
       "    <tr>\n",
       "      <th>time</th>\n",
       "      <th>locations</th>\n",
       "      <th></th>\n",
       "      <th></th>\n",
       "      <th></th>\n",
       "      <th></th>\n",
       "    </tr>\n",
       "  </thead>\n",
       "  <tbody>\n",
       "    <tr>\n",
       "      <th rowspan=\"5\" valign=\"top\">2005-12-31</th>\n",
       "      <th>0</th>\n",
       "      <td>1765.0</td>\n",
       "      <td>13.350000</td>\n",
       "      <td>1765.0</td>\n",
       "      <td>7.850000</td>\n",
       "    </tr>\n",
       "    <tr>\n",
       "      <th>1</th>\n",
       "      <td>1766.0</td>\n",
       "      <td>14.950006</td>\n",
       "      <td>1766.0</td>\n",
       "      <td>8.249994</td>\n",
       "    </tr>\n",
       "    <tr>\n",
       "      <th>2</th>\n",
       "      <td>1767.0</td>\n",
       "      <td>14.950006</td>\n",
       "      <td>1767.0</td>\n",
       "      <td>8.249994</td>\n",
       "    </tr>\n",
       "    <tr>\n",
       "      <th>3</th>\n",
       "      <td>1768.0</td>\n",
       "      <td>14.950006</td>\n",
       "      <td>1768.0</td>\n",
       "      <td>8.249994</td>\n",
       "    </tr>\n",
       "    <tr>\n",
       "      <th>4</th>\n",
       "      <td>1769.0</td>\n",
       "      <td>14.950006</td>\n",
       "      <td>1769.0</td>\n",
       "      <td>8.249994</td>\n",
       "    </tr>\n",
       "  </tbody>\n",
       "</table>\n",
       "</div>"
      ],
      "text/plain": [
       "                        FIPS  MAX_TEMPERATURE_NONE_SPATIAL_NEIGHBORS  \\\n",
       "time       locations                                                   \n",
       "2005-12-31 0          1765.0                               13.350000   \n",
       "           1          1766.0                               14.950006   \n",
       "           2          1767.0                               14.950006   \n",
       "           3          1768.0                               14.950006   \n",
       "           4          1769.0                               14.950006   \n",
       "\n",
       "                      FIPS_tmin  MIN_TEMPERATURE_NONE_SPATIAL_NEIGHBORS  \n",
       "time       locations                                                     \n",
       "2005-12-31 0             1765.0                                7.850000  \n",
       "           1             1766.0                                8.249994  \n",
       "           2             1767.0                                8.249994  \n",
       "           3             1768.0                                8.249994  \n",
       "           4             1769.0                                8.249994  "
      ]
     },
     "execution_count": 29,
     "metadata": {},
     "output_type": "execute_result"
    }
   ],
   "source": [
    "df_t.head()"
   ]
  },
  {
   "cell_type": "code",
   "execution_count": 30,
   "id": "9b249d58-6812-4319-9f4b-27867bab1370",
   "metadata": {},
   "outputs": [
    {
     "data": {
      "text/plain": [
       "True"
      ]
     },
     "execution_count": 30,
     "metadata": {},
     "output_type": "execute_result"
    }
   ],
   "source": [
    "# check if FIPS are the same\n",
    "\n",
    "df_t['FIPS'].equals(df_t['FIPS_tmin'])  # Returns True"
   ]
  },
  {
   "cell_type": "code",
   "execution_count": 31,
   "id": "e676d6fb-a40c-45c5-bdd6-cc5f822dc979",
   "metadata": {},
   "outputs": [],
   "source": [
    "df_t = df_t.drop(columns=['FIPS'])"
   ]
  },
  {
   "cell_type": "code",
   "execution_count": 32,
   "id": "f0dd5871-4551-4554-8dd2-1bd2580d0d62",
   "metadata": {},
   "outputs": [
    {
     "data": {
      "text/plain": [
       "2314"
      ]
     },
     "execution_count": 32,
     "metadata": {},
     "output_type": "execute_result"
    }
   ],
   "source": [
    "import gc\n",
    "\n",
    "del tmin\n",
    "del tmax\n",
    "del df_tmin\n",
    "del df_tmax\n",
    "gc.collect()"
   ]
  },
  {
   "cell_type": "markdown",
   "id": "dec0952d-8e13-4c04-85c0-623e853ca0ef",
   "metadata": {},
   "source": [
    "## Load PM2.5"
   ]
  },
  {
   "cell_type": "code",
   "execution_count": 33,
   "id": "e91ef039-3382-4703-815d-10ac76e364f9",
   "metadata": {},
   "outputs": [],
   "source": [
    "pm25 = xr.open_dataset('data/esri/PM25_Nature_2006_2020_Cali.nc')"
   ]
  },
  {
   "cell_type": "code",
   "execution_count": 34,
   "id": "94d191c3-c86a-452a-9302-483e15cfc250",
   "metadata": {},
   "outputs": [],
   "source": [
    "df_pm25 = pm25[['FIPS','MEAN_NONE_SPATIAL_NEIGHBORS']].to_dataframe()"
   ]
  },
  {
   "cell_type": "code",
   "execution_count": 35,
   "id": "c88f5e2b-3aa8-4671-959e-394c8a8f884b",
   "metadata": {},
   "outputs": [],
   "source": [
    "df_pm25 = df_pm25.drop(columns=['lat', 'lon'])"
   ]
  },
  {
   "cell_type": "code",
   "execution_count": 36,
   "id": "2000bc25-8444-4b85-b4be-db9876ad0d1a",
   "metadata": {},
   "outputs": [
    {
     "data": {
      "text/html": [
       "<div>\n",
       "<style scoped>\n",
       "    .dataframe tbody tr th:only-of-type {\n",
       "        vertical-align: middle;\n",
       "    }\n",
       "\n",
       "    .dataframe tbody tr th {\n",
       "        vertical-align: top;\n",
       "    }\n",
       "\n",
       "    .dataframe thead th {\n",
       "        text-align: right;\n",
       "    }\n",
       "</style>\n",
       "<table border=\"1\" class=\"dataframe\">\n",
       "  <thead>\n",
       "    <tr style=\"text-align: right;\">\n",
       "      <th></th>\n",
       "      <th></th>\n",
       "      <th>FIPS</th>\n",
       "      <th>MEAN_NONE_SPATIAL_NEIGHBORS</th>\n",
       "    </tr>\n",
       "    <tr>\n",
       "      <th>time</th>\n",
       "      <th>locations</th>\n",
       "      <th></th>\n",
       "      <th></th>\n",
       "    </tr>\n",
       "  </thead>\n",
       "  <tbody>\n",
       "    <tr>\n",
       "      <th rowspan=\"5\" valign=\"top\">2005-12-31</th>\n",
       "      <th>0</th>\n",
       "      <td>1765.0</td>\n",
       "      <td>4.986000</td>\n",
       "    </tr>\n",
       "    <tr>\n",
       "      <th>1</th>\n",
       "      <td>1766.0</td>\n",
       "      <td>5.500000</td>\n",
       "    </tr>\n",
       "    <tr>\n",
       "      <th>2</th>\n",
       "      <td>1767.0</td>\n",
       "      <td>5.486667</td>\n",
       "    </tr>\n",
       "    <tr>\n",
       "      <th>3</th>\n",
       "      <td>1768.0</td>\n",
       "      <td>5.437778</td>\n",
       "    </tr>\n",
       "    <tr>\n",
       "      <th>4</th>\n",
       "      <td>1769.0</td>\n",
       "      <td>5.480000</td>\n",
       "    </tr>\n",
       "  </tbody>\n",
       "</table>\n",
       "</div>"
      ],
      "text/plain": [
       "                        FIPS  MEAN_NONE_SPATIAL_NEIGHBORS\n",
       "time       locations                                     \n",
       "2005-12-31 0          1765.0                     4.986000\n",
       "           1          1766.0                     5.500000\n",
       "           2          1767.0                     5.486667\n",
       "           3          1768.0                     5.437778\n",
       "           4          1769.0                     5.480000"
      ]
     },
     "execution_count": 36,
     "metadata": {},
     "output_type": "execute_result"
    }
   ],
   "source": [
    "df_pm25.head()"
   ]
  },
  {
   "cell_type": "code",
   "execution_count": 37,
   "id": "a920aea4-2dae-4e2e-83d0-8a5ec5b756f6",
   "metadata": {},
   "outputs": [
    {
     "data": {
      "text/plain": [
       "47929050"
      ]
     },
     "execution_count": 37,
     "metadata": {},
     "output_type": "execute_result"
    }
   ],
   "source": [
    "len(df_pm25)"
   ]
  },
  {
   "cell_type": "code",
   "execution_count": 38,
   "id": "22190af5-1c91-428d-8a46-8992506731d3",
   "metadata": {},
   "outputs": [
    {
     "data": {
      "text/plain": [
       "52543404"
      ]
     },
     "execution_count": 38,
     "metadata": {},
     "output_type": "execute_result"
    }
   ],
   "source": [
    "len(df_t)"
   ]
  },
  {
   "cell_type": "markdown",
   "id": "a4313329-64c3-48d7-8d36-0d4ac84f69cb",
   "metadata": {},
   "source": [
    "## Test for joins\n",
    "\n",
    "Look for fastest join"
   ]
  },
  {
   "cell_type": "code",
   "execution_count": 55,
   "id": "08b5530c-545c-45c3-b022-3575bb01ef4e",
   "metadata": {},
   "outputs": [],
   "source": [
    "temp1 = df_t.head(30000)\n",
    "temp2 = df_pm25.head(30000)"
   ]
  },
  {
   "cell_type": "code",
   "execution_count": 56,
   "id": "897703b5-dc07-401a-bd8a-4a6eded796e2",
   "metadata": {},
   "outputs": [
    {
     "name": "stdout",
     "output_type": "stream",
     "text": [
      "6.39 ms ± 79.8 µs per loop (mean ± std. dev. of 7 runs, 100 loops each)\n"
     ]
    }
   ],
   "source": [
    "%%timeit \n",
    "temp1.join(temp2)"
   ]
  },
  {
   "cell_type": "code",
   "execution_count": 57,
   "id": "e3c39ccc-6246-426c-bfb5-803a80066828",
   "metadata": {},
   "outputs": [
    {
     "name": "stdout",
     "output_type": "stream",
     "text": [
      "16.7 ms ± 19 µs per loop (mean ± std. dev. of 7 runs, 100 loops each)\n"
     ]
    }
   ],
   "source": [
    "%%timeit \n",
    "pd.merge(temp1, temp2, left_index=True, right_index=True, how='inner')"
   ]
  },
  {
   "cell_type": "code",
   "execution_count": 58,
   "id": "520fdab7-467d-4438-a230-1b46642a984c",
   "metadata": {},
   "outputs": [
    {
     "name": "stdout",
     "output_type": "stream",
     "text": [
      "34.6 ms ± 83.8 µs per loop (mean ± std. dev. of 7 runs, 10 loops each)\n"
     ]
    }
   ],
   "source": [
    "%%timeit\n",
    "pd.concat([temp1, temp2], axis=1)"
   ]
  },
  {
   "cell_type": "markdown",
   "id": "83bcf2ab-b3bd-4686-a045-e700dd9a4cfa",
   "metadata": {},
   "source": [
    "## Join between temperatures and PM25"
   ]
  },
  {
   "cell_type": "code",
   "execution_count": 48,
   "id": "0c2c7476-8881-4138-8ec8-359cd6a467a3",
   "metadata": {},
   "outputs": [],
   "source": [
    "df_t = df_t.rename(columns={\"FIPS_tmin\":\"FIPS\"})"
   ]
  },
  {
   "cell_type": "code",
   "execution_count": 53,
   "id": "96756bbc-101f-4f64-b44f-6d0ea4eacd12",
   "metadata": {},
   "outputs": [
    {
     "data": {
      "text/plain": [
       "52543404"
      ]
     },
     "execution_count": 53,
     "metadata": {},
     "output_type": "execute_result"
    }
   ],
   "source": [
    "len(df_t)"
   ]
  },
  {
   "cell_type": "code",
   "execution_count": 54,
   "id": "5bf80c60-e95d-4318-a96e-3114988e5c28",
   "metadata": {},
   "outputs": [],
   "source": [
    "df_t = df_t.reset_index().set_index([\"time\",\"FIPS\"])"
   ]
  },
  {
   "cell_type": "code",
   "execution_count": 55,
   "id": "57c910e7-5667-4e8e-afe0-1147a5a8c38e",
   "metadata": {},
   "outputs": [],
   "source": [
    "df_t = df_t.drop(columns=['locations'])"
   ]
  },
  {
   "cell_type": "code",
   "execution_count": 56,
   "id": "a43d1696-afac-4b50-a6d5-1cbe00a8a9e4",
   "metadata": {},
   "outputs": [
    {
     "data": {
      "text/html": [
       "<div>\n",
       "<style scoped>\n",
       "    .dataframe tbody tr th:only-of-type {\n",
       "        vertical-align: middle;\n",
       "    }\n",
       "\n",
       "    .dataframe tbody tr th {\n",
       "        vertical-align: top;\n",
       "    }\n",
       "\n",
       "    .dataframe thead th {\n",
       "        text-align: right;\n",
       "    }\n",
       "</style>\n",
       "<table border=\"1\" class=\"dataframe\">\n",
       "  <thead>\n",
       "    <tr style=\"text-align: right;\">\n",
       "      <th></th>\n",
       "      <th></th>\n",
       "      <th>MAX_TEMPERATURE_NONE_SPATIAL_NEIGHBORS</th>\n",
       "      <th>MIN_TEMPERATURE_NONE_SPATIAL_NEIGHBORS</th>\n",
       "    </tr>\n",
       "    <tr>\n",
       "      <th>time</th>\n",
       "      <th>FIPS</th>\n",
       "      <th></th>\n",
       "      <th></th>\n",
       "    </tr>\n",
       "  </thead>\n",
       "  <tbody>\n",
       "    <tr>\n",
       "      <th rowspan=\"5\" valign=\"top\">2005-12-31</th>\n",
       "      <th>1765.0</th>\n",
       "      <td>13.350000</td>\n",
       "      <td>7.850000</td>\n",
       "    </tr>\n",
       "    <tr>\n",
       "      <th>1766.0</th>\n",
       "      <td>14.950006</td>\n",
       "      <td>8.249994</td>\n",
       "    </tr>\n",
       "    <tr>\n",
       "      <th>1767.0</th>\n",
       "      <td>14.950006</td>\n",
       "      <td>8.249994</td>\n",
       "    </tr>\n",
       "    <tr>\n",
       "      <th>1768.0</th>\n",
       "      <td>14.950006</td>\n",
       "      <td>8.249994</td>\n",
       "    </tr>\n",
       "    <tr>\n",
       "      <th>1769.0</th>\n",
       "      <td>14.950006</td>\n",
       "      <td>8.249994</td>\n",
       "    </tr>\n",
       "  </tbody>\n",
       "</table>\n",
       "</div>"
      ],
      "text/plain": [
       "                   MAX_TEMPERATURE_NONE_SPATIAL_NEIGHBORS  \\\n",
       "time       FIPS                                             \n",
       "2005-12-31 1765.0                               13.350000   \n",
       "           1766.0                               14.950006   \n",
       "           1767.0                               14.950006   \n",
       "           1768.0                               14.950006   \n",
       "           1769.0                               14.950006   \n",
       "\n",
       "                   MIN_TEMPERATURE_NONE_SPATIAL_NEIGHBORS  \n",
       "time       FIPS                                            \n",
       "2005-12-31 1765.0                                7.850000  \n",
       "           1766.0                                8.249994  \n",
       "           1767.0                                8.249994  \n",
       "           1768.0                                8.249994  \n",
       "           1769.0                                8.249994  "
      ]
     },
     "execution_count": 56,
     "metadata": {},
     "output_type": "execute_result"
    }
   ],
   "source": [
    "df_t.head()"
   ]
  },
  {
   "cell_type": "code",
   "execution_count": 57,
   "id": "e52542c7-d0f0-4e87-9d82-cc7bb91b1c58",
   "metadata": {},
   "outputs": [],
   "source": [
    "df_pm25 = df_pm25.reset_index().set_index([\"time\",\"FIPS\"])"
   ]
  },
  {
   "cell_type": "code",
   "execution_count": 58,
   "id": "528c2b49-5820-42a3-9c17-0a4156473e16",
   "metadata": {},
   "outputs": [],
   "source": [
    "df_pm25 = df_pm25.drop(columns=['locations'])"
   ]
  },
  {
   "cell_type": "code",
   "execution_count": 59,
   "id": "360e3b4a-8a47-49e9-8aa6-7902d71da16f",
   "metadata": {},
   "outputs": [
    {
     "data": {
      "text/html": [
       "<div>\n",
       "<style scoped>\n",
       "    .dataframe tbody tr th:only-of-type {\n",
       "        vertical-align: middle;\n",
       "    }\n",
       "\n",
       "    .dataframe tbody tr th {\n",
       "        vertical-align: top;\n",
       "    }\n",
       "\n",
       "    .dataframe thead th {\n",
       "        text-align: right;\n",
       "    }\n",
       "</style>\n",
       "<table border=\"1\" class=\"dataframe\">\n",
       "  <thead>\n",
       "    <tr style=\"text-align: right;\">\n",
       "      <th></th>\n",
       "      <th></th>\n",
       "      <th>MEAN_NONE_SPATIAL_NEIGHBORS</th>\n",
       "    </tr>\n",
       "    <tr>\n",
       "      <th>time</th>\n",
       "      <th>FIPS</th>\n",
       "      <th></th>\n",
       "    </tr>\n",
       "  </thead>\n",
       "  <tbody>\n",
       "    <tr>\n",
       "      <th rowspan=\"5\" valign=\"top\">2005-12-31</th>\n",
       "      <th>1765.0</th>\n",
       "      <td>4.986000</td>\n",
       "    </tr>\n",
       "    <tr>\n",
       "      <th>1766.0</th>\n",
       "      <td>5.500000</td>\n",
       "    </tr>\n",
       "    <tr>\n",
       "      <th>1767.0</th>\n",
       "      <td>5.486667</td>\n",
       "    </tr>\n",
       "    <tr>\n",
       "      <th>1768.0</th>\n",
       "      <td>5.437778</td>\n",
       "    </tr>\n",
       "    <tr>\n",
       "      <th>1769.0</th>\n",
       "      <td>5.480000</td>\n",
       "    </tr>\n",
       "  </tbody>\n",
       "</table>\n",
       "</div>"
      ],
      "text/plain": [
       "                   MEAN_NONE_SPATIAL_NEIGHBORS\n",
       "time       FIPS                               \n",
       "2005-12-31 1765.0                     4.986000\n",
       "           1766.0                     5.500000\n",
       "           1767.0                     5.486667\n",
       "           1768.0                     5.437778\n",
       "           1769.0                     5.480000"
      ]
     },
     "execution_count": 59,
     "metadata": {},
     "output_type": "execute_result"
    }
   ],
   "source": [
    "df_pm25.head()"
   ]
  },
  {
   "cell_type": "code",
   "execution_count": 60,
   "id": "c04c9af3-2bca-4399-8c09-527f8b56a7e3",
   "metadata": {},
   "outputs": [
    {
     "name": "stderr",
     "output_type": "stream",
     "text": [
      "100%|██████████████████████████████████████████████████████████████████████████████████████████████████████| 3/3 [00:00<00:00,  3.80it/s]\n"
     ]
    }
   ],
   "source": [
    "df = df_t.join(df_pm25).progress_apply(lambda x: x)"
   ]
  },
  {
   "cell_type": "code",
   "execution_count": 61,
   "id": "42598879-094e-46b3-9073-6ddca2ccd04a",
   "metadata": {},
   "outputs": [
    {
     "data": {
      "text/html": [
       "<div>\n",
       "<style scoped>\n",
       "    .dataframe tbody tr th:only-of-type {\n",
       "        vertical-align: middle;\n",
       "    }\n",
       "\n",
       "    .dataframe tbody tr th {\n",
       "        vertical-align: top;\n",
       "    }\n",
       "\n",
       "    .dataframe thead th {\n",
       "        text-align: right;\n",
       "    }\n",
       "</style>\n",
       "<table border=\"1\" class=\"dataframe\">\n",
       "  <thead>\n",
       "    <tr style=\"text-align: right;\">\n",
       "      <th></th>\n",
       "      <th></th>\n",
       "      <th>MAX_TEMPERATURE_NONE_SPATIAL_NEIGHBORS</th>\n",
       "      <th>MIN_TEMPERATURE_NONE_SPATIAL_NEIGHBORS</th>\n",
       "      <th>MEAN_NONE_SPATIAL_NEIGHBORS</th>\n",
       "    </tr>\n",
       "    <tr>\n",
       "      <th>time</th>\n",
       "      <th>FIPS</th>\n",
       "      <th></th>\n",
       "      <th></th>\n",
       "      <th></th>\n",
       "    </tr>\n",
       "  </thead>\n",
       "  <tbody>\n",
       "    <tr>\n",
       "      <th rowspan=\"5\" valign=\"top\">2005-12-31</th>\n",
       "      <th>1765.0</th>\n",
       "      <td>13.350000</td>\n",
       "      <td>7.850000</td>\n",
       "      <td>4.986000</td>\n",
       "    </tr>\n",
       "    <tr>\n",
       "      <th>1766.0</th>\n",
       "      <td>14.950006</td>\n",
       "      <td>8.249994</td>\n",
       "      <td>5.500000</td>\n",
       "    </tr>\n",
       "    <tr>\n",
       "      <th>1767.0</th>\n",
       "      <td>14.950006</td>\n",
       "      <td>8.249994</td>\n",
       "      <td>5.486667</td>\n",
       "    </tr>\n",
       "    <tr>\n",
       "      <th>1768.0</th>\n",
       "      <td>14.950006</td>\n",
       "      <td>8.249994</td>\n",
       "      <td>5.437778</td>\n",
       "    </tr>\n",
       "    <tr>\n",
       "      <th>1769.0</th>\n",
       "      <td>14.950006</td>\n",
       "      <td>8.249994</td>\n",
       "      <td>5.480000</td>\n",
       "    </tr>\n",
       "  </tbody>\n",
       "</table>\n",
       "</div>"
      ],
      "text/plain": [
       "                   MAX_TEMPERATURE_NONE_SPATIAL_NEIGHBORS  \\\n",
       "time       FIPS                                             \n",
       "2005-12-31 1765.0                               13.350000   \n",
       "           1766.0                               14.950006   \n",
       "           1767.0                               14.950006   \n",
       "           1768.0                               14.950006   \n",
       "           1769.0                               14.950006   \n",
       "\n",
       "                   MIN_TEMPERATURE_NONE_SPATIAL_NEIGHBORS  \\\n",
       "time       FIPS                                             \n",
       "2005-12-31 1765.0                                7.850000   \n",
       "           1766.0                                8.249994   \n",
       "           1767.0                                8.249994   \n",
       "           1768.0                                8.249994   \n",
       "           1769.0                                8.249994   \n",
       "\n",
       "                   MEAN_NONE_SPATIAL_NEIGHBORS  \n",
       "time       FIPS                                 \n",
       "2005-12-31 1765.0                     4.986000  \n",
       "           1766.0                     5.500000  \n",
       "           1767.0                     5.486667  \n",
       "           1768.0                     5.437778  \n",
       "           1769.0                     5.480000  "
      ]
     },
     "execution_count": 61,
     "metadata": {},
     "output_type": "execute_result"
    }
   ],
   "source": [
    "df.head()"
   ]
  },
  {
   "cell_type": "code",
   "execution_count": 62,
   "id": "ecb7f211-4a6b-4909-96b4-d76d9010f4e9",
   "metadata": {},
   "outputs": [],
   "source": [
    "df = df.rename(columns={\"MAX_TEMPERATURE_NONE_SPATIAL_NEIGHBORS\":\"tmax\",\n",
    "\"MIN_TEMPERATURE_NONE_SPATIAL_NEIGHBORS\":\"tmin\",\n",
    "\"MEAN_NONE_SPATIAL_NEIGHBORS\":\"pm25\"})"
   ]
  },
  {
   "cell_type": "code",
   "execution_count": 63,
   "id": "e8c9f913-ff2c-4f76-a98f-93dc451b18a1",
   "metadata": {},
   "outputs": [],
   "source": [
    "df.to_parquet(\"outputs/esri_tmin_tmax_pm25_merged.parquet\")"
   ]
  },
  {
   "cell_type": "markdown",
   "id": "df39845b-5878-4e1c-8aa2-4d40a65e0a9e",
   "metadata": {},
   "source": []
  },
  {
   "cell_type": "code",
   "execution_count": null,
   "id": "d9b59782-6768-4af0-868b-994aae632a8e",
   "metadata": {},
   "outputs": [],
   "source": []
  },
  {
   "cell_type": "code",
   "execution_count": null,
   "id": "9faefa80-4f70-4842-a880-2c0e9ce0baff",
   "metadata": {},
   "outputs": [],
   "source": []
  },
  {
   "cell_type": "code",
   "execution_count": null,
   "id": "95452a8d-000b-4d2c-bf42-e7a8572fc113",
   "metadata": {},
   "outputs": [],
   "source": []
  }
 ],
 "metadata": {
  "kernelspec": {
   "display_name": "Python 3 (ipykernel)",
   "language": "python",
   "name": "python3"
  },
  "language_info": {
   "codemirror_mode": {
    "name": "ipython",
    "version": 3
   },
   "file_extension": ".py",
   "mimetype": "text/x-python",
   "name": "python",
   "nbconvert_exporter": "python",
   "pygments_lexer": "ipython3",
   "version": "3.9.12"
  }
 },
 "nbformat": 4,
 "nbformat_minor": 5
}
