{
 "cells": [
  {
   "cell_type": "code",
   "execution_count": null,
   "id": "336519da-4d2e-4de9-8c39-42cc67546ecd",
   "metadata": {},
   "outputs": [],
   "source": [
    "import numpy as np\n",
    "import pandas as pd\n",
    "import xarray as xr\n",
    "from tqdm import tqdm\n",
    "\n",
    "%load_ext lab_black"
   ]
  },
  {
   "cell_type": "markdown",
   "id": "07d6c9ef-b880-4e32-ae6b-be746871244b",
   "metadata": {},
   "source": [
    "## ESRI data\n",
    "\n",
    "The most recent 2020 census tracts are used to aggregate the data. More info about each netCDF is below:\n",
    " \n",
    "- Daily Minimum temperature from 2006-2021  \n",
    "- Daily Maximum temperature from 2006-2021\n",
    "- Daily Relative Humidity from 2006-2021  \n",
    "- Daily Smoke from 2006-2021 \n",
    "- and Daily PM 2.5 data from 2006-2020"
   ]
  },
  {
   "cell_type": "code",
   "execution_count": null,
   "id": "a476f172-7479-43dd-8729-10b2dd8fa9b3",
   "metadata": {},
   "outputs": [],
   "source": [
    "tmax = xr.open_dataset(\"data/esri/MaxTemp_2006_2021_Cali.nc\")"
   ]
  },
  {
   "cell_type": "code",
   "execution_count": null,
   "id": "5d0170cb-ec15-45c2-9bcd-816ba59c12bf",
   "metadata": {
    "tags": []
   },
   "outputs": [],
   "source": [
    "tmax[\"MAX_TEMPERATURE_NONE_SPATIAL_NEIGHBORS\"].plot()"
   ]
  },
  {
   "cell_type": "code",
   "execution_count": null,
   "id": "76da3821-2f44-4fb6-a0f0-2a5c6854e019",
   "metadata": {
    "tags": []
   },
   "outputs": [],
   "source": [
    "tmin = xr.open_dataset(\"data/esri/MinTemp_2006_2021_Cali.nc\")"
   ]
  },
  {
   "cell_type": "code",
   "execution_count": null,
   "id": "876b28e5-81e7-4d2d-9ce4-b56c6d0ad56b",
   "metadata": {
    "tags": []
   },
   "outputs": [],
   "source": [
    "rhum = xr.open_dataset(\"data/esri/RelHum_2006_2021_Cali.nc\")"
   ]
  },
  {
   "cell_type": "markdown",
   "id": "e4199cad-b239-4464-909f-5999a85d7bc5",
   "metadata": {},
   "source": [
    "## Join tmax, tmin and rhum"
   ]
  },
  {
   "cell_type": "code",
   "execution_count": null,
   "id": "ee8d8863-3a41-4082-997d-258a23d99123",
   "metadata": {
    "tags": []
   },
   "outputs": [],
   "source": [
    "df = xr.merge([tmax, tmin[[\"MIN_TEMPERATURE_NONE_SPATIAL_NEIGHBORS\"]]])"
   ]
  },
  {
   "cell_type": "code",
   "execution_count": null,
   "id": "66e2f9f0-bacf-463c-be30-d379b27b4215",
   "metadata": {
    "tags": []
   },
   "outputs": [],
   "source": [
    "df = xr.merge([df, rhum[[\"RELATIVE_HUMIDITY_NONE_SPATIAL_NEIGHBORS\"]]])"
   ]
  },
  {
   "cell_type": "code",
   "execution_count": null,
   "id": "12380552-a76d-40fc-a37b-ff626e14218e",
   "metadata": {
    "tags": []
   },
   "outputs": [],
   "source": [
    "del tmin\n",
    "del tmax\n",
    "del rhum"
   ]
  },
  {
   "cell_type": "code",
   "execution_count": null,
   "id": "3ef7a5cc-94f7-4d0e-b9e1-f12868d7f3b3",
   "metadata": {
    "tags": []
   },
   "outputs": [],
   "source": [
    "df = df[\n",
    "    [\n",
    "        \"FIPS\",\n",
    "        \"MAX_TEMPERATURE_NONE_SPATIAL_NEIGHBORS\",\n",
    "        \"MIN_TEMPERATURE_NONE_SPATIAL_NEIGHBORS\",\n",
    "        \"RELATIVE_HUMIDITY_NONE_SPATIAL_NEIGHBORS\",\n",
    "    ]\n",
    "].to_dataframe()"
   ]
  },
  {
   "cell_type": "code",
   "execution_count": null,
   "id": "37583543-1898-4c1b-96a6-811c38c999fd",
   "metadata": {
    "tags": []
   },
   "outputs": [],
   "source": [
    "df = df.rename(\n",
    "    columns={\n",
    "        \"MAX_TEMPERATURE_NONE_SPATIAL_NEIGHBORS\": \"tmax\",\n",
    "        \"MIN_TEMPERATURE_NONE_SPATIAL_NEIGHBORS\": \"tmin\",\n",
    "        \"RELATIVE_HUMIDITY_NONE_SPATIAL_NEIGHBORS\": \"rhum\",\n",
    "    }\n",
    ")"
   ]
  },
  {
   "cell_type": "code",
   "execution_count": null,
   "id": "c29a8fae-2fb1-41d6-b54a-4b67b5335c5a",
   "metadata": {
    "tags": []
   },
   "outputs": [],
   "source": [
    "df.head()"
   ]
  },
  {
   "cell_type": "code",
   "execution_count": null,
   "id": "f000de13-6966-4391-9b12-dec5d3107488",
   "metadata": {
    "tags": []
   },
   "outputs": [],
   "source": [
    "df = df.loc[(slice(pd.Timestamp(\"2006-01-01\"), None), slice(None)), :]"
   ]
  },
  {
   "cell_type": "code",
   "execution_count": null,
   "id": "8fedc0a5-f951-46ca-841d-f742e83d213b",
   "metadata": {
    "tags": []
   },
   "outputs": [],
   "source": [
    "df = df.loc[(slice(None, pd.Timestamp(\"2020-12-31\")), slice(None)), :]"
   ]
  },
  {
   "cell_type": "code",
   "execution_count": null,
   "id": "353e5996-6e80-4417-98b5-3a7de386581c",
   "metadata": {
    "tags": []
   },
   "outputs": [],
   "source": [
    "df.to_parquet(\"outputs/temp_merge_1.parquet\")"
   ]
  },
  {
   "cell_type": "markdown",
   "id": "f0205078-7fe9-413c-91aa-dee0212c7ac4",
   "metadata": {
    "tags": []
   },
   "source": [
    "## Add wildfire day"
   ]
  },
  {
   "cell_type": "code",
   "execution_count": null,
   "id": "02292928-b92c-46cf-92c5-600ac916d378",
   "metadata": {
    "tags": []
   },
   "outputs": [],
   "source": [
    "df = pd.read_parquet(\"outputs/temp_merge_1.parquet\")"
   ]
  },
  {
   "cell_type": "code",
   "execution_count": null,
   "id": "e7375bbf-034f-47f0-903a-2fd3b96a1134",
   "metadata": {
    "tags": []
   },
   "outputs": [],
   "source": [
    "len(df)"
   ]
  },
  {
   "cell_type": "code",
   "execution_count": null,
   "id": "e34c58bf-cca4-45cd-b1f8-66d27de1dcbe",
   "metadata": {
    "tags": []
   },
   "outputs": [],
   "source": [
    "df = df.reset_index()"
   ]
  },
  {
   "cell_type": "code",
   "execution_count": null,
   "id": "b2503ebc-c3a0-44a6-a2e8-8f6aea83033b",
   "metadata": {
    "tags": []
   },
   "outputs": [],
   "source": [
    "df = df.groupby(by=[\"time\", \"lat\", \"lon\"]).first()"
   ]
  },
  {
   "cell_type": "code",
   "execution_count": null,
   "id": "a1a7424b-e780-43bd-bad7-be936758763f",
   "metadata": {
    "tags": []
   },
   "outputs": [],
   "source": [
    "wf = xr.open_dataset(\"data/esri/WildfirePresence_2006_2021_CA_daily.nc\")"
   ]
  },
  {
   "cell_type": "code",
   "execution_count": null,
   "id": "b81fcd20-cf28-4e6a-8469-d27ed1d2abcf",
   "metadata": {
    "tags": []
   },
   "outputs": [],
   "source": [
    "# \"FIPS\" start at 0, 1, 2, 3,..."
   ]
  },
  {
   "cell_type": "code",
   "execution_count": null,
   "id": "630bfea7-d670-494f-bfc3-d1cd85f012b8",
   "metadata": {
    "tags": []
   },
   "outputs": [],
   "source": [
    "wf = wf[\"FIREDAY_NONE_ZEROS\"].to_dataframe()"
   ]
  },
  {
   "cell_type": "code",
   "execution_count": null,
   "id": "5e665a08-f864-455f-845a-7c45301a5d2a",
   "metadata": {
    "tags": []
   },
   "outputs": [],
   "source": [
    "wf = wf.rename(columns={\"FIREDAY_NONE_ZEROS\": \"wfday\"})"
   ]
  },
  {
   "cell_type": "code",
   "execution_count": null,
   "id": "5f8467ce-9aad-4d74-bf13-131000269401",
   "metadata": {
    "tags": []
   },
   "outputs": [],
   "source": [
    "len(wf)"
   ]
  },
  {
   "cell_type": "code",
   "execution_count": null,
   "id": "3d255193-6014-46c6-bc69-1d681cb76bfc",
   "metadata": {
    "tags": []
   },
   "outputs": [],
   "source": [
    "wf = wf.groupby(by=[\"time\", \"lat\", \"lon\"]).first()"
   ]
  },
  {
   "cell_type": "code",
   "execution_count": null,
   "id": "9347e439-5223-4e35-946c-df002a4dcb07",
   "metadata": {
    "tags": []
   },
   "outputs": [],
   "source": [
    "tqdm.pandas()"
   ]
  },
  {
   "cell_type": "code",
   "execution_count": null,
   "id": "bbe9e5bc-b76e-405c-be62-def3e6c2dd1b",
   "metadata": {
    "tags": []
   },
   "outputs": [],
   "source": [
    "df = df.join(wf, rsuffix=\"_wf\").progress_apply(lambda x: x)"
   ]
  },
  {
   "cell_type": "code",
   "execution_count": null,
   "id": "edf1656b-a93e-4273-a51d-8496c0683145",
   "metadata": {
    "tags": []
   },
   "outputs": [],
   "source": [
    "df.to_parquet(\"outputs/temp_merge_2.parquet\")"
   ]
  },
  {
   "cell_type": "code",
   "execution_count": null,
   "id": "cc4f9f96-8b70-4239-93bc-bd4eedc16dc9",
   "metadata": {
    "tags": []
   },
   "outputs": [],
   "source": [
    "len(df)"
   ]
  },
  {
   "cell_type": "code",
   "execution_count": null,
   "id": "8aa3d145-6e4d-4f44-9c8a-8476dbd98b0a",
   "metadata": {
    "tags": []
   },
   "outputs": [],
   "source": [
    "df.isna().sum()"
   ]
  },
  {
   "cell_type": "markdown",
   "id": "ea18f227-d75c-4764-93bd-9afcf9190c2b",
   "metadata": {},
   "source": [
    "## Add PM 2.5"
   ]
  },
  {
   "cell_type": "code",
   "execution_count": null,
   "id": "47b71a2f-3f8a-4fbc-a1a5-9d3be4344bcb",
   "metadata": {
    "tags": []
   },
   "outputs": [],
   "source": [
    "pm25 = xr.open_dataset(\"data/esri/PM25_Nature_2006_2020_Cali.nc\")"
   ]
  },
  {
   "cell_type": "code",
   "execution_count": null,
   "id": "94d191c3-c86a-452a-9302-483e15cfc250",
   "metadata": {},
   "outputs": [],
   "source": [
    "df_pm25 = pm25[[\"MEAN_NONE_SPATIAL_NEIGHBORS\"]].to_dataframe()"
   ]
  },
  {
   "cell_type": "code",
   "execution_count": null,
   "id": "ecb7f211-4a6b-4909-96b4-d76d9010f4e9",
   "metadata": {},
   "outputs": [],
   "source": [
    "df_pm25 = df_pm25.rename(columns={\"MEAN_NONE_SPATIAL_NEIGHBORS\": \"pm25\"})"
   ]
  },
  {
   "cell_type": "code",
   "execution_count": null,
   "id": "3bc27ec0-f981-4f9f-91dc-fbb8d4d529ed",
   "metadata": {
    "tags": []
   },
   "outputs": [],
   "source": [
    "df_pm25 = df_pm25.reset_index()"
   ]
  },
  {
   "cell_type": "code",
   "execution_count": null,
   "id": "4e1fc1fc-1201-480d-b65e-4b105a080775",
   "metadata": {
    "tags": []
   },
   "outputs": [],
   "source": [
    "df_pm25 = df_pm25.groupby(by=[\"time\", \"lat\", \"lon\"]).first()"
   ]
  },
  {
   "cell_type": "code",
   "execution_count": null,
   "id": "d5544d88-6952-4fca-a5c7-b5304299c139",
   "metadata": {
    "tags": []
   },
   "outputs": [],
   "source": [
    "df_pm25.head()"
   ]
  },
  {
   "cell_type": "code",
   "execution_count": null,
   "id": "bfdefa14-2678-4258-9ff4-f64b0e3cc7ad",
   "metadata": {
    "tags": []
   },
   "outputs": [],
   "source": [
    "df.head()"
   ]
  },
  {
   "cell_type": "code",
   "execution_count": null,
   "id": "9cc9ffd5-44d8-4d71-9309-ec3da9b7494a",
   "metadata": {
    "tags": []
   },
   "outputs": [],
   "source": [
    "df = df.join(df_pm25, rsuffix=\"_pm25\").progress_apply(lambda x: x)"
   ]
  },
  {
   "cell_type": "code",
   "execution_count": null,
   "id": "938bdbaf-0ed3-4333-829a-d5c8f6baef2a",
   "metadata": {
    "tags": []
   },
   "outputs": [],
   "source": [
    "df.to_parquet(\"outputs/temp_merge_3.parquet\")"
   ]
  },
  {
   "cell_type": "code",
   "execution_count": null,
   "id": "bb904723-9cb8-4850-8b79-28135fa20ecd",
   "metadata": {
    "tags": []
   },
   "outputs": [],
   "source": [
    "df.isna().sum()"
   ]
  },
  {
   "cell_type": "code",
   "execution_count": null,
   "id": "2a42ca5c-78ff-4ff2-b930-28378cb24239",
   "metadata": {
    "tags": []
   },
   "outputs": [],
   "source": [
    "df.head()"
   ]
  },
  {
   "cell_type": "code",
   "execution_count": null,
   "id": "947325c3-e769-4797-b431-12e2c293a49f",
   "metadata": {
    "tags": []
   },
   "outputs": [],
   "source": [
    "len(df.FIPS.unique())"
   ]
  },
  {
   "cell_type": "code",
   "execution_count": null,
   "id": "e60c8226-6243-4f79-842b-699405e10590",
   "metadata": {
    "tags": []
   },
   "outputs": [],
   "source": [
    "df = df.reset_index()"
   ]
  },
  {
   "cell_type": "markdown",
   "id": "c61462f2-4d61-4195-905a-e59380dba392",
   "metadata": {},
   "source": [
    "## Add crosswalk"
   ]
  },
  {
   "cell_type": "code",
   "execution_count": null,
   "id": "8ab32e53-f648-43ca-94ca-37f9145dbd4f",
   "metadata": {
    "tags": []
   },
   "outputs": [],
   "source": [
    "df = pd.read_parquet(\"outputs/temp_merge_3.parquet\")"
   ]
  },
  {
   "cell_type": "code",
   "execution_count": null,
   "id": "dc833d4e-f0cf-4c6d-9c89-97994af940bd",
   "metadata": {
    "tags": []
   },
   "outputs": [],
   "source": [
    "df.head()"
   ]
  },
  {
   "cell_type": "code",
   "execution_count": null,
   "id": "3a09565e-9b8c-47f4-af19-4cbe7ecabfa1",
   "metadata": {
    "tags": []
   },
   "outputs": [],
   "source": [
    "df = df.reset_index()"
   ]
  },
  {
   "cell_type": "code",
   "execution_count": null,
   "id": "764ae365-911c-42f9-9343-53b049cad571",
   "metadata": {
    "tags": []
   },
   "outputs": [],
   "source": [
    "import geopandas as gpd"
   ]
  },
  {
   "cell_type": "code",
   "execution_count": null,
   "id": "b1e3716f-fbca-4a70-b6cb-f892f569c620",
   "metadata": {
    "tags": []
   },
   "outputs": [],
   "source": [
    "gdf = gpd.read_file(\"data/esri/FIPSMapping.gdb\")"
   ]
  },
  {
   "cell_type": "code",
   "execution_count": null,
   "id": "6f74110d-2fd3-4578-a9a9-497bd431703d",
   "metadata": {
    "tags": []
   },
   "outputs": [],
   "source": [
    "df.FIPS = df.FIPS.astype(int)"
   ]
  },
  {
   "cell_type": "code",
   "execution_count": null,
   "id": "990acc29-36be-4ac9-9219-b25951f7b856",
   "metadata": {
    "tags": []
   },
   "outputs": [],
   "source": [
    "gdf = gdf.drop(columns=[\"Shape_Length\", \"Shape_Area\"])"
   ]
  },
  {
   "cell_type": "code",
   "execution_count": null,
   "id": "e545142c-0df8-40e0-8d10-430e7a7e7b53",
   "metadata": {
    "tags": []
   },
   "outputs": [],
   "source": [
    "df = df.merge(gdf, on=\"FIPS\")"
   ]
  },
  {
   "cell_type": "code",
   "execution_count": null,
   "id": "73c49d70-bb9f-4c47-858b-76cf2c6cadb8",
   "metadata": {
    "tags": []
   },
   "outputs": [],
   "source": [
    "len(df)"
   ]
  },
  {
   "cell_type": "code",
   "execution_count": null,
   "id": "f6f5d573-df47-44fa-a629-8f083ca01e40",
   "metadata": {
    "tags": []
   },
   "outputs": [],
   "source": [
    "df.isna().sum()"
   ]
  },
  {
   "cell_type": "code",
   "execution_count": null,
   "id": "92227ef0-75e1-49f1-b9c6-cd5e300e1fca",
   "metadata": {
    "tags": []
   },
   "outputs": [],
   "source": [
    "type(df)"
   ]
  },
  {
   "cell_type": "code",
   "execution_count": null,
   "id": "7cdccc0e-45bd-4162-8a9a-bd13c3fed08f",
   "metadata": {
    "tags": []
   },
   "outputs": [],
   "source": [
    "df = df.drop(columns=\"geometry\")"
   ]
  },
  {
   "cell_type": "code",
   "execution_count": null,
   "id": "71746151-63ec-4a6b-9b1e-ca928f3e97cf",
   "metadata": {
    "tags": []
   },
   "outputs": [],
   "source": [
    "df.to_parquet(\"outputs/temp_merge_4.parquet\")"
   ]
  },
  {
   "cell_type": "markdown",
   "id": "146288b1-27f0-461f-8550-e3e454b761ec",
   "metadata": {},
   "source": [
    "## Join smoke PM2.5"
   ]
  },
  {
   "cell_type": "code",
   "execution_count": null,
   "id": "74f56b79-ce34-4acc-a7fe-401b6ce87678",
   "metadata": {
    "tags": []
   },
   "outputs": [],
   "source": [
    "# smoke_df = pd.read_parquet(\"outputs/smoke_pm25_predicted_with_fips.parquet\")"
   ]
  },
  {
   "cell_type": "code",
   "execution_count": null,
   "id": "33a947f5-3b26-4ce7-ad9d-499b5c83356b",
   "metadata": {
    "tags": []
   },
   "outputs": [],
   "source": [
    "smoke_df = pd.read_csv(\n",
    "    \"data/smoke_pm/smoke_pm_all_time_2020_map.csv\", parse_dates=[\"date\"]\n",
    ")"
   ]
  },
  {
   "cell_type": "code",
   "execution_count": null,
   "id": "9cb24aec-b5dc-48a4-a8af-ae76cd5960b0",
   "metadata": {
    "tags": []
   },
   "outputs": [],
   "source": [
    "smoke_df.head()"
   ]
  },
  {
   "cell_type": "code",
   "execution_count": null,
   "id": "70738985-90bf-4628-8dcf-8d838dcb55bd",
   "metadata": {
    "tags": []
   },
   "outputs": [],
   "source": [
    "df.head()"
   ]
  },
  {
   "cell_type": "code",
   "execution_count": null,
   "id": "3dd20720-c1af-4bdd-a77d-f236f758f4ff",
   "metadata": {
    "tags": []
   },
   "outputs": [],
   "source": [
    "df[\"FIPS_1\"] = df[\"FIPS_1\"].astype(int)"
   ]
  },
  {
   "cell_type": "code",
   "execution_count": null,
   "id": "9ee3442f-1cf9-4a37-bf63-64a8aa09a6e2",
   "metadata": {
    "tags": []
   },
   "outputs": [],
   "source": [
    "merged = df.merge(smoke_df, left_on=[\"FIPS_1\", \"time\"], right_on=[\"GEOID\", \"date\"])"
   ]
  },
  {
   "cell_type": "code",
   "execution_count": null,
   "id": "50e154bc-61ae-4f02-84d6-569dc06efb91",
   "metadata": {
    "tags": []
   },
   "outputs": [],
   "source": [
    "merged.head()"
   ]
  },
  {
   "cell_type": "code",
   "execution_count": null,
   "id": "93a66a3d-fb93-4245-9a82-64a0a0a8b185",
   "metadata": {
    "tags": []
   },
   "outputs": [],
   "source": [
    "len(merged)"
   ]
  },
  {
   "cell_type": "code",
   "execution_count": null,
   "id": "72c3f98c-39d4-4e10-85e8-bc1bd7da54c8",
   "metadata": {
    "tags": []
   },
   "outputs": [],
   "source": [
    "merged = merged.drop(\n",
    "    columns=[\"lat\", \"lon\", \"locations\", \"FIPS\", \"locations_pm25\", \"date\"]\n",
    ")"
   ]
  },
  {
   "cell_type": "code",
   "execution_count": null,
   "id": "8f805680-aaca-4f26-8a69-be777cb9c632",
   "metadata": {
    "tags": []
   },
   "outputs": [],
   "source": [
    "merged.to_parquet(\"outputs/final_merge_5.parquet\")"
   ]
  },
  {
   "cell_type": "code",
   "execution_count": null,
   "id": "373ee9e3-5d59-47b2-976f-2f7d70e8d0b9",
   "metadata": {
    "tags": []
   },
   "outputs": [],
   "source": [
    "merged.isna().sum()"
   ]
  },
  {
   "cell_type": "code",
   "execution_count": null,
   "id": "f175e0fd-dcef-4685-ad93-6d0f03b8d879",
   "metadata": {
    "tags": []
   },
   "outputs": [],
   "source": [
    "gdf = gpd.read_file(\"data/esri/FIPSMapping.gdb\")"
   ]
  },
  {
   "cell_type": "code",
   "execution_count": null,
   "id": "955f2b66-9579-47b8-bc8c-426952cab063",
   "metadata": {
    "tags": []
   },
   "outputs": [],
   "source": [
    "gdf.plot()"
   ]
  },
  {
   "cell_type": "code",
   "execution_count": null,
   "id": "eb244e40-273b-4d48-98ac-0a8f2605c891",
   "metadata": {
    "tags": []
   },
   "outputs": [],
   "source": [
    "temp = merged.groupby(\"FIPS\").sum()"
   ]
  },
  {
   "cell_type": "code",
   "execution_count": null,
   "id": "8279c94f-5dda-4f35-beeb-f03c95776681",
   "metadata": {
    "tags": []
   },
   "outputs": [],
   "source": [
    "temp = temp.reset_index()"
   ]
  },
  {
   "cell_type": "code",
   "execution_count": null,
   "id": "5e545317-9e06-44b4-9d1e-3a819299e55c",
   "metadata": {
    "tags": []
   },
   "outputs": [],
   "source": [
    "temp.dtypes"
   ]
  },
  {
   "cell_type": "code",
   "execution_count": null,
   "id": "fe4883f6-fa81-4469-b6bc-f6a7223e92e2",
   "metadata": {
    "tags": []
   },
   "outputs": [],
   "source": [
    "gdf.dtypes"
   ]
  },
  {
   "cell_type": "code",
   "execution_count": null,
   "id": "5ea72775-7f94-4f83-af21-92fa3ff6c9bc",
   "metadata": {
    "tags": []
   },
   "outputs": [],
   "source": [
    "temp.FIPS = temp.FIPS.astype(int)"
   ]
  },
  {
   "cell_type": "code",
   "execution_count": null,
   "id": "f2fc140f-51ff-422d-8001-1a81c1ddab62",
   "metadata": {
    "tags": []
   },
   "outputs": [],
   "source": [
    "gdf = gdf.merge(temp, left_on=\"FIPS\", right_on=\"FIPS\")"
   ]
  },
  {
   "cell_type": "code",
   "execution_count": null,
   "id": "9b4a63af-0c02-4a85-aaa2-409393856467",
   "metadata": {
    "tags": []
   },
   "outputs": [],
   "source": [
    "fig, ax = plt.subplots(1, 1)\n",
    "gdf.plot(column=\"tmax\", ax=ax, legend=True, linewidth=0, cmap=\"viridis_r\")\n",
    "\n",
    "plt.show()"
   ]
  },
  {
   "cell_type": "code",
   "execution_count": null,
   "id": "91c788e8-0724-49c1-b9e6-0298ee3716be",
   "metadata": {
    "tags": []
   },
   "outputs": [],
   "source": [
    "import matplotlib.pyplot as plt"
   ]
  },
  {
   "cell_type": "code",
   "execution_count": null,
   "id": "519b9cdf-4080-499d-bd6b-a28ab2a8d4b6",
   "metadata": {
    "tags": []
   },
   "outputs": [],
   "source": [
    "fig, ax = plt.subplots(1, 1)\n",
    "gdf.plot(column=\"smoke_pm\", ax=ax, legend=True, linewidth=0, cmap=\"viridis_r\")\n",
    "\n",
    "plt.show()"
   ]
  },
  {
   "cell_type": "code",
   "execution_count": null,
   "id": "81e40d6c-a2cb-4c58-8442-de98f1dbd440",
   "metadata": {},
   "outputs": [],
   "source": []
  },
  {
   "cell_type": "code",
   "execution_count": null,
   "id": "69ca07de-fdfe-434f-8101-9ba743a3d1ed",
   "metadata": {},
   "outputs": [],
   "source": []
  }
 ],
 "metadata": {
  "kernelspec": {
   "display_name": "Python 3 (ipykernel)",
   "language": "python",
   "name": "python3"
  },
  "language_info": {
   "codemirror_mode": {
    "name": "ipython",
    "version": 3
   },
   "file_extension": ".py",
   "mimetype": "text/x-python",
   "name": "python",
   "nbconvert_exporter": "python",
   "pygments_lexer": "ipython3",
   "version": "3.10.11"
  }
 },
 "nbformat": 4,
 "nbformat_minor": 5
}
