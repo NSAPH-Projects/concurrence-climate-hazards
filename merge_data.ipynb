{
 "cells": [
  {
   "cell_type": "code",
   "execution_count": 1,
   "id": "336519da-4d2e-4de9-8c39-42cc67546ecd",
   "metadata": {},
   "outputs": [],
   "source": [
    "import numpy as np\n",
    "import pandas as pd\n",
    "import xarray as xr\n",
    "from tqdm import tqdm"
   ]
  },
  {
   "cell_type": "code",
   "execution_count": 2,
   "id": "a476f172-7479-43dd-8729-10b2dd8fa9b3",
   "metadata": {},
   "outputs": [],
   "source": [
    "tmax = xr.open_dataset('data/esri/MaxTemp_2006_2021_Cali.nc')"
   ]
  },
  {
   "cell_type": "code",
   "execution_count": 8,
   "id": "e0d22d16-55ca-4065-89e9-469019d1e167",
   "metadata": {},
   "outputs": [
    {
     "data": {
      "text/html": [
       "<div><svg style=\"position: absolute; width: 0; height: 0; overflow: hidden\">\n",
       "<defs>\n",
       "<symbol id=\"icon-database\" viewBox=\"0 0 32 32\">\n",
       "<path d=\"M16 0c-8.837 0-16 2.239-16 5v4c0 2.761 7.163 5 16 5s16-2.239 16-5v-4c0-2.761-7.163-5-16-5z\"></path>\n",
       "<path d=\"M16 17c-8.837 0-16-2.239-16-5v6c0 2.761 7.163 5 16 5s16-2.239 16-5v-6c0 2.761-7.163 5-16 5z\"></path>\n",
       "<path d=\"M16 26c-8.837 0-16-2.239-16-5v6c0 2.761 7.163 5 16 5s16-2.239 16-5v-6c0 2.761-7.163 5-16 5z\"></path>\n",
       "</symbol>\n",
       "<symbol id=\"icon-file-text2\" viewBox=\"0 0 32 32\">\n",
       "<path d=\"M28.681 7.159c-0.694-0.947-1.662-2.053-2.724-3.116s-2.169-2.030-3.116-2.724c-1.612-1.182-2.393-1.319-2.841-1.319h-15.5c-1.378 0-2.5 1.121-2.5 2.5v27c0 1.378 1.122 2.5 2.5 2.5h23c1.378 0 2.5-1.122 2.5-2.5v-19.5c0-0.448-0.137-1.23-1.319-2.841zM24.543 5.457c0.959 0.959 1.712 1.825 2.268 2.543h-4.811v-4.811c0.718 0.556 1.584 1.309 2.543 2.268zM28 29.5c0 0.271-0.229 0.5-0.5 0.5h-23c-0.271 0-0.5-0.229-0.5-0.5v-27c0-0.271 0.229-0.5 0.5-0.5 0 0 15.499-0 15.5 0v7c0 0.552 0.448 1 1 1h7v19.5z\"></path>\n",
       "<path d=\"M23 26h-14c-0.552 0-1-0.448-1-1s0.448-1 1-1h14c0.552 0 1 0.448 1 1s-0.448 1-1 1z\"></path>\n",
       "<path d=\"M23 22h-14c-0.552 0-1-0.448-1-1s0.448-1 1-1h14c0.552 0 1 0.448 1 1s-0.448 1-1 1z\"></path>\n",
       "<path d=\"M23 18h-14c-0.552 0-1-0.448-1-1s0.448-1 1-1h14c0.552 0 1 0.448 1 1s-0.448 1-1 1z\"></path>\n",
       "</symbol>\n",
       "</defs>\n",
       "</svg>\n",
       "<style>/* CSS stylesheet for displaying xarray objects in jupyterlab.\n",
       " *\n",
       " */\n",
       "\n",
       ":root {\n",
       "  --xr-font-color0: var(--jp-content-font-color0, rgba(0, 0, 0, 1));\n",
       "  --xr-font-color2: var(--jp-content-font-color2, rgba(0, 0, 0, 0.54));\n",
       "  --xr-font-color3: var(--jp-content-font-color3, rgba(0, 0, 0, 0.38));\n",
       "  --xr-border-color: var(--jp-border-color2, #e0e0e0);\n",
       "  --xr-disabled-color: var(--jp-layout-color3, #bdbdbd);\n",
       "  --xr-background-color: var(--jp-layout-color0, white);\n",
       "  --xr-background-color-row-even: var(--jp-layout-color1, white);\n",
       "  --xr-background-color-row-odd: var(--jp-layout-color2, #eeeeee);\n",
       "}\n",
       "\n",
       "html[theme=dark],\n",
       "body[data-theme=dark],\n",
       "body.vscode-dark {\n",
       "  --xr-font-color0: rgba(255, 255, 255, 1);\n",
       "  --xr-font-color2: rgba(255, 255, 255, 0.54);\n",
       "  --xr-font-color3: rgba(255, 255, 255, 0.38);\n",
       "  --xr-border-color: #1F1F1F;\n",
       "  --xr-disabled-color: #515151;\n",
       "  --xr-background-color: #111111;\n",
       "  --xr-background-color-row-even: #111111;\n",
       "  --xr-background-color-row-odd: #313131;\n",
       "}\n",
       "\n",
       ".xr-wrap {\n",
       "  display: block !important;\n",
       "  min-width: 300px;\n",
       "  max-width: 700px;\n",
       "}\n",
       "\n",
       ".xr-text-repr-fallback {\n",
       "  /* fallback to plain text repr when CSS is not injected (untrusted notebook) */\n",
       "  display: none;\n",
       "}\n",
       "\n",
       ".xr-header {\n",
       "  padding-top: 6px;\n",
       "  padding-bottom: 6px;\n",
       "  margin-bottom: 4px;\n",
       "  border-bottom: solid 1px var(--xr-border-color);\n",
       "}\n",
       "\n",
       ".xr-header > div,\n",
       ".xr-header > ul {\n",
       "  display: inline;\n",
       "  margin-top: 0;\n",
       "  margin-bottom: 0;\n",
       "}\n",
       "\n",
       ".xr-obj-type,\n",
       ".xr-array-name {\n",
       "  margin-left: 2px;\n",
       "  margin-right: 10px;\n",
       "}\n",
       "\n",
       ".xr-obj-type {\n",
       "  color: var(--xr-font-color2);\n",
       "}\n",
       "\n",
       ".xr-sections {\n",
       "  padding-left: 0 !important;\n",
       "  display: grid;\n",
       "  grid-template-columns: 150px auto auto 1fr 20px 20px;\n",
       "}\n",
       "\n",
       ".xr-section-item {\n",
       "  display: contents;\n",
       "}\n",
       "\n",
       ".xr-section-item input {\n",
       "  display: none;\n",
       "}\n",
       "\n",
       ".xr-section-item input + label {\n",
       "  color: var(--xr-disabled-color);\n",
       "}\n",
       "\n",
       ".xr-section-item input:enabled + label {\n",
       "  cursor: pointer;\n",
       "  color: var(--xr-font-color2);\n",
       "}\n",
       "\n",
       ".xr-section-item input:enabled + label:hover {\n",
       "  color: var(--xr-font-color0);\n",
       "}\n",
       "\n",
       ".xr-section-summary {\n",
       "  grid-column: 1;\n",
       "  color: var(--xr-font-color2);\n",
       "  font-weight: 500;\n",
       "}\n",
       "\n",
       ".xr-section-summary > span {\n",
       "  display: inline-block;\n",
       "  padding-left: 0.5em;\n",
       "}\n",
       "\n",
       ".xr-section-summary-in:disabled + label {\n",
       "  color: var(--xr-font-color2);\n",
       "}\n",
       "\n",
       ".xr-section-summary-in + label:before {\n",
       "  display: inline-block;\n",
       "  content: '►';\n",
       "  font-size: 11px;\n",
       "  width: 15px;\n",
       "  text-align: center;\n",
       "}\n",
       "\n",
       ".xr-section-summary-in:disabled + label:before {\n",
       "  color: var(--xr-disabled-color);\n",
       "}\n",
       "\n",
       ".xr-section-summary-in:checked + label:before {\n",
       "  content: '▼';\n",
       "}\n",
       "\n",
       ".xr-section-summary-in:checked + label > span {\n",
       "  display: none;\n",
       "}\n",
       "\n",
       ".xr-section-summary,\n",
       ".xr-section-inline-details {\n",
       "  padding-top: 4px;\n",
       "  padding-bottom: 4px;\n",
       "}\n",
       "\n",
       ".xr-section-inline-details {\n",
       "  grid-column: 2 / -1;\n",
       "}\n",
       "\n",
       ".xr-section-details {\n",
       "  display: none;\n",
       "  grid-column: 1 / -1;\n",
       "  margin-bottom: 5px;\n",
       "}\n",
       "\n",
       ".xr-section-summary-in:checked ~ .xr-section-details {\n",
       "  display: contents;\n",
       "}\n",
       "\n",
       ".xr-array-wrap {\n",
       "  grid-column: 1 / -1;\n",
       "  display: grid;\n",
       "  grid-template-columns: 20px auto;\n",
       "}\n",
       "\n",
       ".xr-array-wrap > label {\n",
       "  grid-column: 1;\n",
       "  vertical-align: top;\n",
       "}\n",
       "\n",
       ".xr-preview {\n",
       "  color: var(--xr-font-color3);\n",
       "}\n",
       "\n",
       ".xr-array-preview,\n",
       ".xr-array-data {\n",
       "  padding: 0 5px !important;\n",
       "  grid-column: 2;\n",
       "}\n",
       "\n",
       ".xr-array-data,\n",
       ".xr-array-in:checked ~ .xr-array-preview {\n",
       "  display: none;\n",
       "}\n",
       "\n",
       ".xr-array-in:checked ~ .xr-array-data,\n",
       ".xr-array-preview {\n",
       "  display: inline-block;\n",
       "}\n",
       "\n",
       ".xr-dim-list {\n",
       "  display: inline-block !important;\n",
       "  list-style: none;\n",
       "  padding: 0 !important;\n",
       "  margin: 0;\n",
       "}\n",
       "\n",
       ".xr-dim-list li {\n",
       "  display: inline-block;\n",
       "  padding: 0;\n",
       "  margin: 0;\n",
       "}\n",
       "\n",
       ".xr-dim-list:before {\n",
       "  content: '(';\n",
       "}\n",
       "\n",
       ".xr-dim-list:after {\n",
       "  content: ')';\n",
       "}\n",
       "\n",
       ".xr-dim-list li:not(:last-child):after {\n",
       "  content: ',';\n",
       "  padding-right: 5px;\n",
       "}\n",
       "\n",
       ".xr-has-index {\n",
       "  font-weight: bold;\n",
       "}\n",
       "\n",
       ".xr-var-list,\n",
       ".xr-var-item {\n",
       "  display: contents;\n",
       "}\n",
       "\n",
       ".xr-var-item > div,\n",
       ".xr-var-item label,\n",
       ".xr-var-item > .xr-var-name span {\n",
       "  background-color: var(--xr-background-color-row-even);\n",
       "  margin-bottom: 0;\n",
       "}\n",
       "\n",
       ".xr-var-item > .xr-var-name:hover span {\n",
       "  padding-right: 5px;\n",
       "}\n",
       "\n",
       ".xr-var-list > li:nth-child(odd) > div,\n",
       ".xr-var-list > li:nth-child(odd) > label,\n",
       ".xr-var-list > li:nth-child(odd) > .xr-var-name span {\n",
       "  background-color: var(--xr-background-color-row-odd);\n",
       "}\n",
       "\n",
       ".xr-var-name {\n",
       "  grid-column: 1;\n",
       "}\n",
       "\n",
       ".xr-var-dims {\n",
       "  grid-column: 2;\n",
       "}\n",
       "\n",
       ".xr-var-dtype {\n",
       "  grid-column: 3;\n",
       "  text-align: right;\n",
       "  color: var(--xr-font-color2);\n",
       "}\n",
       "\n",
       ".xr-var-preview {\n",
       "  grid-column: 4;\n",
       "}\n",
       "\n",
       ".xr-index-preview {\n",
       "  grid-column: 2 / 5;\n",
       "  color: var(--xr-font-color2);\n",
       "}\n",
       "\n",
       ".xr-var-name,\n",
       ".xr-var-dims,\n",
       ".xr-var-dtype,\n",
       ".xr-preview,\n",
       ".xr-attrs dt {\n",
       "  white-space: nowrap;\n",
       "  overflow: hidden;\n",
       "  text-overflow: ellipsis;\n",
       "  padding-right: 10px;\n",
       "}\n",
       "\n",
       ".xr-var-name:hover,\n",
       ".xr-var-dims:hover,\n",
       ".xr-var-dtype:hover,\n",
       ".xr-attrs dt:hover {\n",
       "  overflow: visible;\n",
       "  width: auto;\n",
       "  z-index: 1;\n",
       "}\n",
       "\n",
       ".xr-var-attrs,\n",
       ".xr-var-data,\n",
       ".xr-index-data {\n",
       "  display: none;\n",
       "  background-color: var(--xr-background-color) !important;\n",
       "  padding-bottom: 5px !important;\n",
       "}\n",
       "\n",
       ".xr-var-attrs-in:checked ~ .xr-var-attrs,\n",
       ".xr-var-data-in:checked ~ .xr-var-data,\n",
       ".xr-index-data-in:checked ~ .xr-index-data {\n",
       "  display: block;\n",
       "}\n",
       "\n",
       ".xr-var-data > table {\n",
       "  float: right;\n",
       "}\n",
       "\n",
       ".xr-var-name span,\n",
       ".xr-var-data,\n",
       ".xr-index-name div,\n",
       ".xr-index-data,\n",
       ".xr-attrs {\n",
       "  padding-left: 25px !important;\n",
       "}\n",
       "\n",
       ".xr-attrs,\n",
       ".xr-var-attrs,\n",
       ".xr-var-data,\n",
       ".xr-index-data {\n",
       "  grid-column: 1 / -1;\n",
       "}\n",
       "\n",
       "dl.xr-attrs {\n",
       "  padding: 0;\n",
       "  margin: 0;\n",
       "  display: grid;\n",
       "  grid-template-columns: 125px auto;\n",
       "}\n",
       "\n",
       ".xr-attrs dt,\n",
       ".xr-attrs dd {\n",
       "  padding: 0;\n",
       "  margin: 0;\n",
       "  float: left;\n",
       "  padding-right: 10px;\n",
       "  width: auto;\n",
       "}\n",
       "\n",
       ".xr-attrs dt {\n",
       "  font-weight: normal;\n",
       "  grid-column: 1;\n",
       "}\n",
       "\n",
       ".xr-attrs dt:hover span {\n",
       "  display: inline-block;\n",
       "  background: var(--xr-background-color);\n",
       "  padding-right: 10px;\n",
       "}\n",
       "\n",
       ".xr-attrs dd {\n",
       "  grid-column: 2;\n",
       "  white-space: pre-wrap;\n",
       "  word-break: break-all;\n",
       "}\n",
       "\n",
       ".xr-icon-database,\n",
       ".xr-icon-file-text2,\n",
       ".xr-no-icon {\n",
       "  display: inline-block;\n",
       "  vertical-align: middle;\n",
       "  width: 1em;\n",
       "  height: 1.5em !important;\n",
       "  stroke-width: 0;\n",
       "  stroke: currentColor;\n",
       "  fill: currentColor;\n",
       "}\n",
       "</style><pre class='xr-text-repr-fallback'>&lt;xarray.Dataset&gt;\n",
       "Dimensions:                                              (locations: 8991,\n",
       "                                                          time: 5844)\n",
       "Coordinates:\n",
       "    lat                                                  (locations) float64 ...\n",
       "    lon                                                  (locations) float64 ...\n",
       "  * time                                                 (time) datetime64[ns] ...\n",
       "Dimensions without coordinates: locations\n",
       "Data variables: (12/13)\n",
       "    projection                                           int32 ...\n",
       "    x                                                    (locations) float64 ...\n",
       "    y                                                    (locations) float64 ...\n",
       "    poly_breaks                                          (locations) int32 ...\n",
       "    poly_coords                                          (locations) float64 ...\n",
       "    time_step_ID                                         (time, locations) float64 ...\n",
       "    ...                                                   ...\n",
       "    FIPS                                                 (time, locations) float64 ...\n",
       "    MAX_TEMPERATURE_NONE_SPATIAL_NEIGHBORS               (time, locations) float64 ...\n",
       "    MAX_TEMPERATURE_NONE_SPATIAL_NEIGHBORS_TREND_ZSCORE  (locations) float64 ...\n",
       "    MAX_TEMPERATURE_NONE_SPATIAL_NEIGHBORS_TREND_PVALUE  (locations) float64 ...\n",
       "    MAX_TEMPERATURE_NONE_SPATIAL_NEIGHBORS_TREND_BIN     (locations) float64 ...\n",
       "    PREDICTION_BINARY_MASK                               (time, locations) float64 ...\n",
       "Attributes: (12/28)\n",
       "    subsetType:                 SUBSET\n",
       "    geometry_unit:              METER\n",
       "    convert_factor:             1.0\n",
       "    alignment:                  END_TIME\n",
       "    reference_time:             \n",
       "    time_size:                  1\n",
       "    ...                         ...\n",
       "    esri_pe_string:             PROJCS[&quot;USA_Contiguous_Albers_Equal_Area_Coni...\n",
       "    projection_authority_code:  102003\n",
       "    raw_pe_string:              PROJCS[&quot;USA_Contiguous_Albers_Equal_Area_Coni...\n",
       "    location_id_field:          FIPS\n",
       "    rate_info:                  \n",
       "    agg_shape_type:             POLYGON</pre><div class='xr-wrap' style='display:none'><div class='xr-header'><div class='xr-obj-type'>xarray.Dataset</div></div><ul class='xr-sections'><li class='xr-section-item'><input id='section-d3826a35-b40f-4233-b30a-355e82307921' class='xr-section-summary-in' type='checkbox' disabled ><label for='section-d3826a35-b40f-4233-b30a-355e82307921' class='xr-section-summary'  title='Expand/collapse section'>Dimensions:</label><div class='xr-section-inline-details'><ul class='xr-dim-list'><li><span>locations</span>: 8991</li><li><span class='xr-has-index'>time</span>: 5844</li></ul></div><div class='xr-section-details'></div></li><li class='xr-section-item'><input id='section-98914786-e942-4801-ae12-43cabae88389' class='xr-section-summary-in' type='checkbox'  checked><label for='section-98914786-e942-4801-ae12-43cabae88389' class='xr-section-summary' >Coordinates: <span>(3)</span></label><div class='xr-section-inline-details'></div><div class='xr-section-details'><ul class='xr-var-list'><li class='xr-var-item'><div class='xr-var-name'><span>lat</span></div><div class='xr-var-dims'>(locations)</div><div class='xr-var-dtype'>float64</div><div class='xr-var-preview xr-preview'>37.87 37.85 37.84 ... 39.47 39.37</div><input id='attrs-dc9aefc6-23b0-4d5d-b040-c1e30dc130bd' class='xr-var-attrs-in' type='checkbox' ><label for='attrs-dc9aefc6-23b0-4d5d-b040-c1e30dc130bd' title='Show/Hide attributes'><svg class='icon xr-icon-file-text2'><use xlink:href='#icon-file-text2'></use></svg></label><input id='data-20433164-6b66-498d-9a08-8d65e9d3e942' class='xr-var-data-in' type='checkbox'><label for='data-20433164-6b66-498d-9a08-8d65e9d3e942' title='Show/Hide data repr'><svg class='icon xr-icon-database'><use xlink:href='#icon-database'></use></svg></label><div class='xr-var-attrs'><dl class='xr-attrs'><dt><span>type :</span></dt><dd>dimension</dd><dt><span>long_name :</span></dt><dd>latitude coordinate</dd><dt><span>standard_name :</span></dt><dd>latitude</dd><dt><span>units :</span></dt><dd>degrees_north</dd></dl></div><div class='xr-var-data'><pre>array([37.867656, 37.848138, 37.840584, ..., 39.291833, 39.465359, 39.367748])</pre></div></li><li class='xr-var-item'><div class='xr-var-name'><span>lon</span></div><div class='xr-var-dims'>(locations)</div><div class='xr-var-dtype'>float64</div><div class='xr-var-preview xr-preview'>-122.2 -122.2 ... -121.2 -121.2</div><input id='attrs-6ce9d2bb-27ad-41f7-b566-7c84f2818293' class='xr-var-attrs-in' type='checkbox' ><label for='attrs-6ce9d2bb-27ad-41f7-b566-7c84f2818293' title='Show/Hide attributes'><svg class='icon xr-icon-file-text2'><use xlink:href='#icon-file-text2'></use></svg></label><input id='data-0297c27a-9952-43fb-a654-60e08c5fed1d' class='xr-var-data-in' type='checkbox'><label for='data-0297c27a-9952-43fb-a654-60e08c5fed1d' title='Show/Hide data repr'><svg class='icon xr-icon-database'><use xlink:href='#icon-database'></use></svg></label><div class='xr-var-attrs'><dl class='xr-attrs'><dt><span>type :</span></dt><dd>dimension</dd><dt><span>long_name :</span></dt><dd>longitude coordinate</dd><dt><span>standard_name :</span></dt><dd>longitude</dd><dt><span>units :</span></dt><dd>degrees_east</dd></dl></div><div class='xr-var-data'><pre>array([-122.231882, -122.249591, -122.254478, ..., -121.329852, -121.16791 ,\n",
       "       -121.240208])</pre></div></li><li class='xr-var-item'><div class='xr-var-name'><span class='xr-has-index'>time</span></div><div class='xr-var-dims'>(time)</div><div class='xr-var-dtype'>datetime64[ns]</div><div class='xr-var-preview xr-preview'>2005-12-31 ... 2021-12-30</div><input id='attrs-866cc091-905f-4132-afcb-0752593ad9d5' class='xr-var-attrs-in' type='checkbox' ><label for='attrs-866cc091-905f-4132-afcb-0752593ad9d5' title='Show/Hide attributes'><svg class='icon xr-icon-file-text2'><use xlink:href='#icon-file-text2'></use></svg></label><input id='data-68bb0acb-f423-4b06-a684-4b5fe5cc477c' class='xr-var-data-in' type='checkbox'><label for='data-68bb0acb-f423-4b06-a684-4b5fe5cc477c' title='Show/Hide data repr'><svg class='icon xr-icon-database'><use xlink:href='#icon-database'></use></svg></label><div class='xr-var-attrs'><dl class='xr-attrs'><dt><span>long_name :</span></dt><dd>time</dd><dt><span>standard_name :</span></dt><dd>time</dd><dt><span>_CoordinateAxisType :</span></dt><dd>Time</dd><dt><span>_ChunkSize :</span></dt><dd>1</dd><dt><span>type :</span></dt><dd>dimension</dd></dl></div><div class='xr-var-data'><pre>array([&#x27;2005-12-31T00:00:00.000000000&#x27;, &#x27;2006-01-01T00:00:00.000000000&#x27;,\n",
       "       &#x27;2006-01-02T00:00:00.000000000&#x27;, ..., &#x27;2021-12-28T00:00:00.000000000&#x27;,\n",
       "       &#x27;2021-12-29T00:00:00.000000000&#x27;, &#x27;2021-12-30T00:00:00.000000000&#x27;],\n",
       "      dtype=&#x27;datetime64[ns]&#x27;)</pre></div></li></ul></div></li><li class='xr-section-item'><input id='section-d9a2af50-0a88-4446-a7c0-27f0e37c0633' class='xr-section-summary-in' type='checkbox'  checked><label for='section-d9a2af50-0a88-4446-a7c0-27f0e37c0633' class='xr-section-summary' >Data variables: <span>(13)</span></label><div class='xr-section-inline-details'></div><div class='xr-section-details'><ul class='xr-var-list'><li class='xr-var-item'><div class='xr-var-name'><span>projection</span></div><div class='xr-var-dims'>()</div><div class='xr-var-dtype'>int32</div><div class='xr-var-preview xr-preview'>...</div><input id='attrs-7c9627cf-ccd8-4116-9bc3-7d4509a0d3c2' class='xr-var-attrs-in' type='checkbox' ><label for='attrs-7c9627cf-ccd8-4116-9bc3-7d4509a0d3c2' title='Show/Hide attributes'><svg class='icon xr-icon-file-text2'><use xlink:href='#icon-file-text2'></use></svg></label><input id='data-5db2a9d5-d047-4ae7-9805-15802a40d9cf' class='xr-var-data-in' type='checkbox'><label for='data-5db2a9d5-d047-4ae7-9805-15802a40d9cf' title='Show/Hide data repr'><svg class='icon xr-icon-database'><use xlink:href='#icon-database'></use></svg></label><div class='xr-var-attrs'><dl class='xr-attrs'><dt><span>grid_mapping_name :</span></dt><dd>albers_conical_equal_area</dd><dt><span>esri_pe_string :</span></dt><dd>PROJCS[&quot;USA_Contiguous_Albers_Equal_Area_Conic&quot;,GEOGCS[&quot;GCS_North_American_1983&quot;,DATUM[&quot;D_North_American_1983&quot;,SPHEROID[&quot;GRS_1980&quot;,6378137.0,298.257222101]],PRIMEM[&quot;Greenwich&quot;,0.0],UNIT[&quot;Degree&quot;,0.0174532925199433]],PROJECTION[&quot;Albers&quot;],PARAMETER[&quot;False_Easting&quot;,0.0],PARAMETER[&quot;False_Northing&quot;,0.0],PARAMETER[&quot;Central_Meridian&quot;,-96.0],PARAMETER[&quot;Standard_Parallel_1&quot;,29.5],PARAMETER[&quot;Standard_Parallel_2&quot;,45.5],PARAMETER[&quot;Latitude_Of_Origin&quot;,37.5],UNIT[&quot;Meter&quot;,1.0]];-16901100 -8579000 10000;-100000 10000;-100000 10000;0.001;0.001;0.001;IsHighPrecision</dd><dt><span>standard_parallel :</span></dt><dd>29.5</dd><dt><span>longitude_of_central_meridian :</span></dt><dd>-96.0</dd><dt><span>latitude_of_projection_origin :</span></dt><dd>0.0</dd><dt><span>false_easting :</span></dt><dd>0.0</dd><dt><span>false_northing :</span></dt><dd>0.0</dd></dl></div><div class='xr-var-data'><pre>[1 values with dtype=int32]</pre></div></li><li class='xr-var-item'><div class='xr-var-name'><span>x</span></div><div class='xr-var-dims'>(locations)</div><div class='xr-var-dtype'>float64</div><div class='xr-var-preview xr-preview'>...</div><input id='attrs-b3317b8c-3cd9-432c-b284-60e165669751' class='xr-var-attrs-in' type='checkbox' ><label for='attrs-b3317b8c-3cd9-432c-b284-60e165669751' title='Show/Hide attributes'><svg class='icon xr-icon-file-text2'><use xlink:href='#icon-file-text2'></use></svg></label><input id='data-44cc4ec9-e817-40b9-b08f-def89add647a' class='xr-var-data-in' type='checkbox'><label for='data-44cc4ec9-e817-40b9-b08f-def89add647a' title='Show/Hide data repr'><svg class='icon xr-icon-database'><use xlink:href='#icon-database'></use></svg></label><div class='xr-var-attrs'><dl class='xr-attrs'><dt><span>type :</span></dt><dd>dimension</dd><dt><span>long_name :</span></dt><dd>x coordinate of projection</dd><dt><span>standard_name :</span></dt><dd>projection_x_coordinate</dd><dt><span>units :</span></dt><dd>METER</dd></dl></div><div class='xr-var-data'><pre>[8991 values with dtype=float64]</pre></div></li><li class='xr-var-item'><div class='xr-var-name'><span>y</span></div><div class='xr-var-dims'>(locations)</div><div class='xr-var-dtype'>float64</div><div class='xr-var-preview xr-preview'>...</div><input id='attrs-fc093690-e3a6-4fb0-a4bb-b008651aa401' class='xr-var-attrs-in' type='checkbox' ><label for='attrs-fc093690-e3a6-4fb0-a4bb-b008651aa401' title='Show/Hide attributes'><svg class='icon xr-icon-file-text2'><use xlink:href='#icon-file-text2'></use></svg></label><input id='data-9d3abd28-2c2d-4608-b318-ad287c667e5f' class='xr-var-data-in' type='checkbox'><label for='data-9d3abd28-2c2d-4608-b318-ad287c667e5f' title='Show/Hide data repr'><svg class='icon xr-icon-database'><use xlink:href='#icon-database'></use></svg></label><div class='xr-var-attrs'><dl class='xr-attrs'><dt><span>type :</span></dt><dd>dimension</dd><dt><span>long_name :</span></dt><dd>y coordinate of projection</dd><dt><span>standard_name :</span></dt><dd>projection_y_coordinate</dd><dt><span>units :</span></dt><dd>METER</dd></dl></div><div class='xr-var-data'><pre>[8991 values with dtype=float64]</pre></div></li><li class='xr-var-item'><div class='xr-var-name'><span>poly_breaks</span></div><div class='xr-var-dims'>(locations)</div><div class='xr-var-dtype'>int32</div><div class='xr-var-preview xr-preview'>...</div><input id='attrs-21f66906-bdaa-43af-ae52-a8e43dc441be' class='xr-var-attrs-in' type='checkbox' disabled><label for='attrs-21f66906-bdaa-43af-ae52-a8e43dc441be' title='Show/Hide attributes'><svg class='icon xr-icon-file-text2'><use xlink:href='#icon-file-text2'></use></svg></label><input id='data-9055cb1b-f5a2-4ea1-bed3-7d2794f7e560' class='xr-var-data-in' type='checkbox'><label for='data-9055cb1b-f5a2-4ea1-bed3-7d2794f7e560' title='Show/Hide data repr'><svg class='icon xr-icon-database'><use xlink:href='#icon-database'></use></svg></label><div class='xr-var-attrs'><dl class='xr-attrs'></dl></div><div class='xr-var-data'><pre>[8991 values with dtype=int32]</pre></div></li><li class='xr-var-item'><div class='xr-var-name'><span>poly_coords</span></div><div class='xr-var-dims'>(locations)</div><div class='xr-var-dtype'>float64</div><div class='xr-var-preview xr-preview'>...</div><input id='attrs-21b493a3-584e-45b4-9ce6-481a0aa4ad56' class='xr-var-attrs-in' type='checkbox' disabled><label for='attrs-21b493a3-584e-45b4-9ce6-481a0aa4ad56' title='Show/Hide attributes'><svg class='icon xr-icon-file-text2'><use xlink:href='#icon-file-text2'></use></svg></label><input id='data-1569713d-d507-471e-801b-757e697f071e' class='xr-var-data-in' type='checkbox'><label for='data-1569713d-d507-471e-801b-757e697f071e' title='Show/Hide data repr'><svg class='icon xr-icon-database'><use xlink:href='#icon-database'></use></svg></label><div class='xr-var-attrs'><dl class='xr-attrs'></dl></div><div class='xr-var-data'><pre>[8991 values with dtype=float64]</pre></div></li><li class='xr-var-item'><div class='xr-var-name'><span>time_step_ID</span></div><div class='xr-var-dims'>(time, locations)</div><div class='xr-var-dtype'>float64</div><div class='xr-var-preview xr-preview'>...</div><input id='attrs-38caeaf0-5d00-41b1-a6b6-36214303ac79' class='xr-var-attrs-in' type='checkbox' ><label for='attrs-38caeaf0-5d00-41b1-a6b6-36214303ac79' title='Show/Hide attributes'><svg class='icon xr-icon-file-text2'><use xlink:href='#icon-file-text2'></use></svg></label><input id='data-905ccb41-32d0-49f5-aff2-42f94aab67da' class='xr-var-data-in' type='checkbox'><label for='data-905ccb41-32d0-49f5-aff2-42f94aab67da' title='Show/Hide data repr'><svg class='icon xr-icon-database'><use xlink:href='#icon-database'></use></svg></label><div class='xr-var-attrs'><dl class='xr-attrs'><dt><span>long_name :</span></dt><dd>time_step_ID</dd><dt><span>standard_name :</span></dt><dd>time_step_ID</dd><dt><span>grid_mapping :</span></dt><dd>projection</dd><dt><span>esri_pe_string :</span></dt><dd>PROJCS[&quot;USA_Contiguous_Albers_Equal_Area_Conic&quot;,GEOGCS[&quot;GCS_North_American_1983&quot;,DATUM[&quot;D_North_American_1983&quot;,SPHEROID[&quot;GRS_1980&quot;,6378137.0,298.257222101]],PRIMEM[&quot;Greenwich&quot;,0.0],UNIT[&quot;Degree&quot;,0.0174532925199433]],PROJECTION[&quot;Albers&quot;],PARAMETER[&quot;False_Easting&quot;,0.0],PARAMETER[&quot;False_Northing&quot;,0.0],PARAMETER[&quot;Central_Meridian&quot;,-96.0],PARAMETER[&quot;Standard_Parallel_1&quot;,29.5],PARAMETER[&quot;Standard_Parallel_2&quot;,45.5],PARAMETER[&quot;Latitude_Of_Origin&quot;,37.5],UNIT[&quot;Meter&quot;,1.0]];-16901100 -8579000 10000;-100000 10000;-100000 10000;0.001;0.001;0.001;IsHighPrecision</dd><dt><span>type :</span></dt><dd>variable</dd></dl></div><div class='xr-var-data'><pre>[52543404 values with dtype=float64]</pre></div></li><li class='xr-var-item'><div class='xr-var-name'><span>location_ID</span></div><div class='xr-var-dims'>(time, locations)</div><div class='xr-var-dtype'>float64</div><div class='xr-var-preview xr-preview'>...</div><input id='attrs-41da8834-7b32-4f31-bfa9-26d5c4370c88' class='xr-var-attrs-in' type='checkbox' ><label for='attrs-41da8834-7b32-4f31-bfa9-26d5c4370c88' title='Show/Hide attributes'><svg class='icon xr-icon-file-text2'><use xlink:href='#icon-file-text2'></use></svg></label><input id='data-48b769b2-7208-4dc9-9f7c-f97fc3d075f3' class='xr-var-data-in' type='checkbox'><label for='data-48b769b2-7208-4dc9-9f7c-f97fc3d075f3' title='Show/Hide data repr'><svg class='icon xr-icon-database'><use xlink:href='#icon-database'></use></svg></label><div class='xr-var-attrs'><dl class='xr-attrs'><dt><span>long_name :</span></dt><dd>location_ID</dd><dt><span>standard_name :</span></dt><dd>location_ID</dd><dt><span>grid_mapping :</span></dt><dd>projection</dd><dt><span>esri_pe_string :</span></dt><dd>PROJCS[&quot;USA_Contiguous_Albers_Equal_Area_Conic&quot;,GEOGCS[&quot;GCS_North_American_1983&quot;,DATUM[&quot;D_North_American_1983&quot;,SPHEROID[&quot;GRS_1980&quot;,6378137.0,298.257222101]],PRIMEM[&quot;Greenwich&quot;,0.0],UNIT[&quot;Degree&quot;,0.0174532925199433]],PROJECTION[&quot;Albers&quot;],PARAMETER[&quot;False_Easting&quot;,0.0],PARAMETER[&quot;False_Northing&quot;,0.0],PARAMETER[&quot;Central_Meridian&quot;,-96.0],PARAMETER[&quot;Standard_Parallel_1&quot;,29.5],PARAMETER[&quot;Standard_Parallel_2&quot;,45.5],PARAMETER[&quot;Latitude_Of_Origin&quot;,37.5],UNIT[&quot;Meter&quot;,1.0]];-16901100 -8579000 10000;-100000 10000;-100000 10000;0.001;0.001;0.001;IsHighPrecision</dd><dt><span>type :</span></dt><dd>variable</dd></dl></div><div class='xr-var-data'><pre>[52543404 values with dtype=float64]</pre></div></li><li class='xr-var-item'><div class='xr-var-name'><span>FIPS</span></div><div class='xr-var-dims'>(time, locations)</div><div class='xr-var-dtype'>float64</div><div class='xr-var-preview xr-preview'>1.765e+03 1.766e+03 ... 1.088e+04</div><input id='attrs-561e51e4-52bb-4af2-9312-6dd714cb7dd0' class='xr-var-attrs-in' type='checkbox' ><label for='attrs-561e51e4-52bb-4af2-9312-6dd714cb7dd0' title='Show/Hide attributes'><svg class='icon xr-icon-file-text2'><use xlink:href='#icon-file-text2'></use></svg></label><input id='data-ee50980a-7ff6-4c19-9841-84c3302b3162' class='xr-var-data-in' type='checkbox'><label for='data-ee50980a-7ff6-4c19-9841-84c3302b3162' title='Show/Hide data repr'><svg class='icon xr-icon-database'><use xlink:href='#icon-database'></use></svg></label><div class='xr-var-attrs'><dl class='xr-attrs'><dt><span>long_name :</span></dt><dd>FIPS</dd><dt><span>standard_name :</span></dt><dd>FIPS</dd><dt><span>grid_mapping :</span></dt><dd>projection</dd><dt><span>esri_pe_string :</span></dt><dd>PROJCS[&quot;USA_Contiguous_Albers_Equal_Area_Conic&quot;,GEOGCS[&quot;GCS_North_American_1983&quot;,DATUM[&quot;D_North_American_1983&quot;,SPHEROID[&quot;GRS_1980&quot;,6378137.0,298.257222101]],PRIMEM[&quot;Greenwich&quot;,0.0],UNIT[&quot;Degree&quot;,0.0174532925199433]],PROJECTION[&quot;Albers&quot;],PARAMETER[&quot;False_Easting&quot;,0.0],PARAMETER[&quot;False_Northing&quot;,0.0],PARAMETER[&quot;Central_Meridian&quot;,-96.0],PARAMETER[&quot;Standard_Parallel_1&quot;,29.5],PARAMETER[&quot;Standard_Parallel_2&quot;,45.5],PARAMETER[&quot;Latitude_Of_Origin&quot;,37.5],UNIT[&quot;Meter&quot;,1.0]];-16901100 -8579000 10000;-100000 10000;-100000 10000;0.001;0.001;0.001;IsHighPrecision</dd><dt><span>type :</span></dt><dd>variable</dd></dl></div><div class='xr-var-data'><pre>array([[ 1765.,  1766.,  1767., ..., 10874., 10875., 10876.],\n",
       "       [ 1765.,  1766.,  1767., ..., 10874., 10875., 10876.],\n",
       "       [ 1765.,  1766.,  1767., ..., 10874., 10875., 10876.],\n",
       "       ...,\n",
       "       [ 1765.,  1766.,  1767., ..., 10874., 10875., 10876.],\n",
       "       [ 1765.,  1766.,  1767., ..., 10874., 10875., 10876.],\n",
       "       [ 1765.,  1766.,  1767., ..., 10874., 10875., 10876.]])</pre></div></li><li class='xr-var-item'><div class='xr-var-name'><span>MAX_TEMPERATURE_NONE_SPATIAL_NEIGHBORS</span></div><div class='xr-var-dims'>(time, locations)</div><div class='xr-var-dtype'>float64</div><div class='xr-var-preview xr-preview'>13.35 14.95 14.95 ... 6.998 9.217</div><input id='attrs-cc56a965-57e6-425f-a279-f2d5275cdeda' class='xr-var-attrs-in' type='checkbox' ><label for='attrs-cc56a965-57e6-425f-a279-f2d5275cdeda' title='Show/Hide attributes'><svg class='icon xr-icon-file-text2'><use xlink:href='#icon-file-text2'></use></svg></label><input id='data-3d4a3eab-8abf-49e7-8e18-23db667735f5' class='xr-var-data-in' type='checkbox'><label for='data-3d4a3eab-8abf-49e7-8e18-23db667735f5' title='Show/Hide data repr'><svg class='icon xr-icon-database'><use xlink:href='#icon-database'></use></svg></label><div class='xr-var-attrs'><dl class='xr-attrs'><dt><span>long_name :</span></dt><dd>MAX_TEMPERATURE_NONE_SPATIAL_NEIGHBORS</dd><dt><span>standard_name :</span></dt><dd>MAX_TEMPERATURE_NONE_SPATIAL_NEIGHBORS</dd><dt><span>grid_mapping :</span></dt><dd>projection</dd><dt><span>esri_pe_string :</span></dt><dd>PROJCS[&quot;USA_Contiguous_Albers_Equal_Area_Conic&quot;,GEOGCS[&quot;GCS_North_American_1983&quot;,DATUM[&quot;D_North_American_1983&quot;,SPHEROID[&quot;GRS_1980&quot;,6378137.0,298.257222101]],PRIMEM[&quot;Greenwich&quot;,0.0],UNIT[&quot;Degree&quot;,0.0174532925199433]],PROJECTION[&quot;Albers&quot;],PARAMETER[&quot;False_Easting&quot;,0.0],PARAMETER[&quot;False_Northing&quot;,0.0],PARAMETER[&quot;Central_Meridian&quot;,-96.0],PARAMETER[&quot;Standard_Parallel_1&quot;,29.5],PARAMETER[&quot;Standard_Parallel_2&quot;,45.5],PARAMETER[&quot;Latitude_Of_Origin&quot;,37.5],UNIT[&quot;Meter&quot;,1.0]];-16901100 -8579000 10000;-100000 10000;-100000 10000;0.001;0.001;0.001;IsHighPrecision</dd><dt><span>type :</span></dt><dd>variable</dd></dl></div><div class='xr-var-data'><pre>array([[13.35    , 14.950006, 14.950006, ..., 11.583335,  9.598276, 10.949996],\n",
       "       [11.149988, 13.35    , 13.35    , ..., 11.791666, 10.129311, 11.35    ],\n",
       "       [14.35    , 15.550013, 15.550013, ..., 12.441665,  9.408621, 11.350005],\n",
       "       ...,\n",
       "       [ 8.35    ,  9.749994,  9.749994, ...,  5.966664,  3.581034,  4.783334],\n",
       "       [11.050013, 12.35    , 12.35    , ..., 10.791668,  7.287931,  9.300002],\n",
       "       [ 9.35    , 11.450006, 11.450006, ..., 10.525001,  6.998275,  9.216674]])</pre></div></li><li class='xr-var-item'><div class='xr-var-name'><span>MAX_TEMPERATURE_NONE_SPATIAL_NEIGHBORS_TREND_ZSCORE</span></div><div class='xr-var-dims'>(locations)</div><div class='xr-var-dtype'>float64</div><div class='xr-var-preview xr-preview'>...</div><input id='attrs-2e3fc015-0e59-48e4-8c6d-9ccad481f2df' class='xr-var-attrs-in' type='checkbox' ><label for='attrs-2e3fc015-0e59-48e4-8c6d-9ccad481f2df' title='Show/Hide attributes'><svg class='icon xr-icon-file-text2'><use xlink:href='#icon-file-text2'></use></svg></label><input id='data-2ad797df-c204-4fd8-8ef1-705a82fc3a48' class='xr-var-data-in' type='checkbox'><label for='data-2ad797df-c204-4fd8-8ef1-705a82fc3a48' title='Show/Hide data repr'><svg class='icon xr-icon-database'><use xlink:href='#icon-database'></use></svg></label><div class='xr-var-attrs'><dl class='xr-attrs'><dt><span>long_name :</span></dt><dd>MAX_TEMPERATURE_NONE_SPATIAL_NEIGHBORS_TREND_ZSCORE</dd><dt><span>standard_name :</span></dt><dd>MAX_TEMPERATURE_NONE_SPATIAL_NEIGHBORS_TREND_ZSCORE</dd><dt><span>grid_mapping :</span></dt><dd>projection</dd><dt><span>esri_pe_string :</span></dt><dd>PROJCS[&quot;USA_Contiguous_Albers_Equal_Area_Conic&quot;,GEOGCS[&quot;GCS_North_American_1983&quot;,DATUM[&quot;D_North_American_1983&quot;,SPHEROID[&quot;GRS_1980&quot;,6378137.0,298.257222101]],PRIMEM[&quot;Greenwich&quot;,0.0],UNIT[&quot;Degree&quot;,0.0174532925199433]],PROJECTION[&quot;Albers&quot;],PARAMETER[&quot;False_Easting&quot;,0.0],PARAMETER[&quot;False_Northing&quot;,0.0],PARAMETER[&quot;Central_Meridian&quot;,-96.0],PARAMETER[&quot;Standard_Parallel_1&quot;,29.5],PARAMETER[&quot;Standard_Parallel_2&quot;,45.5],PARAMETER[&quot;Latitude_Of_Origin&quot;,37.5],UNIT[&quot;Meter&quot;,1.0]];-16901100 -8579000 10000;-100000 10000;-100000 10000;0.001;0.001;0.001;IsHighPrecision</dd><dt><span>type :</span></dt><dd>variable</dd></dl></div><div class='xr-var-data'><pre>[8991 values with dtype=float64]</pre></div></li><li class='xr-var-item'><div class='xr-var-name'><span>MAX_TEMPERATURE_NONE_SPATIAL_NEIGHBORS_TREND_PVALUE</span></div><div class='xr-var-dims'>(locations)</div><div class='xr-var-dtype'>float64</div><div class='xr-var-preview xr-preview'>...</div><input id='attrs-83941877-7069-48a1-9d9b-0a726de2d7eb' class='xr-var-attrs-in' type='checkbox' ><label for='attrs-83941877-7069-48a1-9d9b-0a726de2d7eb' title='Show/Hide attributes'><svg class='icon xr-icon-file-text2'><use xlink:href='#icon-file-text2'></use></svg></label><input id='data-1790b601-3d57-4fd3-94c9-9b9fb8c35d5d' class='xr-var-data-in' type='checkbox'><label for='data-1790b601-3d57-4fd3-94c9-9b9fb8c35d5d' title='Show/Hide data repr'><svg class='icon xr-icon-database'><use xlink:href='#icon-database'></use></svg></label><div class='xr-var-attrs'><dl class='xr-attrs'><dt><span>long_name :</span></dt><dd>MAX_TEMPERATURE_NONE_SPATIAL_NEIGHBORS_TREND_PVALUE</dd><dt><span>standard_name :</span></dt><dd>MAX_TEMPERATURE_NONE_SPATIAL_NEIGHBORS_TREND_PVALUE</dd><dt><span>grid_mapping :</span></dt><dd>projection</dd><dt><span>esri_pe_string :</span></dt><dd>PROJCS[&quot;USA_Contiguous_Albers_Equal_Area_Conic&quot;,GEOGCS[&quot;GCS_North_American_1983&quot;,DATUM[&quot;D_North_American_1983&quot;,SPHEROID[&quot;GRS_1980&quot;,6378137.0,298.257222101]],PRIMEM[&quot;Greenwich&quot;,0.0],UNIT[&quot;Degree&quot;,0.0174532925199433]],PROJECTION[&quot;Albers&quot;],PARAMETER[&quot;False_Easting&quot;,0.0],PARAMETER[&quot;False_Northing&quot;,0.0],PARAMETER[&quot;Central_Meridian&quot;,-96.0],PARAMETER[&quot;Standard_Parallel_1&quot;,29.5],PARAMETER[&quot;Standard_Parallel_2&quot;,45.5],PARAMETER[&quot;Latitude_Of_Origin&quot;,37.5],UNIT[&quot;Meter&quot;,1.0]];-16901100 -8579000 10000;-100000 10000;-100000 10000;0.001;0.001;0.001;IsHighPrecision</dd><dt><span>type :</span></dt><dd>variable</dd></dl></div><div class='xr-var-data'><pre>[8991 values with dtype=float64]</pre></div></li><li class='xr-var-item'><div class='xr-var-name'><span>MAX_TEMPERATURE_NONE_SPATIAL_NEIGHBORS_TREND_BIN</span></div><div class='xr-var-dims'>(locations)</div><div class='xr-var-dtype'>float64</div><div class='xr-var-preview xr-preview'>...</div><input id='attrs-6a0e37e8-d650-424c-812d-d437a8955964' class='xr-var-attrs-in' type='checkbox' ><label for='attrs-6a0e37e8-d650-424c-812d-d437a8955964' title='Show/Hide attributes'><svg class='icon xr-icon-file-text2'><use xlink:href='#icon-file-text2'></use></svg></label><input id='data-b4883926-3b6a-4f92-aee9-e1cc7b1f14b4' class='xr-var-data-in' type='checkbox'><label for='data-b4883926-3b6a-4f92-aee9-e1cc7b1f14b4' title='Show/Hide data repr'><svg class='icon xr-icon-database'><use xlink:href='#icon-database'></use></svg></label><div class='xr-var-attrs'><dl class='xr-attrs'><dt><span>long_name :</span></dt><dd>MAX_TEMPERATURE_NONE_SPATIAL_NEIGHBORS_TREND_BIN</dd><dt><span>standard_name :</span></dt><dd>MAX_TEMPERATURE_NONE_SPATIAL_NEIGHBORS_TREND_BIN</dd><dt><span>grid_mapping :</span></dt><dd>projection</dd><dt><span>esri_pe_string :</span></dt><dd>PROJCS[&quot;USA_Contiguous_Albers_Equal_Area_Conic&quot;,GEOGCS[&quot;GCS_North_American_1983&quot;,DATUM[&quot;D_North_American_1983&quot;,SPHEROID[&quot;GRS_1980&quot;,6378137.0,298.257222101]],PRIMEM[&quot;Greenwich&quot;,0.0],UNIT[&quot;Degree&quot;,0.0174532925199433]],PROJECTION[&quot;Albers&quot;],PARAMETER[&quot;False_Easting&quot;,0.0],PARAMETER[&quot;False_Northing&quot;,0.0],PARAMETER[&quot;Central_Meridian&quot;,-96.0],PARAMETER[&quot;Standard_Parallel_1&quot;,29.5],PARAMETER[&quot;Standard_Parallel_2&quot;,45.5],PARAMETER[&quot;Latitude_Of_Origin&quot;,37.5],UNIT[&quot;Meter&quot;,1.0]];-16901100 -8579000 10000;-100000 10000;-100000 10000;0.001;0.001;0.001;IsHighPrecision</dd><dt><span>type :</span></dt><dd>variable</dd></dl></div><div class='xr-var-data'><pre>[8991 values with dtype=float64]</pre></div></li><li class='xr-var-item'><div class='xr-var-name'><span>PREDICTION_BINARY_MASK</span></div><div class='xr-var-dims'>(time, locations)</div><div class='xr-var-dtype'>float64</div><div class='xr-var-preview xr-preview'>...</div><input id='attrs-518b5053-40cc-4059-853a-924f2fdc98bf' class='xr-var-attrs-in' type='checkbox' ><label for='attrs-518b5053-40cc-4059-853a-924f2fdc98bf' title='Show/Hide attributes'><svg class='icon xr-icon-file-text2'><use xlink:href='#icon-file-text2'></use></svg></label><input id='data-26ea3e66-7cd0-4673-b0fc-8198a2729c7b' class='xr-var-data-in' type='checkbox'><label for='data-26ea3e66-7cd0-4673-b0fc-8198a2729c7b' title='Show/Hide data repr'><svg class='icon xr-icon-database'><use xlink:href='#icon-database'></use></svg></label><div class='xr-var-attrs'><dl class='xr-attrs'><dt><span>long_name :</span></dt><dd>PREDICTION_BINARY_MASK</dd><dt><span>standard_name :</span></dt><dd>PREDICTION_BINARY_MASK</dd><dt><span>grid_mapping :</span></dt><dd>projection</dd><dt><span>esri_pe_string :</span></dt><dd>PROJCS[&quot;USA_Contiguous_Albers_Equal_Area_Conic&quot;,GEOGCS[&quot;GCS_North_American_1983&quot;,DATUM[&quot;D_North_American_1983&quot;,SPHEROID[&quot;GRS_1980&quot;,6378137.0,298.257222101]],PRIMEM[&quot;Greenwich&quot;,0.0],UNIT[&quot;Degree&quot;,0.0174532925199433]],PROJECTION[&quot;Albers&quot;],PARAMETER[&quot;False_Easting&quot;,0.0],PARAMETER[&quot;False_Northing&quot;,0.0],PARAMETER[&quot;Central_Meridian&quot;,-96.0],PARAMETER[&quot;Standard_Parallel_1&quot;,29.5],PARAMETER[&quot;Standard_Parallel_2&quot;,45.5],PARAMETER[&quot;Latitude_Of_Origin&quot;,37.5],UNIT[&quot;Meter&quot;,1.0]];-16901100 -8579000 10000;-100000 10000;-100000 10000;0.001;0.001;0.001;IsHighPrecision</dd><dt><span>type :</span></dt><dd>variable</dd></dl></div><div class='xr-var-data'><pre>[52543404 values with dtype=float64]</pre></div></li></ul></div></li><li class='xr-section-item'><input id='section-f1b2210a-37a8-4afe-b96e-f8ffe712a441' class='xr-section-summary-in' type='checkbox'  ><label for='section-f1b2210a-37a8-4afe-b96e-f8ffe712a441' class='xr-section-summary' >Indexes: <span>(1)</span></label><div class='xr-section-inline-details'></div><div class='xr-section-details'><ul class='xr-var-list'><li class='xr-var-item'><div class='xr-index-name'><div>time</div></div><div class='xr-index-preview'>PandasIndex</div><div></div><input id='index-36154595-1041-477d-8620-4f9f0f89120c' class='xr-index-data-in' type='checkbox'/><label for='index-36154595-1041-477d-8620-4f9f0f89120c' title='Show/Hide index repr'><svg class='icon xr-icon-database'><use xlink:href='#icon-database'></use></svg></label><div class='xr-index-data'><pre>PandasIndex(DatetimeIndex([&#x27;2005-12-31&#x27;, &#x27;2006-01-01&#x27;, &#x27;2006-01-02&#x27;, &#x27;2006-01-03&#x27;,\n",
       "               &#x27;2006-01-04&#x27;, &#x27;2006-01-05&#x27;, &#x27;2006-01-06&#x27;, &#x27;2006-01-07&#x27;,\n",
       "               &#x27;2006-01-08&#x27;, &#x27;2006-01-09&#x27;,\n",
       "               ...\n",
       "               &#x27;2021-12-21&#x27;, &#x27;2021-12-22&#x27;, &#x27;2021-12-23&#x27;, &#x27;2021-12-24&#x27;,\n",
       "               &#x27;2021-12-25&#x27;, &#x27;2021-12-26&#x27;, &#x27;2021-12-27&#x27;, &#x27;2021-12-28&#x27;,\n",
       "               &#x27;2021-12-29&#x27;, &#x27;2021-12-30&#x27;],\n",
       "              dtype=&#x27;datetime64[ns]&#x27;, name=&#x27;time&#x27;, length=5844, freq=None))</pre></div></li></ul></div></li><li class='xr-section-item'><input id='section-09c5cfe6-47d4-4586-98a9-30b511ad4050' class='xr-section-summary-in' type='checkbox'  ><label for='section-09c5cfe6-47d4-4586-98a9-30b511ad4050' class='xr-section-summary' >Attributes: <span>(28)</span></label><div class='xr-section-inline-details'></div><div class='xr-section-details'><dl class='xr-attrs'><dt><span>subsetType :</span></dt><dd>SUBSET</dd><dt><span>geometry_unit :</span></dt><dd>METER</dd><dt><span>convert_factor :</span></dt><dd>1.0</dd><dt><span>alignment :</span></dt><dd>END_TIME</dd><dt><span>reference_time :</span></dt><dd></dd><dt><span>time_size :</span></dt><dd>1</dd><dt><span>time_unit :</span></dt><dd>DAYS</dd><dt><span>time_step_label :</span></dt><dd>1 Day</dd><dt><span>first_start_time :</span></dt><dd>2005-12-31 00:00:00</dd><dt><span>first_end_time :</span></dt><dd>2006-01-01 00:00:00</dd><dt><span>last_start_time :</span></dt><dd>2021-12-30 00:00:00</dd><dt><span>last_end_time :</span></dt><dd>2021-12-31 00:00:00</dd><dt><span>data_min_time :</span></dt><dd>2006-01-01 00:00:00</dd><dt><span>data_max_time :</span></dt><dd>2021-12-31 00:00:00</dd><dt><span>start_bias :</span></dt><dd>0.0</dd><dt><span>end_bias :</span></dt><dd>0.0</dd><dt><span>description :</span></dt><dd>Space-Time Pattern Mining Panel Cube</dd><dt><span>history :</span></dt><dd>Created by Sun Oct 16 00:38:20 2022</dd><dt><span>source :</span></dt><dd>Space Time Pattern Mining Tools;3.0</dd><dt><span>feature_type :</span></dt><dd>timeSeries</dd><dt><span>sourceTool :</span></dt><dd>Panel</dd><dt><span>extent :</span></dt><dd>[-2356112.7933  -614977.1693  -504620.7696  1565790.9055]</dd><dt><span>esri_pe_string :</span></dt><dd>PROJCS[&quot;USA_Contiguous_Albers_Equal_Area_Conic&quot;,GEOGCS[&quot;GCS_North_American_1983&quot;,DATUM[&quot;D_North_American_1983&quot;,SPHEROID[&quot;GRS_1980&quot;,6378137.0,298.257222101]],PRIMEM[&quot;Greenwich&quot;,0.0],UNIT[&quot;Degree&quot;,0.0174532925199433]],PROJECTION[&quot;Albers&quot;],PARAMETER[&quot;False_Easting&quot;,0.0],PARAMETER[&quot;False_Northing&quot;,0.0],PARAMETER[&quot;Central_Meridian&quot;,-96.0],PARAMETER[&quot;Standard_Parallel_1&quot;,29.5],PARAMETER[&quot;Standard_Parallel_2&quot;,45.5],PARAMETER[&quot;Latitude_Of_Origin&quot;,37.5],UNIT[&quot;Meter&quot;,1.0]];-16901100 -8579000 10000;-100000 10000;-100000 10000;0.001;0.001;0.001;IsHighPrecision</dd><dt><span>projection_authority_code :</span></dt><dd>102003</dd><dt><span>raw_pe_string :</span></dt><dd>PROJCS[&quot;USA_Contiguous_Albers_Equal_Area_Conic&quot;,GEOGCS[&quot;GCS_North_American_1983&quot;,DATUM[&quot;D_North_American_1983&quot;,SPHEROID[&quot;GRS_1980&quot;,6378137.0,298.257222101]],PRIMEM[&quot;Greenwich&quot;,0.0],UNIT[&quot;Degree&quot;,0.0174532925199433]],PROJECTION[&quot;Albers&quot;],PARAMETER[&quot;False_Easting&quot;,0.0],PARAMETER[&quot;False_Northing&quot;,0.0],PARAMETER[&quot;Central_Meridian&quot;,-96.0],PARAMETER[&quot;Standard_Parallel_1&quot;,29.5],PARAMETER[&quot;Standard_Parallel_2&quot;,45.5],PARAMETER[&quot;Latitude_Of_Origin&quot;,37.5],UNIT[&quot;Meter&quot;,1.0]];-16901100 -8579000 10000;-100000 10000;-100000 10000;0.001;0.001;0.001;IsHighPrecision</dd><dt><span>location_id_field :</span></dt><dd>FIPS</dd><dt><span>rate_info :</span></dt><dd></dd><dt><span>agg_shape_type :</span></dt><dd>POLYGON</dd></dl></div></li></ul></div></div>"
      ],
      "text/plain": [
       "<xarray.Dataset>\n",
       "Dimensions:                                              (locations: 8991,\n",
       "                                                          time: 5844)\n",
       "Coordinates:\n",
       "    lat                                                  (locations) float64 ...\n",
       "    lon                                                  (locations) float64 ...\n",
       "  * time                                                 (time) datetime64[ns] ...\n",
       "Dimensions without coordinates: locations\n",
       "Data variables: (12/13)\n",
       "    projection                                           int32 ...\n",
       "    x                                                    (locations) float64 ...\n",
       "    y                                                    (locations) float64 ...\n",
       "    poly_breaks                                          (locations) int32 ...\n",
       "    poly_coords                                          (locations) float64 ...\n",
       "    time_step_ID                                         (time, locations) float64 ...\n",
       "    ...                                                   ...\n",
       "    FIPS                                                 (time, locations) float64 ...\n",
       "    MAX_TEMPERATURE_NONE_SPATIAL_NEIGHBORS               (time, locations) float64 ...\n",
       "    MAX_TEMPERATURE_NONE_SPATIAL_NEIGHBORS_TREND_ZSCORE  (locations) float64 ...\n",
       "    MAX_TEMPERATURE_NONE_SPATIAL_NEIGHBORS_TREND_PVALUE  (locations) float64 ...\n",
       "    MAX_TEMPERATURE_NONE_SPATIAL_NEIGHBORS_TREND_BIN     (locations) float64 ...\n",
       "    PREDICTION_BINARY_MASK                               (time, locations) float64 ...\n",
       "Attributes: (12/28)\n",
       "    subsetType:                 SUBSET\n",
       "    geometry_unit:              METER\n",
       "    convert_factor:             1.0\n",
       "    alignment:                  END_TIME\n",
       "    reference_time:             \n",
       "    time_size:                  1\n",
       "    ...                         ...\n",
       "    esri_pe_string:             PROJCS[\"USA_Contiguous_Albers_Equal_Area_Coni...\n",
       "    projection_authority_code:  102003\n",
       "    raw_pe_string:              PROJCS[\"USA_Contiguous_Albers_Equal_Area_Coni...\n",
       "    location_id_field:          FIPS\n",
       "    rate_info:                  \n",
       "    agg_shape_type:             POLYGON"
      ]
     },
     "execution_count": 8,
     "metadata": {},
     "output_type": "execute_result"
    }
   ],
   "source": [
    "tmax"
   ]
  },
  {
   "cell_type": "code",
   "execution_count": 3,
   "id": "ee931690-7103-4d0b-a6d8-a902d9a8c426",
   "metadata": {},
   "outputs": [],
   "source": [
    "df_tmax = tmax[['FIPS','MAX_TEMPERATURE_NONE_SPATIAL_NEIGHBORS']].to_dataframe()"
   ]
  },
  {
   "cell_type": "code",
   "execution_count": 19,
   "id": "9f2eff76-7d23-4c12-87a4-13eb3da9f5d5",
   "metadata": {},
   "outputs": [],
   "source": [
    "df_tmax = df_tmax.drop(columns=['lat', 'lon'])"
   ]
  },
  {
   "cell_type": "code",
   "execution_count": 20,
   "id": "6a6d7488-d46b-42ac-a3c9-967a568966ef",
   "metadata": {},
   "outputs": [
    {
     "data": {
      "text/html": [
       "<div>\n",
       "<style scoped>\n",
       "    .dataframe tbody tr th:only-of-type {\n",
       "        vertical-align: middle;\n",
       "    }\n",
       "\n",
       "    .dataframe tbody tr th {\n",
       "        vertical-align: top;\n",
       "    }\n",
       "\n",
       "    .dataframe thead th {\n",
       "        text-align: right;\n",
       "    }\n",
       "</style>\n",
       "<table border=\"1\" class=\"dataframe\">\n",
       "  <thead>\n",
       "    <tr style=\"text-align: right;\">\n",
       "      <th></th>\n",
       "      <th></th>\n",
       "      <th>FIPS</th>\n",
       "      <th>MAX_TEMPERATURE_NONE_SPATIAL_NEIGHBORS</th>\n",
       "    </tr>\n",
       "    <tr>\n",
       "      <th>time</th>\n",
       "      <th>locations</th>\n",
       "      <th></th>\n",
       "      <th></th>\n",
       "    </tr>\n",
       "  </thead>\n",
       "  <tbody>\n",
       "    <tr>\n",
       "      <th rowspan=\"5\" valign=\"top\">2005-12-31</th>\n",
       "      <th>0</th>\n",
       "      <td>1765.0</td>\n",
       "      <td>13.350000</td>\n",
       "    </tr>\n",
       "    <tr>\n",
       "      <th>1</th>\n",
       "      <td>1766.0</td>\n",
       "      <td>14.950006</td>\n",
       "    </tr>\n",
       "    <tr>\n",
       "      <th>2</th>\n",
       "      <td>1767.0</td>\n",
       "      <td>14.950006</td>\n",
       "    </tr>\n",
       "    <tr>\n",
       "      <th>3</th>\n",
       "      <td>1768.0</td>\n",
       "      <td>14.950006</td>\n",
       "    </tr>\n",
       "    <tr>\n",
       "      <th>4</th>\n",
       "      <td>1769.0</td>\n",
       "      <td>14.950006</td>\n",
       "    </tr>\n",
       "  </tbody>\n",
       "</table>\n",
       "</div>"
      ],
      "text/plain": [
       "                        FIPS  MAX_TEMPERATURE_NONE_SPATIAL_NEIGHBORS\n",
       "time       locations                                                \n",
       "2005-12-31 0          1765.0                               13.350000\n",
       "           1          1766.0                               14.950006\n",
       "           2          1767.0                               14.950006\n",
       "           3          1768.0                               14.950006\n",
       "           4          1769.0                               14.950006"
      ]
     },
     "execution_count": 20,
     "metadata": {},
     "output_type": "execute_result"
    }
   ],
   "source": [
    "df_tmax.head()"
   ]
  },
  {
   "cell_type": "code",
   "execution_count": 21,
   "id": "0561ea8c-cd78-45a7-a361-1f8ebf294e24",
   "metadata": {},
   "outputs": [],
   "source": [
    "tmin = xr.open_dataset('data/esri/MinTemp_2006_2021_Cali.nc')"
   ]
  },
  {
   "cell_type": "code",
   "execution_count": 22,
   "id": "063ce719-faee-4e5a-b74c-7005843c0ee6",
   "metadata": {},
   "outputs": [],
   "source": [
    "df_tmin = tmin[['FIPS','MIN_TEMPERATURE_NONE_SPATIAL_NEIGHBORS']].to_dataframe()"
   ]
  },
  {
   "cell_type": "code",
   "execution_count": 23,
   "id": "5b5e44fc-a5e9-4fac-bece-e7fd50032ef4",
   "metadata": {},
   "outputs": [],
   "source": [
    "df_tmin = df_tmin.drop(columns=['lat', 'lon'])"
   ]
  },
  {
   "cell_type": "code",
   "execution_count": 24,
   "id": "e3f853f3-9bb6-4b6c-b558-bf055a25910d",
   "metadata": {},
   "outputs": [
    {
     "data": {
      "text/html": [
       "<div>\n",
       "<style scoped>\n",
       "    .dataframe tbody tr th:only-of-type {\n",
       "        vertical-align: middle;\n",
       "    }\n",
       "\n",
       "    .dataframe tbody tr th {\n",
       "        vertical-align: top;\n",
       "    }\n",
       "\n",
       "    .dataframe thead th {\n",
       "        text-align: right;\n",
       "    }\n",
       "</style>\n",
       "<table border=\"1\" class=\"dataframe\">\n",
       "  <thead>\n",
       "    <tr style=\"text-align: right;\">\n",
       "      <th></th>\n",
       "      <th></th>\n",
       "      <th>FIPS</th>\n",
       "      <th>MIN_TEMPERATURE_NONE_SPATIAL_NEIGHBORS</th>\n",
       "    </tr>\n",
       "    <tr>\n",
       "      <th>time</th>\n",
       "      <th>locations</th>\n",
       "      <th></th>\n",
       "      <th></th>\n",
       "    </tr>\n",
       "  </thead>\n",
       "  <tbody>\n",
       "    <tr>\n",
       "      <th rowspan=\"5\" valign=\"top\">2005-12-31</th>\n",
       "      <th>0</th>\n",
       "      <td>1765.0</td>\n",
       "      <td>7.850000</td>\n",
       "    </tr>\n",
       "    <tr>\n",
       "      <th>1</th>\n",
       "      <td>1766.0</td>\n",
       "      <td>8.249994</td>\n",
       "    </tr>\n",
       "    <tr>\n",
       "      <th>2</th>\n",
       "      <td>1767.0</td>\n",
       "      <td>8.249994</td>\n",
       "    </tr>\n",
       "    <tr>\n",
       "      <th>3</th>\n",
       "      <td>1768.0</td>\n",
       "      <td>8.249994</td>\n",
       "    </tr>\n",
       "    <tr>\n",
       "      <th>4</th>\n",
       "      <td>1769.0</td>\n",
       "      <td>8.249994</td>\n",
       "    </tr>\n",
       "  </tbody>\n",
       "</table>\n",
       "</div>"
      ],
      "text/plain": [
       "                        FIPS  MIN_TEMPERATURE_NONE_SPATIAL_NEIGHBORS\n",
       "time       locations                                                \n",
       "2005-12-31 0          1765.0                                7.850000\n",
       "           1          1766.0                                8.249994\n",
       "           2          1767.0                                8.249994\n",
       "           3          1768.0                                8.249994\n",
       "           4          1769.0                                8.249994"
      ]
     },
     "execution_count": 24,
     "metadata": {},
     "output_type": "execute_result"
    }
   ],
   "source": [
    "df_tmin.head()"
   ]
  },
  {
   "cell_type": "code",
   "execution_count": 25,
   "id": "53bbddbd-46b9-4cd4-90ae-db3adad52c8b",
   "metadata": {},
   "outputs": [
    {
     "data": {
      "text/plain": [
       "52543404"
      ]
     },
     "execution_count": 25,
     "metadata": {},
     "output_type": "execute_result"
    }
   ],
   "source": [
    "len(df_tmax)"
   ]
  },
  {
   "cell_type": "code",
   "execution_count": 26,
   "id": "fa7eda3f-7118-4447-9909-5d3e10902424",
   "metadata": {},
   "outputs": [
    {
     "data": {
      "text/plain": [
       "52543404"
      ]
     },
     "execution_count": 26,
     "metadata": {},
     "output_type": "execute_result"
    }
   ],
   "source": [
    "len(df_tmin)"
   ]
  },
  {
   "cell_type": "markdown",
   "id": "468b1b17-8863-401b-b038-4826db18bfc0",
   "metadata": {},
   "source": [
    "## Join tmin and tmax"
   ]
  },
  {
   "cell_type": "code",
   "execution_count": 27,
   "id": "6099c0d4-8596-41de-ad37-3cf117171dff",
   "metadata": {},
   "outputs": [
    {
     "name": "stderr",
     "output_type": "stream",
     "text": [
      "100%|██████████████████████████████████████████████████████████████████████████████████████████████████████| 4/4 [00:01<00:00,  2.25it/s]\n"
     ]
    }
   ],
   "source": [
    "tqdm.pandas()\n",
    "df_t = df_tmax.join(df_tmin, rsuffix= \"_tmin\").progress_apply(lambda x: x)"
   ]
  },
  {
   "cell_type": "code",
   "execution_count": 28,
   "id": "c72664e5-490e-4580-92c6-6461c7d11f25",
   "metadata": {},
   "outputs": [
    {
     "data": {
      "text/plain": [
       "52543404"
      ]
     },
     "execution_count": 28,
     "metadata": {},
     "output_type": "execute_result"
    }
   ],
   "source": [
    "len(df_t)"
   ]
  },
  {
   "cell_type": "code",
   "execution_count": 29,
   "id": "30fa0bb3-0475-4456-94a4-1bc9d6a5792c",
   "metadata": {},
   "outputs": [
    {
     "data": {
      "text/html": [
       "<div>\n",
       "<style scoped>\n",
       "    .dataframe tbody tr th:only-of-type {\n",
       "        vertical-align: middle;\n",
       "    }\n",
       "\n",
       "    .dataframe tbody tr th {\n",
       "        vertical-align: top;\n",
       "    }\n",
       "\n",
       "    .dataframe thead th {\n",
       "        text-align: right;\n",
       "    }\n",
       "</style>\n",
       "<table border=\"1\" class=\"dataframe\">\n",
       "  <thead>\n",
       "    <tr style=\"text-align: right;\">\n",
       "      <th></th>\n",
       "      <th></th>\n",
       "      <th>FIPS</th>\n",
       "      <th>MAX_TEMPERATURE_NONE_SPATIAL_NEIGHBORS</th>\n",
       "      <th>FIPS_tmin</th>\n",
       "      <th>MIN_TEMPERATURE_NONE_SPATIAL_NEIGHBORS</th>\n",
       "    </tr>\n",
       "    <tr>\n",
       "      <th>time</th>\n",
       "      <th>locations</th>\n",
       "      <th></th>\n",
       "      <th></th>\n",
       "      <th></th>\n",
       "      <th></th>\n",
       "    </tr>\n",
       "  </thead>\n",
       "  <tbody>\n",
       "    <tr>\n",
       "      <th rowspan=\"5\" valign=\"top\">2005-12-31</th>\n",
       "      <th>0</th>\n",
       "      <td>1765.0</td>\n",
       "      <td>13.350000</td>\n",
       "      <td>1765.0</td>\n",
       "      <td>7.850000</td>\n",
       "    </tr>\n",
       "    <tr>\n",
       "      <th>1</th>\n",
       "      <td>1766.0</td>\n",
       "      <td>14.950006</td>\n",
       "      <td>1766.0</td>\n",
       "      <td>8.249994</td>\n",
       "    </tr>\n",
       "    <tr>\n",
       "      <th>2</th>\n",
       "      <td>1767.0</td>\n",
       "      <td>14.950006</td>\n",
       "      <td>1767.0</td>\n",
       "      <td>8.249994</td>\n",
       "    </tr>\n",
       "    <tr>\n",
       "      <th>3</th>\n",
       "      <td>1768.0</td>\n",
       "      <td>14.950006</td>\n",
       "      <td>1768.0</td>\n",
       "      <td>8.249994</td>\n",
       "    </tr>\n",
       "    <tr>\n",
       "      <th>4</th>\n",
       "      <td>1769.0</td>\n",
       "      <td>14.950006</td>\n",
       "      <td>1769.0</td>\n",
       "      <td>8.249994</td>\n",
       "    </tr>\n",
       "  </tbody>\n",
       "</table>\n",
       "</div>"
      ],
      "text/plain": [
       "                        FIPS  MAX_TEMPERATURE_NONE_SPATIAL_NEIGHBORS  \\\n",
       "time       locations                                                   \n",
       "2005-12-31 0          1765.0                               13.350000   \n",
       "           1          1766.0                               14.950006   \n",
       "           2          1767.0                               14.950006   \n",
       "           3          1768.0                               14.950006   \n",
       "           4          1769.0                               14.950006   \n",
       "\n",
       "                      FIPS_tmin  MIN_TEMPERATURE_NONE_SPATIAL_NEIGHBORS  \n",
       "time       locations                                                     \n",
       "2005-12-31 0             1765.0                                7.850000  \n",
       "           1             1766.0                                8.249994  \n",
       "           2             1767.0                                8.249994  \n",
       "           3             1768.0                                8.249994  \n",
       "           4             1769.0                                8.249994  "
      ]
     },
     "execution_count": 29,
     "metadata": {},
     "output_type": "execute_result"
    }
   ],
   "source": [
    "df_t.head()"
   ]
  },
  {
   "cell_type": "code",
   "execution_count": 30,
   "id": "9b249d58-6812-4319-9f4b-27867bab1370",
   "metadata": {},
   "outputs": [
    {
     "data": {
      "text/plain": [
       "True"
      ]
     },
     "execution_count": 30,
     "metadata": {},
     "output_type": "execute_result"
    }
   ],
   "source": [
    "# check if FIPS are the same\n",
    "\n",
    "df_t['FIPS'].equals(df_t['FIPS_tmin'])  # Returns True"
   ]
  },
  {
   "cell_type": "code",
   "execution_count": 31,
   "id": "e676d6fb-a40c-45c5-bdd6-cc5f822dc979",
   "metadata": {},
   "outputs": [],
   "source": [
    "df_t = df_t.drop(columns=['FIPS'])"
   ]
  },
  {
   "cell_type": "code",
   "execution_count": 32,
   "id": "f0dd5871-4551-4554-8dd2-1bd2580d0d62",
   "metadata": {},
   "outputs": [
    {
     "data": {
      "text/plain": [
       "2314"
      ]
     },
     "execution_count": 32,
     "metadata": {},
     "output_type": "execute_result"
    }
   ],
   "source": [
    "import gc\n",
    "\n",
    "del tmin\n",
    "del tmax\n",
    "del df_tmin\n",
    "del df_tmax\n",
    "gc.collect()"
   ]
  },
  {
   "cell_type": "markdown",
   "id": "dec0952d-8e13-4c04-85c0-623e853ca0ef",
   "metadata": {},
   "source": [
    "## Load PM2.5"
   ]
  },
  {
   "cell_type": "code",
   "execution_count": 9,
   "id": "e91ef039-3382-4703-815d-10ac76e364f9",
   "metadata": {},
   "outputs": [],
   "source": [
    "pm25 = xr.open_dataset('data/esri/PM25_Nature_2006_2020_Cali.nc')"
   ]
  },
  {
   "cell_type": "code",
   "execution_count": 18,
   "id": "d151fd71-a857-43c1-ad82-42f8eadc7292",
   "metadata": {},
   "outputs": [
    {
     "data": {
      "text/html": [
       "<div>\n",
       "<style scoped>\n",
       "    .dataframe tbody tr th:only-of-type {\n",
       "        vertical-align: middle;\n",
       "    }\n",
       "\n",
       "    .dataframe tbody tr th {\n",
       "        vertical-align: top;\n",
       "    }\n",
       "\n",
       "    .dataframe thead th {\n",
       "        text-align: right;\n",
       "    }\n",
       "</style>\n",
       "<table border=\"1\" class=\"dataframe\">\n",
       "  <thead>\n",
       "    <tr style=\"text-align: right;\">\n",
       "      <th></th>\n",
       "      <th></th>\n",
       "      <th>lat</th>\n",
       "      <th>lon</th>\n",
       "      <th>location_ID</th>\n",
       "    </tr>\n",
       "    <tr>\n",
       "      <th>time</th>\n",
       "      <th>locations</th>\n",
       "      <th></th>\n",
       "      <th></th>\n",
       "      <th></th>\n",
       "    </tr>\n",
       "  </thead>\n",
       "  <tbody>\n",
       "    <tr>\n",
       "      <th rowspan=\"5\" valign=\"top\">2005-12-31</th>\n",
       "      <th>0</th>\n",
       "      <td>37.867656</td>\n",
       "      <td>-122.231882</td>\n",
       "      <td>0.0</td>\n",
       "    </tr>\n",
       "    <tr>\n",
       "      <th>1</th>\n",
       "      <td>37.848138</td>\n",
       "      <td>-122.249591</td>\n",
       "      <td>1.0</td>\n",
       "    </tr>\n",
       "    <tr>\n",
       "      <th>2</th>\n",
       "      <td>37.840584</td>\n",
       "      <td>-122.254478</td>\n",
       "      <td>2.0</td>\n",
       "    </tr>\n",
       "    <tr>\n",
       "      <th>3</th>\n",
       "      <td>37.848284</td>\n",
       "      <td>-122.257445</td>\n",
       "      <td>3.0</td>\n",
       "    </tr>\n",
       "    <tr>\n",
       "      <th>4</th>\n",
       "      <td>37.848545</td>\n",
       "      <td>-122.264736</td>\n",
       "      <td>4.0</td>\n",
       "    </tr>\n",
       "  </tbody>\n",
       "</table>\n",
       "</div>"
      ],
      "text/plain": [
       "                            lat         lon  location_ID\n",
       "time       locations                                    \n",
       "2005-12-31 0          37.867656 -122.231882          0.0\n",
       "           1          37.848138 -122.249591          1.0\n",
       "           2          37.840584 -122.254478          2.0\n",
       "           3          37.848284 -122.257445          3.0\n",
       "           4          37.848545 -122.264736          4.0"
      ]
     },
     "execution_count": 18,
     "metadata": {},
     "output_type": "execute_result"
    }
   ],
   "source": [
    "pm25[\"location_ID\"].to_dataframe().head()"
   ]
  },
  {
   "cell_type": "code",
   "execution_count": 34,
   "id": "94d191c3-c86a-452a-9302-483e15cfc250",
   "metadata": {},
   "outputs": [],
   "source": [
    "df_pm25 = pm25[['FIPS','MEAN_NONE_SPATIAL_NEIGHBORS']].to_dataframe()"
   ]
  },
  {
   "cell_type": "code",
   "execution_count": 35,
   "id": "c88f5e2b-3aa8-4671-959e-394c8a8f884b",
   "metadata": {},
   "outputs": [],
   "source": [
    "df_pm25 = df_pm25.drop(columns=['lat', 'lon'])"
   ]
  },
  {
   "cell_type": "code",
   "execution_count": 36,
   "id": "2000bc25-8444-4b85-b4be-db9876ad0d1a",
   "metadata": {},
   "outputs": [
    {
     "data": {
      "text/html": [
       "<div>\n",
       "<style scoped>\n",
       "    .dataframe tbody tr th:only-of-type {\n",
       "        vertical-align: middle;\n",
       "    }\n",
       "\n",
       "    .dataframe tbody tr th {\n",
       "        vertical-align: top;\n",
       "    }\n",
       "\n",
       "    .dataframe thead th {\n",
       "        text-align: right;\n",
       "    }\n",
       "</style>\n",
       "<table border=\"1\" class=\"dataframe\">\n",
       "  <thead>\n",
       "    <tr style=\"text-align: right;\">\n",
       "      <th></th>\n",
       "      <th></th>\n",
       "      <th>FIPS</th>\n",
       "      <th>MEAN_NONE_SPATIAL_NEIGHBORS</th>\n",
       "    </tr>\n",
       "    <tr>\n",
       "      <th>time</th>\n",
       "      <th>locations</th>\n",
       "      <th></th>\n",
       "      <th></th>\n",
       "    </tr>\n",
       "  </thead>\n",
       "  <tbody>\n",
       "    <tr>\n",
       "      <th rowspan=\"5\" valign=\"top\">2005-12-31</th>\n",
       "      <th>0</th>\n",
       "      <td>1765.0</td>\n",
       "      <td>4.986000</td>\n",
       "    </tr>\n",
       "    <tr>\n",
       "      <th>1</th>\n",
       "      <td>1766.0</td>\n",
       "      <td>5.500000</td>\n",
       "    </tr>\n",
       "    <tr>\n",
       "      <th>2</th>\n",
       "      <td>1767.0</td>\n",
       "      <td>5.486667</td>\n",
       "    </tr>\n",
       "    <tr>\n",
       "      <th>3</th>\n",
       "      <td>1768.0</td>\n",
       "      <td>5.437778</td>\n",
       "    </tr>\n",
       "    <tr>\n",
       "      <th>4</th>\n",
       "      <td>1769.0</td>\n",
       "      <td>5.480000</td>\n",
       "    </tr>\n",
       "  </tbody>\n",
       "</table>\n",
       "</div>"
      ],
      "text/plain": [
       "                        FIPS  MEAN_NONE_SPATIAL_NEIGHBORS\n",
       "time       locations                                     \n",
       "2005-12-31 0          1765.0                     4.986000\n",
       "           1          1766.0                     5.500000\n",
       "           2          1767.0                     5.486667\n",
       "           3          1768.0                     5.437778\n",
       "           4          1769.0                     5.480000"
      ]
     },
     "execution_count": 36,
     "metadata": {},
     "output_type": "execute_result"
    }
   ],
   "source": [
    "df_pm25.head()"
   ]
  },
  {
   "cell_type": "code",
   "execution_count": 37,
   "id": "a920aea4-2dae-4e2e-83d0-8a5ec5b756f6",
   "metadata": {},
   "outputs": [
    {
     "data": {
      "text/plain": [
       "47929050"
      ]
     },
     "execution_count": 37,
     "metadata": {},
     "output_type": "execute_result"
    }
   ],
   "source": [
    "len(df_pm25)"
   ]
  },
  {
   "cell_type": "code",
   "execution_count": 38,
   "id": "22190af5-1c91-428d-8a46-8992506731d3",
   "metadata": {},
   "outputs": [
    {
     "data": {
      "text/plain": [
       "52543404"
      ]
     },
     "execution_count": 38,
     "metadata": {},
     "output_type": "execute_result"
    }
   ],
   "source": [
    "len(df_t)"
   ]
  },
  {
   "cell_type": "markdown",
   "id": "a4313329-64c3-48d7-8d36-0d4ac84f69cb",
   "metadata": {},
   "source": [
    "## Test for joins\n",
    "\n",
    "Look for fastest join"
   ]
  },
  {
   "cell_type": "code",
   "execution_count": 55,
   "id": "08b5530c-545c-45c3-b022-3575bb01ef4e",
   "metadata": {},
   "outputs": [],
   "source": [
    "temp1 = df_t.head(30000)\n",
    "temp2 = df_pm25.head(30000)"
   ]
  },
  {
   "cell_type": "code",
   "execution_count": 56,
   "id": "897703b5-dc07-401a-bd8a-4a6eded796e2",
   "metadata": {},
   "outputs": [
    {
     "name": "stdout",
     "output_type": "stream",
     "text": [
      "6.39 ms ± 79.8 µs per loop (mean ± std. dev. of 7 runs, 100 loops each)\n"
     ]
    }
   ],
   "source": [
    "%%timeit \n",
    "temp1.join(temp2)"
   ]
  },
  {
   "cell_type": "code",
   "execution_count": 57,
   "id": "e3c39ccc-6246-426c-bfb5-803a80066828",
   "metadata": {},
   "outputs": [
    {
     "name": "stdout",
     "output_type": "stream",
     "text": [
      "16.7 ms ± 19 µs per loop (mean ± std. dev. of 7 runs, 100 loops each)\n"
     ]
    }
   ],
   "source": [
    "%%timeit \n",
    "pd.merge(temp1, temp2, left_index=True, right_index=True, how='inner')"
   ]
  },
  {
   "cell_type": "code",
   "execution_count": 58,
   "id": "520fdab7-467d-4438-a230-1b46642a984c",
   "metadata": {},
   "outputs": [
    {
     "name": "stdout",
     "output_type": "stream",
     "text": [
      "34.6 ms ± 83.8 µs per loop (mean ± std. dev. of 7 runs, 10 loops each)\n"
     ]
    }
   ],
   "source": [
    "%%timeit\n",
    "pd.concat([temp1, temp2], axis=1)"
   ]
  },
  {
   "cell_type": "markdown",
   "id": "83bcf2ab-b3bd-4686-a045-e700dd9a4cfa",
   "metadata": {},
   "source": [
    "## Join between temperatures and PM25"
   ]
  },
  {
   "cell_type": "code",
   "execution_count": 48,
   "id": "0c2c7476-8881-4138-8ec8-359cd6a467a3",
   "metadata": {},
   "outputs": [],
   "source": [
    "df_t = df_t.rename(columns={\"FIPS_tmin\":\"FIPS\"})"
   ]
  },
  {
   "cell_type": "code",
   "execution_count": 53,
   "id": "96756bbc-101f-4f64-b44f-6d0ea4eacd12",
   "metadata": {},
   "outputs": [
    {
     "data": {
      "text/plain": [
       "52543404"
      ]
     },
     "execution_count": 53,
     "metadata": {},
     "output_type": "execute_result"
    }
   ],
   "source": [
    "len(df_t)"
   ]
  },
  {
   "cell_type": "code",
   "execution_count": 54,
   "id": "5bf80c60-e95d-4318-a96e-3114988e5c28",
   "metadata": {},
   "outputs": [],
   "source": [
    "df_t = df_t.reset_index().set_index([\"time\",\"FIPS\"])"
   ]
  },
  {
   "cell_type": "code",
   "execution_count": 55,
   "id": "57c910e7-5667-4e8e-afe0-1147a5a8c38e",
   "metadata": {},
   "outputs": [],
   "source": [
    "df_t = df_t.drop(columns=['locations'])"
   ]
  },
  {
   "cell_type": "code",
   "execution_count": 56,
   "id": "a43d1696-afac-4b50-a6d5-1cbe00a8a9e4",
   "metadata": {},
   "outputs": [
    {
     "data": {
      "text/html": [
       "<div>\n",
       "<style scoped>\n",
       "    .dataframe tbody tr th:only-of-type {\n",
       "        vertical-align: middle;\n",
       "    }\n",
       "\n",
       "    .dataframe tbody tr th {\n",
       "        vertical-align: top;\n",
       "    }\n",
       "\n",
       "    .dataframe thead th {\n",
       "        text-align: right;\n",
       "    }\n",
       "</style>\n",
       "<table border=\"1\" class=\"dataframe\">\n",
       "  <thead>\n",
       "    <tr style=\"text-align: right;\">\n",
       "      <th></th>\n",
       "      <th></th>\n",
       "      <th>MAX_TEMPERATURE_NONE_SPATIAL_NEIGHBORS</th>\n",
       "      <th>MIN_TEMPERATURE_NONE_SPATIAL_NEIGHBORS</th>\n",
       "    </tr>\n",
       "    <tr>\n",
       "      <th>time</th>\n",
       "      <th>FIPS</th>\n",
       "      <th></th>\n",
       "      <th></th>\n",
       "    </tr>\n",
       "  </thead>\n",
       "  <tbody>\n",
       "    <tr>\n",
       "      <th rowspan=\"5\" valign=\"top\">2005-12-31</th>\n",
       "      <th>1765.0</th>\n",
       "      <td>13.350000</td>\n",
       "      <td>7.850000</td>\n",
       "    </tr>\n",
       "    <tr>\n",
       "      <th>1766.0</th>\n",
       "      <td>14.950006</td>\n",
       "      <td>8.249994</td>\n",
       "    </tr>\n",
       "    <tr>\n",
       "      <th>1767.0</th>\n",
       "      <td>14.950006</td>\n",
       "      <td>8.249994</td>\n",
       "    </tr>\n",
       "    <tr>\n",
       "      <th>1768.0</th>\n",
       "      <td>14.950006</td>\n",
       "      <td>8.249994</td>\n",
       "    </tr>\n",
       "    <tr>\n",
       "      <th>1769.0</th>\n",
       "      <td>14.950006</td>\n",
       "      <td>8.249994</td>\n",
       "    </tr>\n",
       "  </tbody>\n",
       "</table>\n",
       "</div>"
      ],
      "text/plain": [
       "                   MAX_TEMPERATURE_NONE_SPATIAL_NEIGHBORS  \\\n",
       "time       FIPS                                             \n",
       "2005-12-31 1765.0                               13.350000   \n",
       "           1766.0                               14.950006   \n",
       "           1767.0                               14.950006   \n",
       "           1768.0                               14.950006   \n",
       "           1769.0                               14.950006   \n",
       "\n",
       "                   MIN_TEMPERATURE_NONE_SPATIAL_NEIGHBORS  \n",
       "time       FIPS                                            \n",
       "2005-12-31 1765.0                                7.850000  \n",
       "           1766.0                                8.249994  \n",
       "           1767.0                                8.249994  \n",
       "           1768.0                                8.249994  \n",
       "           1769.0                                8.249994  "
      ]
     },
     "execution_count": 56,
     "metadata": {},
     "output_type": "execute_result"
    }
   ],
   "source": [
    "df_t.head()"
   ]
  },
  {
   "cell_type": "code",
   "execution_count": 57,
   "id": "e52542c7-d0f0-4e87-9d82-cc7bb91b1c58",
   "metadata": {},
   "outputs": [],
   "source": [
    "df_pm25 = df_pm25.reset_index().set_index([\"time\",\"FIPS\"])"
   ]
  },
  {
   "cell_type": "code",
   "execution_count": 58,
   "id": "528c2b49-5820-42a3-9c17-0a4156473e16",
   "metadata": {},
   "outputs": [],
   "source": [
    "df_pm25 = df_pm25.drop(columns=['locations'])"
   ]
  },
  {
   "cell_type": "code",
   "execution_count": 59,
   "id": "360e3b4a-8a47-49e9-8aa6-7902d71da16f",
   "metadata": {},
   "outputs": [
    {
     "data": {
      "text/html": [
       "<div>\n",
       "<style scoped>\n",
       "    .dataframe tbody tr th:only-of-type {\n",
       "        vertical-align: middle;\n",
       "    }\n",
       "\n",
       "    .dataframe tbody tr th {\n",
       "        vertical-align: top;\n",
       "    }\n",
       "\n",
       "    .dataframe thead th {\n",
       "        text-align: right;\n",
       "    }\n",
       "</style>\n",
       "<table border=\"1\" class=\"dataframe\">\n",
       "  <thead>\n",
       "    <tr style=\"text-align: right;\">\n",
       "      <th></th>\n",
       "      <th></th>\n",
       "      <th>MEAN_NONE_SPATIAL_NEIGHBORS</th>\n",
       "    </tr>\n",
       "    <tr>\n",
       "      <th>time</th>\n",
       "      <th>FIPS</th>\n",
       "      <th></th>\n",
       "    </tr>\n",
       "  </thead>\n",
       "  <tbody>\n",
       "    <tr>\n",
       "      <th rowspan=\"5\" valign=\"top\">2005-12-31</th>\n",
       "      <th>1765.0</th>\n",
       "      <td>4.986000</td>\n",
       "    </tr>\n",
       "    <tr>\n",
       "      <th>1766.0</th>\n",
       "      <td>5.500000</td>\n",
       "    </tr>\n",
       "    <tr>\n",
       "      <th>1767.0</th>\n",
       "      <td>5.486667</td>\n",
       "    </tr>\n",
       "    <tr>\n",
       "      <th>1768.0</th>\n",
       "      <td>5.437778</td>\n",
       "    </tr>\n",
       "    <tr>\n",
       "      <th>1769.0</th>\n",
       "      <td>5.480000</td>\n",
       "    </tr>\n",
       "  </tbody>\n",
       "</table>\n",
       "</div>"
      ],
      "text/plain": [
       "                   MEAN_NONE_SPATIAL_NEIGHBORS\n",
       "time       FIPS                               \n",
       "2005-12-31 1765.0                     4.986000\n",
       "           1766.0                     5.500000\n",
       "           1767.0                     5.486667\n",
       "           1768.0                     5.437778\n",
       "           1769.0                     5.480000"
      ]
     },
     "execution_count": 59,
     "metadata": {},
     "output_type": "execute_result"
    }
   ],
   "source": [
    "df_pm25.head()"
   ]
  },
  {
   "cell_type": "code",
   "execution_count": 60,
   "id": "c04c9af3-2bca-4399-8c09-527f8b56a7e3",
   "metadata": {},
   "outputs": [
    {
     "name": "stderr",
     "output_type": "stream",
     "text": [
      "100%|██████████████████████████████████████████████████████████████████████████████████████████████████████| 3/3 [00:00<00:00,  3.80it/s]\n"
     ]
    }
   ],
   "source": [
    "df = df_t.join(df_pm25).progress_apply(lambda x: x)"
   ]
  },
  {
   "cell_type": "code",
   "execution_count": 61,
   "id": "42598879-094e-46b3-9073-6ddca2ccd04a",
   "metadata": {},
   "outputs": [
    {
     "data": {
      "text/html": [
       "<div>\n",
       "<style scoped>\n",
       "    .dataframe tbody tr th:only-of-type {\n",
       "        vertical-align: middle;\n",
       "    }\n",
       "\n",
       "    .dataframe tbody tr th {\n",
       "        vertical-align: top;\n",
       "    }\n",
       "\n",
       "    .dataframe thead th {\n",
       "        text-align: right;\n",
       "    }\n",
       "</style>\n",
       "<table border=\"1\" class=\"dataframe\">\n",
       "  <thead>\n",
       "    <tr style=\"text-align: right;\">\n",
       "      <th></th>\n",
       "      <th></th>\n",
       "      <th>MAX_TEMPERATURE_NONE_SPATIAL_NEIGHBORS</th>\n",
       "      <th>MIN_TEMPERATURE_NONE_SPATIAL_NEIGHBORS</th>\n",
       "      <th>MEAN_NONE_SPATIAL_NEIGHBORS</th>\n",
       "    </tr>\n",
       "    <tr>\n",
       "      <th>time</th>\n",
       "      <th>FIPS</th>\n",
       "      <th></th>\n",
       "      <th></th>\n",
       "      <th></th>\n",
       "    </tr>\n",
       "  </thead>\n",
       "  <tbody>\n",
       "    <tr>\n",
       "      <th rowspan=\"5\" valign=\"top\">2005-12-31</th>\n",
       "      <th>1765.0</th>\n",
       "      <td>13.350000</td>\n",
       "      <td>7.850000</td>\n",
       "      <td>4.986000</td>\n",
       "    </tr>\n",
       "    <tr>\n",
       "      <th>1766.0</th>\n",
       "      <td>14.950006</td>\n",
       "      <td>8.249994</td>\n",
       "      <td>5.500000</td>\n",
       "    </tr>\n",
       "    <tr>\n",
       "      <th>1767.0</th>\n",
       "      <td>14.950006</td>\n",
       "      <td>8.249994</td>\n",
       "      <td>5.486667</td>\n",
       "    </tr>\n",
       "    <tr>\n",
       "      <th>1768.0</th>\n",
       "      <td>14.950006</td>\n",
       "      <td>8.249994</td>\n",
       "      <td>5.437778</td>\n",
       "    </tr>\n",
       "    <tr>\n",
       "      <th>1769.0</th>\n",
       "      <td>14.950006</td>\n",
       "      <td>8.249994</td>\n",
       "      <td>5.480000</td>\n",
       "    </tr>\n",
       "  </tbody>\n",
       "</table>\n",
       "</div>"
      ],
      "text/plain": [
       "                   MAX_TEMPERATURE_NONE_SPATIAL_NEIGHBORS  \\\n",
       "time       FIPS                                             \n",
       "2005-12-31 1765.0                               13.350000   \n",
       "           1766.0                               14.950006   \n",
       "           1767.0                               14.950006   \n",
       "           1768.0                               14.950006   \n",
       "           1769.0                               14.950006   \n",
       "\n",
       "                   MIN_TEMPERATURE_NONE_SPATIAL_NEIGHBORS  \\\n",
       "time       FIPS                                             \n",
       "2005-12-31 1765.0                                7.850000   \n",
       "           1766.0                                8.249994   \n",
       "           1767.0                                8.249994   \n",
       "           1768.0                                8.249994   \n",
       "           1769.0                                8.249994   \n",
       "\n",
       "                   MEAN_NONE_SPATIAL_NEIGHBORS  \n",
       "time       FIPS                                 \n",
       "2005-12-31 1765.0                     4.986000  \n",
       "           1766.0                     5.500000  \n",
       "           1767.0                     5.486667  \n",
       "           1768.0                     5.437778  \n",
       "           1769.0                     5.480000  "
      ]
     },
     "execution_count": 61,
     "metadata": {},
     "output_type": "execute_result"
    }
   ],
   "source": [
    "df.head()"
   ]
  },
  {
   "cell_type": "code",
   "execution_count": 62,
   "id": "ecb7f211-4a6b-4909-96b4-d76d9010f4e9",
   "metadata": {},
   "outputs": [],
   "source": [
    "df = df.rename(columns={\"MAX_TEMPERATURE_NONE_SPATIAL_NEIGHBORS\":\"tmax\",\n",
    "\"MIN_TEMPERATURE_NONE_SPATIAL_NEIGHBORS\":\"tmin\",\n",
    "\"MEAN_NONE_SPATIAL_NEIGHBORS\":\"pm25\"})"
   ]
  },
  {
   "cell_type": "code",
   "execution_count": 63,
   "id": "e8c9f913-ff2c-4f76-a98f-93dc451b18a1",
   "metadata": {},
   "outputs": [],
   "source": [
    "df.to_parquet(\"outputs/esri_tmin_tmax_pm25_merged.parquet\")"
   ]
  },
  {
   "cell_type": "markdown",
   "id": "df39845b-5878-4e1c-8aa2-4d40a65e0a9e",
   "metadata": {},
   "source": []
  },
  {
   "cell_type": "code",
   "execution_count": 2,
   "id": "d9b59782-6768-4af0-868b-994aae632a8e",
   "metadata": {},
   "outputs": [],
   "source": [
    "df = pd.read_parquet(\"outputs/esri_tmin_tmax_pm25_merged.parquet\")"
   ]
  },
  {
   "cell_type": "markdown",
   "id": "d3c7b44b-f032-4125-b7e9-45f026c6b16d",
   "metadata": {},
   "source": [
    "## Join wildfire day"
   ]
  },
  {
   "cell_type": "code",
   "execution_count": 3,
   "id": "9faefa80-4f70-4842-a880-2c0e9ce0baff",
   "metadata": {},
   "outputs": [],
   "source": [
    "wf = xr.open_dataset('data/esri/WildfirePresence_2006_2021_CA_daily.nc')"
   ]
  },
  {
   "cell_type": "code",
   "execution_count": 18,
   "id": "256c0438-1785-40bb-b938-c10bd4c2ea80",
   "metadata": {},
   "outputs": [
    {
     "data": {
      "text/html": [
       "<div>\n",
       "<style scoped>\n",
       "    .dataframe tbody tr th:only-of-type {\n",
       "        vertical-align: middle;\n",
       "    }\n",
       "\n",
       "    .dataframe tbody tr th {\n",
       "        vertical-align: top;\n",
       "    }\n",
       "\n",
       "    .dataframe thead th {\n",
       "        text-align: right;\n",
       "    }\n",
       "</style>\n",
       "<table border=\"1\" class=\"dataframe\">\n",
       "  <thead>\n",
       "    <tr style=\"text-align: right;\">\n",
       "      <th></th>\n",
       "      <th></th>\n",
       "      <th>lat</th>\n",
       "      <th>lon</th>\n",
       "      <th>FIPS</th>\n",
       "    </tr>\n",
       "    <tr>\n",
       "      <th>time</th>\n",
       "      <th>locations</th>\n",
       "      <th></th>\n",
       "      <th></th>\n",
       "      <th></th>\n",
       "    </tr>\n",
       "  </thead>\n",
       "  <tbody>\n",
       "    <tr>\n",
       "      <th rowspan=\"5\" valign=\"top\">2006-01-01</th>\n",
       "      <th>0</th>\n",
       "      <td>37.867656</td>\n",
       "      <td>-122.231882</td>\n",
       "      <td>0.0</td>\n",
       "    </tr>\n",
       "    <tr>\n",
       "      <th>1</th>\n",
       "      <td>37.848138</td>\n",
       "      <td>-122.249591</td>\n",
       "      <td>1.0</td>\n",
       "    </tr>\n",
       "    <tr>\n",
       "      <th>2</th>\n",
       "      <td>37.840584</td>\n",
       "      <td>-122.254478</td>\n",
       "      <td>2.0</td>\n",
       "    </tr>\n",
       "    <tr>\n",
       "      <th>3</th>\n",
       "      <td>37.848284</td>\n",
       "      <td>-122.257445</td>\n",
       "      <td>3.0</td>\n",
       "    </tr>\n",
       "    <tr>\n",
       "      <th>4</th>\n",
       "      <td>37.848545</td>\n",
       "      <td>-122.264736</td>\n",
       "      <td>4.0</td>\n",
       "    </tr>\n",
       "  </tbody>\n",
       "</table>\n",
       "</div>"
      ],
      "text/plain": [
       "                            lat         lon  FIPS\n",
       "time       locations                             \n",
       "2006-01-01 0          37.867656 -122.231882   0.0\n",
       "           1          37.848138 -122.249591   1.0\n",
       "           2          37.840584 -122.254478   2.0\n",
       "           3          37.848284 -122.257445   3.0\n",
       "           4          37.848545 -122.264736   4.0"
      ]
     },
     "execution_count": 18,
     "metadata": {},
     "output_type": "execute_result"
    }
   ],
   "source": [
    "wf[\"FIPS\"].to_dataframe().head()"
   ]
  },
  {
   "cell_type": "code",
   "execution_count": 9,
   "id": "e2d3db99-56f9-46f4-a9d5-92aca469040c",
   "metadata": {},
   "outputs": [
    {
     "data": {
      "text/html": [
       "<div>\n",
       "<style scoped>\n",
       "    .dataframe tbody tr th:only-of-type {\n",
       "        vertical-align: middle;\n",
       "    }\n",
       "\n",
       "    .dataframe tbody tr th {\n",
       "        vertical-align: top;\n",
       "    }\n",
       "\n",
       "    .dataframe thead th {\n",
       "        text-align: right;\n",
       "    }\n",
       "</style>\n",
       "<table border=\"1\" class=\"dataframe\">\n",
       "  <thead>\n",
       "    <tr style=\"text-align: right;\">\n",
       "      <th></th>\n",
       "      <th>location_label</th>\n",
       "    </tr>\n",
       "    <tr>\n",
       "      <th>labelDim</th>\n",
       "      <th></th>\n",
       "    </tr>\n",
       "  </thead>\n",
       "  <tbody>\n",
       "    <tr>\n",
       "      <th>0</th>\n",
       "      <td>06001400100</td>\n",
       "    </tr>\n",
       "    <tr>\n",
       "      <th>1</th>\n",
       "      <td>06001400200</td>\n",
       "    </tr>\n",
       "    <tr>\n",
       "      <th>2</th>\n",
       "      <td>06001400300</td>\n",
       "    </tr>\n",
       "    <tr>\n",
       "      <th>3</th>\n",
       "      <td>06001400400</td>\n",
       "    </tr>\n",
       "    <tr>\n",
       "      <th>4</th>\n",
       "      <td>06001400500</td>\n",
       "    </tr>\n",
       "  </tbody>\n",
       "</table>\n",
       "</div>"
      ],
      "text/plain": [
       "         location_label\n",
       "labelDim               \n",
       "0           06001400100\n",
       "1           06001400200\n",
       "2           06001400300\n",
       "3           06001400400\n",
       "4           06001400500"
      ]
     },
     "execution_count": 9,
     "metadata": {},
     "output_type": "execute_result"
    }
   ],
   "source": [
    "wf[\"location_label\"].to_dataframe().head()"
   ]
  },
  {
   "cell_type": "code",
   "execution_count": null,
   "id": "69199711-7ce9-45f6-830f-1f8e269a71d0",
   "metadata": {},
   "outputs": [],
   "source": [
    "df_wf = wf[['FIPS', 'location_label', 'FIREDAY_NONE_ZEROS']].to_dataframe()"
   ]
  },
  {
   "cell_type": "code",
   "execution_count": 9,
   "id": "157ebe67-e191-4a2a-8fd1-0201c47d45c3",
   "metadata": {},
   "outputs": [],
   "source": [
    "df_wf = df_wf.drop(columns=['lat', 'lon'])"
   ]
  },
  {
   "cell_type": "code",
   "execution_count": 8,
   "id": "95452a8d-000b-4d2c-bf42-e7a8572fc113",
   "metadata": {},
   "outputs": [
    {
     "data": {
      "text/html": [
       "<div>\n",
       "<style scoped>\n",
       "    .dataframe tbody tr th:only-of-type {\n",
       "        vertical-align: middle;\n",
       "    }\n",
       "\n",
       "    .dataframe tbody tr th {\n",
       "        vertical-align: top;\n",
       "    }\n",
       "\n",
       "    .dataframe thead th {\n",
       "        text-align: right;\n",
       "    }\n",
       "</style>\n",
       "<table border=\"1\" class=\"dataframe\">\n",
       "  <thead>\n",
       "    <tr style=\"text-align: right;\">\n",
       "      <th></th>\n",
       "      <th></th>\n",
       "      <th>FIPS</th>\n",
       "      <th>FIREDAY_NONE_ZEROS</th>\n",
       "      <th>lat</th>\n",
       "      <th>lon</th>\n",
       "    </tr>\n",
       "    <tr>\n",
       "      <th>time</th>\n",
       "      <th>locations</th>\n",
       "      <th></th>\n",
       "      <th></th>\n",
       "      <th></th>\n",
       "      <th></th>\n",
       "    </tr>\n",
       "  </thead>\n",
       "  <tbody>\n",
       "    <tr>\n",
       "      <th rowspan=\"5\" valign=\"top\">2006-01-01</th>\n",
       "      <th>0</th>\n",
       "      <td>0.0</td>\n",
       "      <td>0.0</td>\n",
       "      <td>37.867656</td>\n",
       "      <td>-122.231882</td>\n",
       "    </tr>\n",
       "    <tr>\n",
       "      <th>1</th>\n",
       "      <td>1.0</td>\n",
       "      <td>0.0</td>\n",
       "      <td>37.848138</td>\n",
       "      <td>-122.249591</td>\n",
       "    </tr>\n",
       "    <tr>\n",
       "      <th>2</th>\n",
       "      <td>2.0</td>\n",
       "      <td>0.0</td>\n",
       "      <td>37.840584</td>\n",
       "      <td>-122.254478</td>\n",
       "    </tr>\n",
       "    <tr>\n",
       "      <th>3</th>\n",
       "      <td>3.0</td>\n",
       "      <td>0.0</td>\n",
       "      <td>37.848284</td>\n",
       "      <td>-122.257445</td>\n",
       "    </tr>\n",
       "    <tr>\n",
       "      <th>4</th>\n",
       "      <td>4.0</td>\n",
       "      <td>0.0</td>\n",
       "      <td>37.848545</td>\n",
       "      <td>-122.264736</td>\n",
       "    </tr>\n",
       "    <tr>\n",
       "      <th>...</th>\n",
       "      <th>...</th>\n",
       "      <td>...</td>\n",
       "      <td>...</td>\n",
       "      <td>...</td>\n",
       "      <td>...</td>\n",
       "    </tr>\n",
       "    <tr>\n",
       "      <th rowspan=\"5\" valign=\"top\">2021-12-29</th>\n",
       "      <th>9091</th>\n",
       "      <td>9091.0</td>\n",
       "      <td>0.0</td>\n",
       "      <td>39.050329</td>\n",
       "      <td>-121.546676</td>\n",
       "    </tr>\n",
       "    <tr>\n",
       "      <th>9092</th>\n",
       "      <td>9092.0</td>\n",
       "      <td>0.0</td>\n",
       "      <td>39.250249</td>\n",
       "      <td>-121.520640</td>\n",
       "    </tr>\n",
       "    <tr>\n",
       "      <th>9093</th>\n",
       "      <td>9093.0</td>\n",
       "      <td>0.0</td>\n",
       "      <td>39.291833</td>\n",
       "      <td>-121.329852</td>\n",
       "    </tr>\n",
       "    <tr>\n",
       "      <th>9094</th>\n",
       "      <td>9094.0</td>\n",
       "      <td>0.0</td>\n",
       "      <td>39.465359</td>\n",
       "      <td>-121.167910</td>\n",
       "    </tr>\n",
       "    <tr>\n",
       "      <th>9095</th>\n",
       "      <td>9095.0</td>\n",
       "      <td>0.0</td>\n",
       "      <td>39.367748</td>\n",
       "      <td>-121.240208</td>\n",
       "    </tr>\n",
       "  </tbody>\n",
       "</table>\n",
       "<p>53138832 rows × 4 columns</p>\n",
       "</div>"
      ],
      "text/plain": [
       "                        FIPS  FIREDAY_NONE_ZEROS        lat         lon\n",
       "time       locations                                                   \n",
       "2006-01-01 0             0.0                 0.0  37.867656 -122.231882\n",
       "           1             1.0                 0.0  37.848138 -122.249591\n",
       "           2             2.0                 0.0  37.840584 -122.254478\n",
       "           3             3.0                 0.0  37.848284 -122.257445\n",
       "           4             4.0                 0.0  37.848545 -122.264736\n",
       "...                      ...                 ...        ...         ...\n",
       "2021-12-29 9091       9091.0                 0.0  39.050329 -121.546676\n",
       "           9092       9092.0                 0.0  39.250249 -121.520640\n",
       "           9093       9093.0                 0.0  39.291833 -121.329852\n",
       "           9094       9094.0                 0.0  39.465359 -121.167910\n",
       "           9095       9095.0                 0.0  39.367748 -121.240208\n",
       "\n",
       "[53138832 rows x 4 columns]"
      ]
     },
     "execution_count": 8,
     "metadata": {},
     "output_type": "execute_result"
    }
   ],
   "source": [
    "df_wf"
   ]
  },
  {
   "cell_type": "code",
   "execution_count": 11,
   "id": "0296d911-3473-4902-a892-ba2e71e4372d",
   "metadata": {},
   "outputs": [],
   "source": [
    "df_wf = df_wf.reset_index().set_index([\"time\",\"FIPS\"])"
   ]
  },
  {
   "cell_type": "code",
   "execution_count": 12,
   "id": "34499eeb-15a6-460b-b120-3ecca2ce4122",
   "metadata": {},
   "outputs": [],
   "source": [
    "df_wf = df_wf.drop(columns=['locations'])"
   ]
  },
  {
   "cell_type": "code",
   "execution_count": 13,
   "id": "6633cc8a-9e18-4904-bdf7-2166116566f5",
   "metadata": {},
   "outputs": [
    {
     "data": {
      "text/plain": [
       "52543404"
      ]
     },
     "execution_count": 13,
     "metadata": {},
     "output_type": "execute_result"
    }
   ],
   "source": [
    "len(df)"
   ]
  },
  {
   "cell_type": "code",
   "execution_count": 14,
   "id": "31e66ef8-4cb5-47c7-9bfd-3ef53c67ef38",
   "metadata": {},
   "outputs": [
    {
     "data": {
      "text/plain": [
       "53138832"
      ]
     },
     "execution_count": 14,
     "metadata": {},
     "output_type": "execute_result"
    }
   ],
   "source": [
    "len(df_wf)"
   ]
  },
  {
   "cell_type": "code",
   "execution_count": 16,
   "id": "d61944c8-1856-40d9-8aed-d5dd16db1808",
   "metadata": {},
   "outputs": [],
   "source": [
    "df = df.join(df_wf)"
   ]
  },
  {
   "cell_type": "code",
   "execution_count": null,
   "id": "103c540f-7551-47e0-b5f2-446c24b28fb2",
   "metadata": {},
   "outputs": [],
   "source": [
    "df.to_parquet(\"outputs/esri_tmin_tmax_pm25_wf_merged.parquet\")"
   ]
  },
  {
   "cell_type": "code",
   "execution_count": null,
   "id": "dbb5c11f-52fa-43f9-85e4-57764bc18d1e",
   "metadata": {},
   "outputs": [],
   "source": []
  },
  {
   "cell_type": "markdown",
   "id": "146288b1-27f0-461f-8550-e3e454b761ec",
   "metadata": {},
   "source": [
    "## Join smoke PM2.5"
   ]
  },
  {
   "cell_type": "code",
   "execution_count": 9,
   "id": "a24a8417-bef0-4284-a03e-7d77b8a2f16c",
   "metadata": {
    "tags": []
   },
   "outputs": [],
   "source": [
    "df = pd.read_parquet(\"outputs/esri_tmin_tmax_pm25_wf_merged.parquet\")"
   ]
  },
  {
   "cell_type": "code",
   "execution_count": 10,
   "id": "74f56b79-ce34-4acc-a7fe-401b6ce87678",
   "metadata": {
    "tags": []
   },
   "outputs": [],
   "source": [
    "smoke_df = pd.read_parquet(\"outputs/smoke_pm25_predicted_with_fips.parquet\")"
   ]
  },
  {
   "cell_type": "code",
   "execution_count": 11,
   "id": "8ba91343-f670-4440-9278-2d70b6fdd46e",
   "metadata": {
    "tags": []
   },
   "outputs": [
    {
     "data": {
      "text/html": [
       "<div>\n",
       "<style scoped>\n",
       "    .dataframe tbody tr th:only-of-type {\n",
       "        vertical-align: middle;\n",
       "    }\n",
       "\n",
       "    .dataframe tbody tr th {\n",
       "        vertical-align: top;\n",
       "    }\n",
       "\n",
       "    .dataframe thead th {\n",
       "        text-align: right;\n",
       "    }\n",
       "</style>\n",
       "<table border=\"1\" class=\"dataframe\">\n",
       "  <thead>\n",
       "    <tr style=\"text-align: right;\">\n",
       "      <th></th>\n",
       "      <th></th>\n",
       "      <th>tmax</th>\n",
       "      <th>tmin</th>\n",
       "      <th>pm25</th>\n",
       "      <th>FIREDAY_NONE_ZEROS</th>\n",
       "    </tr>\n",
       "    <tr>\n",
       "      <th>time</th>\n",
       "      <th>FIPS</th>\n",
       "      <th></th>\n",
       "      <th></th>\n",
       "      <th></th>\n",
       "      <th></th>\n",
       "    </tr>\n",
       "  </thead>\n",
       "  <tbody>\n",
       "    <tr>\n",
       "      <th rowspan=\"5\" valign=\"top\">2005-12-31</th>\n",
       "      <th>1765.0</th>\n",
       "      <td>13.350000</td>\n",
       "      <td>7.850000</td>\n",
       "      <td>4.986000</td>\n",
       "      <td>NaN</td>\n",
       "    </tr>\n",
       "    <tr>\n",
       "      <th>1766.0</th>\n",
       "      <td>14.950006</td>\n",
       "      <td>8.249994</td>\n",
       "      <td>5.500000</td>\n",
       "      <td>NaN</td>\n",
       "    </tr>\n",
       "    <tr>\n",
       "      <th>1767.0</th>\n",
       "      <td>14.950006</td>\n",
       "      <td>8.249994</td>\n",
       "      <td>5.486667</td>\n",
       "      <td>NaN</td>\n",
       "    </tr>\n",
       "    <tr>\n",
       "      <th>1768.0</th>\n",
       "      <td>14.950006</td>\n",
       "      <td>8.249994</td>\n",
       "      <td>5.437778</td>\n",
       "      <td>NaN</td>\n",
       "    </tr>\n",
       "    <tr>\n",
       "      <th>1769.0</th>\n",
       "      <td>14.950006</td>\n",
       "      <td>8.249994</td>\n",
       "      <td>5.480000</td>\n",
       "      <td>NaN</td>\n",
       "    </tr>\n",
       "  </tbody>\n",
       "</table>\n",
       "</div>"
      ],
      "text/plain": [
       "                        tmax      tmin      pm25  FIREDAY_NONE_ZEROS\n",
       "time       FIPS                                                     \n",
       "2005-12-31 1765.0  13.350000  7.850000  4.986000                 NaN\n",
       "           1766.0  14.950006  8.249994  5.500000                 NaN\n",
       "           1767.0  14.950006  8.249994  5.486667                 NaN\n",
       "           1768.0  14.950006  8.249994  5.437778                 NaN\n",
       "           1769.0  14.950006  8.249994  5.480000                 NaN"
      ]
     },
     "execution_count": 11,
     "metadata": {},
     "output_type": "execute_result"
    }
   ],
   "source": [
    "df.head()"
   ]
  },
  {
   "cell_type": "code",
   "execution_count": 12,
   "id": "4c92764f-aa7e-4a2f-8037-6f561f579984",
   "metadata": {
    "tags": []
   },
   "outputs": [
    {
     "data": {
      "text/plain": [
       "52543404"
      ]
     },
     "execution_count": 12,
     "metadata": {},
     "output_type": "execute_result"
    }
   ],
   "source": [
    "len(df)"
   ]
  },
  {
   "cell_type": "code",
   "execution_count": 13,
   "id": "872d4fab-89d5-4086-aa72-cba7f655b99a",
   "metadata": {
    "tags": []
   },
   "outputs": [
    {
     "data": {
      "text/plain": [
       "2599492"
      ]
     },
     "execution_count": 13,
     "metadata": {},
     "output_type": "execute_result"
    }
   ],
   "source": [
    "len(smoke_df)"
   ]
  },
  {
   "cell_type": "code",
   "execution_count": 16,
   "id": "df021ede-5e31-463a-aac1-cb44c0ad3567",
   "metadata": {
    "tags": []
   },
   "outputs": [
    {
     "data": {
      "text/plain": [
       "2538869"
      ]
     },
     "execution_count": 16,
     "metadata": {},
     "output_type": "execute_result"
    }
   ],
   "source": [
    "len(smoke_df)"
   ]
  },
  {
   "cell_type": "code",
   "execution_count": 15,
   "id": "48d180ab-f7b3-46ec-bab1-fb3adbd0e773",
   "metadata": {
    "tags": []
   },
   "outputs": [],
   "source": [
    "smoke_df = smoke_df.groupby([\"time\",\"FIPS\"]).first()"
   ]
  },
  {
   "cell_type": "code",
   "execution_count": 17,
   "id": "1530ecd5-2698-42f2-8f93-b8cf89e11a09",
   "metadata": {
    "tags": []
   },
   "outputs": [
    {
     "data": {
      "text/html": [
       "<div>\n",
       "<style scoped>\n",
       "    .dataframe tbody tr th:only-of-type {\n",
       "        vertical-align: middle;\n",
       "    }\n",
       "\n",
       "    .dataframe tbody tr th {\n",
       "        vertical-align: top;\n",
       "    }\n",
       "\n",
       "    .dataframe thead th {\n",
       "        text-align: right;\n",
       "    }\n",
       "</style>\n",
       "<table border=\"1\" class=\"dataframe\">\n",
       "  <thead>\n",
       "    <tr style=\"text-align: right;\">\n",
       "      <th></th>\n",
       "      <th></th>\n",
       "      <th>GEOID</th>\n",
       "      <th>smokePM_pred</th>\n",
       "    </tr>\n",
       "    <tr>\n",
       "      <th>time</th>\n",
       "      <th>FIPS</th>\n",
       "      <th></th>\n",
       "      <th></th>\n",
       "    </tr>\n",
       "  </thead>\n",
       "  <tbody>\n",
       "    <tr>\n",
       "      <th rowspan=\"5\" valign=\"top\">2006-01-03</th>\n",
       "      <th>2677.0</th>\n",
       "      <td>6025010101</td>\n",
       "      <td>2.294267</td>\n",
       "    </tr>\n",
       "    <tr>\n",
       "      <th>2678.0</th>\n",
       "      <td>6025010102</td>\n",
       "      <td>2.345547</td>\n",
       "    </tr>\n",
       "    <tr>\n",
       "      <th>2679.0</th>\n",
       "      <td>6025010200</td>\n",
       "      <td>2.481742</td>\n",
       "    </tr>\n",
       "    <tr>\n",
       "      <th>2680.0</th>\n",
       "      <td>6025010300</td>\n",
       "      <td>1.667545</td>\n",
       "    </tr>\n",
       "    <tr>\n",
       "      <th>2681.0</th>\n",
       "      <td>6025010500</td>\n",
       "      <td>1.735179</td>\n",
       "    </tr>\n",
       "  </tbody>\n",
       "</table>\n",
       "</div>"
      ],
      "text/plain": [
       "                        GEOID  smokePM_pred\n",
       "time       FIPS                            \n",
       "2006-01-03 2677.0  6025010101      2.294267\n",
       "           2678.0  6025010102      2.345547\n",
       "           2679.0  6025010200      2.481742\n",
       "           2680.0  6025010300      1.667545\n",
       "           2681.0  6025010500      1.735179"
      ]
     },
     "execution_count": 17,
     "metadata": {},
     "output_type": "execute_result"
    }
   ],
   "source": [
    "smoke_df.head()"
   ]
  },
  {
   "cell_type": "code",
   "execution_count": 19,
   "id": "435f2a1e-ca46-4289-b765-bd821b33e15d",
   "metadata": {
    "tags": []
   },
   "outputs": [],
   "source": [
    "merged = df.join(smoke_df)"
   ]
  },
  {
   "cell_type": "code",
   "execution_count": 21,
   "id": "6783a210-d4d5-4e39-87c9-7a08e2066f34",
   "metadata": {
    "tags": []
   },
   "outputs": [
    {
     "data": {
      "text/plain": [
       "52543404"
      ]
     },
     "execution_count": 21,
     "metadata": {},
     "output_type": "execute_result"
    }
   ],
   "source": [
    "len(merged)"
   ]
  },
  {
   "cell_type": "code",
   "execution_count": 23,
   "id": "0fe13bb4-9523-4eb3-89ae-5e54ad7c42d9",
   "metadata": {
    "tags": []
   },
   "outputs": [],
   "source": [
    "merged = merged.drop(columns=\"GEOID\")"
   ]
  },
  {
   "cell_type": "code",
   "execution_count": 24,
   "id": "71a91a76-9c3c-4747-a49f-f4f1740270ef",
   "metadata": {
    "tags": []
   },
   "outputs": [],
   "source": [
    "merged.to_parquet(\"outputs/esri_tmin_tmax_pm25_wf_smokePM_pred_merged.parquet\")"
   ]
  },
  {
   "cell_type": "code",
   "execution_count": null,
   "id": "b587c9ac-6c2c-42c3-839a-15673580ee20",
   "metadata": {},
   "outputs": [],
   "source": []
  }
 ],
 "metadata": {
  "kernelspec": {
   "display_name": "Python 3 (ipykernel)",
   "language": "python",
   "name": "python3"
  },
  "language_info": {
   "codemirror_mode": {
    "name": "ipython",
    "version": 3
   },
   "file_extension": ".py",
   "mimetype": "text/x-python",
   "name": "python",
   "nbconvert_exporter": "python",
   "pygments_lexer": "ipython3",
   "version": "3.9.12"
  }
 },
 "nbformat": 4,
 "nbformat_minor": 5
}
