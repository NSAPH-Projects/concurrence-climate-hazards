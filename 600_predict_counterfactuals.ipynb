{
 "cells": [
  {
   "cell_type": "markdown",
   "metadata": {},
   "source": [
    "## Counterfactual Predictions with Ensemble Learning"
   ]
  },
  {
   "cell_type": "markdown",
   "metadata": {},
   "source": [
    "We implement a counterfactual generator that trains a model and a test dataset and generates counterfactuals for each test sample. The model is based on ensemble learning using a library AutoGluon. We use climate data from California in 2020 for input data.\n"
   ]
  },
  {
   "cell_type": "code",
   "execution_count": 16,
   "metadata": {},
   "outputs": [],
   "source": [
    "import os\n",
    "import numpy as np\n",
    "import pandas as pd\n",
    "from pytorch_lightning import seed_everything\n",
    "from autogluon.tabular import TabularDataset, TabularPredictor"
   ]
  },
  {
   "cell_type": "code",
   "execution_count": 21,
   "metadata": {},
   "outputs": [],
   "source": [
    "df = pd.read_csv('data/demo/climate_exposure_ca_2020.csv')"
   ]
  },
  {
   "cell_type": "code",
   "execution_count": 23,
   "metadata": {},
   "outputs": [],
   "source": [
    "treatment = 'avg_smoke_pm_jul'\n",
    "outcome = 'EP_MINRTY'"
   ]
  },
  {
   "cell_type": "code",
   "execution_count": 25,
   "metadata": {},
   "outputs": [],
   "source": [
    "df = df[df[treatment].notna()]\n",
    "# remove nans from training data\n",
    "dftrain = df[~np.isnan(df[outcome])]\n",
    "train_data = TabularDataset(dftrain)"
   ]
  },
  {
   "cell_type": "code",
   "execution_count": 26,
   "metadata": {},
   "outputs": [
    {
     "name": "stderr",
     "output_type": "stream",
     "text": [
      "No path specified. Models will be saved in: \"AutogluonModels/ag-20230902_152810/\"\n",
      "Beginning AutoGluon training ...\n",
      "AutoGluon will save models to \"AutogluonModels/ag-20230902_152810/\"\n",
      "AutoGluon Version:  0.8.2\n",
      "Python Version:     3.9.12\n",
      "Operating System:   Darwin\n",
      "Platform Machine:   arm64\n",
      "Platform Version:   Darwin Kernel Version 21.4.0: Mon Feb 21 20:35:58 PST 2022; root:xnu-8020.101.4~2/RELEASE_ARM64_T6000\n",
      "Disk Space Avail:   213.59 GB / 994.66 GB (21.5%)\n",
      "Train Data Rows:    8616\n",
      "Train Data Columns: 31\n",
      "Label Column: EP_MINRTY\n",
      "Preprocessing data ...\n",
      "AutoGluon infers your prediction problem is: 'regression' (because dtype of label-column == float and many unique label-values observed).\n",
      "\tLabel info (max, min, mean, stddev): (100.0, 0.0, 61.83482, 25.71617)\n",
      "\tIf 'regression' is not the correct problem_type, please manually specify the problem_type parameter during predictor init (You may specify problem_type as one of: ['binary', 'multiclass', 'regression'])\n",
      "Using Feature Generators to preprocess the data ...\n",
      "Fitting AutoMLPipelineFeatureGenerator...\n",
      "\tAvailable Memory:                    2872.04 MB\n",
      "\tTrain Data (Original)  Memory Usage: 2.14 MB (0.1% of available memory)\n",
      "\tInferring data type of each feature based on column values. Set feature_metadata_in to manually specify special dtypes of the features.\n",
      "\tStage 1 Generators:\n",
      "\t\tFitting AsTypeFeatureGenerator...\n",
      "\tStage 2 Generators:\n",
      "\t\tFitting FillNaFeatureGenerator...\n",
      "\tStage 3 Generators:\n",
      "\t\tFitting IdentityFeatureGenerator...\n",
      "\tStage 4 Generators:\n",
      "\t\tFitting DropUniqueFeatureGenerator...\n",
      "\tStage 5 Generators:\n",
      "\t\tFitting DropDuplicatesFeatureGenerator...\n",
      "\tTypes of features in original data (raw dtype, special dtypes):\n",
      "\t\t('float', []) : 28 | ['avg_tmax_jun', 'avg_tmax_jul', 'avg_tmax_aug', 'avg_tmax_sep', 'avg_tmax_oct', ...]\n",
      "\t\t('int', [])   :  3 | ['GEOID', 'POPULATION_2020', 'E_NOINT']\n",
      "\tTypes of features in processed data (raw dtype, special dtypes):\n",
      "\t\t('float', []) : 28 | ['avg_tmax_jun', 'avg_tmax_jul', 'avg_tmax_aug', 'avg_tmax_sep', 'avg_tmax_oct', ...]\n",
      "\t\t('int', [])   :  3 | ['GEOID', 'POPULATION_2020', 'E_NOINT']\n",
      "\t0.1s = Fit runtime\n",
      "\t31 features in original data used to generate 31 features in processed data.\n",
      "\tTrain Data (Processed) Memory Usage: 2.14 MB (0.1% of available memory)\n",
      "Data preprocessing and feature engineering runtime = 0.11s ...\n",
      "AutoGluon will gauge predictive performance using evaluation metric: 'root_mean_squared_error'\n",
      "\tThis metric's sign has been flipped to adhere to being higher_is_better. The metric score can be multiplied by -1 to get the metric value.\n",
      "\tTo change this, specify the eval_metric parameter of Predictor()\n",
      "Automatically generating train/validation split with holdout_frac=0.1, Train Rows: 7754, Val Rows: 862\n",
      "User-specified model hyperparameters to be fit:\n",
      "{\n",
      "\t'NN_TORCH': {},\n",
      "\t'GBM': [{'extra_trees': True, 'ag_args': {'name_suffix': 'XT'}}, {}, 'GBMLarge'],\n",
      "\t'CAT': {},\n",
      "\t'XGB': {},\n",
      "\t'FASTAI': {},\n",
      "\t'RF': [{'criterion': 'gini', 'ag_args': {'name_suffix': 'Gini', 'problem_types': ['binary', 'multiclass']}}, {'criterion': 'entropy', 'ag_args': {'name_suffix': 'Entr', 'problem_types': ['binary', 'multiclass']}}, {'criterion': 'squared_error', 'ag_args': {'name_suffix': 'MSE', 'problem_types': ['regression', 'quantile']}}],\n",
      "\t'XT': [{'criterion': 'gini', 'ag_args': {'name_suffix': 'Gini', 'problem_types': ['binary', 'multiclass']}}, {'criterion': 'entropy', 'ag_args': {'name_suffix': 'Entr', 'problem_types': ['binary', 'multiclass']}}, {'criterion': 'squared_error', 'ag_args': {'name_suffix': 'MSE', 'problem_types': ['regression', 'quantile']}}],\n",
      "\t'KNN': [{'weights': 'uniform', 'ag_args': {'name_suffix': 'Unif'}}, {'weights': 'distance', 'ag_args': {'name_suffix': 'Dist'}}],\n",
      "}\n",
      "Fitting 11 L1 models ...\n",
      "Fitting model: KNeighborsUnif ...\n",
      "\t-15.3088\t = Validation score   (-root_mean_squared_error)\n",
      "\t0.02s\t = Training   runtime\n",
      "\t0.34s\t = Validation runtime\n",
      "Fitting model: KNeighborsDist ...\n",
      "\t-14.9222\t = Validation score   (-root_mean_squared_error)\n",
      "\t0.01s\t = Training   runtime\n",
      "\t0.02s\t = Validation runtime\n",
      "Fitting model: LightGBMXT ...\n"
     ]
    },
    {
     "name": "stdout",
     "output_type": "stream",
     "text": [
      "[1000]\tvalid_set's rmse: 9.47886\n",
      "[2000]\tvalid_set's rmse: 9.37614\n",
      "[3000]\tvalid_set's rmse: 9.3776\n"
     ]
    },
    {
     "name": "stderr",
     "output_type": "stream",
     "text": [
      "\t-9.3728\t = Validation score   (-root_mean_squared_error)\n",
      "\t14.77s\t = Training   runtime\n",
      "\t0.03s\t = Validation runtime\n",
      "Fitting model: LightGBM ...\n",
      "\t-9.5063\t = Validation score   (-root_mean_squared_error)\n",
      "\t3.93s\t = Training   runtime\n",
      "\t0.01s\t = Validation runtime\n",
      "Fitting model: RandomForestMSE ...\n",
      "\t-11.2894\t = Validation score   (-root_mean_squared_error)\n",
      "\t4.8s\t = Training   runtime\n",
      "\t0.03s\t = Validation runtime\n",
      "Fitting model: CatBoost ...\n",
      "\t-9.1437\t = Validation score   (-root_mean_squared_error)\n",
      "\t25.16s\t = Training   runtime\n",
      "\t0.01s\t = Validation runtime\n",
      "Fitting model: ExtraTreesMSE ...\n",
      "\t-11.4142\t = Validation score   (-root_mean_squared_error)\n",
      "\t1.06s\t = Training   runtime\n",
      "\t0.03s\t = Validation runtime\n",
      "Fitting model: NeuralNetFastAI ...\n",
      "\tWarning: Exception caused NeuralNetFastAI to fail during training (ImportError)... Skipping this model.\n",
      "\t\tNo module named 'torch.mps'\n",
      "Fitting model: XGBoost ...\n",
      "\t-9.5644\t = Validation score   (-root_mean_squared_error)\n",
      "\t15.99s\t = Training   runtime\n",
      "\t0.02s\t = Validation runtime\n",
      "Fitting model: NeuralNetTorch ...\n",
      "\tWarning: Exception caused NeuralNetTorch to fail during training (ImportError)... Skipping this model.\n",
      "\t\tNo module named 'torch.mps'\n",
      "Fitting model: LightGBMLarge ...\n"
     ]
    },
    {
     "name": "stdout",
     "output_type": "stream",
     "text": [
      "[1000]\tvalid_set's rmse: 9.72927\n"
     ]
    },
    {
     "name": "stderr",
     "output_type": "stream",
     "text": [
      "\t-9.7241\t = Validation score   (-root_mean_squared_error)\n",
      "\t31.01s\t = Training   runtime\n",
      "\t0.05s\t = Validation runtime\n",
      "Fitting model: WeightedEnsemble_L2 ...\n",
      "\t-8.9674\t = Validation score   (-root_mean_squared_error)\n",
      "\t0.09s\t = Training   runtime\n",
      "\t0.0s\t = Validation runtime\n",
      "AutoGluon training complete, total runtime = 98.51s ... Best model: \"WeightedEnsemble_L2\"\n",
      "TabularPredictor saved. To load, use: predictor = TabularPredictor.load(\"AutogluonModels/ag-20230902_152810/\")\n"
     ]
    },
    {
     "name": "stdout",
     "output_type": "stream",
     "text": [
      "*** Summary of fit() ***\n",
      "Estimated performance of each model:\n",
      "                 model  score_val  pred_time_val   fit_time  pred_time_val_marginal  fit_time_marginal  stack_level  can_infer  fit_order\n",
      "0  WeightedEnsemble_L2  -8.967410       0.139963  90.961618                0.000194           0.091171            2       True         10\n",
      "1             CatBoost  -9.143704       0.012315  25.163025                0.012315          25.163025            1       True          6\n",
      "2           LightGBMXT  -9.372777       0.033465  14.773071                0.033465          14.773071            1       True          3\n",
      "3             LightGBM  -9.506263       0.008842   3.928576                0.008842           3.928576            1       True          4\n",
      "4              XGBoost  -9.564376       0.019053  15.988653                0.019053          15.988653            1       True          8\n",
      "5        LightGBMLarge  -9.724107       0.047623  31.010039                0.047623          31.010039            1       True          9\n",
      "6      RandomForestMSE -11.289429       0.033980   4.803699                0.033980           4.803699            1       True          5\n",
      "7        ExtraTreesMSE -11.414204       0.031678   1.062238                0.031678           1.062238            1       True          7\n",
      "8       KNeighborsDist -14.922166       0.018471   0.007083                0.018471           0.007083            1       True          2\n",
      "9       KNeighborsUnif -15.308796       0.336690   0.016237                0.336690           0.016237            1       True          1\n",
      "Number of models trained: 10\n",
      "Types of models trained:\n",
      "{'LGBModel', 'XTModel', 'XGBoostModel', 'RFModel', 'WeightedEnsembleModel', 'KNNModel', 'CatBoostModel'}\n",
      "Bagging used: False \n",
      "Multi-layer stack-ensembling used: False \n",
      "Feature Metadata (Processed):\n",
      "(raw dtype, special dtypes):\n",
      "('float', []) : 28 | ['avg_tmax_jun', 'avg_tmax_jul', 'avg_tmax_aug', 'avg_tmax_sep', 'avg_tmax_oct', ...]\n",
      "('int', [])   :  3 | ['GEOID', 'POPULATION_2020', 'E_NOINT']\n",
      "*** End of fit() summary ***\n"
     ]
    },
    {
     "name": "stderr",
     "output_type": "stream",
     "text": [
      "/Users/ant746/PycharmProjects/kate/env/lib/python3.9/site-packages/autogluon/core/utils/plots.py:169: UserWarning: AutoGluon summary plots cannot be created because bokeh is not installed. To see plots, please do: \"pip install bokeh==2.0.1\"\n",
      "  warnings.warn('AutoGluon summary plots cannot be created because bokeh is not installed. To see plots, please do: \"pip install bokeh==2.0.1\"')\n"
     ]
    }
   ],
   "source": [
    "# === Model fitting ===\n",
    "trainer = TabularPredictor(label=outcome)\n",
    "predictor = trainer.fit(\n",
    "    train_data\n",
    ")\n",
    "results = predictor.fit_summary()\n",
    "mu = predictor.predict(df)\n",
    "mu.name = mu.name + \"_pred\""
   ]
  },
  {
   "cell_type": "code",
   "execution_count": 29,
   "metadata": {},
   "outputs": [
    {
     "name": "stderr",
     "output_type": "stream",
     "text": [
      "No path specified. Models will be saved in: \"AutogluonModels/ag-20230902_153110/\"\n",
      "Beginning AutoGluon training ...\n",
      "AutoGluon will save models to \"AutogluonModels/ag-20230902_153110/\"\n",
      "AutoGluon Version:  0.8.2\n",
      "Python Version:     3.9.12\n",
      "Operating System:   Darwin\n",
      "Platform Machine:   arm64\n",
      "Platform Version:   Darwin Kernel Version 21.4.0: Mon Feb 21 20:35:58 PST 2022; root:xnu-8020.101.4~2/RELEASE_ARM64_T6000\n",
      "Disk Space Avail:   212.01 GB / 994.66 GB (21.3%)\n",
      "Train Data Rows:    8616\n",
      "Train Data Columns: 30\n",
      "Label Column: avg_smoke_pm_jul\n",
      "Preprocessing data ...\n",
      "AutoGluon infers your prediction problem is: 'regression' (because dtype of label-column == float and many unique label-values observed).\n",
      "\tLabel info (max, min, mean, stddev): (13.466997904162248, 0.0, 0.1968, 0.43993)\n",
      "\tIf 'regression' is not the correct problem_type, please manually specify the problem_type parameter during predictor init (You may specify problem_type as one of: ['binary', 'multiclass', 'regression'])\n",
      "Using Feature Generators to preprocess the data ...\n",
      "Fitting AutoMLPipelineFeatureGenerator...\n",
      "\tAvailable Memory:                    3369.34 MB\n",
      "\tTrain Data (Original)  Memory Usage: 2.07 MB (0.1% of available memory)\n",
      "\tInferring data type of each feature based on column values. Set feature_metadata_in to manually specify special dtypes of the features.\n",
      "\tStage 1 Generators:\n",
      "\t\tFitting AsTypeFeatureGenerator...\n",
      "\tStage 2 Generators:\n",
      "\t\tFitting FillNaFeatureGenerator...\n",
      "\tStage 3 Generators:\n",
      "\t\tFitting IdentityFeatureGenerator...\n",
      "\tStage 4 Generators:\n",
      "\t\tFitting DropUniqueFeatureGenerator...\n",
      "\tStage 5 Generators:\n",
      "\t\tFitting DropDuplicatesFeatureGenerator...\n",
      "\tTypes of features in original data (raw dtype, special dtypes):\n",
      "\t\t('float', []) : 27 | ['EP_AGE17', 'EP_AGE65', 'EP_LIMENG', 'EP_POV150', 'EP_UNEMP', ...]\n",
      "\t\t('int', [])   :  3 | ['E_NOINT', 'GEOID', 'POPULATION_2020']\n",
      "\tTypes of features in processed data (raw dtype, special dtypes):\n",
      "\t\t('float', []) : 27 | ['EP_AGE17', 'EP_AGE65', 'EP_LIMENG', 'EP_POV150', 'EP_UNEMP', ...]\n",
      "\t\t('int', [])   :  3 | ['E_NOINT', 'GEOID', 'POPULATION_2020']\n",
      "\t0.1s = Fit runtime\n",
      "\t30 features in original data used to generate 30 features in processed data.\n",
      "\tTrain Data (Processed) Memory Usage: 2.07 MB (0.1% of available memory)\n",
      "Data preprocessing and feature engineering runtime = 0.12s ...\n",
      "AutoGluon will gauge predictive performance using evaluation metric: 'root_mean_squared_error'\n",
      "\tThis metric's sign has been flipped to adhere to being higher_is_better. The metric score can be multiplied by -1 to get the metric value.\n",
      "\tTo change this, specify the eval_metric parameter of Predictor()\n",
      "Automatically generating train/validation split with holdout_frac=0.1, Train Rows: 7754, Val Rows: 862\n",
      "User-specified model hyperparameters to be fit:\n",
      "{\n",
      "\t'NN_TORCH': {},\n",
      "\t'GBM': [{'extra_trees': True, 'ag_args': {'name_suffix': 'XT'}}, {}, 'GBMLarge'],\n",
      "\t'CAT': {},\n",
      "\t'XGB': {},\n",
      "\t'FASTAI': {},\n",
      "\t'RF': [{'criterion': 'gini', 'ag_args': {'name_suffix': 'Gini', 'problem_types': ['binary', 'multiclass']}}, {'criterion': 'entropy', 'ag_args': {'name_suffix': 'Entr', 'problem_types': ['binary', 'multiclass']}}, {'criterion': 'squared_error', 'ag_args': {'name_suffix': 'MSE', 'problem_types': ['regression', 'quantile']}}],\n",
      "\t'XT': [{'criterion': 'gini', 'ag_args': {'name_suffix': 'Gini', 'problem_types': ['binary', 'multiclass']}}, {'criterion': 'entropy', 'ag_args': {'name_suffix': 'Entr', 'problem_types': ['binary', 'multiclass']}}, {'criterion': 'squared_error', 'ag_args': {'name_suffix': 'MSE', 'problem_types': ['regression', 'quantile']}}],\n",
      "\t'KNN': [{'weights': 'uniform', 'ag_args': {'name_suffix': 'Unif'}}, {'weights': 'distance', 'ag_args': {'name_suffix': 'Dist'}}],\n",
      "}\n",
      "Fitting 11 L1 models ...\n",
      "Fitting model: KNeighborsUnif ...\n",
      "\t-0.2487\t = Validation score   (-root_mean_squared_error)\n",
      "\t0.01s\t = Training   runtime\n",
      "\t0.37s\t = Validation runtime\n",
      "Fitting model: KNeighborsDist ...\n",
      "\t-0.2366\t = Validation score   (-root_mean_squared_error)\n",
      "\t0.01s\t = Training   runtime\n",
      "\t0.79s\t = Validation runtime\n",
      "Fitting model: LightGBMXT ...\n"
     ]
    },
    {
     "name": "stdout",
     "output_type": "stream",
     "text": [
      "[1000]\tvalid_set's rmse: 0.257681\n",
      "[2000]\tvalid_set's rmse: 0.254583\n",
      "[3000]\tvalid_set's rmse: 0.254169\n",
      "[4000]\tvalid_set's rmse: 0.253772\n",
      "[5000]\tvalid_set's rmse: 0.253633\n",
      "[6000]\tvalid_set's rmse: 0.253485\n",
      "[7000]\tvalid_set's rmse: 0.2534\n",
      "[8000]\tvalid_set's rmse: 0.25336\n",
      "[9000]\tvalid_set's rmse: 0.253326\n",
      "[10000]\tvalid_set's rmse: 0.253302\n"
     ]
    },
    {
     "name": "stderr",
     "output_type": "stream",
     "text": [
      "\t-0.2533\t = Validation score   (-root_mean_squared_error)\n",
      "\t41.84s\t = Training   runtime\n",
      "\t0.14s\t = Validation runtime\n",
      "Fitting model: LightGBM ...\n"
     ]
    },
    {
     "name": "stdout",
     "output_type": "stream",
     "text": [
      "[1000]\tvalid_set's rmse: 0.265053\n",
      "[2000]\tvalid_set's rmse: 0.262371\n",
      "[3000]\tvalid_set's rmse: 0.262194\n"
     ]
    },
    {
     "name": "stderr",
     "output_type": "stream",
     "text": [
      "\t-0.262\t = Validation score   (-root_mean_squared_error)\n",
      "\t13.75s\t = Training   runtime\n",
      "\t0.04s\t = Validation runtime\n",
      "Fitting model: RandomForestMSE ...\n",
      "\t-0.3197\t = Validation score   (-root_mean_squared_error)\n",
      "\t5.91s\t = Training   runtime\n",
      "\t0.03s\t = Validation runtime\n",
      "Fitting model: CatBoost ...\n",
      "\t-0.2207\t = Validation score   (-root_mean_squared_error)\n",
      "\t36.5s\t = Training   runtime\n",
      "\t0.02s\t = Validation runtime\n",
      "Fitting model: ExtraTreesMSE ...\n",
      "\t-0.2729\t = Validation score   (-root_mean_squared_error)\n",
      "\t0.81s\t = Training   runtime\n",
      "\t0.03s\t = Validation runtime\n",
      "Fitting model: NeuralNetFastAI ...\n",
      "\tWarning: Exception caused NeuralNetFastAI to fail during training (ImportError)... Skipping this model.\n",
      "\t\tNo module named 'torch.mps'\n",
      "Fitting model: XGBoost ...\n",
      "\t-0.2996\t = Validation score   (-root_mean_squared_error)\n",
      "\t7.93s\t = Training   runtime\n",
      "\t0.01s\t = Validation runtime\n",
      "Fitting model: NeuralNetTorch ...\n",
      "\tWarning: Exception caused NeuralNetTorch to fail during training (ImportError)... Skipping this model.\n",
      "\t\tNo module named 'torch.mps'\n",
      "Fitting model: LightGBMLarge ...\n",
      "\t-0.2628\t = Validation score   (-root_mean_squared_error)\n",
      "\t7.23s\t = Training   runtime\n",
      "\t0.01s\t = Validation runtime\n",
      "Fitting model: WeightedEnsemble_L2 ...\n",
      "\t-0.2125\t = Validation score   (-root_mean_squared_error)\n",
      "\t0.1s\t = Training   runtime\n",
      "\t0.0s\t = Validation runtime\n",
      "AutoGluon training complete, total runtime = 116.46s ... Best model: \"WeightedEnsemble_L2\"\n",
      "TabularPredictor saved. To load, use: predictor = TabularPredictor.load(\"AutogluonModels/ag-20230902_153110/\")\n"
     ]
    }
   ],
   "source": [
    "treat_trainer = TabularPredictor(label=treatment)\n",
    "treat_train_data = TabularDataset(\n",
    "    dftrain[dftrain.columns.difference([outcome])]\n",
    ")\n",
    "treat_predictor = treat_trainer.fit(treat_train_data)"
   ]
  },
  {
   "cell_type": "code",
   "execution_count": 36,
   "metadata": {},
   "outputs": [],
   "source": [
    "# === Counterfactual generation ===\n",
    "A = df[treatment]\n",
    "amin, amax = np.nanmin(A), np.nanmax(A)\n",
    "n_bins = 300 # len(np.unique(A))\n",
    "avals = np.linspace(amin, amax, n_bins)\n",
    "\n",
    "mu_cf = []\n",
    "for a in avals:\n",
    "    cfdata = df.copy()\n",
    "    cfdata[treatment] = a\n",
    "    cfdata = TabularDataset(cfdata)\n",
    "    predicted = predictor.predict(cfdata)\n",
    "    mu_cf.append(predicted)\n",
    "mu_cf = pd.concat(mu_cf, axis=1)"
   ]
  },
  {
   "cell_type": "code",
   "execution_count": 39,
   "metadata": {},
   "outputs": [
    {
     "data": {
      "text/plain": [
       "Text(0.5, 1.0, 'Counterfactuals')"
      ]
     },
     "execution_count": 39,
     "metadata": {},
     "output_type": "execute_result"
    },
    {
     "data": {
      "image/png": "[encoded data removed]",
      "text/plain": [
       "<Figure size 400x300 with 1 Axes>"
      ]
     },
     "metadata": {},
     "output_type": "display_data"
    }
   ],
   "source": [
    "ix = np.random.choice(len(df), 50)\n",
    "cfpred_sample = mu_cf.iloc[ix].values\n",
    "fig, ax = plt.subplots(figsize=(4, 3))\n",
    "ax.plot(avals, cfpred_sample.T, color=\"gray\", alpha=0.2)\n",
    "ax.scatter(A.iloc[ix], mu.iloc[ix], color=\"red\")\n",
    "\n",
    "# Draw a line for the ATE\n",
    "ax.plot(\n",
    "    avals,\n",
    "    mu_cf.mean(),\n",
    "    color=\"red\",\n",
    "    linestyle=\"--\",\n",
    "    label=\"Average Treatment Effect\",\n",
    "    alpha=0.5,\n",
    ")\n",
    "ax.legend()\n",
    "\n",
    "ax.set_xlabel(treatment)\n",
    "ax.set_ylabel(outcome)\n",
    "ax.set_title(\"Counterfactuals\")"
   ]
  },
  {
   "cell_type": "code",
   "execution_count": null,
   "metadata": {},
   "outputs": [],
   "source": []
  }
 ],
 "metadata": {
  "kernelspec": {
   "display_name": "space",
   "language": "python",
   "name": "space"
  },
  "language_info": {
   "codemirror_mode": {
    "name": "ipython",
    "version": 3
   },
   "file_extension": ".py",
   "mimetype": "text/x-python",
   "name": "python",
   "nbconvert_exporter": "python",
   "pygments_lexer": "ipython3",
   "version": "3.9.12"
  },
  "orig_nbformat": 4
 },
 "nbformat": 4,
 "nbformat_minor": 2
}
