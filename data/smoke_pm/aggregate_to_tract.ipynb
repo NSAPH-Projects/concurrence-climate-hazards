{
 "cells": [
  {
   "cell_type": "code",
   "execution_count": 113,
   "id": "78b27e16-3e36-455f-a129-cbe7c84efbb2",
   "metadata": {
    "tags": []
   },
   "outputs": [],
   "source": [
    "import geopandas as gpd\n",
    "import pandas as pd\n",
    "from shapely.geometry import Point\n",
    "import numpy as np\n",
    "from pathlib import Path"
   ]
  },
  {
   "cell_type": "markdown",
   "id": "2d85788a-4e59-4419-8fb9-ed0fddc726cc",
   "metadata": {},
   "source": [
    "## Tract map intersection with 10km_grid"
   ]
  },
  {
   "cell_type": "code",
   "execution_count": 114,
   "id": "4e49d91d-1709-45a6-bb0a-465ebfec1972",
   "metadata": {
    "tags": []
   },
   "outputs": [],
   "source": [
    "unit_gdf = gpd.read_file('../shapefiles/tl_2020_06_tract/tl_2020_06_tract.shp')"
   ]
  },
  {
   "cell_type": "code",
   "execution_count": 115,
   "id": "749f518c-0b9f-4aed-86d4-4e63cac3fb71",
   "metadata": {
    "tags": []
   },
   "outputs": [],
   "source": [
    "grid_10km = gpd.read_file('10km_grid_wgs84/10km_grid_wgs84.shp')"
   ]
  },
  {
   "cell_type": "code",
   "execution_count": 116,
   "id": "73493ea5-8c1e-4d21-b7da-a06966af4a70",
   "metadata": {
    "tags": []
   },
   "outputs": [],
   "source": [
    "grid_10km = grid_10km.to_crs(unit_gdf.crs)"
   ]
  },
  {
   "cell_type": "code",
   "execution_count": 117,
   "id": "c7f6b540-3873-4195-9621-788f436aa51b",
   "metadata": {
    "tags": []
   },
   "outputs": [],
   "source": [
    "# make a crosswalk with intersection area with grid cells\n",
    "unit_cross = gpd.overlay(unit_gdf, grid_10km, how='intersection')"
   ]
  },
  {
   "cell_type": "code",
   "execution_count": 118,
   "id": "e5e5c091-e2a7-4c55-b68a-4d42d2f30bba",
   "metadata": {
    "tags": []
   },
   "outputs": [],
   "source": [
    "unit_cross = unit_cross.to_crs('EPSG:2227')"
   ]
  },
  {
   "cell_type": "code",
   "execution_count": 119,
   "id": "6a838c0d-9ef8-4bd4-9909-3055db74892e",
   "metadata": {
    "tags": []
   },
   "outputs": [],
   "source": [
    "unit_cross['area'] = unit_cross.geometry.area"
   ]
  },
  {
   "cell_type": "code",
   "execution_count": 120,
   "id": "437fd8d9-6341-4237-ae2f-46c371c65cda",
   "metadata": {
    "tags": []
   },
   "outputs": [],
   "source": [
    "unit_cross = unit_cross[['GEOID', 'ID', 'area']]"
   ]
  },
  {
   "cell_type": "markdown",
   "id": "10ae38b6-4b37-48cd-9e74-aacaa915f3b2",
   "metadata": {},
   "source": [
    "## Load population"
   ]
  },
  {
   "cell_type": "code",
   "execution_count": 121,
   "id": "a9daad6d-45bc-48a2-a792-97570bc76bf9",
   "metadata": {
    "tags": []
   },
   "outputs": [],
   "source": [
    "csv_files = [\n",
    "    \"populationDensity_10km_subgrid_1.csv\",\n",
    "    \"populationDensity_10km_subgrid_2.csv\",\n",
    "    \"populationDensity_10km_subgrid_3.csv\",\n",
    "    \"populationDensity_10km_subgrid_4.csv\",\n",
    "    \"populationDensity_10km_subgrid_5.csv\",\n",
    "    \"populationDensity_10km_subgrid_6.csv\",\n",
    "    \"populationDensity_10km_subgrid_7.csv\",\n",
    "    \"populationDensity_10km_subgrid_8.csv\",\n",
    "    \"populationDensity_10km_subgrid_9.csv\",\n",
    "    \"populationDensity_10km_subgrid_10.csv\",\n",
    "]\n",
    "\n",
    "# Read and combine CSV files\n",
    "dfs = [pd.read_csv(\"populationDensity_10km_subgrid/\"+file) for file in csv_files]\n",
    "pop = pd.concat(dfs, ignore_index=True)"
   ]
  },
  {
   "cell_type": "markdown",
   "id": "833f4f8c-deef-4b85-b6fd-f3df60eec023",
   "metadata": {},
   "source": [
    "## Load Smoke PM"
   ]
  },
  {
   "cell_type": "code",
   "execution_count": 158,
   "id": "bfa73658-e181-4bdf-a140-edd0334aae7e",
   "metadata": {
    "tags": []
   },
   "outputs": [],
   "source": [
    "df = pd.read_csv('smokePM2pt5_predictions_daily_10km_20060101-20201231.csv')\n",
    "df['date'] = pd.to_datetime(df['date'], format='%Y%m%d')"
   ]
  },
  {
   "cell_type": "markdown",
   "id": "116ac34d-2871-45d9-a0e4-b7a1ff811f7b",
   "metadata": {},
   "source": [
    "## Get only 2020 for Space"
   ]
  },
  {
   "cell_type": "code",
   "execution_count": 159,
   "id": "f422be23-8a10-4c38-b630-2cbf69557a94",
   "metadata": {
    "tags": []
   },
   "outputs": [
    {
     "data": {
      "text/plain": [
       "51434138"
      ]
     },
     "execution_count": 159,
     "metadata": {},
     "output_type": "execute_result"
    }
   ],
   "source": [
    "len(df)"
   ]
  },
  {
   "cell_type": "code",
   "execution_count": 160,
   "id": "c8894796-f962-4c3f-acb1-3531a13a44c0",
   "metadata": {
    "tags": []
   },
   "outputs": [],
   "source": [
    "# df = df[df[\"date\"].dt.year==2020]"
   ]
  },
  {
   "cell_type": "code",
   "execution_count": 161,
   "id": "bc9fc6b1-9454-4539-9b09-c23a9f299b34",
   "metadata": {
    "tags": []
   },
   "outputs": [
    {
     "data": {
      "text/plain": [
       "51434138"
      ]
     },
     "execution_count": 161,
     "metadata": {},
     "output_type": "execute_result"
    }
   ],
   "source": [
    "len(df)"
   ]
  },
  {
   "cell_type": "markdown",
   "id": "67907dd5-857d-4bf7-8e3c-145b3ed79fa4",
   "metadata": {},
   "source": [
    "## Get weighted average on Tract"
   ]
  },
  {
   "cell_type": "code",
   "execution_count": 162,
   "id": "542c7d0f-e42a-4197-a5c4-6f32460bf509",
   "metadata": {
    "tags": []
   },
   "outputs": [],
   "source": [
    "# loop through work with one date at a time, concatenate the data frames from the dates\n",
    "unique_dates = df['date'].unique()"
   ]
  },
  {
   "cell_type": "code",
   "execution_count": 163,
   "id": "88455400-56d0-44e8-bceb-1fbbc0a58c92",
   "metadata": {
    "tags": []
   },
   "outputs": [],
   "source": [
    "def weighted_mean(df, values_col, weights_col):\n",
    "    temp = (df[values_col] * df[weights_col]).sum()\n",
    "    if temp:\n",
    "        return temp / df[weights_col].sum()\n",
    "    return temp"
   ]
  },
  {
   "cell_type": "code",
   "execution_count": 164,
   "id": "80274304-c791-4beb-942f-236c49cd5d87",
   "metadata": {
    "tags": []
   },
   "outputs": [],
   "source": [
    "smoke_pm = df"
   ]
  },
  {
   "cell_type": "code",
   "execution_count": null,
   "id": "ecbbb029-e831-47b2-a20b-82f7388bf711",
   "metadata": {
    "tags": []
   },
   "outputs": [],
   "source": [
    "avg_unit_smoke_pm = []\n",
    "for date in unique_dates:\n",
    "    smoke_pm_date = smoke_pm[smoke_pm['date'] == date]\n",
    "\n",
    "    smoke_pm_date_joined = unit_cross.merge(smoke_pm_date, left_on='ID', right_on='grid_id_10km', how='left')\n",
    "    smoke_pm_date_joined = smoke_pm_date_joined.merge(pop, on='ID', how='left')\n",
    "\n",
    "    smoke_pm_date_joined['smokePM_pred'] = smoke_pm_date_joined['smokePM_pred'].fillna(0)\n",
    "    smoke_pm_date_joined['pop'] = smoke_pm_date_joined['mean'] * smoke_pm_date_joined['area']\n",
    "\n",
    "    smoke_pm_date_agg = smoke_pm_date_joined.groupby(['GEOID']).apply(\n",
    "        lambda x: weighted_mean(x, 'smokePM_pred', 'pop')).reset_index()\n",
    "\n",
    "    #smoke_pm_date_agg.columns = ['GEOID', 'date', 'smokePM_pred']\n",
    "    smoke_pm_date_agg[\"date\"] = date\n",
    "    avg_unit_smoke_pm.append(smoke_pm_date_agg)\n",
    "\n",
    "avg_unit_smoke_pm = pd.concat(avg_unit_smoke_pm, ignore_index=True)"
   ]
  },
  {
   "cell_type": "code",
   "execution_count": null,
   "id": "13e39d74-faad-4b40-82f7-ad6b5ec84a97",
   "metadata": {
    "tags": []
   },
   "outputs": [],
   "source": [
    "avg_unit_smoke_pm[avg_unit_smoke_pm[0] != 0]"
   ]
  },
  {
   "cell_type": "code",
   "execution_count": null,
   "id": "f3e6ebc7-55a1-4e6d-84e7-beb38cf7f46c",
   "metadata": {
    "tags": []
   },
   "outputs": [],
   "source": [
    "avg_unit_smoke_pm = avg_unit_smoke_pm.rename(columns= {0:\"smoke_pm\"})"
   ]
  },
  {
   "cell_type": "code",
   "execution_count": null,
   "id": "59062aa0-bf90-45d2-879f-411f7a4f2bee",
   "metadata": {
    "tags": []
   },
   "outputs": [],
   "source": [
    "# Save the aggregated PM2.5 data\n",
    "# avg_unit_smoke_pm.to_csv(\"smoke_pm_2020.csv\", index=False)"
   ]
  },
  {
   "cell_type": "code",
   "execution_count": null,
   "id": "be67a440-8fdc-49b9-97e2-90c7c80f4248",
   "metadata": {
    "tags": []
   },
   "outputs": [],
   "source": [
    "# Save the aggregated PM2.5 data\n",
    "avg_unit_smoke_pm.to_csv(\"smoke_pm_all_time_2020_map.csv\", index=False)"
   ]
  },
  {
   "cell_type": "code",
   "execution_count": 157,
   "id": "e82339b2-72ad-4e65-b53a-ffed75174934",
   "metadata": {
    "tags": []
   },
   "outputs": [
    {
     "data": {
      "text/plain": [
       "Timestamp('2020-12-31 00:00:00')"
      ]
     },
     "execution_count": 157,
     "metadata": {},
     "output_type": "execute_result"
    }
   ],
   "source": [
    "avg_unit_smoke_pm.date.max()"
   ]
  },
  {
   "cell_type": "code",
   "execution_count": null,
   "id": "23ccc20a-ada0-4f98-a232-af84dd437082",
   "metadata": {},
   "outputs": [],
   "source": []
  }
 ],
 "metadata": {
  "kernelspec": {
   "display_name": "Python 3 (ipykernel)",
   "language": "python",
   "name": "python3"
  },
  "language_info": {
   "codemirror_mode": {
    "name": "ipython",
    "version": 3
   },
   "file_extension": ".py",
   "mimetype": "text/x-python",
   "name": "python",
   "nbconvert_exporter": "python",
   "pygments_lexer": "ipython3",
   "version": "3.10.11"
  }
 },
 "nbformat": 4,
 "nbformat_minor": 5
}
