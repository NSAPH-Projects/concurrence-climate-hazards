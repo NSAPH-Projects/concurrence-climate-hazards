{
 "cells": [
  {
   "cell_type": "code",
   "execution_count": 1,
   "id": "ee0c4e3f",
   "metadata": {},
   "outputs": [],
   "source": [
    "df<-read.csv('data/table_b/table_b.csv')"
   ]
  },
  {
   "cell_type": "code",
   "execution_count": 22,
   "id": "41684ef8",
   "metadata": {},
   "outputs": [
    {
     "name": "stdout",
     "output_type": "stream",
     "text": [
      "\n",
      "The downloaded binary packages are in\n",
      "\t/var/folders/c8/zxmzm4y174796qnp27z4hb7r0000gn/T//Rtmp8laum2/downloaded_packages\n",
      "\n",
      "The downloaded binary packages are in\n",
      "\t/var/folders/c8/zxmzm4y174796qnp27z4hb7r0000gn/T//Rtmp8laum2/downloaded_packages\n"
     ]
    },
    {
     "name": "stderr",
     "output_type": "stream",
     "text": [
      "also installing the dependencies ‘triebeard’, ‘urltools’, ‘httpcode’, ‘crul’, ‘fontBitstreamVera’, ‘fontLiberation’, ‘gfonts’, ‘fontquiver’, ‘gdtools’, ‘data.table’\n",
      "\n",
      "\n"
     ]
    },
    {
     "name": "stdout",
     "output_type": "stream",
     "text": [
      "\n",
      "The downloaded binary packages are in\n",
      "\t/var/folders/c8/zxmzm4y174796qnp27z4hb7r0000gn/T//Rtmp8laum2/downloaded_packages\n"
     ]
    }
   ],
   "source": [
    "install.packages(\"dplyr\")\n",
    "install.packages(\"officer\") \n",
    "install.packages(\"flextable\")"
   ]
  },
  {
   "cell_type": "code",
   "execution_count": 26,
   "id": "86e8f57c",
   "metadata": {},
   "outputs": [
    {
     "name": "stderr",
     "output_type": "stream",
     "text": [
      "Loading required package: ggplot2\n",
      "\n",
      "Warning message in library(package, lib.loc = lib.loc, character.only = TRUE, logical.return = TRUE, :\n",
      "“there is no package called ‘ggplot2’”\n",
      "Loading required package: msm\n",
      "\n",
      "Warning message in library(package, lib.loc = lib.loc, character.only = TRUE, logical.return = TRUE, :\n",
      "“there is no package called ‘msm’”\n",
      "Loading required package: officer\n",
      "\n",
      "Loading required package: flextable\n",
      "\n"
     ]
    }
   ],
   "source": [
    "require(ggplot2)\n",
    "require(sandwich)\n",
    "require(msm)\n",
    "require(dplyr)\n",
    "require(officer)\n",
    "require(flextable)"
   ]
  },
  {
   "cell_type": "code",
   "execution_count": 3,
   "id": "409636cc",
   "metadata": {},
   "outputs": [
    {
     "data": {
      "text/html": [
       "<style>\n",
       ".list-inline {list-style: none; margin:0; padding: 0}\n",
       ".list-inline>li {display: inline-block}\n",
       ".list-inline>li:not(:last-child)::after {content: \"\\00b7\"; padding: 0 .5ex}\n",
       "</style>\n",
       "<ol class=list-inline><li>'GEOID'</li><li>'heatday'</li><li>'wfday'</li><li>'coldday'</li><li>'polluted'</li><li>'smoke_pm_non_zero'</li><li>'smoke_pm_gt_five'</li><li>'hw'</li><li>'hp'</li><li>'hwp'</li><li>'hwps'</li><li>'hs'</li><li>'hws'</li><li>'ws'</li><li>'hs5'</li><li>'hws5'</li><li>'ws5'</li><li>'POPULATION_2020'</li><li>'POP20_SQMI'</li><li>'SQMI'</li><li>'FIPS'</li><li>'E_TOTPOP'</li><li>'M_TOTPOP'</li><li>'E_HU'</li><li>'M_HU'</li><li>'E_HH'</li><li>'M_HH'</li><li>'EP_POV150'</li><li>'MP_POV150'</li><li>'EP_UNEMP'</li><li>'MP_UNEMP'</li><li>'EP_HBURD'</li><li>'MP_HBURD'</li><li>'EP_NOHSDP'</li><li>'MP_NOHSDP'</li><li>'EP_UNINSUR'</li><li>'MP_UNINSUR'</li><li>'EP_AGE65'</li><li>'MP_AGE65'</li><li>'EP_AGE17'</li><li>'MP_AGE17'</li><li>'EP_DISABL'</li><li>'MP_DISABL'</li><li>'EP_SNGPNT'</li><li>'MP_SNGPNT'</li><li>'EP_LIMENG'</li><li>'MP_LIMENG'</li><li>'EP_MINRTY'</li><li>'MP_MINRTY'</li><li>'EP_NOVEH'</li><li>'MP_NOVEH'</li><li>'RPL_THEME1'</li><li>'RPL_THEME2'</li><li>'RPL_THEME3'</li><li>'RPL_THEME4'</li><li>'RPL_THEMES'</li></ol>\n"
      ],
      "text/latex": [
       "\\begin{enumerate*}\n",
       "\\item 'GEOID'\n",
       "\\item 'heatday'\n",
       "\\item 'wfday'\n",
       "\\item 'coldday'\n",
       "\\item 'polluted'\n",
       "\\item 'smoke\\_pm\\_non\\_zero'\n",
       "\\item 'smoke\\_pm\\_gt\\_five'\n",
       "\\item 'hw'\n",
       "\\item 'hp'\n",
       "\\item 'hwp'\n",
       "\\item 'hwps'\n",
       "\\item 'hs'\n",
       "\\item 'hws'\n",
       "\\item 'ws'\n",
       "\\item 'hs5'\n",
       "\\item 'hws5'\n",
       "\\item 'ws5'\n",
       "\\item 'POPULATION\\_2020'\n",
       "\\item 'POP20\\_SQMI'\n",
       "\\item 'SQMI'\n",
       "\\item 'FIPS'\n",
       "\\item 'E\\_TOTPOP'\n",
       "\\item 'M\\_TOTPOP'\n",
       "\\item 'E\\_HU'\n",
       "\\item 'M\\_HU'\n",
       "\\item 'E\\_HH'\n",
       "\\item 'M\\_HH'\n",
       "\\item 'EP\\_POV150'\n",
       "\\item 'MP\\_POV150'\n",
       "\\item 'EP\\_UNEMP'\n",
       "\\item 'MP\\_UNEMP'\n",
       "\\item 'EP\\_HBURD'\n",
       "\\item 'MP\\_HBURD'\n",
       "\\item 'EP\\_NOHSDP'\n",
       "\\item 'MP\\_NOHSDP'\n",
       "\\item 'EP\\_UNINSUR'\n",
       "\\item 'MP\\_UNINSUR'\n",
       "\\item 'EP\\_AGE65'\n",
       "\\item 'MP\\_AGE65'\n",
       "\\item 'EP\\_AGE17'\n",
       "\\item 'MP\\_AGE17'\n",
       "\\item 'EP\\_DISABL'\n",
       "\\item 'MP\\_DISABL'\n",
       "\\item 'EP\\_SNGPNT'\n",
       "\\item 'MP\\_SNGPNT'\n",
       "\\item 'EP\\_LIMENG'\n",
       "\\item 'MP\\_LIMENG'\n",
       "\\item 'EP\\_MINRTY'\n",
       "\\item 'MP\\_MINRTY'\n",
       "\\item 'EP\\_NOVEH'\n",
       "\\item 'MP\\_NOVEH'\n",
       "\\item 'RPL\\_THEME1'\n",
       "\\item 'RPL\\_THEME2'\n",
       "\\item 'RPL\\_THEME3'\n",
       "\\item 'RPL\\_THEME4'\n",
       "\\item 'RPL\\_THEMES'\n",
       "\\end{enumerate*}\n"
      ],
      "text/markdown": [
       "1. 'GEOID'\n",
       "2. 'heatday'\n",
       "3. 'wfday'\n",
       "4. 'coldday'\n",
       "5. 'polluted'\n",
       "6. 'smoke_pm_non_zero'\n",
       "7. 'smoke_pm_gt_five'\n",
       "8. 'hw'\n",
       "9. 'hp'\n",
       "10. 'hwp'\n",
       "11. 'hwps'\n",
       "12. 'hs'\n",
       "13. 'hws'\n",
       "14. 'ws'\n",
       "15. 'hs5'\n",
       "16. 'hws5'\n",
       "17. 'ws5'\n",
       "18. 'POPULATION_2020'\n",
       "19. 'POP20_SQMI'\n",
       "20. 'SQMI'\n",
       "21. 'FIPS'\n",
       "22. 'E_TOTPOP'\n",
       "23. 'M_TOTPOP'\n",
       "24. 'E_HU'\n",
       "25. 'M_HU'\n",
       "26. 'E_HH'\n",
       "27. 'M_HH'\n",
       "28. 'EP_POV150'\n",
       "29. 'MP_POV150'\n",
       "30. 'EP_UNEMP'\n",
       "31. 'MP_UNEMP'\n",
       "32. 'EP_HBURD'\n",
       "33. 'MP_HBURD'\n",
       "34. 'EP_NOHSDP'\n",
       "35. 'MP_NOHSDP'\n",
       "36. 'EP_UNINSUR'\n",
       "37. 'MP_UNINSUR'\n",
       "38. 'EP_AGE65'\n",
       "39. 'MP_AGE65'\n",
       "40. 'EP_AGE17'\n",
       "41. 'MP_AGE17'\n",
       "42. 'EP_DISABL'\n",
       "43. 'MP_DISABL'\n",
       "44. 'EP_SNGPNT'\n",
       "45. 'MP_SNGPNT'\n",
       "46. 'EP_LIMENG'\n",
       "47. 'MP_LIMENG'\n",
       "48. 'EP_MINRTY'\n",
       "49. 'MP_MINRTY'\n",
       "50. 'EP_NOVEH'\n",
       "51. 'MP_NOVEH'\n",
       "52. 'RPL_THEME1'\n",
       "53. 'RPL_THEME2'\n",
       "54. 'RPL_THEME3'\n",
       "55. 'RPL_THEME4'\n",
       "56. 'RPL_THEMES'\n",
       "\n",
       "\n"
      ],
      "text/plain": [
       " [1] \"GEOID\"             \"heatday\"           \"wfday\"            \n",
       " [4] \"coldday\"           \"polluted\"          \"smoke_pm_non_zero\"\n",
       " [7] \"smoke_pm_gt_five\"  \"hw\"                \"hp\"               \n",
       "[10] \"hwp\"               \"hwps\"              \"hs\"               \n",
       "[13] \"hws\"               \"ws\"                \"hs5\"              \n",
       "[16] \"hws5\"              \"ws5\"               \"POPULATION_2020\"  \n",
       "[19] \"POP20_SQMI\"        \"SQMI\"              \"FIPS\"             \n",
       "[22] \"E_TOTPOP\"          \"M_TOTPOP\"          \"E_HU\"             \n",
       "[25] \"M_HU\"              \"E_HH\"              \"M_HH\"             \n",
       "[28] \"EP_POV150\"         \"MP_POV150\"         \"EP_UNEMP\"         \n",
       "[31] \"MP_UNEMP\"          \"EP_HBURD\"          \"MP_HBURD\"         \n",
       "[34] \"EP_NOHSDP\"         \"MP_NOHSDP\"         \"EP_UNINSUR\"       \n",
       "[37] \"MP_UNINSUR\"        \"EP_AGE65\"          \"MP_AGE65\"         \n",
       "[40] \"EP_AGE17\"          \"MP_AGE17\"          \"EP_DISABL\"        \n",
       "[43] \"MP_DISABL\"         \"EP_SNGPNT\"         \"MP_SNGPNT\"        \n",
       "[46] \"EP_LIMENG\"         \"MP_LIMENG\"         \"EP_MINRTY\"        \n",
       "[49] \"MP_MINRTY\"         \"EP_NOVEH\"          \"MP_NOVEH\"         \n",
       "[52] \"RPL_THEME1\"        \"RPL_THEME2\"        \"RPL_THEME3\"       \n",
       "[55] \"RPL_THEME4\"        \"RPL_THEMES\"       "
      ]
     },
     "metadata": {},
     "output_type": "display_data"
    }
   ],
   "source": [
    "colnames(df)"
   ]
  },
  {
   "cell_type": "code",
   "execution_count": 4,
   "id": "bb144e6f",
   "metadata": {},
   "outputs": [],
   "source": [
    "df$tot = 5475 # days"
   ]
  },
  {
   "cell_type": "code",
   "execution_count": 56,
   "id": "54adc199",
   "metadata": {},
   "outputs": [],
   "source": [
    "results <- rbind(\n",
    "summary(m1 <- glm(hws ~ EP_AGE65 +offset(log(tot)), family=\"poisson\", data=df))$coef[2,],\n",
    "summary(m1 <- glm(hws~ EP_DISABL +offset(log(tot)), family=\"poisson\", data=df))$coef[2,],\n",
    "summary(m1 <- glm(hws ~ EP_MINRTY +offset(log(tot)), family=\"poisson\", data=df))$coef[2,],\n",
    "summary(m1 <- glm(hws~ EP_POV150 +offset(log(tot)), family=\"poisson\", data=df))$coef[2,],\n",
    "summary(m1 <- glm(hws ~ EP_UNINSUR +offset(log(tot)), family=\"poisson\", data=df))$coef[2,]\n",
    ")\n",
    "results <- data.frame(results)\n",
    "rownames(results) <- c(\"EP_AGE65\", 'EP_DISABL', 'EP_MINRTY', 'EP_POV150', 'EP_UNINSUR')\n",
    "results = results %>% mutate_if(is.numeric, round, digits = 4)"
   ]
  },
  {
   "cell_type": "code",
   "execution_count": 57,
   "id": "cbf13bd2",
   "metadata": {},
   "outputs": [
    {
     "data": {
      "text/html": [
       "<table class=\"dataframe\">\n",
       "<caption>A data.frame: 5 × 4</caption>\n",
       "<thead>\n",
       "\t<tr><th></th><th scope=col>Estimate</th><th scope=col>Std..Error</th><th scope=col>z.value</th><th scope=col>Pr...z..</th></tr>\n",
       "\t<tr><th></th><th scope=col>&lt;dbl&gt;</th><th scope=col>&lt;dbl&gt;</th><th scope=col>&lt;dbl&gt;</th><th scope=col>&lt;dbl&gt;</th></tr>\n",
       "</thead>\n",
       "<tbody>\n",
       "\t<tr><th scope=row>EP_AGE65</th><td> 0.0182</td><td>0.0034</td><td> 5.3675</td><td>0.0000</td></tr>\n",
       "\t<tr><th scope=row>EP_DISABL</th><td>-0.0006</td><td>0.0004</td><td>-1.4337</td><td>0.1517</td></tr>\n",
       "\t<tr><th scope=row>EP_MINRTY</th><td>-0.0117</td><td>0.0015</td><td>-8.0657</td><td>0.0000</td></tr>\n",
       "\t<tr><th scope=row>EP_POV150</th><td> 0.0089</td><td>0.0024</td><td> 3.6672</td><td>0.0002</td></tr>\n",
       "\t<tr><th scope=row>EP_UNINSUR</th><td>-0.0007</td><td>0.0004</td><td>-2.0924</td><td>0.0364</td></tr>\n",
       "</tbody>\n",
       "</table>\n"
      ],
      "text/latex": [
       "A data.frame: 5 × 4\n",
       "\\begin{tabular}{r|llll}\n",
       "  & Estimate & Std..Error & z.value & Pr...z..\\\\\n",
       "  & <dbl> & <dbl> & <dbl> & <dbl>\\\\\n",
       "\\hline\n",
       "\tEP\\_AGE65 &  0.0182 & 0.0034 &  5.3675 & 0.0000\\\\\n",
       "\tEP\\_DISABL & -0.0006 & 0.0004 & -1.4337 & 0.1517\\\\\n",
       "\tEP\\_MINRTY & -0.0117 & 0.0015 & -8.0657 & 0.0000\\\\\n",
       "\tEP\\_POV150 &  0.0089 & 0.0024 &  3.6672 & 0.0002\\\\\n",
       "\tEP\\_UNINSUR & -0.0007 & 0.0004 & -2.0924 & 0.0364\\\\\n",
       "\\end{tabular}\n"
      ],
      "text/markdown": [
       "\n",
       "A data.frame: 5 × 4\n",
       "\n",
       "| <!--/--> | Estimate &lt;dbl&gt; | Std..Error &lt;dbl&gt; | z.value &lt;dbl&gt; | Pr...z.. &lt;dbl&gt; |\n",
       "|---|---|---|---|---|\n",
       "| EP_AGE65 |  0.0182 | 0.0034 |  5.3675 | 0.0000 |\n",
       "| EP_DISABL | -0.0006 | 0.0004 | -1.4337 | 0.1517 |\n",
       "| EP_MINRTY | -0.0117 | 0.0015 | -8.0657 | 0.0000 |\n",
       "| EP_POV150 |  0.0089 | 0.0024 |  3.6672 | 0.0002 |\n",
       "| EP_UNINSUR | -0.0007 | 0.0004 | -2.0924 | 0.0364 |\n",
       "\n"
      ],
      "text/plain": [
       "           Estimate Std..Error z.value Pr...z..\n",
       "EP_AGE65    0.0182  0.0034      5.3675 0.0000  \n",
       "EP_DISABL  -0.0006  0.0004     -1.4337 0.1517  \n",
       "EP_MINRTY  -0.0117  0.0015     -8.0657 0.0000  \n",
       "EP_POV150   0.0089  0.0024      3.6672 0.0002  \n",
       "EP_UNINSUR -0.0007  0.0004     -2.0924 0.0364  "
      ]
     },
     "metadata": {},
     "output_type": "display_data"
    }
   ],
   "source": [
    "results"
   ]
  },
  {
   "cell_type": "code",
   "execution_count": 58,
   "id": "d4aa33bc",
   "metadata": {},
   "outputs": [
    {
     "name": "stdout",
     "output_type": "stream",
     "text": [
      "a flextable object.\n",
      "col_keys: `Estimate`, `Std..Error`, `z.value`, `Pr...z..` \n",
      "header has 1 row(s) \n",
      "body has 5 row(s) \n",
      "original dataset sample: \n",
      "           Estimate Std..Error z.value Pr...z..\n",
      "EP_AGE65     0.0182     0.0034  5.3675   0.0000\n",
      "EP_DISABL   -0.0006     0.0004 -1.4337   0.1517\n",
      "EP_MINRTY   -0.0117     0.0015 -8.0657   0.0000\n",
      "EP_POV150    0.0089     0.0024  3.6672   0.0002\n",
      "EP_UNINSUR  -0.0007     0.0004 -2.0924   0.0364\n"
     ]
    }
   ],
   "source": [
    "# Create a Word document\n",
    "doc <- read_docx()\n",
    "\n",
    "# Create a flextable from the dataframe\n",
    "# Create a flextable object\n",
    "table1 <- flextable(results)\n",
    "\n",
    "# Set the row names\n",
    "\n",
    "\n",
    "# Add title to the table\n",
    "\n",
    "table1 <- set_caption(table1,  \"Hypothesis Testing of Whether Heat-Smoke-Wildfire is Associated with Socioeconomic Status\")\n",
    "\n",
    "# Print the table\n",
    "print(table1)\n",
    "\n",
    "# Add the flextable to the Word document\n",
    "doc <- body_add_flextable(doc, value = table1)\n",
    "\n",
    "# Save the Word document\n",
    "print(doc, target = \"results.docx\")\n"
   ]
  },
  {
   "cell_type": "code",
   "execution_count": 60,
   "id": "ca0684af",
   "metadata": {},
   "outputs": [],
   "source": [
    "results2 <- rbind(\n",
    "summary(m1 <- glm(hs ~ EP_AGE65 +offset(log(tot)), family=\"poisson\", data=df))$coef[2,],\n",
    "summary(m1 <- glm(hs~ EP_DISABL +offset(log(tot)), family=\"poisson\", data=df))$coef[2,],\n",
    "summary(m1 <- glm(hs ~ EP_MINRTY +offset(log(tot)), family=\"poisson\", data=df))$coef[2,],\n",
    "summary(m1 <- glm(hs~ EP_POV150 +offset(log(tot)), family=\"poisson\", data=df))$coef[2,],\n",
    "summary(m1 <- glm(hs ~ EP_UNINSUR +offset(log(tot)), family=\"poisson\", data=df))$coef[2,]\n",
    ")\n",
    "results2 <- data.frame(results2)\n",
    "rownames(results2) <- c(\"EP_AGE65\", 'EP_DISABL', 'EP_MINRTY', 'EP_POV150', 'EP_UNINSUR')\n",
    "results2 = results2 %>% mutate_if(is.numeric, round, digits = 4)"
   ]
  },
  {
   "cell_type": "code",
   "execution_count": 61,
   "id": "6d9ca3f3",
   "metadata": {},
   "outputs": [
    {
     "name": "stdout",
     "output_type": "stream",
     "text": [
      "a flextable object.\n",
      "col_keys: `Estimate`, `Std..Error`, `z.value`, `Pr...z..` \n",
      "header has 1 row(s) \n",
      "body has 5 row(s) \n",
      "original dataset sample: \n",
      "           Estimate Std..Error z.value Pr...z..\n",
      "EP_AGE65     0.0182     0.0034  5.3675   0.0000\n",
      "EP_DISABL   -0.0006     0.0004 -1.4337   0.1517\n",
      "EP_MINRTY   -0.0117     0.0015 -8.0657   0.0000\n",
      "EP_POV150    0.0089     0.0024  3.6672   0.0002\n",
      "EP_UNINSUR  -0.0007     0.0004 -2.0924   0.0364\n"
     ]
    }
   ],
   "source": [
    "# Create a flextable from the dataframe\n",
    "# Create a flextable object\n",
    "table2 <- flextable(results2)\n",
    "\n",
    "# Set the row names\n",
    "\n",
    "\n",
    "# Add title to the table\n",
    "\n",
    "table2 <- set_caption(table2,  \"Hypothesis Testing of Whether Heat-Smoke is Associated with Socioeconomic Status\")\n",
    "\n",
    "# Print the table\n",
    "print(table1)\n",
    "\n",
    "# Add the flextable to the Word document\n",
    "doc <- body_add_flextable(doc, value = table2)\n",
    "\n",
    "# Save the Word document\n",
    "print(doc, target = \"results.docx\")\n"
   ]
  }
 ],
 "metadata": {
  "kernelspec": {
   "display_name": "R",
   "language": "R",
   "name": "ir"
  },
  "language_info": {
   "codemirror_mode": "r",
   "file_extension": ".r",
   "mimetype": "text/x-r-source",
   "name": "R",
   "pygments_lexer": "r",
   "version": "4.3.0"
  }
 },
 "nbformat": 4,
 "nbformat_minor": 5
}
