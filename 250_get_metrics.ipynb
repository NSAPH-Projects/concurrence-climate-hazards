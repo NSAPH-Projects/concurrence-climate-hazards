{
 "cells": [
  {
   "cell_type": "markdown",
   "id": "81951160-fcd9-43ab-b9ee-b990b6c3606c",
   "metadata": {},
   "source": [
    "# Get metrics: heatwave, polluted day and wildfire"
   ]
  },
  {
   "cell_type": "code",
   "execution_count": 1,
   "id": "b0a650fa-143d-4cb5-8ab8-0a3be1142887",
   "metadata": {
    "tags": []
   },
   "outputs": [
    {
     "data": {
      "text/plain": [
       "<Figure size 800x600 with 0 Axes>"
      ]
     },
     "metadata": {},
     "output_type": "display_data"
    }
   ],
   "source": [
    "import numpy as np\n",
    "import pandas as pd\n",
    "import seaborn as sns\n",
    "import matplotlib.pyplot as plt\n",
    "import helper_400\n",
    "\n",
    "%load_ext autoreload\n",
    "%autoreload 2\n",
    "helper_400.set_sns_style()\n"
   ]
  },
  {
   "cell_type": "code",
   "execution_count": 2,
   "id": "dac02566-bd55-4971-ade0-6f00e0c38e4e",
   "metadata": {
    "tags": []
   },
   "outputs": [],
   "source": [
    "df = pd.read_parquet(\"outputs/final_merge_5_western_us.parquet\")"
   ]
  },
  {
   "cell_type": "code",
   "execution_count": 3,
   "id": "f11b72e3-7bcc-43ac-a823-15fa210e69b7",
   "metadata": {
    "tags": []
   },
   "outputs": [],
   "source": [
    "df = df.reset_index()"
   ]
  },
  {
   "cell_type": "markdown",
   "id": "a94ff5e1-a266-4ba2-b711-4479deb6f0b5",
   "metadata": {},
   "source": [
    "## Dates"
   ]
  },
  {
   "cell_type": "code",
   "execution_count": 5,
   "id": "b83d88e0-3879-4911-9220-fd11d9e113e7",
   "metadata": {
    "tags": []
   },
   "outputs": [
    {
     "data": {
      "text/plain": [
       "Timestamp('2006-01-01 00:00:00')"
      ]
     },
     "execution_count": 5,
     "metadata": {},
     "output_type": "execute_result"
    }
   ],
   "source": [
    "df.time.min()"
   ]
  },
  {
   "cell_type": "code",
   "execution_count": 6,
   "id": "cab1124c-2c04-4789-adf6-5be79badafe9",
   "metadata": {
    "tags": []
   },
   "outputs": [
    {
     "data": {
      "text/plain": [
       "Timestamp('2020-12-31 00:00:00')"
      ]
     },
     "execution_count": 6,
     "metadata": {},
     "output_type": "execute_result"
    }
   ],
   "source": [
    "df.time.max() "
   ]
  },
  {
   "cell_type": "code",
   "execution_count": 7,
   "id": "35f473a8",
   "metadata": {
    "tags": []
   },
   "outputs": [],
   "source": [
    "df = df.rename(columns={'location_label': 'GEOID'})"
   ]
  },
  {
   "cell_type": "markdown",
   "id": "07e1a5cf-dec3-4547-b798-9b339715e23c",
   "metadata": {},
   "source": [
    "# Preprocessing"
   ]
  },
  {
   "cell_type": "markdown",
   "id": "73862ebf-777f-4d50-9c65-480fcdd90c79",
   "metadata": {},
   "source": [
    "# Heat day - temp over 95th perc of summer months in the first 5 years as treshold"
   ]
  },
  {
   "cell_type": "code",
   "execution_count": 20,
   "id": "dfe34de6-ff14-4079-bf46-9bc477f02899",
   "metadata": {
    "tags": []
   },
   "outputs": [],
   "source": [
    "def get_tmax95_summer_first_5_years(x):\n",
    "    # Filter the data for summer months \n",
    "    summer = x[x[\"time\"].dt.month.isin([6, 7, 8, 9])]\n",
    "    \n",
    "    # Restrict to the first 5 years\n",
    "    summer_first_5_years = summer[summer[\"time\"].dt.year <= summer[\"time\"].dt.year.min() + 4]\n",
    "    \n",
    "    # Calculate the 95th percentile\n",
    "    return summer_first_5_years['tmax'].quantile(0.95)\n",
    "    \n",
    "tmax95_series = df.groupby('GEOID').apply(get_tmax95_summer_first_5_years)\n",
    "\n",
    "df['tmax95'] = df['GEOID'].map(tmax95_series)"
   ]
  },
  {
   "cell_type": "code",
   "execution_count": 21,
   "id": "a6014441",
   "metadata": {
    "tags": []
   },
   "outputs": [],
   "source": [
    "extreme_day_threshold = 32.22 # in C"
   ]
  },
  {
   "cell_type": "code",
   "execution_count": 22,
   "id": "b0e2d83a",
   "metadata": {
    "tags": []
   },
   "outputs": [],
   "source": [
    "df['heatday'] = np.where(\n",
    "    (df['tmax'] >= df['tmax95']) & (df['tmax']>= extreme_day_threshold), \n",
    "    True, \n",
    "    False)"
   ]
  },
  {
   "cell_type": "code",
   "execution_count": 23,
   "id": "9b449682",
   "metadata": {
    "tags": []
   },
   "outputs": [],
   "source": [
    "dfc = df.groupby('GEOID')[\"tmax95\"].first()"
   ]
  },
  {
   "cell_type": "code",
   "execution_count": 24,
   "id": "dfc72860",
   "metadata": {
    "tags": []
   },
   "outputs": [
    {
     "data": {
      "image/png": "[encoded data removed]",
      "text/plain": [
       "<Figure size 500x350 with 1 Axes>"
      ]
     },
     "metadata": {},
     "output_type": "display_data"
    }
   ],
   "source": [
    "axs = plt.subplots(figsize=(5, 3.5))\n",
    "axs = sns.histplot(dfc, bins=20)\n",
    "axs.set_xlabel(\"95th percentile of daily maximum temperature\")\n",
    "axs.set_ylabel(\"Count\")\n",
    "axs.set_title(\"Distribution of 95th percentile of maximum daily temperature \\n(in June-September) per census tract (2006-2020) in the Western US\")\n",
    "plt.tight_layout()\n",
    "plt.savefig(\"figures/95th_percentile_distribution.png\", dpi=300)"
   ]
  },
  {
   "cell_type": "code",
   "execution_count": 27,
   "id": "20eb8c8f",
   "metadata": {
    "tags": []
   },
   "outputs": [
    {
     "data": {
      "text/plain": [
       "5164"
      ]
     },
     "execution_count": 27,
     "metadata": {},
     "output_type": "execute_result"
    }
   ],
   "source": [
    "dfc[dfc < extreme_day_threshold].count()"
   ]
  },
  {
   "cell_type": "markdown",
   "id": "841acbbd-c6b3-4689-8d7a-8f4addd00055",
   "metadata": {},
   "source": [
    "## Wildfire day"
   ]
  },
  {
   "cell_type": "code",
   "execution_count": 30,
   "id": "efd3b9da",
   "metadata": {
    "tags": []
   },
   "outputs": [
    {
     "data": {
      "text/plain": [
       "wfday\n",
       "0.0    99098100\n",
       "1.0      115632\n",
       "Name: count, dtype: int64"
      ]
     },
     "execution_count": 30,
     "metadata": {},
     "output_type": "execute_result"
    }
   ],
   "source": [
    "df['wfday'].value_counts() # western us"
   ]
  },
  {
   "cell_type": "code",
   "execution_count": 31,
   "id": "e53de808-278d-4e1c-b400-c9a205ed905c",
   "metadata": {
    "tags": []
   },
   "outputs": [],
   "source": [
    "df['wfday'] = np.where(df['wfday'] == 1.0, True, False)"
   ]
  },
  {
   "cell_type": "code",
   "execution_count": 32,
   "id": "70353c82-ee62-4dfd-8284-7085e7bd5624",
   "metadata": {
    "tags": []
   },
   "outputs": [
    {
     "data": {
      "text/plain": [
       "wfday\n",
       "False    99098100\n",
       "True       115632\n",
       "Name: count, dtype: int64"
      ]
     },
     "execution_count": 32,
     "metadata": {},
     "output_type": "execute_result"
    }
   ],
   "source": [
    "df['wfday'].value_counts()"
   ]
  },
  {
   "cell_type": "code",
   "execution_count": 33,
   "id": "5ff7dbde-decf-4066-9597-b977ed72197a",
   "metadata": {
    "tags": []
   },
   "outputs": [],
   "source": [
    "df = df.drop(columns=[\"tmax95\"]) #, \"tmin05\"])"
   ]
  },
  {
   "cell_type": "markdown",
   "id": "8c2ea9fe-3635-4b41-a88e-0bd96d1b97e7",
   "metadata": {
    "tags": []
   },
   "source": [
    "## Smoke Polluted Day"
   ]
  },
  {
   "cell_type": "code",
   "execution_count": 34,
   "id": "61778296-c0f8-4a09-93de-36c0d81496fe",
   "metadata": {
    "tags": []
   },
   "outputs": [],
   "source": [
    "df['smoke_pm_non_zero'] = np.where(df['smoke_pm'] > 0.0, True, False)"
   ]
  },
  {
   "cell_type": "code",
   "execution_count": 35,
   "id": "91a197e8-fac8-4ebc-a8a5-4e418b0887b8",
   "metadata": {
    "tags": []
   },
   "outputs": [],
   "source": [
    "# As seen in https://www.researchsquare.com/article/rs-2866201/v1\n",
    "\n",
    "df['smoke_pm_gt_five'] = np.where(df['smoke_pm'] > 5.0, True, False)"
   ]
  },
  {
   "cell_type": "code",
   "execution_count": 36,
   "id": "27802353-675c-4699-a843-26b9cb701784",
   "metadata": {
    "tags": []
   },
   "outputs": [
    {
     "data": {
      "text/html": [
       "<div>\n",
       "<style scoped>\n",
       "    .dataframe tbody tr th:only-of-type {\n",
       "        vertical-align: middle;\n",
       "    }\n",
       "\n",
       "    .dataframe tbody tr th {\n",
       "        vertical-align: top;\n",
       "    }\n",
       "\n",
       "    .dataframe thead th {\n",
       "        text-align: right;\n",
       "    }\n",
       "</style>\n",
       "<table border=\"1\" class=\"dataframe\">\n",
       "  <thead>\n",
       "    <tr style=\"text-align: right;\">\n",
       "      <th></th>\n",
       "      <th>time</th>\n",
       "      <th>GEOID</th>\n",
       "      <th>wfday</th>\n",
       "      <th>tmax</th>\n",
       "      <th>smoke_pm</th>\n",
       "      <th>heatday</th>\n",
       "      <th>smoke_pm_non_zero</th>\n",
       "      <th>smoke_pm_gt_five</th>\n",
       "    </tr>\n",
       "  </thead>\n",
       "  <tbody>\n",
       "    <tr>\n",
       "      <th>0</th>\n",
       "      <td>2006-01-01</td>\n",
       "      <td>04001942600</td>\n",
       "      <td>False</td>\n",
       "      <td>15.978498</td>\n",
       "      <td>0.0</td>\n",
       "      <td>False</td>\n",
       "      <td>False</td>\n",
       "      <td>False</td>\n",
       "    </tr>\n",
       "    <tr>\n",
       "      <th>1</th>\n",
       "      <td>2006-01-01</td>\n",
       "      <td>04001942700</td>\n",
       "      <td>False</td>\n",
       "      <td>14.836937</td>\n",
       "      <td>0.0</td>\n",
       "      <td>False</td>\n",
       "      <td>False</td>\n",
       "      <td>False</td>\n",
       "    </tr>\n",
       "    <tr>\n",
       "      <th>2</th>\n",
       "      <td>2006-01-01</td>\n",
       "      <td>04001944000</td>\n",
       "      <td>False</td>\n",
       "      <td>14.192923</td>\n",
       "      <td>0.0</td>\n",
       "      <td>False</td>\n",
       "      <td>False</td>\n",
       "      <td>False</td>\n",
       "    </tr>\n",
       "    <tr>\n",
       "      <th>3</th>\n",
       "      <td>2006-01-01</td>\n",
       "      <td>04001944100</td>\n",
       "      <td>False</td>\n",
       "      <td>14.254541</td>\n",
       "      <td>0.0</td>\n",
       "      <td>False</td>\n",
       "      <td>False</td>\n",
       "      <td>False</td>\n",
       "    </tr>\n",
       "    <tr>\n",
       "      <th>4</th>\n",
       "      <td>2006-01-01</td>\n",
       "      <td>04001944201</td>\n",
       "      <td>False</td>\n",
       "      <td>15.200634</td>\n",
       "      <td>0.0</td>\n",
       "      <td>False</td>\n",
       "      <td>False</td>\n",
       "      <td>False</td>\n",
       "    </tr>\n",
       "  </tbody>\n",
       "</table>\n",
       "</div>"
      ],
      "text/plain": [
       "        time        GEOID  wfday       tmax  smoke_pm  heatday  \\\n",
       "0 2006-01-01  04001942600  False  15.978498       0.0    False   \n",
       "1 2006-01-01  04001942700  False  14.836937       0.0    False   \n",
       "2 2006-01-01  04001944000  False  14.192923       0.0    False   \n",
       "3 2006-01-01  04001944100  False  14.254541       0.0    False   \n",
       "4 2006-01-01  04001944201  False  15.200634       0.0    False   \n",
       "\n",
       "   smoke_pm_non_zero  smoke_pm_gt_five  \n",
       "0              False             False  \n",
       "1              False             False  \n",
       "2              False             False  \n",
       "3              False             False  \n",
       "4              False             False  "
      ]
     },
     "execution_count": 36,
     "metadata": {},
     "output_type": "execute_result"
    }
   ],
   "source": [
    "df.head()"
   ]
  },
  {
   "cell_type": "code",
   "execution_count": 37,
   "id": "cce21b4b-98e0-4629-9041-335d6013599e",
   "metadata": {
    "tags": []
   },
   "outputs": [],
   "source": [
    "df.to_parquet(\"outputs/d1-heat-wf-smokeday-230929.parquet\")"
   ]
  },
  {
   "cell_type": "code",
   "execution_count": null,
   "id": "a5d7955b-c15f-48cf-868f-1a00dd2a8fc3",
   "metadata": {},
   "outputs": [],
   "source": []
  }
 ],
 "metadata": {
  "kernelspec": {
   "display_name": "coexposure",
   "language": "python",
   "name": "coexposure"
  },
  "language_info": {
   "codemirror_mode": {
    "name": "ipython",
    "version": 3
   },
   "file_extension": ".py",
   "mimetype": "text/x-python",
   "name": "python",
   "nbconvert_exporter": "python",
   "pygments_lexer": "ipython3",
   "version": "3.9.18"
  }
 },
 "nbformat": 4,
 "nbformat_minor": 5
}
