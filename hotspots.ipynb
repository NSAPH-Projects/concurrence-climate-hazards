{
 "cells": [
  {
   "cell_type": "markdown",
   "id": "16a0c1b9-7679-48a9-bd98-67caf2123963",
   "metadata": {
    "tags": []
   },
   "source": [
    "# Hotspots\n",
    "\n",
    "Hotspots California map: \n",
    "- Wildifre-wildifreSmokePM2.5, \n",
    "- Heat-wildfire,\n",
    "- Heat-PM2.5, \n",
    "- Wildifre-Heat-SmokePM2.5P"
   ]
  },
  {
   "cell_type": "code",
   "execution_count": null,
   "id": "2ab11051-f28d-48be-8867-bd37d5046b9c",
   "metadata": {
    "tags": []
   },
   "outputs": [],
   "source": [
    "import numpy as np\n",
    "import pandas as pd\n",
    "\n",
    "import matplotlib.pyplot as plt"
   ]
  },
  {
   "cell_type": "code",
   "execution_count": null,
   "id": "21eb8d1f-e180-465e-aa86-a43f6f8af925",
   "metadata": {
    "tags": []
   },
   "outputs": [],
   "source": [
    "df = pd.read_parquet(\"outputs/merged_heatday_coldday_wfday_polluted_smoke_polluted_rolling.parquet\")"
   ]
  },
  {
   "cell_type": "code",
   "execution_count": null,
   "id": "a7a8fdd1-262c-4e60-9d5a-71d320ee773b",
   "metadata": {},
   "outputs": [],
   "source": [
    "df = df.drop(columns = ['tmin','tmax','pm25','smokePM_pred'])"
   ]
  },
  {
   "cell_type": "code",
   "execution_count": null,
   "id": "b768b1f8-39ac-4e17-8ab2-3d080ff4bad4",
   "metadata": {
    "tags": []
   },
   "outputs": [],
   "source": [
    "df.head()"
   ]
  },
  {
   "cell_type": "markdown",
   "id": "3abbfd11-43fa-4c54-b172-7474c3bf8f7d",
   "metadata": {
    "tags": []
   },
   "source": [
    "### Find hotspots\n",
    "\n",
    "Terminology:\n",
    "- h heat\n",
    "- w wildfire\n",
    "- p polluted\n",
    "- s smoke polluted\n",
    "\n",
    "Example:\n",
    "- hwp is a hotspot where heat wildfire and pollution are co-occuring "
   ]
  },
  {
   "cell_type": "code",
   "execution_count": null,
   "id": "e48a5bd0-1ce1-46b4-867d-441fb10e4308",
   "metadata": {
    "tags": []
   },
   "outputs": [],
   "source": [
    "df['ws'] = df['wfday'] & df['smoke_polluted']\n",
    "\n",
    "df['hw'] = df['wfday'] & df['heatday']\n",
    "\n",
    "df['hp'] = df['heatday'] & df['polluted']\n",
    "df['hs'] = df['heatday'] & df['smoke_polluted']\n",
    "\n",
    "df['hwp'] = df['heatday'] & df['wfday'] & df['polluted']\n",
    "\n",
    "df['hws'] = df['heatday'] & df['wfday'] & df['smoke_polluted']\n",
    "\n",
    "df['hwps'] = df[['heatday','wfday','polluted','smoke_polluted']].sum(axis=1)"
   ]
  },
  {
   "cell_type": "code",
   "execution_count": null,
   "id": "7a55fb7d-1086-4a6e-b080-a185daaefabc",
   "metadata": {
    "tags": []
   },
   "outputs": [],
   "source": [
    "df.to_parquet(\"outputs/hotspots_per_fips_rolling.parquet\")"
   ]
  },
  {
   "cell_type": "markdown",
   "id": "076e1f76-96f9-48cd-ac79-3045a22a3601",
   "metadata": {},
   "source": [
    "### Get county codes for visualization"
   ]
  },
  {
   "cell_type": "code",
   "execution_count": null,
   "id": "f9e55db7-3a09-4b14-9d26-0894790d037d",
   "metadata": {
    "tags": []
   },
   "outputs": [],
   "source": [
    "crosswalk = pd.read_csv(\n",
    "    \"data/fips_crosswalk_merged_county.csv\", \n",
    "    usecols=[\"FIPS\", \"COUNTY_CODE\"],\n",
    "    #index_col=[\"FIPS\"],\n",
    "    dtype={\"COUNTY_CODE\":str})"
   ]
  },
  {
   "cell_type": "code",
   "execution_count": null,
   "id": "105545d2-ac0c-4fac-846f-556254d2a31f",
   "metadata": {
    "tags": []
   },
   "outputs": [],
   "source": [
    "df = df.reset_index()\n",
    "df.head()"
   ]
  },
  {
   "cell_type": "code",
   "execution_count": null,
   "id": "854d7adc-d4c0-4f4f-9332-4acc62767f53",
   "metadata": {
    "tags": []
   },
   "outputs": [],
   "source": [
    "merged_df = df.merge(crosswalk, how='left', on=\"FIPS\")"
   ]
  },
  {
   "cell_type": "markdown",
   "id": "572f7b14-c2db-4fb4-819b-d83168ab3aff",
   "metadata": {},
   "source": [
    "### Aggregate per county"
   ]
  },
  {
   "cell_type": "code",
   "execution_count": null,
   "id": "01ff00fa-f0f1-4950-9fff-9fcca99f0ea4",
   "metadata": {
    "tags": []
   },
   "outputs": [],
   "source": [
    "# if h/w/p/s occured anywhere in the county \n",
    "# set the True value for that day\n",
    "\n",
    "merged_df = merged_df.sort_values('hwps', ascending=False).drop_duplicates(['time','COUNTY_CODE'])"
   ]
  },
  {
   "cell_type": "code",
   "execution_count": null,
   "id": "ec5d6eb4-fddb-4565-8116-1fdfc79fcead",
   "metadata": {
    "tags": []
   },
   "outputs": [],
   "source": [
    "merged_df.head()"
   ]
  },
  {
   "cell_type": "code",
   "execution_count": null,
   "id": "16ae688b-ef43-4a77-90be-7d5310b47e0c",
   "metadata": {
    "tags": []
   },
   "outputs": [],
   "source": [
    "merged_df = merged_df[\n",
    "    ['time','COUNTY_CODE','ws','hw','hp', 'hs','hwp','hws','hwps','wfday', 'heatday', 'coldday', 'polluted',\n",
    "       'smoke_polluted']]"
   ]
  },
  {
   "cell_type": "markdown",
   "id": "8c38565c-1b2a-4ca5-8763-441e151d28af",
   "metadata": {},
   "source": [
    "### Hotspot trends over time on Census Tract"
   ]
  },
  {
   "cell_type": "code",
   "execution_count": null,
   "id": "697ffcc9-4150-4a9b-8ec0-595b8760b9e7",
   "metadata": {
    "tags": []
   },
   "outputs": [],
   "source": [
    "trends_df = df.groupby(\"FIPS\")[['time','ws','hw','hp','hs','hwp','hws','hwps','wfday', 'heatday', 'coldday', 'polluted',\n",
    "       'smoke_polluted']].resample('Y', on=\"time\").sum()"
   ]
  },
  {
   "cell_type": "code",
   "execution_count": null,
   "id": "1e8f2644-7fba-46af-a42a-7c7648c796e0",
   "metadata": {
    "tags": []
   },
   "outputs": [],
   "source": [
    "trends_df.head()"
   ]
  },
  {
   "cell_type": "code",
   "execution_count": null,
   "id": "6b5136aa-cd9d-41d2-8d3c-791960909168",
   "metadata": {
    "tags": []
   },
   "outputs": [],
   "source": [
    "import plotting\n",
    "%load_ext autoreload\n",
    "%autoreload 2\n",
    "hs_dict = plotting.get_hotspopt_dict()"
   ]
  },
  {
   "cell_type": "code",
   "execution_count": null,
   "id": "46d348df-838a-497f-86af-a83856747741",
   "metadata": {},
   "outputs": [],
   "source": [
    "trends_df = trends_df.reset_index()"
   ]
  },
  {
   "cell_type": "code",
   "execution_count": null,
   "id": "50b18667-92e7-4fd6-930e-3702d9b4e7d7",
   "metadata": {
    "tags": []
   },
   "outputs": [],
   "source": [
    "trends_df.head()"
   ]
  },
  {
   "cell_type": "code",
   "execution_count": null,
   "id": "c14cedd0-09db-43f9-ba70-461ad44d7717",
   "metadata": {
    "tags": []
   },
   "outputs": [],
   "source": [
    "for x in hs_dict.keys():\n",
    "    l = trends_df.groupby(\"FIPS\")[x].sum().sort_values().tail(5).index\n",
    "    \n",
    "    plotting.trend_plot(\n",
    "        trends_df, \n",
    "        l,\n",
    "        x,\n",
    "        hs_dict[x][\"title\"],\n",
    "        hs_dict[x][\"year_min\"],\n",
    "        hs_dict[x][\"year_max\"]\n",
    "    )"
   ]
  },
  {
   "cell_type": "markdown",
   "id": "2dcab36d-d33b-4134-a90e-5b2cb743343e",
   "metadata": {
    "tags": []
   },
   "source": [
    "### Wildfire-Heat-PM25"
   ]
  },
  {
   "cell_type": "code",
   "execution_count": null,
   "id": "514d0a66-560b-4b3a-83b7-8b69fa113f6c",
   "metadata": {
    "tags": []
   },
   "outputs": [],
   "source": [
    "merged_df=merged_df[['COUNTY_CODE','ws','hw','hp','hs','hwp','hws','hwps','wfday', 'heatday', 'coldday', 'polluted',\n",
    "       'smoke_polluted']].groupby('COUNTY_CODE').sum()"
   ]
  },
  {
   "cell_type": "code",
   "execution_count": null,
   "id": "1e86568c-3db8-4998-88a6-51b295efb9dc",
   "metadata": {
    "tags": []
   },
   "outputs": [],
   "source": [
    "merged_df=merged_df.reset_index()"
   ]
  },
  {
   "cell_type": "code",
   "execution_count": null,
   "id": "006f7674-5986-4df6-9ad1-7c0537db3d3d",
   "metadata": {
    "tags": []
   },
   "outputs": [],
   "source": [
    "counties = plotting.get_counties()"
   ]
  },
  {
   "cell_type": "code",
   "execution_count": null,
   "id": "69aaf196-8557-4313-a408-af30d20181c1",
   "metadata": {
    "tags": []
   },
   "outputs": [],
   "source": [
    "for x in hs_dict.keys():\n",
    "    plotting.draw_map(\n",
    "        merged_df, \n",
    "        counties, \n",
    "        x,\n",
    "        hs_dict[x][\"title_map\"]\n",
    "    )"
   ]
  },
  {
   "cell_type": "markdown",
   "id": "f6e8ca4d-5919-4b78-9f89-711b4b428f99",
   "metadata": {},
   "source": [
    "## Add Vunerability Index"
   ]
  },
  {
   "cell_type": "code",
   "execution_count": null,
   "id": "c0e0ed8d-ca0e-4086-bd92-321c5788f179",
   "metadata": {
    "tags": []
   },
   "outputs": [],
   "source": [
    "cols = [\"STCNTY\",\"FIPS\",\"E_TOTPOP\",\"RPL_THEMES\"]\n",
    "vind = pd.read_csv(\"data/California.csv\", usecols=cols, dtype={\"STCNTY\":str})\n",
    "vind = vind[vind[\"RPL_THEMES\"] > -1]"
   ]
  },
  {
   "cell_type": "code",
   "execution_count": null,
   "id": "a3a5c8ec-f8bf-4799-baf5-c82a6fdbf4e3",
   "metadata": {
    "tags": []
   },
   "outputs": [],
   "source": [
    "#vind_grouped = vind.groupby(\"STCNTY\")[\"RPL_THEMES\"].mean() #apply(pd.Series.mode)"
   ]
  },
  {
   "cell_type": "code",
   "execution_count": null,
   "id": "00c81edf-3215-44cc-bd0f-565669cf22c4",
   "metadata": {
    "tags": []
   },
   "outputs": [],
   "source": [
    "vind[\"STCNTY_TOTALPOP\"] = vind.groupby('STCNTY')[\"E_TOTPOP\"].transform(lambda x: np.sum(x))\n",
    "vind['WEIGHT'] = vind['E_TOTPOP']/vind['STCNTY_TOTALPOP']"
   ]
  },
  {
   "cell_type": "code",
   "execution_count": null,
   "id": "d797a8f1-6239-4e69-af33-61436f82e68b",
   "metadata": {
    "tags": []
   },
   "outputs": [],
   "source": [
    "def weighted_mean(df):\n",
    "    temp = df['RPL_THEMES'].mul(df['WEIGHT']).sum()\n",
    "    return temp"
   ]
  },
  {
   "cell_type": "code",
   "execution_count": null,
   "id": "dcb77ca2-af6f-4f17-ac1f-eddd9e9abe68",
   "metadata": {
    "tags": []
   },
   "outputs": [],
   "source": [
    "vind_grouped = vind.groupby(\"STCNTY\").apply(weighted_mean)"
   ]
  },
  {
   "cell_type": "code",
   "execution_count": null,
   "id": "b5cb2f9c-181a-4ff0-a2c3-cedad8f0863b",
   "metadata": {
    "tags": []
   },
   "outputs": [],
   "source": [
    "vind_grouped=vind_grouped.reset_index()"
   ]
  },
  {
   "cell_type": "code",
   "execution_count": null,
   "id": "6ebe1d29-6529-45a5-89af-e5c438808210",
   "metadata": {
    "tags": []
   },
   "outputs": [],
   "source": [
    "hotspotvind = pd.merge(merged_df, vind_grouped, left_on=\"COUNTY_CODE\", right_on=\"STCNTY\", how=\"outer\")"
   ]
  },
  {
   "cell_type": "code",
   "execution_count": null,
   "id": "c9b05ecf-e4e6-42d3-897d-095143288669",
   "metadata": {
    "tags": []
   },
   "outputs": [],
   "source": [
    "hotspotvind.to_csv(\"hotspot_vind_county.csv\")"
   ]
  },
  {
   "cell_type": "code",
   "execution_count": null,
   "id": "17b3aa78-565b-434a-a954-8d5a6cfa5f79",
   "metadata": {
    "tags": []
   },
   "outputs": [],
   "source": [
    "hotspotvind = hotspotvind.rename(columns={\n",
    "    0: 'svi'})"
   ]
  },
  {
   "cell_type": "code",
   "execution_count": null,
   "id": "94b2907a-9ad8-4914-bd79-143980172b18",
   "metadata": {
    "tags": []
   },
   "outputs": [],
   "source": [
    "hotspotvind.head()"
   ]
  },
  {
   "cell_type": "code",
   "execution_count": null,
   "id": "1ce59e4c-93c4-4ec2-aaa4-b816f2c3496b",
   "metadata": {
    "tags": []
   },
   "outputs": [],
   "source": [
    "plotting.draw_map(\n",
    "    hotspotvind,\n",
    "    counties, \n",
    "    'svi',\n",
    "    \"Vunerability index\")"
   ]
  },
  {
   "cell_type": "markdown",
   "id": "ba146034-795e-44da-9c74-50b9bcbd5d99",
   "metadata": {},
   "source": [
    "### Window of 7 days\n",
    "\n",
    "Hotspot is if all three events happened within 7 days"
   ]
  },
  {
   "cell_type": "code",
   "execution_count": null,
   "id": "e0670d52-06a6-4bfb-822c-98b0eaea69e8",
   "metadata": {},
   "outputs": [],
   "source": [
    "df = pd.read_parquet(\"outputs/merged_heatday_coldday_wfday_polluted_smoke_polluted.parquet\")"
   ]
  },
  {
   "cell_type": "code",
   "execution_count": null,
   "id": "16293d66-926e-4cac-af49-faac709369ba",
   "metadata": {
    "tags": []
   },
   "outputs": [],
   "source": [
    "df = df.drop(columns = ['tmin','tmax','pm25','smokePM_pred'])"
   ]
  },
  {
   "cell_type": "code",
   "execution_count": null,
   "id": "72ffd2d0-43ff-4537-b3c2-be8a6c2a98fd",
   "metadata": {
    "tags": []
   },
   "outputs": [],
   "source": [
    "df = df.reset_index()"
   ]
  },
  {
   "cell_type": "code",
   "execution_count": null,
   "id": "92a1c3cb-6e6d-40bf-99f3-78d779a90c6a",
   "metadata": {
    "tags": []
   },
   "outputs": [],
   "source": [
    "df.set_index('time', inplace=True)"
   ]
  },
  {
   "cell_type": "code",
   "execution_count": null,
   "id": "fea92c85-c92b-4555-8be8-5593ce4c7696",
   "metadata": {
    "tags": []
   },
   "outputs": [],
   "source": [
    "df.head()"
   ]
  },
  {
   "cell_type": "code",
   "execution_count": null,
   "id": "84d2cb81-ee4a-4fd6-b960-953f286d1ac4",
   "metadata": {
    "tags": []
   },
   "outputs": [],
   "source": [
    "# create a new column that indicates if all three variables are True in the last 7 days\n",
    "df['all_true_last_7_days'] = df[[\"wfday\",\"heatday\",\"smoke_polluted\"]].rolling(\n",
    "    window='7D', min_periods=1).max().sum(axis=1).apply(lambda x: True if x == 3.0 else False)"
   ]
  },
  {
   "cell_type": "code",
   "execution_count": null,
   "id": "7800046a-2e64-4b82-b64b-eaa8e5c6ccbc",
   "metadata": {
    "tags": []
   },
   "outputs": [],
   "source": [
    "df.head()"
   ]
  },
  {
   "cell_type": "code",
   "execution_count": null,
   "id": "3f3e380a-2ff0-456f-bc39-2e06987d2bbc",
   "metadata": {
    "tags": []
   },
   "outputs": [],
   "source": [
    "df[\"all_true_last_7_days\"].sum()"
   ]
  },
  {
   "cell_type": "code",
   "execution_count": null,
   "id": "ce0e6633-2594-4c7f-9b0f-ce6ff19e6189",
   "metadata": {},
   "outputs": [],
   "source": []
  }
 ],
 "metadata": {
  "kernelspec": {
   "display_name": "Python 3 (ipykernel)",
   "language": "python",
   "name": "python3"
  },
  "language_info": {
   "codemirror_mode": {
    "name": "ipython",
    "version": 3
   },
   "file_extension": ".py",
   "mimetype": "text/x-python",
   "name": "python",
   "nbconvert_exporter": "python",
   "pygments_lexer": "ipython3",
   "version": "3.9.12"
  }
 },
 "nbformat": 4,
 "nbformat_minor": 5
}
