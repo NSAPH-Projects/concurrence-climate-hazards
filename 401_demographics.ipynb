{
 "cells": [
  {
   "cell_type": "code",
   "execution_count": null,
   "id": "15cdc174",
   "metadata": {},
   "outputs": [],
   "source": [
    "import pandas as pd\n",
    "import numpy as np\n",
    "import seaborn as sns\n",
    "import matplotlib.pyplot as plt\n",
    "import helper_400\n",
    "\n",
    "%load_ext autoreload\n",
    "%autoreload 2\n",
    "helper_400.set_sns_style()"
   ]
  },
  {
   "cell_type": "code",
   "execution_count": null,
   "id": "1e7ec655",
   "metadata": {},
   "outputs": [],
   "source": [
    "%load_ext lab_black"
   ]
  },
  {
   "cell_type": "code",
   "execution_count": null,
   "id": "5dcf2c6d",
   "metadata": {},
   "outputs": [],
   "source": [
    "import geopandas as gpd\n",
    "\n",
    "data = gpd.read_file(\"outputs/hotspot_vind_censustract_wc.geojson\")"
   ]
  },
  {
   "cell_type": "code",
   "execution_count": null,
   "id": "ff6f4631",
   "metadata": {},
   "outputs": [],
   "source": [
    "data[\"E_WHITE\"] = data[\"E_TOTPOP\"] - data[\n",
    "    [\"E_AFAM\", \"E_HISP\", \"E_ASIAN\", \"E_AIAN\", \"E_NHPI\", \"E_TWOMORE\", \"E_OTHERRACE\"]\n",
    "].sum(axis=1)"
   ]
  },
  {
   "cell_type": "code",
   "execution_count": null,
   "id": "82327f34",
   "metadata": {},
   "outputs": [],
   "source": [
    "len(data[data[\"_hws\"] != 0])"
   ]
  },
  {
   "cell_type": "code",
   "execution_count": null,
   "id": "99954b7b",
   "metadata": {},
   "outputs": [],
   "source": [
    "# normalize demographic variables by each groups' total population\n",
    "demographic_cols = [\n",
    "    \"E_AFAM\",\n",
    "    \"E_HISP\",\n",
    "    \"E_ASIAN\",\n",
    "    \"E_AIAN\",\n",
    "    \"E_NHPI\",\n",
    "    \"E_TWOMORE\",\n",
    "    \"E_OTHERRACE\",\n",
    "    \"E_WHITE\",\n",
    "    \"E_TOTPOP\",\n",
    "]\n",
    "\n",
    "for dc in demographic_cols:\n",
    "    data[dc + \"_normalized\"] = data[dc] * 100 / data[dc].sum()\n",
    "\n",
    "data = data.rename(\n",
    "    columns={\n",
    "        \"E_WHITE_normalized\": \"white\",\n",
    "        \"E_AFAM_normalized\": \"black\",\n",
    "        \"E_HISP_normalized\": \"hispanic\",\n",
    "        \"E_ASIAN_normalized\": \"asian\",\n",
    "        \"E_AIAN_normalized\": \"indian or \\nalaska native\",\n",
    "    }\n",
    ")\n",
    "\n",
    "cats = [\"white\", \"black\", \"hispanic\", \"asian\", \"indian or \\nalaska native\"]"
   ]
  },
  {
   "attachments": {},
   "cell_type": "markdown",
   "id": "bd8379dc",
   "metadata": {},
   "source": [
    "## Bar plots normalized per population"
   ]
  },
  {
   "cell_type": "code",
   "execution_count": null,
   "id": "f04e5442",
   "metadata": {},
   "outputs": [],
   "source": [
    "data.columns"
   ]
  },
  {
   "cell_type": "code",
   "execution_count": null,
   "id": "3537582e",
   "metadata": {},
   "outputs": [],
   "source": [
    "import plotting\n",
    "\n",
    "hspts = plotting.get_hotspot_list()"
   ]
  },
  {
   "cell_type": "code",
   "execution_count": null,
   "id": "4405a0e1",
   "metadata": {},
   "outputs": [],
   "source": [
    "hspts"
   ]
  },
  {
   "cell_type": "code",
   "execution_count": null,
   "id": "7d96d861",
   "metadata": {},
   "outputs": [],
   "source": [
    "df = data"
   ]
  },
  {
   "cell_type": "code",
   "execution_count": null,
   "id": "0fb501bc",
   "metadata": {},
   "outputs": [],
   "source": [
    "for hspt in hspts:\n",
    "    df[\"exposure_category\"] = helper_400.get_cut_vars(hspt, df[hspt])\n",
    "\n",
    "    df_melt = pd.melt(\n",
    "        df[cats + [\"exposure_category\"]],\n",
    "        id_vars=\"exposure_category\",\n",
    "        var_name=\"type\",\n",
    "        value_name=\"value\",\n",
    "    )\n",
    "\n",
    "    plt.figure(figsize=(5, 4))\n",
    "\n",
    "    sns.barplot(\n",
    "        data=df_melt,\n",
    "        x=\"exposure_category\",\n",
    "        y=\"value\",\n",
    "        hue=\"type\",\n",
    "        errorbar=\"ci\",\n",
    "    )\n",
    "\n",
    "    plt.title(helper_400.get_title(hspt))\n",
    "\n",
    "    plt.ylabel(\"Proportion of the demographic group (%)\")\n",
    "    plt.xlabel(\"Exposure severity (higher is worse)\")\n",
    "\n",
    "    if hspt in [\n",
    "        \"wfday\",\n",
    "        \"wfday_2d\",\n",
    "        \"hw\",\n",
    "        \"hws\",\n",
    "        \"ws\",\n",
    "        \"hws5\",\n",
    "        \"ws5\",\n",
    "        \"hws_2d\",\n",
    "        \"ws_2d\",\n",
    "    ]:\n",
    "        xlabel = \"Days (intervals) of exposure\"\n",
    "        plt.xlabel(xlabel)\n",
    "\n",
    "    plt.legend(title=\"Group\", loc=\"best\")\n",
    "    plt.xticks(rotation=0)\n",
    "    # ax.set_yscale('log')\n",
    "    plt.tight_layout()\n",
    "    plt.savefig(\"figures/qbar_demographics\" + \"_\" + hspt + \"_wc.png\")\n",
    "    plt.show()"
   ]
  },
  {
   "attachments": {},
   "cell_type": "markdown",
   "id": "d1f4b271",
   "metadata": {},
   "source": [
    "## Obsolete"
   ]
  },
  {
   "cell_type": "code",
   "execution_count": null,
   "id": "8c339e31",
   "metadata": {},
   "outputs": [],
   "source": [
    "for hspt in hotspots.keys():\n",
    "    df[\"exposure_category\"] = helper_400.get_cut_vars(hspt, df[hspt])\n",
    "\n",
    "    exposure_per_category = df.groupby(\"exposure_category\")[demographic_cols].sum()\n",
    "\n",
    "    for dc in demographic_cols:\n",
    "        exposure_per_category[dc + \"_normalized\"] = (\n",
    "            exposure_per_category[dc] * 100 / exposure_per_category[dc].sum()\n",
    "        )\n",
    "\n",
    "    exposure_per_category = exposure_per_category.drop(columns=demographic_cols)\n",
    "\n",
    "    exposure_per_category = exposure_per_category.drop(\n",
    "        columns=[\n",
    "            \"E_TOTPOP_normalized\",\n",
    "            \"E_NHPI_normalized\",\n",
    "            \"E_TWOMORE_normalized\",\n",
    "            \"E_OTHERRACE_normalized\",\n",
    "        ]\n",
    "    )\n",
    "\n",
    "    exposure_per_category = exposure_per_category[\n",
    "        [\n",
    "            \"E_WHITE_normalized\",\n",
    "            \"E_AFAM_normalized\",\n",
    "            \"E_HISP_normalized\",\n",
    "            \"E_ASIAN_normalized\",\n",
    "            \"E_AIAN_normalized\",\n",
    "        ]\n",
    "    ]\n",
    "\n",
    "    exposure_per_category = exposure_per_category.rename(\n",
    "        columns={\n",
    "            \"E_WHITE_normalized\": \"white\",\n",
    "            \"E_AFAM_normalized\": \"black\",\n",
    "            \"E_HISP_normalized\": \"hispanic\",\n",
    "            \"E_ASIAN_normalized\": \"asian\",\n",
    "            \"E_AIAN_normalized\": \"indian or \\nalaska native\",\n",
    "        }\n",
    "    )\n",
    "\n",
    "    helper_400.plot_qbar(exposure_per_category, hspt, figname=\"race\", legloc=\"best\")"
   ]
  },
  {
   "cell_type": "code",
   "execution_count": null,
   "id": "2d7c7b55-1503-4275-a272-da649815d5ed",
   "metadata": {
    "tags": []
   },
   "outputs": [],
   "source": [
    "# misc\n",
    "\n",
    "df[\"exposure_category\"] = helper_400.get_cut_vars(\"heatday\", df[\"heatday\"])\n",
    "\n",
    "df_melt = pd.melt(\n",
    "    df[cats + [\"exposure_category\"]],\n",
    "    id_vars=\"exposure_category\",\n",
    "    var_name=\"type\",\n",
    "    value_name=\"sum_value\",\n",
    ")\n",
    "\n",
    "df_melt[\"std\"] = df_melt.groupby([\"exposure_category\", \"type\"]).transform(\"std\")\n",
    "\n",
    "df_agg = (\n",
    "    df_melt.groupby([\"exposure_category\", \"type\"])[[\"sum_value\", \"std\"]]\n",
    "    .sum()\n",
    "    .reset_index()\n",
    ")\n",
    "# Create separate bar plots for 'total_bill' and 'tip'\n",
    "for value_type in cats:\n",
    "    df_sub = df_agg[df_agg[\"type\"] == value_type]\n",
    "    plt.figure()\n",
    "    sns.barplot(x=\"exposure_category\", y=\"sum_value\", data=df_sub, yerr=df_sub[\"std\"])\n",
    "    plt.title(f\"Barplot for {value_type}\")\n",
    "    plt.show()"
   ]
  },
  {
   "cell_type": "code",
   "execution_count": null,
   "id": "9ae56b3a-1b7b-4aa7-8139-a19e7fabddbe",
   "metadata": {},
   "outputs": [],
   "source": []
  }
 ],
 "metadata": {
  "kernelspec": {
   "display_name": ".venv",
   "language": "python",
   "name": "python3"
  },
  "language_info": {
   "codemirror_mode": {
    "name": "ipython",
    "version": 3
   },
   "file_extension": ".py",
   "mimetype": "text/x-python",
   "name": "python",
   "nbconvert_exporter": "python",
   "pygments_lexer": "ipython3",
   "version": "3.10.12"
  }
 },
 "nbformat": 4,
 "nbformat_minor": 5
}
