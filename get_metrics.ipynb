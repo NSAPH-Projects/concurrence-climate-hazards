{
 "cells": [
  {
   "cell_type": "markdown",
   "id": "81951160-fcd9-43ab-b9ee-b990b6c3606c",
   "metadata": {},
   "source": [
    "# Get metrics: heatwave, polluted day and wildfire"
   ]
  },
  {
   "cell_type": "code",
   "execution_count": 1,
   "id": "b0a650fa-143d-4cb5-8ab8-0a3be1142887",
   "metadata": {},
   "outputs": [],
   "source": [
    "import numpy as np\n",
    "import pandas as pd"
   ]
  },
  {
   "cell_type": "code",
   "execution_count": 2,
   "id": "dac02566-bd55-4971-ade0-6f00e0c38e4e",
   "metadata": {},
   "outputs": [],
   "source": [
    "df = pd.read_parquet(\"outputs/final_merge_5.parquet\")"
   ]
  },
  {
   "cell_type": "code",
   "execution_count": 3,
   "id": "f11b72e3-7bcc-43ac-a823-15fa210e69b7",
   "metadata": {},
   "outputs": [
    {
     "data": {
      "text/html": [
       "<div>\n",
       "<style scoped>\n",
       "    .dataframe tbody tr th:only-of-type {\n",
       "        vertical-align: middle;\n",
       "    }\n",
       "\n",
       "    .dataframe tbody tr th {\n",
       "        vertical-align: top;\n",
       "    }\n",
       "\n",
       "    .dataframe thead th {\n",
       "        text-align: right;\n",
       "    }\n",
       "</style>\n",
       "<table border=\"1\" class=\"dataframe\">\n",
       "  <thead>\n",
       "    <tr style=\"text-align: right;\">\n",
       "      <th></th>\n",
       "      <th>time</th>\n",
       "      <th>tmax</th>\n",
       "      <th>tmin</th>\n",
       "      <th>rhum</th>\n",
       "      <th>wfday</th>\n",
       "      <th>pm25</th>\n",
       "      <th>FIPS_1</th>\n",
       "      <th>GEOID</th>\n",
       "      <th>smoke_pm</th>\n",
       "    </tr>\n",
       "  </thead>\n",
       "  <tbody>\n",
       "    <tr>\n",
       "      <th>0</th>\n",
       "      <td>2006-01-01</td>\n",
       "      <td>16.850000</td>\n",
       "      <td>11.850000</td>\n",
       "      <td>99.300003</td>\n",
       "      <td>0.0</td>\n",
       "      <td>3.784</td>\n",
       "      <td>6071010032</td>\n",
       "      <td>6071010032</td>\n",
       "      <td>0.0</td>\n",
       "    </tr>\n",
       "    <tr>\n",
       "      <th>1</th>\n",
       "      <td>2006-01-02</td>\n",
       "      <td>18.749994</td>\n",
       "      <td>8.850000</td>\n",
       "      <td>100.000000</td>\n",
       "      <td>0.0</td>\n",
       "      <td>6.400</td>\n",
       "      <td>6071010032</td>\n",
       "      <td>6071010032</td>\n",
       "      <td>0.0</td>\n",
       "    </tr>\n",
       "    <tr>\n",
       "      <th>2</th>\n",
       "      <td>2006-01-03</td>\n",
       "      <td>22.950006</td>\n",
       "      <td>7.950006</td>\n",
       "      <td>88.900002</td>\n",
       "      <td>0.0</td>\n",
       "      <td>11.912</td>\n",
       "      <td>6071010032</td>\n",
       "      <td>6071010032</td>\n",
       "      <td>0.0</td>\n",
       "    </tr>\n",
       "    <tr>\n",
       "      <th>3</th>\n",
       "      <td>2006-01-04</td>\n",
       "      <td>28.749994</td>\n",
       "      <td>12.850000</td>\n",
       "      <td>55.500000</td>\n",
       "      <td>0.0</td>\n",
       "      <td>6.392</td>\n",
       "      <td>6071010032</td>\n",
       "      <td>6071010032</td>\n",
       "      <td>0.0</td>\n",
       "    </tr>\n",
       "    <tr>\n",
       "      <th>4</th>\n",
       "      <td>2006-01-05</td>\n",
       "      <td>28.850000</td>\n",
       "      <td>12.649988</td>\n",
       "      <td>22.500000</td>\n",
       "      <td>0.0</td>\n",
       "      <td>10.996</td>\n",
       "      <td>6071010032</td>\n",
       "      <td>6071010032</td>\n",
       "      <td>0.0</td>\n",
       "    </tr>\n",
       "  </tbody>\n",
       "</table>\n",
       "</div>"
      ],
      "text/plain": [
       "        time       tmax       tmin        rhum  wfday    pm25      FIPS_1  \\\n",
       "0 2006-01-01  16.850000  11.850000   99.300003    0.0   3.784  6071010032   \n",
       "1 2006-01-02  18.749994   8.850000  100.000000    0.0   6.400  6071010032   \n",
       "2 2006-01-03  22.950006   7.950006   88.900002    0.0  11.912  6071010032   \n",
       "3 2006-01-04  28.749994  12.850000   55.500000    0.0   6.392  6071010032   \n",
       "4 2006-01-05  28.850000  12.649988   22.500000    0.0  10.996  6071010032   \n",
       "\n",
       "        GEOID  smoke_pm  \n",
       "0  6071010032       0.0  \n",
       "1  6071010032       0.0  \n",
       "2  6071010032       0.0  \n",
       "3  6071010032       0.0  \n",
       "4  6071010032       0.0  "
      ]
     },
     "execution_count": 3,
     "metadata": {},
     "output_type": "execute_result"
    }
   ],
   "source": [
    "df.head()"
   ]
  },
  {
   "cell_type": "markdown",
   "id": "a94ff5e1-a266-4ba2-b711-4479deb6f0b5",
   "metadata": {},
   "source": [
    "## Dates"
   ]
  },
  {
   "cell_type": "code",
   "execution_count": 4,
   "id": "aeda6831-78be-40d8-8cba-fcf4a92ae17e",
   "metadata": {
    "tags": []
   },
   "outputs": [],
   "source": [
    "df = df.reset_index()"
   ]
  },
  {
   "cell_type": "code",
   "execution_count": 5,
   "id": "b83d88e0-3879-4911-9220-fd11d9e113e7",
   "metadata": {
    "tags": []
   },
   "outputs": [
    {
     "data": {
      "text/plain": [
       "Timestamp('2006-01-01 00:00:00')"
      ]
     },
     "execution_count": 5,
     "metadata": {},
     "output_type": "execute_result"
    }
   ],
   "source": [
    "df.time.min()"
   ]
  },
  {
   "cell_type": "code",
   "execution_count": 6,
   "id": "cab1124c-2c04-4789-adf6-5be79badafe9",
   "metadata": {
    "tags": []
   },
   "outputs": [
    {
     "data": {
      "text/plain": [
       "Timestamp('2020-12-31 00:00:00')"
      ]
     },
     "execution_count": 6,
     "metadata": {},
     "output_type": "execute_result"
    }
   ],
   "source": [
    "df.time.max()"
   ]
  },
  {
   "cell_type": "markdown",
   "id": "07e1a5cf-dec3-4547-b798-9b339715e23c",
   "metadata": {},
   "source": [
    "# Preprocessing"
   ]
  },
  {
   "cell_type": "markdown",
   "id": "ff3c2dee-2b86-44ad-9d3d-2711c1e3c056",
   "metadata": {},
   "source": [
    "## Heat day rolling window of last 5 years"
   ]
  },
  {
   "cell_type": "code",
   "execution_count": 7,
   "id": "a10185c1-67a1-49a0-b653-1b9f30f171f1",
   "metadata": {
    "tags": []
   },
   "outputs": [],
   "source": [
    "# df = df[df.FIPS.isin([1765.0,1766.0,1767.0])]\n",
    "\n",
    "# df = df.head(30)\n",
    "\n",
    "# df = df[['time','FIPS','tmax']]"
   ]
  },
  {
   "cell_type": "code",
   "execution_count": 11,
   "id": "bb14f770-5504-4e1f-b62c-2a48ebde3fa3",
   "metadata": {
    "tags": []
   },
   "outputs": [],
   "source": [
    "def get_tmax95(x):\n",
    "    # calculate rolling 95th percentile with a window size of 5 years (approx. 1825 days)\n",
    "    rolling_95th = x.rolling(window=1825).quantile(0.95)\n",
    "    \n",
    "    # calculate 95th percentile for the first 5 years\n",
    "    threshold = x[rolling_95th.isna()].quantile(0.95)\n",
    "    # alternative: threshold = x[:window].quantile(0.95)\n",
    "    rolling_95th = rolling_95th.fillna(threshold)\n",
    "    \n",
    "    return rolling_95th\n",
    "\n",
    "df['tmax95'] = df.groupby('GEOID')['tmax'].transform(get_tmax95)"
   ]
  },
  {
   "cell_type": "code",
   "execution_count": 12,
   "id": "6433da54-d993-423c-b14f-626d4dc5703e",
   "metadata": {},
   "outputs": [],
   "source": [
    "df['heatday'] = np.where(df['tmax'] > df['tmax95'], True, False)"
   ]
  },
  {
   "cell_type": "code",
   "execution_count": 13,
   "id": "494bfbce-5499-46ea-bc57-b752d45a609c",
   "metadata": {
    "tags": []
   },
   "outputs": [
    {
     "data": {
      "text/plain": [
       "False    44385286\n",
       "True      2526971\n",
       "Name: heatday, dtype: int64"
      ]
     },
     "execution_count": 13,
     "metadata": {},
     "output_type": "execute_result"
    }
   ],
   "source": [
    "df['heatday'].value_counts() # new without fillna"
   ]
  },
  {
   "cell_type": "markdown",
   "id": "186b43a6-ecc2-43bb-ad49-7aaee60d1584",
   "metadata": {},
   "source": [
    "Note: there are less entries because we cropped years when we don't have wildfire and smoke PM2.5"
   ]
  },
  {
   "cell_type": "code",
   "execution_count": 68,
   "id": "f642f49e-9594-4d64-b387-7ab0b0d49b6f",
   "metadata": {},
   "outputs": [
    {
     "data": {
      "text/plain": [
       "False    36812557\n",
       "True      2105198\n",
       "Name: heatday, dtype: int64"
      ]
     },
     "execution_count": 68,
     "metadata": {},
     "output_type": "execute_result"
    }
   ],
   "source": [
    "df['heatday'].value_counts() # old"
   ]
  },
  {
   "cell_type": "markdown",
   "id": "63c5a3cd-48e0-4aa9-9231-5c7936a7c065",
   "metadata": {},
   "source": [
    "## Cold day"
   ]
  },
  {
   "cell_type": "code",
   "execution_count": 15,
   "id": "de70f930-809a-4b24-948c-8cc3ad476704",
   "metadata": {},
   "outputs": [],
   "source": [
    "def get_tmin05(x):\n",
    "    rolling_5th = x.rolling(window=1825).quantile(0.05)\n",
    "    threshold = x[rolling_5th.isna()].quantile(0.05)\n",
    "    rolling_5th = rolling_5th.fillna(threshold)\n",
    "    \n",
    "    return rolling_5th\n",
    "\n",
    "df['tmin05'] = df.groupby('GEOID')['tmin'].transform(get_tmin05)"
   ]
  },
  {
   "cell_type": "code",
   "execution_count": 16,
   "id": "4a6bb26c-72c4-4dde-a68f-d782e2c4f11b",
   "metadata": {},
   "outputs": [],
   "source": [
    "df['coldday'] = np.where(df['tmin'] < df['tmin05'], True, False)"
   ]
  },
  {
   "cell_type": "code",
   "execution_count": 17,
   "id": "f8921b37-73f8-423a-bda1-b6609948c36c",
   "metadata": {},
   "outputs": [
    {
     "data": {
      "text/html": [
       "<div>\n",
       "<style scoped>\n",
       "    .dataframe tbody tr th:only-of-type {\n",
       "        vertical-align: middle;\n",
       "    }\n",
       "\n",
       "    .dataframe tbody tr th {\n",
       "        vertical-align: top;\n",
       "    }\n",
       "\n",
       "    .dataframe thead th {\n",
       "        text-align: right;\n",
       "    }\n",
       "</style>\n",
       "<table border=\"1\" class=\"dataframe\">\n",
       "  <thead>\n",
       "    <tr style=\"text-align: right;\">\n",
       "      <th></th>\n",
       "      <th>index</th>\n",
       "      <th>time</th>\n",
       "      <th>tmax</th>\n",
       "      <th>tmin</th>\n",
       "      <th>rhum</th>\n",
       "      <th>wfday</th>\n",
       "      <th>pm25</th>\n",
       "      <th>FIPS_1</th>\n",
       "      <th>GEOID</th>\n",
       "      <th>smoke_pm</th>\n",
       "      <th>tmax95</th>\n",
       "      <th>heatday</th>\n",
       "      <th>tmin05</th>\n",
       "      <th>coldday</th>\n",
       "    </tr>\n",
       "  </thead>\n",
       "  <tbody>\n",
       "    <tr>\n",
       "      <th>0</th>\n",
       "      <td>0</td>\n",
       "      <td>2006-01-01</td>\n",
       "      <td>16.850000</td>\n",
       "      <td>11.850000</td>\n",
       "      <td>99.300003</td>\n",
       "      <td>0.0</td>\n",
       "      <td>3.784</td>\n",
       "      <td>6071010032</td>\n",
       "      <td>6071010032</td>\n",
       "      <td>0.0</td>\n",
       "      <td>28.035012</td>\n",
       "      <td>False</td>\n",
       "      <td>6.149988</td>\n",
       "      <td>False</td>\n",
       "    </tr>\n",
       "    <tr>\n",
       "      <th>1</th>\n",
       "      <td>1</td>\n",
       "      <td>2006-01-02</td>\n",
       "      <td>18.749994</td>\n",
       "      <td>8.850000</td>\n",
       "      <td>100.000000</td>\n",
       "      <td>0.0</td>\n",
       "      <td>6.400</td>\n",
       "      <td>6071010032</td>\n",
       "      <td>6071010032</td>\n",
       "      <td>0.0</td>\n",
       "      <td>28.035012</td>\n",
       "      <td>False</td>\n",
       "      <td>6.149988</td>\n",
       "      <td>False</td>\n",
       "    </tr>\n",
       "    <tr>\n",
       "      <th>2</th>\n",
       "      <td>2</td>\n",
       "      <td>2006-01-03</td>\n",
       "      <td>22.950006</td>\n",
       "      <td>7.950006</td>\n",
       "      <td>88.900002</td>\n",
       "      <td>0.0</td>\n",
       "      <td>11.912</td>\n",
       "      <td>6071010032</td>\n",
       "      <td>6071010032</td>\n",
       "      <td>0.0</td>\n",
       "      <td>28.035012</td>\n",
       "      <td>False</td>\n",
       "      <td>6.149988</td>\n",
       "      <td>False</td>\n",
       "    </tr>\n",
       "    <tr>\n",
       "      <th>3</th>\n",
       "      <td>3</td>\n",
       "      <td>2006-01-04</td>\n",
       "      <td>28.749994</td>\n",
       "      <td>12.850000</td>\n",
       "      <td>55.500000</td>\n",
       "      <td>0.0</td>\n",
       "      <td>6.392</td>\n",
       "      <td>6071010032</td>\n",
       "      <td>6071010032</td>\n",
       "      <td>0.0</td>\n",
       "      <td>28.035012</td>\n",
       "      <td>True</td>\n",
       "      <td>6.149988</td>\n",
       "      <td>False</td>\n",
       "    </tr>\n",
       "    <tr>\n",
       "      <th>4</th>\n",
       "      <td>4</td>\n",
       "      <td>2006-01-05</td>\n",
       "      <td>28.850000</td>\n",
       "      <td>12.649988</td>\n",
       "      <td>22.500000</td>\n",
       "      <td>0.0</td>\n",
       "      <td>10.996</td>\n",
       "      <td>6071010032</td>\n",
       "      <td>6071010032</td>\n",
       "      <td>0.0</td>\n",
       "      <td>28.035012</td>\n",
       "      <td>True</td>\n",
       "      <td>6.149988</td>\n",
       "      <td>False</td>\n",
       "    </tr>\n",
       "  </tbody>\n",
       "</table>\n",
       "</div>"
      ],
      "text/plain": [
       "   index       time       tmax       tmin        rhum  wfday    pm25  \\\n",
       "0      0 2006-01-01  16.850000  11.850000   99.300003    0.0   3.784   \n",
       "1      1 2006-01-02  18.749994   8.850000  100.000000    0.0   6.400   \n",
       "2      2 2006-01-03  22.950006   7.950006   88.900002    0.0  11.912   \n",
       "3      3 2006-01-04  28.749994  12.850000   55.500000    0.0   6.392   \n",
       "4      4 2006-01-05  28.850000  12.649988   22.500000    0.0  10.996   \n",
       "\n",
       "       FIPS_1       GEOID  smoke_pm     tmax95  heatday    tmin05  coldday  \n",
       "0  6071010032  6071010032       0.0  28.035012    False  6.149988    False  \n",
       "1  6071010032  6071010032       0.0  28.035012    False  6.149988    False  \n",
       "2  6071010032  6071010032       0.0  28.035012    False  6.149988    False  \n",
       "3  6071010032  6071010032       0.0  28.035012     True  6.149988    False  \n",
       "4  6071010032  6071010032       0.0  28.035012     True  6.149988    False  "
      ]
     },
     "execution_count": 17,
     "metadata": {},
     "output_type": "execute_result"
    }
   ],
   "source": [
    "df.head()"
   ]
  },
  {
   "cell_type": "code",
   "execution_count": 18,
   "id": "1ff951cf-01c6-4844-b61a-4cef590df3d4",
   "metadata": {
    "tags": []
   },
   "outputs": [
    {
     "data": {
      "text/plain": [
       "False    44744900\n",
       "True      2167357\n",
       "Name: coldday, dtype: int64"
      ]
     },
     "execution_count": 18,
     "metadata": {},
     "output_type": "execute_result"
    }
   ],
   "source": [
    "df['coldday'].value_counts() "
   ]
  },
  {
   "cell_type": "markdown",
   "id": "3deaf173-c3e0-43f2-bf25-7e8ca4f7790a",
   "metadata": {},
   "source": [
    "## Polluted day"
   ]
  },
  {
   "cell_type": "markdown",
   "id": "8ad6d34d-6881-4b46-9fec-1a433a668915",
   "metadata": {},
   "source": [
    "Polluted day is defined as day with PM2.5 equal or higher than 35 μg/m3\n",
    "\n",
    "Ref: https://www.epa.gov/criteria-air-pollutants/naaqs-table"
   ]
  },
  {
   "cell_type": "code",
   "execution_count": 19,
   "id": "86e6fed9-70ed-4fb4-a6e1-1c190b13699b",
   "metadata": {},
   "outputs": [],
   "source": [
    "df['polluted'] = np.where(df['pm25'] >= 35, True, False)"
   ]
  },
  {
   "cell_type": "code",
   "execution_count": 20,
   "id": "dea7a46f-4743-4772-b147-64527b2d3103",
   "metadata": {},
   "outputs": [
    {
     "data": {
      "text/plain": [
       "False    46417123\n",
       "True       495134\n",
       "Name: polluted, dtype: int64"
      ]
     },
     "execution_count": 20,
     "metadata": {},
     "output_type": "execute_result"
    }
   ],
   "source": [
    "df['polluted'].value_counts()"
   ]
  },
  {
   "cell_type": "markdown",
   "id": "841acbbd-c6b3-4689-8d7a-8f4addd00055",
   "metadata": {},
   "source": [
    "## Wildfire day"
   ]
  },
  {
   "cell_type": "code",
   "execution_count": 21,
   "id": "a9760242-8650-4517-9c1e-645c3b07c413",
   "metadata": {},
   "outputs": [
    {
     "data": {
      "text/html": [
       "<div>\n",
       "<style scoped>\n",
       "    .dataframe tbody tr th:only-of-type {\n",
       "        vertical-align: middle;\n",
       "    }\n",
       "\n",
       "    .dataframe tbody tr th {\n",
       "        vertical-align: top;\n",
       "    }\n",
       "\n",
       "    .dataframe thead th {\n",
       "        text-align: right;\n",
       "    }\n",
       "</style>\n",
       "<table border=\"1\" class=\"dataframe\">\n",
       "  <thead>\n",
       "    <tr style=\"text-align: right;\">\n",
       "      <th></th>\n",
       "      <th>index</th>\n",
       "      <th>time</th>\n",
       "      <th>tmax</th>\n",
       "      <th>tmin</th>\n",
       "      <th>rhum</th>\n",
       "      <th>wfday</th>\n",
       "      <th>pm25</th>\n",
       "      <th>FIPS_1</th>\n",
       "      <th>GEOID</th>\n",
       "      <th>smoke_pm</th>\n",
       "      <th>tmax95</th>\n",
       "      <th>heatday</th>\n",
       "      <th>tmin05</th>\n",
       "      <th>coldday</th>\n",
       "      <th>polluted</th>\n",
       "    </tr>\n",
       "  </thead>\n",
       "  <tbody>\n",
       "    <tr>\n",
       "      <th>0</th>\n",
       "      <td>0</td>\n",
       "      <td>2006-01-01</td>\n",
       "      <td>16.850000</td>\n",
       "      <td>11.850000</td>\n",
       "      <td>99.300003</td>\n",
       "      <td>0.0</td>\n",
       "      <td>3.784</td>\n",
       "      <td>6071010032</td>\n",
       "      <td>6071010032</td>\n",
       "      <td>0.0</td>\n",
       "      <td>28.035012</td>\n",
       "      <td>False</td>\n",
       "      <td>6.149988</td>\n",
       "      <td>False</td>\n",
       "      <td>False</td>\n",
       "    </tr>\n",
       "    <tr>\n",
       "      <th>1</th>\n",
       "      <td>1</td>\n",
       "      <td>2006-01-02</td>\n",
       "      <td>18.749994</td>\n",
       "      <td>8.850000</td>\n",
       "      <td>100.000000</td>\n",
       "      <td>0.0</td>\n",
       "      <td>6.400</td>\n",
       "      <td>6071010032</td>\n",
       "      <td>6071010032</td>\n",
       "      <td>0.0</td>\n",
       "      <td>28.035012</td>\n",
       "      <td>False</td>\n",
       "      <td>6.149988</td>\n",
       "      <td>False</td>\n",
       "      <td>False</td>\n",
       "    </tr>\n",
       "    <tr>\n",
       "      <th>2</th>\n",
       "      <td>2</td>\n",
       "      <td>2006-01-03</td>\n",
       "      <td>22.950006</td>\n",
       "      <td>7.950006</td>\n",
       "      <td>88.900002</td>\n",
       "      <td>0.0</td>\n",
       "      <td>11.912</td>\n",
       "      <td>6071010032</td>\n",
       "      <td>6071010032</td>\n",
       "      <td>0.0</td>\n",
       "      <td>28.035012</td>\n",
       "      <td>False</td>\n",
       "      <td>6.149988</td>\n",
       "      <td>False</td>\n",
       "      <td>False</td>\n",
       "    </tr>\n",
       "    <tr>\n",
       "      <th>3</th>\n",
       "      <td>3</td>\n",
       "      <td>2006-01-04</td>\n",
       "      <td>28.749994</td>\n",
       "      <td>12.850000</td>\n",
       "      <td>55.500000</td>\n",
       "      <td>0.0</td>\n",
       "      <td>6.392</td>\n",
       "      <td>6071010032</td>\n",
       "      <td>6071010032</td>\n",
       "      <td>0.0</td>\n",
       "      <td>28.035012</td>\n",
       "      <td>True</td>\n",
       "      <td>6.149988</td>\n",
       "      <td>False</td>\n",
       "      <td>False</td>\n",
       "    </tr>\n",
       "    <tr>\n",
       "      <th>4</th>\n",
       "      <td>4</td>\n",
       "      <td>2006-01-05</td>\n",
       "      <td>28.850000</td>\n",
       "      <td>12.649988</td>\n",
       "      <td>22.500000</td>\n",
       "      <td>0.0</td>\n",
       "      <td>10.996</td>\n",
       "      <td>6071010032</td>\n",
       "      <td>6071010032</td>\n",
       "      <td>0.0</td>\n",
       "      <td>28.035012</td>\n",
       "      <td>True</td>\n",
       "      <td>6.149988</td>\n",
       "      <td>False</td>\n",
       "      <td>False</td>\n",
       "    </tr>\n",
       "  </tbody>\n",
       "</table>\n",
       "</div>"
      ],
      "text/plain": [
       "   index       time       tmax       tmin        rhum  wfday    pm25  \\\n",
       "0      0 2006-01-01  16.850000  11.850000   99.300003    0.0   3.784   \n",
       "1      1 2006-01-02  18.749994   8.850000  100.000000    0.0   6.400   \n",
       "2      2 2006-01-03  22.950006   7.950006   88.900002    0.0  11.912   \n",
       "3      3 2006-01-04  28.749994  12.850000   55.500000    0.0   6.392   \n",
       "4      4 2006-01-05  28.850000  12.649988   22.500000    0.0  10.996   \n",
       "\n",
       "       FIPS_1       GEOID  smoke_pm     tmax95  heatday    tmin05  coldday  \\\n",
       "0  6071010032  6071010032       0.0  28.035012    False  6.149988    False   \n",
       "1  6071010032  6071010032       0.0  28.035012    False  6.149988    False   \n",
       "2  6071010032  6071010032       0.0  28.035012    False  6.149988    False   \n",
       "3  6071010032  6071010032       0.0  28.035012     True  6.149988    False   \n",
       "4  6071010032  6071010032       0.0  28.035012     True  6.149988    False   \n",
       "\n",
       "   polluted  \n",
       "0     False  \n",
       "1     False  \n",
       "2     False  \n",
       "3     False  \n",
       "4     False  "
      ]
     },
     "execution_count": 21,
     "metadata": {},
     "output_type": "execute_result"
    }
   ],
   "source": [
    "df.head()"
   ]
  },
  {
   "cell_type": "code",
   "execution_count": 22,
   "id": "9a60784d-da92-4f3b-8158-be97c66d697a",
   "metadata": {},
   "outputs": [
    {
     "data": {
      "text/plain": [
       "0.0    46881750\n",
       "1.0       30507\n",
       "Name: wfday, dtype: int64"
      ]
     },
     "execution_count": 22,
     "metadata": {},
     "output_type": "execute_result"
    }
   ],
   "source": [
    "df['wfday'].value_counts()"
   ]
  },
  {
   "cell_type": "code",
   "execution_count": 23,
   "id": "e53de808-278d-4e1c-b400-c9a205ed905c",
   "metadata": {},
   "outputs": [],
   "source": [
    "df['wfday'] = np.where(df['wfday'] == 1.0, True, False)"
   ]
  },
  {
   "cell_type": "code",
   "execution_count": 24,
   "id": "70353c82-ee62-4dfd-8284-7085e7bd5624",
   "metadata": {},
   "outputs": [
    {
     "data": {
      "text/plain": [
       "False    46881750\n",
       "True        30507\n",
       "Name: wfday, dtype: int64"
      ]
     },
     "execution_count": 24,
     "metadata": {},
     "output_type": "execute_result"
    }
   ],
   "source": [
    "df['wfday'].value_counts()"
   ]
  },
  {
   "cell_type": "code",
   "execution_count": 25,
   "id": "5ff7dbde-decf-4066-9597-b977ed72197a",
   "metadata": {
    "tags": []
   },
   "outputs": [],
   "source": [
    "df = df.drop(columns=[\"tmax95\", \"tmin05\"])"
   ]
  },
  {
   "cell_type": "code",
   "execution_count": 26,
   "id": "2cf28b21-6ded-4784-93de-2ccba444a7c7",
   "metadata": {
    "tags": []
   },
   "outputs": [
    {
     "data": {
      "text/html": [
       "<div>\n",
       "<style scoped>\n",
       "    .dataframe tbody tr th:only-of-type {\n",
       "        vertical-align: middle;\n",
       "    }\n",
       "\n",
       "    .dataframe tbody tr th {\n",
       "        vertical-align: top;\n",
       "    }\n",
       "\n",
       "    .dataframe thead th {\n",
       "        text-align: right;\n",
       "    }\n",
       "</style>\n",
       "<table border=\"1\" class=\"dataframe\">\n",
       "  <thead>\n",
       "    <tr style=\"text-align: right;\">\n",
       "      <th></th>\n",
       "      <th>index</th>\n",
       "      <th>time</th>\n",
       "      <th>tmax</th>\n",
       "      <th>tmin</th>\n",
       "      <th>rhum</th>\n",
       "      <th>wfday</th>\n",
       "      <th>pm25</th>\n",
       "      <th>FIPS_1</th>\n",
       "      <th>GEOID</th>\n",
       "      <th>smoke_pm</th>\n",
       "      <th>heatday</th>\n",
       "      <th>coldday</th>\n",
       "      <th>polluted</th>\n",
       "    </tr>\n",
       "  </thead>\n",
       "  <tbody>\n",
       "    <tr>\n",
       "      <th>0</th>\n",
       "      <td>0</td>\n",
       "      <td>2006-01-01</td>\n",
       "      <td>16.850000</td>\n",
       "      <td>11.850000</td>\n",
       "      <td>99.300003</td>\n",
       "      <td>False</td>\n",
       "      <td>3.784</td>\n",
       "      <td>6071010032</td>\n",
       "      <td>6071010032</td>\n",
       "      <td>0.0</td>\n",
       "      <td>False</td>\n",
       "      <td>False</td>\n",
       "      <td>False</td>\n",
       "    </tr>\n",
       "    <tr>\n",
       "      <th>1</th>\n",
       "      <td>1</td>\n",
       "      <td>2006-01-02</td>\n",
       "      <td>18.749994</td>\n",
       "      <td>8.850000</td>\n",
       "      <td>100.000000</td>\n",
       "      <td>False</td>\n",
       "      <td>6.400</td>\n",
       "      <td>6071010032</td>\n",
       "      <td>6071010032</td>\n",
       "      <td>0.0</td>\n",
       "      <td>False</td>\n",
       "      <td>False</td>\n",
       "      <td>False</td>\n",
       "    </tr>\n",
       "    <tr>\n",
       "      <th>2</th>\n",
       "      <td>2</td>\n",
       "      <td>2006-01-03</td>\n",
       "      <td>22.950006</td>\n",
       "      <td>7.950006</td>\n",
       "      <td>88.900002</td>\n",
       "      <td>False</td>\n",
       "      <td>11.912</td>\n",
       "      <td>6071010032</td>\n",
       "      <td>6071010032</td>\n",
       "      <td>0.0</td>\n",
       "      <td>False</td>\n",
       "      <td>False</td>\n",
       "      <td>False</td>\n",
       "    </tr>\n",
       "    <tr>\n",
       "      <th>3</th>\n",
       "      <td>3</td>\n",
       "      <td>2006-01-04</td>\n",
       "      <td>28.749994</td>\n",
       "      <td>12.850000</td>\n",
       "      <td>55.500000</td>\n",
       "      <td>False</td>\n",
       "      <td>6.392</td>\n",
       "      <td>6071010032</td>\n",
       "      <td>6071010032</td>\n",
       "      <td>0.0</td>\n",
       "      <td>True</td>\n",
       "      <td>False</td>\n",
       "      <td>False</td>\n",
       "    </tr>\n",
       "    <tr>\n",
       "      <th>4</th>\n",
       "      <td>4</td>\n",
       "      <td>2006-01-05</td>\n",
       "      <td>28.850000</td>\n",
       "      <td>12.649988</td>\n",
       "      <td>22.500000</td>\n",
       "      <td>False</td>\n",
       "      <td>10.996</td>\n",
       "      <td>6071010032</td>\n",
       "      <td>6071010032</td>\n",
       "      <td>0.0</td>\n",
       "      <td>True</td>\n",
       "      <td>False</td>\n",
       "      <td>False</td>\n",
       "    </tr>\n",
       "  </tbody>\n",
       "</table>\n",
       "</div>"
      ],
      "text/plain": [
       "   index       time       tmax       tmin        rhum  wfday    pm25  \\\n",
       "0      0 2006-01-01  16.850000  11.850000   99.300003  False   3.784   \n",
       "1      1 2006-01-02  18.749994   8.850000  100.000000  False   6.400   \n",
       "2      2 2006-01-03  22.950006   7.950006   88.900002  False  11.912   \n",
       "3      3 2006-01-04  28.749994  12.850000   55.500000  False   6.392   \n",
       "4      4 2006-01-05  28.850000  12.649988   22.500000  False  10.996   \n",
       "\n",
       "       FIPS_1       GEOID  smoke_pm  heatday  coldday  polluted  \n",
       "0  6071010032  6071010032       0.0    False    False     False  \n",
       "1  6071010032  6071010032       0.0    False    False     False  \n",
       "2  6071010032  6071010032       0.0    False    False     False  \n",
       "3  6071010032  6071010032       0.0     True    False     False  \n",
       "4  6071010032  6071010032       0.0     True    False     False  "
      ]
     },
     "execution_count": 26,
     "metadata": {},
     "output_type": "execute_result"
    }
   ],
   "source": [
    "df.head()"
   ]
  },
  {
   "cell_type": "markdown",
   "id": "8c2ea9fe-3635-4b41-a88e-0bd96d1b97e7",
   "metadata": {
    "tags": []
   },
   "source": [
    "## Smoke Polluted Day"
   ]
  },
  {
   "cell_type": "code",
   "execution_count": 27,
   "id": "61778296-c0f8-4a09-93de-36c0d81496fe",
   "metadata": {
    "tags": []
   },
   "outputs": [],
   "source": [
    "df['smoke_pm_non_zero'] = np.where(df['smoke_pm'] > 0.0, True, False)"
   ]
  },
  {
   "cell_type": "code",
   "execution_count": 28,
   "id": "91a197e8-fac8-4ebc-a8a5-4e418b0887b8",
   "metadata": {
    "tags": []
   },
   "outputs": [],
   "source": [
    "# As seen in https://www.researchsquare.com/article/rs-2866201/v1\n",
    "\n",
    "df['smoke_pm_gt_five'] = np.where(df['smoke_pm'] > 5.0, True, False)"
   ]
  },
  {
   "cell_type": "code",
   "execution_count": 29,
   "id": "27802353-675c-4699-a843-26b9cb701784",
   "metadata": {
    "tags": []
   },
   "outputs": [
    {
     "data": {
      "text/html": [
       "<div>\n",
       "<style scoped>\n",
       "    .dataframe tbody tr th:only-of-type {\n",
       "        vertical-align: middle;\n",
       "    }\n",
       "\n",
       "    .dataframe tbody tr th {\n",
       "        vertical-align: top;\n",
       "    }\n",
       "\n",
       "    .dataframe thead th {\n",
       "        text-align: right;\n",
       "    }\n",
       "</style>\n",
       "<table border=\"1\" class=\"dataframe\">\n",
       "  <thead>\n",
       "    <tr style=\"text-align: right;\">\n",
       "      <th></th>\n",
       "      <th>index</th>\n",
       "      <th>time</th>\n",
       "      <th>tmax</th>\n",
       "      <th>tmin</th>\n",
       "      <th>rhum</th>\n",
       "      <th>wfday</th>\n",
       "      <th>pm25</th>\n",
       "      <th>FIPS_1</th>\n",
       "      <th>GEOID</th>\n",
       "      <th>smoke_pm</th>\n",
       "      <th>heatday</th>\n",
       "      <th>coldday</th>\n",
       "      <th>polluted</th>\n",
       "      <th>smoke_pm_non_zero</th>\n",
       "      <th>smoke_pm_gt_five</th>\n",
       "    </tr>\n",
       "  </thead>\n",
       "  <tbody>\n",
       "    <tr>\n",
       "      <th>0</th>\n",
       "      <td>0</td>\n",
       "      <td>2006-01-01</td>\n",
       "      <td>16.850000</td>\n",
       "      <td>11.850000</td>\n",
       "      <td>99.300003</td>\n",
       "      <td>False</td>\n",
       "      <td>3.784</td>\n",
       "      <td>6071010032</td>\n",
       "      <td>6071010032</td>\n",
       "      <td>0.0</td>\n",
       "      <td>False</td>\n",
       "      <td>False</td>\n",
       "      <td>False</td>\n",
       "      <td>False</td>\n",
       "      <td>False</td>\n",
       "    </tr>\n",
       "    <tr>\n",
       "      <th>1</th>\n",
       "      <td>1</td>\n",
       "      <td>2006-01-02</td>\n",
       "      <td>18.749994</td>\n",
       "      <td>8.850000</td>\n",
       "      <td>100.000000</td>\n",
       "      <td>False</td>\n",
       "      <td>6.400</td>\n",
       "      <td>6071010032</td>\n",
       "      <td>6071010032</td>\n",
       "      <td>0.0</td>\n",
       "      <td>False</td>\n",
       "      <td>False</td>\n",
       "      <td>False</td>\n",
       "      <td>False</td>\n",
       "      <td>False</td>\n",
       "    </tr>\n",
       "    <tr>\n",
       "      <th>2</th>\n",
       "      <td>2</td>\n",
       "      <td>2006-01-03</td>\n",
       "      <td>22.950006</td>\n",
       "      <td>7.950006</td>\n",
       "      <td>88.900002</td>\n",
       "      <td>False</td>\n",
       "      <td>11.912</td>\n",
       "      <td>6071010032</td>\n",
       "      <td>6071010032</td>\n",
       "      <td>0.0</td>\n",
       "      <td>False</td>\n",
       "      <td>False</td>\n",
       "      <td>False</td>\n",
       "      <td>False</td>\n",
       "      <td>False</td>\n",
       "    </tr>\n",
       "    <tr>\n",
       "      <th>3</th>\n",
       "      <td>3</td>\n",
       "      <td>2006-01-04</td>\n",
       "      <td>28.749994</td>\n",
       "      <td>12.850000</td>\n",
       "      <td>55.500000</td>\n",
       "      <td>False</td>\n",
       "      <td>6.392</td>\n",
       "      <td>6071010032</td>\n",
       "      <td>6071010032</td>\n",
       "      <td>0.0</td>\n",
       "      <td>True</td>\n",
       "      <td>False</td>\n",
       "      <td>False</td>\n",
       "      <td>False</td>\n",
       "      <td>False</td>\n",
       "    </tr>\n",
       "    <tr>\n",
       "      <th>4</th>\n",
       "      <td>4</td>\n",
       "      <td>2006-01-05</td>\n",
       "      <td>28.850000</td>\n",
       "      <td>12.649988</td>\n",
       "      <td>22.500000</td>\n",
       "      <td>False</td>\n",
       "      <td>10.996</td>\n",
       "      <td>6071010032</td>\n",
       "      <td>6071010032</td>\n",
       "      <td>0.0</td>\n",
       "      <td>True</td>\n",
       "      <td>False</td>\n",
       "      <td>False</td>\n",
       "      <td>False</td>\n",
       "      <td>False</td>\n",
       "    </tr>\n",
       "  </tbody>\n",
       "</table>\n",
       "</div>"
      ],
      "text/plain": [
       "   index       time       tmax       tmin        rhum  wfday    pm25  \\\n",
       "0      0 2006-01-01  16.850000  11.850000   99.300003  False   3.784   \n",
       "1      1 2006-01-02  18.749994   8.850000  100.000000  False   6.400   \n",
       "2      2 2006-01-03  22.950006   7.950006   88.900002  False  11.912   \n",
       "3      3 2006-01-04  28.749994  12.850000   55.500000  False   6.392   \n",
       "4      4 2006-01-05  28.850000  12.649988   22.500000  False  10.996   \n",
       "\n",
       "       FIPS_1       GEOID  smoke_pm  heatday  coldday  polluted  \\\n",
       "0  6071010032  6071010032       0.0    False    False     False   \n",
       "1  6071010032  6071010032       0.0    False    False     False   \n",
       "2  6071010032  6071010032       0.0    False    False     False   \n",
       "3  6071010032  6071010032       0.0     True    False     False   \n",
       "4  6071010032  6071010032       0.0     True    False     False   \n",
       "\n",
       "   smoke_pm_non_zero  smoke_pm_gt_five  \n",
       "0              False             False  \n",
       "1              False             False  \n",
       "2              False             False  \n",
       "3              False             False  \n",
       "4              False             False  "
      ]
     },
     "execution_count": 29,
     "metadata": {},
     "output_type": "execute_result"
    }
   ],
   "source": [
    "df.head()"
   ]
  },
  {
   "cell_type": "code",
   "execution_count": 30,
   "id": "cce21b4b-98e0-4629-9041-335d6013599e",
   "metadata": {
    "tags": []
   },
   "outputs": [],
   "source": [
    "df.to_parquet(\"outputs/merged_heatday_coldday_wfday_polluted_smoke_polluted_rolling.parquet\")"
   ]
  },
  {
   "cell_type": "code",
   "execution_count": null,
   "id": "18bd0bc7-d3e0-492a-802d-79626f468ffa",
   "metadata": {},
   "outputs": [],
   "source": []
  },
  {
   "cell_type": "markdown",
   "id": "e5dda98b-45bd-4b34-9c29-c233c4443e94",
   "metadata": {},
   "source": [
    "# Scale temperature to Quantiles"
   ]
  },
  {
   "cell_type": "code",
   "execution_count": 4,
   "id": "940795e4-0737-49a5-9f89-415b8bacdfef",
   "metadata": {
    "tags": []
   },
   "outputs": [],
   "source": [
    "df = pd.read_parquet(\"outputs/merged_heatday_coldday_wfday_polluted_smoke_polluted.parquet\")"
   ]
  },
  {
   "cell_type": "code",
   "execution_count": 5,
   "id": "fde8d62d-f7ab-4700-836d-51c936eeac2f",
   "metadata": {
    "tags": []
   },
   "outputs": [],
   "source": [
    "df = df.reset_index()"
   ]
  },
  {
   "cell_type": "code",
   "execution_count": 6,
   "id": "39545f5d-3a09-432c-8fdc-adafe9da7850",
   "metadata": {
    "tags": []
   },
   "outputs": [],
   "source": [
    "df = df[df['time'].dt.year == 2020]"
   ]
  },
  {
   "cell_type": "code",
   "execution_count": 7,
   "id": "537f339b-d045-46c5-b367-a5e752b45438",
   "metadata": {
    "tags": []
   },
   "outputs": [],
   "source": [
    "from sklearn.preprocessing import StandardScaler #, QuantileTransformer"
   ]
  },
  {
   "cell_type": "code",
   "execution_count": 8,
   "id": "ed6fdddb-c1dc-4e3b-ab3a-d2a5e06c84cc",
   "metadata": {
    "tags": []
   },
   "outputs": [],
   "source": [
    "transformer = StandardScaler() #output_distribution='uniform')"
   ]
  },
  {
   "cell_type": "code",
   "execution_count": 9,
   "id": "0559a667-f8da-4625-8def-880304cb8b3c",
   "metadata": {
    "tags": []
   },
   "outputs": [],
   "source": [
    "df = df[['time', 'FIPS', 'tmax', 'tmin', 'wfday', 'smokePM_pred']]"
   ]
  },
  {
   "cell_type": "code",
   "execution_count": 10,
   "id": "7d000dd4-2965-4e21-9e92-2e92b224f936",
   "metadata": {
    "tags": []
   },
   "outputs": [],
   "source": [
    "# def scaler(x):\n",
    "#     array_x = x.values.reshape(-1, 1)\n",
    "#     res = transformer.fit_transform(array_x) \n",
    "#     res = list(res.flatten())\n",
    "#     return pd.Series(res)\n",
    "\n",
    "# df[\"scaled_tmax\"] = df.groupby(\"FIPS\")['tmax'].transform(scaler)\n",
    "# df[\"scaled_tmin\"] = df.groupby(\"FIPS\")['tmax'].transform(scaler)"
   ]
  },
  {
   "cell_type": "code",
   "execution_count": 11,
   "id": "83f818c4-b519-49f5-af55-b15dfd0778fc",
   "metadata": {
    "tags": []
   },
   "outputs": [],
   "source": [
    "df[['scaled_tmax', 'scaled_tmin']] = df.groupby(\n",
    "    'FIPS')[['tmin','tmax']].transform(\n",
    "    lambda x: StandardScaler(\n",
    "    ).fit_transform(x.values[:,np.newaxis]).ravel()\n",
    ")"
   ]
  },
  {
   "cell_type": "code",
   "execution_count": 12,
   "id": "c44af9ac-e020-4e05-8075-e60b33b02e24",
   "metadata": {
    "tags": []
   },
   "outputs": [
    {
     "data": {
      "text/html": [
       "<div>\n",
       "<style scoped>\n",
       "    .dataframe tbody tr th:only-of-type {\n",
       "        vertical-align: middle;\n",
       "    }\n",
       "\n",
       "    .dataframe tbody tr th {\n",
       "        vertical-align: top;\n",
       "    }\n",
       "\n",
       "    .dataframe thead th {\n",
       "        text-align: right;\n",
       "    }\n",
       "</style>\n",
       "<table border=\"1\" class=\"dataframe\">\n",
       "  <thead>\n",
       "    <tr style=\"text-align: right;\">\n",
       "      <th></th>\n",
       "      <th>time</th>\n",
       "      <th>FIPS</th>\n",
       "      <th>tmax</th>\n",
       "      <th>tmin</th>\n",
       "      <th>wfday</th>\n",
       "      <th>smokePM_pred</th>\n",
       "      <th>scaled_tmax</th>\n",
       "      <th>scaled_tmin</th>\n",
       "    </tr>\n",
       "  </thead>\n",
       "  <tbody>\n",
       "    <tr>\n",
       "      <th>45979974</th>\n",
       "      <td>2020-01-01</td>\n",
       "      <td>1765.0</td>\n",
       "      <td>16.550013</td>\n",
       "      <td>7.649988</td>\n",
       "      <td>False</td>\n",
       "      <td>0.0</td>\n",
       "      <td>-0.708617</td>\n",
       "      <td>-0.569100</td>\n",
       "    </tr>\n",
       "    <tr>\n",
       "      <th>45979975</th>\n",
       "      <td>2020-01-01</td>\n",
       "      <td>1766.0</td>\n",
       "      <td>17.749994</td>\n",
       "      <td>7.950006</td>\n",
       "      <td>False</td>\n",
       "      <td>0.0</td>\n",
       "      <td>-0.864803</td>\n",
       "      <td>-0.490781</td>\n",
       "    </tr>\n",
       "    <tr>\n",
       "      <th>45979976</th>\n",
       "      <td>2020-01-01</td>\n",
       "      <td>1767.0</td>\n",
       "      <td>17.749994</td>\n",
       "      <td>7.950006</td>\n",
       "      <td>False</td>\n",
       "      <td>0.0</td>\n",
       "      <td>-0.864803</td>\n",
       "      <td>-0.490781</td>\n",
       "    </tr>\n",
       "    <tr>\n",
       "      <th>45979977</th>\n",
       "      <td>2020-01-01</td>\n",
       "      <td>1768.0</td>\n",
       "      <td>17.749994</td>\n",
       "      <td>7.950006</td>\n",
       "      <td>False</td>\n",
       "      <td>0.0</td>\n",
       "      <td>-0.864803</td>\n",
       "      <td>-0.490781</td>\n",
       "    </tr>\n",
       "    <tr>\n",
       "      <th>45979978</th>\n",
       "      <td>2020-01-01</td>\n",
       "      <td>1769.0</td>\n",
       "      <td>17.749994</td>\n",
       "      <td>7.950006</td>\n",
       "      <td>False</td>\n",
       "      <td>0.0</td>\n",
       "      <td>-0.864803</td>\n",
       "      <td>-0.490781</td>\n",
       "    </tr>\n",
       "  </tbody>\n",
       "</table>\n",
       "</div>"
      ],
      "text/plain": [
       "               time    FIPS       tmax      tmin  wfday  smokePM_pred  \\\n",
       "45979974 2020-01-01  1765.0  16.550013  7.649988  False           0.0   \n",
       "45979975 2020-01-01  1766.0  17.749994  7.950006  False           0.0   \n",
       "45979976 2020-01-01  1767.0  17.749994  7.950006  False           0.0   \n",
       "45979977 2020-01-01  1768.0  17.749994  7.950006  False           0.0   \n",
       "45979978 2020-01-01  1769.0  17.749994  7.950006  False           0.0   \n",
       "\n",
       "          scaled_tmax  scaled_tmin  \n",
       "45979974    -0.708617    -0.569100  \n",
       "45979975    -0.864803    -0.490781  \n",
       "45979976    -0.864803    -0.490781  \n",
       "45979977    -0.864803    -0.490781  \n",
       "45979978    -0.864803    -0.490781  "
      ]
     },
     "execution_count": 12,
     "metadata": {},
     "output_type": "execute_result"
    }
   ],
   "source": [
    "df.head()"
   ]
  },
  {
   "cell_type": "code",
   "execution_count": 13,
   "id": "70f09d4b-fff3-4bab-9d33-8bdb0806d7f5",
   "metadata": {
    "tags": []
   },
   "outputs": [],
   "source": [
    "crosswalk = pd.read_csv(\n",
    "    \"data/fips_crosswalk_merged_county.csv\", \n",
    "    usecols=[\"FIPS\", \"long_FIPS\", \"TRACT_FIPS\", \"COUNTY_CODE\"],\n",
    "    index_col=[\"FIPS\"],\n",
    "    dtype={\"COUNTY_CODE\":str})"
   ]
  },
  {
   "cell_type": "code",
   "execution_count": 14,
   "id": "40327e58-1250-4416-b30b-225d1231b174",
   "metadata": {
    "tags": []
   },
   "outputs": [],
   "source": [
    "merged_df = df.merge(crosswalk, on=\"FIPS\")"
   ]
  },
  {
   "cell_type": "code",
   "execution_count": 17,
   "id": "8bc36da7-79c7-4324-ad7d-310f6d81ee35",
   "metadata": {
    "tags": []
   },
   "outputs": [],
   "source": [
    "merged_df.to_csv(\"tmax_wfday_smoke-pm_scaled-2020.csv\")"
   ]
  },
  {
   "cell_type": "code",
   "execution_count": null,
   "id": "a5d7955b-c15f-48cf-868f-1a00dd2a8fc3",
   "metadata": {},
   "outputs": [],
   "source": []
  }
 ],
 "metadata": {
  "kernelspec": {
   "display_name": "Python 3 (ipykernel)",
   "language": "python",
   "name": "python3"
  },
  "language_info": {
   "codemirror_mode": {
    "name": "ipython",
    "version": 3
   },
   "file_extension": ".py",
   "mimetype": "text/x-python",
   "name": "python",
   "nbconvert_exporter": "python",
   "pygments_lexer": "ipython3",
   "version": "3.10.11"
  }
 },
 "nbformat": 4,
 "nbformat_minor": 5
}
