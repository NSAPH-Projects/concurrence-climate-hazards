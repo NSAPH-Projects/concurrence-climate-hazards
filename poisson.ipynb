{
 "cells": [
  {
   "cell_type": "code",
   "execution_count": 1,
   "id": "76e3267b",
   "metadata": {},
   "outputs": [
    {
     "data": {
      "text/html": [
       "8"
      ],
      "text/latex": [
       "8"
      ],
      "text/markdown": [
       "8"
      ],
      "text/plain": [
       "[1] 8"
      ]
     },
     "metadata": {},
     "output_type": "display_data"
    }
   ],
   "source": [
    "3+5"
   ]
  },
  {
   "cell_type": "code",
   "execution_count": 3,
   "id": "ee0c4e3f",
   "metadata": {},
   "outputs": [],
   "source": [
    "df<-read.csv('data/table_b/table_b.csv')"
   ]
  },
  {
   "cell_type": "code",
   "execution_count": 5,
   "id": "86e8f57c",
   "metadata": {},
   "outputs": [
    {
     "name": "stderr",
     "output_type": "stream",
     "text": [
      "Loading required package: ggplot2\n",
      "\n",
      "Loading required package: sandwich\n",
      "\n",
      "Loading required package: msm\n",
      "\n",
      "Warning message in library(package, lib.loc = lib.loc, character.only = TRUE, logical.return = TRUE, :\n",
      "“there is no package called ‘msm’”\n"
     ]
    }
   ],
   "source": [
    "require(ggplot2)\n",
    "require(sandwich)\n",
    "require(msm)"
   ]
  },
  {
   "cell_type": "code",
   "execution_count": 16,
   "id": "409636cc",
   "metadata": {},
   "outputs": [
    {
     "data": {
      "text/html": [
       "<style>\n",
       ".list-inline {list-style: none; margin:0; padding: 0}\n",
       ".list-inline>li {display: inline-block}\n",
       ".list-inline>li:not(:last-child)::after {content: \"\\00b7\"; padding: 0 .5ex}\n",
       "</style>\n",
       "<ol class=list-inline><li>'GEOID'</li><li>'heatday'</li><li>'wfday'</li><li>'coldday'</li><li>'polluted'</li><li>'smoke_pm_non_zero'</li><li>'smoke_pm_gt_five'</li><li>'hw'</li><li>'hp'</li><li>'hwp'</li><li>'hwps'</li><li>'hs'</li><li>'hws'</li><li>'ws'</li><li>'hs5'</li><li>'hws5'</li><li>'ws5'</li><li>'POPULATION_2020'</li><li>'POP20_SQMI'</li><li>'SQMI'</li><li>'FIPS'</li><li>'E_TOTPOP'</li><li>'M_TOTPOP'</li><li>'E_HU'</li><li>'M_HU'</li><li>'E_HH'</li><li>'M_HH'</li><li>'EP_POV150'</li><li>'MP_POV150'</li><li>'EP_UNEMP'</li><li>'MP_UNEMP'</li><li>'EP_HBURD'</li><li>'MP_HBURD'</li><li>'EP_NOHSDP'</li><li>'MP_NOHSDP'</li><li>'EP_UNINSUR'</li><li>'MP_UNINSUR'</li><li>'EP_AGE65'</li><li>'MP_AGE65'</li><li>'EP_AGE17'</li><li>'MP_AGE17'</li><li>'EP_DISABL'</li><li>'MP_DISABL'</li><li>'EP_SNGPNT'</li><li>'MP_SNGPNT'</li><li>'EP_LIMENG'</li><li>'MP_LIMENG'</li><li>'EP_MINRTY'</li><li>'MP_MINRTY'</li><li>'EP_NOVEH'</li><li>'MP_NOVEH'</li><li>'RPL_THEME1'</li><li>'RPL_THEME2'</li><li>'RPL_THEME3'</li><li>'RPL_THEME4'</li><li>'RPL_THEMES'</li><li>'tot'</li></ol>\n"
      ],
      "text/latex": [
       "\\begin{enumerate*}\n",
       "\\item 'GEOID'\n",
       "\\item 'heatday'\n",
       "\\item 'wfday'\n",
       "\\item 'coldday'\n",
       "\\item 'polluted'\n",
       "\\item 'smoke\\_pm\\_non\\_zero'\n",
       "\\item 'smoke\\_pm\\_gt\\_five'\n",
       "\\item 'hw'\n",
       "\\item 'hp'\n",
       "\\item 'hwp'\n",
       "\\item 'hwps'\n",
       "\\item 'hs'\n",
       "\\item 'hws'\n",
       "\\item 'ws'\n",
       "\\item 'hs5'\n",
       "\\item 'hws5'\n",
       "\\item 'ws5'\n",
       "\\item 'POPULATION\\_2020'\n",
       "\\item 'POP20\\_SQMI'\n",
       "\\item 'SQMI'\n",
       "\\item 'FIPS'\n",
       "\\item 'E\\_TOTPOP'\n",
       "\\item 'M\\_TOTPOP'\n",
       "\\item 'E\\_HU'\n",
       "\\item 'M\\_HU'\n",
       "\\item 'E\\_HH'\n",
       "\\item 'M\\_HH'\n",
       "\\item 'EP\\_POV150'\n",
       "\\item 'MP\\_POV150'\n",
       "\\item 'EP\\_UNEMP'\n",
       "\\item 'MP\\_UNEMP'\n",
       "\\item 'EP\\_HBURD'\n",
       "\\item 'MP\\_HBURD'\n",
       "\\item 'EP\\_NOHSDP'\n",
       "\\item 'MP\\_NOHSDP'\n",
       "\\item 'EP\\_UNINSUR'\n",
       "\\item 'MP\\_UNINSUR'\n",
       "\\item 'EP\\_AGE65'\n",
       "\\item 'MP\\_AGE65'\n",
       "\\item 'EP\\_AGE17'\n",
       "\\item 'MP\\_AGE17'\n",
       "\\item 'EP\\_DISABL'\n",
       "\\item 'MP\\_DISABL'\n",
       "\\item 'EP\\_SNGPNT'\n",
       "\\item 'MP\\_SNGPNT'\n",
       "\\item 'EP\\_LIMENG'\n",
       "\\item 'MP\\_LIMENG'\n",
       "\\item 'EP\\_MINRTY'\n",
       "\\item 'MP\\_MINRTY'\n",
       "\\item 'EP\\_NOVEH'\n",
       "\\item 'MP\\_NOVEH'\n",
       "\\item 'RPL\\_THEME1'\n",
       "\\item 'RPL\\_THEME2'\n",
       "\\item 'RPL\\_THEME3'\n",
       "\\item 'RPL\\_THEME4'\n",
       "\\item 'RPL\\_THEMES'\n",
       "\\item 'tot'\n",
       "\\end{enumerate*}\n"
      ],
      "text/markdown": [
       "1. 'GEOID'\n",
       "2. 'heatday'\n",
       "3. 'wfday'\n",
       "4. 'coldday'\n",
       "5. 'polluted'\n",
       "6. 'smoke_pm_non_zero'\n",
       "7. 'smoke_pm_gt_five'\n",
       "8. 'hw'\n",
       "9. 'hp'\n",
       "10. 'hwp'\n",
       "11. 'hwps'\n",
       "12. 'hs'\n",
       "13. 'hws'\n",
       "14. 'ws'\n",
       "15. 'hs5'\n",
       "16. 'hws5'\n",
       "17. 'ws5'\n",
       "18. 'POPULATION_2020'\n",
       "19. 'POP20_SQMI'\n",
       "20. 'SQMI'\n",
       "21. 'FIPS'\n",
       "22. 'E_TOTPOP'\n",
       "23. 'M_TOTPOP'\n",
       "24. 'E_HU'\n",
       "25. 'M_HU'\n",
       "26. 'E_HH'\n",
       "27. 'M_HH'\n",
       "28. 'EP_POV150'\n",
       "29. 'MP_POV150'\n",
       "30. 'EP_UNEMP'\n",
       "31. 'MP_UNEMP'\n",
       "32. 'EP_HBURD'\n",
       "33. 'MP_HBURD'\n",
       "34. 'EP_NOHSDP'\n",
       "35. 'MP_NOHSDP'\n",
       "36. 'EP_UNINSUR'\n",
       "37. 'MP_UNINSUR'\n",
       "38. 'EP_AGE65'\n",
       "39. 'MP_AGE65'\n",
       "40. 'EP_AGE17'\n",
       "41. 'MP_AGE17'\n",
       "42. 'EP_DISABL'\n",
       "43. 'MP_DISABL'\n",
       "44. 'EP_SNGPNT'\n",
       "45. 'MP_SNGPNT'\n",
       "46. 'EP_LIMENG'\n",
       "47. 'MP_LIMENG'\n",
       "48. 'EP_MINRTY'\n",
       "49. 'MP_MINRTY'\n",
       "50. 'EP_NOVEH'\n",
       "51. 'MP_NOVEH'\n",
       "52. 'RPL_THEME1'\n",
       "53. 'RPL_THEME2'\n",
       "54. 'RPL_THEME3'\n",
       "55. 'RPL_THEME4'\n",
       "56. 'RPL_THEMES'\n",
       "57. 'tot'\n",
       "\n",
       "\n"
      ],
      "text/plain": [
       " [1] \"GEOID\"             \"heatday\"           \"wfday\"            \n",
       " [4] \"coldday\"           \"polluted\"          \"smoke_pm_non_zero\"\n",
       " [7] \"smoke_pm_gt_five\"  \"hw\"                \"hp\"               \n",
       "[10] \"hwp\"               \"hwps\"              \"hs\"               \n",
       "[13] \"hws\"               \"ws\"                \"hs5\"              \n",
       "[16] \"hws5\"              \"ws5\"               \"POPULATION_2020\"  \n",
       "[19] \"POP20_SQMI\"        \"SQMI\"              \"FIPS\"             \n",
       "[22] \"E_TOTPOP\"          \"M_TOTPOP\"          \"E_HU\"             \n",
       "[25] \"M_HU\"              \"E_HH\"              \"M_HH\"             \n",
       "[28] \"EP_POV150\"         \"MP_POV150\"         \"EP_UNEMP\"         \n",
       "[31] \"MP_UNEMP\"          \"EP_HBURD\"          \"MP_HBURD\"         \n",
       "[34] \"EP_NOHSDP\"         \"MP_NOHSDP\"         \"EP_UNINSUR\"       \n",
       "[37] \"MP_UNINSUR\"        \"EP_AGE65\"          \"MP_AGE65\"         \n",
       "[40] \"EP_AGE17\"          \"MP_AGE17\"          \"EP_DISABL\"        \n",
       "[43] \"MP_DISABL\"         \"EP_SNGPNT\"         \"MP_SNGPNT\"        \n",
       "[46] \"EP_LIMENG\"         \"MP_LIMENG\"         \"EP_MINRTY\"        \n",
       "[49] \"MP_MINRTY\"         \"EP_NOVEH\"          \"MP_NOVEH\"         \n",
       "[52] \"RPL_THEME1\"        \"RPL_THEME2\"        \"RPL_THEME3\"       \n",
       "[55] \"RPL_THEME4\"        \"RPL_THEMES\"        \"tot\"              "
      ]
     },
     "metadata": {},
     "output_type": "display_data"
    }
   ],
   "source": [
    "colnames(df)"
   ]
  },
  {
   "cell_type": "code",
   "execution_count": 14,
   "id": "bb144e6f",
   "metadata": {},
   "outputs": [],
   "source": [
    "df$tot = 5475"
   ]
  },
  {
   "cell_type": "code",
   "execution_count": 29,
   "id": "54adc199",
   "metadata": {},
   "outputs": [
    {
     "data": {
      "text/plain": [
       "\n",
       "Call:\n",
       "glm(formula = hws ~ EP_AGE65 + offset(log(tot)), family = \"poisson\", \n",
       "    data = df)\n",
       "\n",
       "Deviance Residuals: \n",
       "    Min       1Q   Median       3Q      Max  \n",
       "-0.8028  -0.4100  -0.3907  -0.3760  14.6793  \n",
       "\n",
       "Coefficients:\n",
       "              Estimate Std. Error  z value Pr(>|z|)    \n",
       "(Intercept) -11.421478   0.068673 -166.316  < 2e-16 ***\n",
       "EP_AGE65      0.018234   0.003397    5.368 7.98e-08 ***\n",
       "---\n",
       "Signif. codes:  0 ‘***’ 0.001 ‘**’ 0.01 ‘*’ 0.05 ‘.’ 0.1 ‘ ’ 1\n",
       "\n",
       "(Dispersion parameter for poisson family taken to be 1)\n",
       "\n",
       "    Null deviance: 5700.4  on 8672  degrees of freedom\n",
       "Residual deviance: 5672.0  on 8671  degrees of freedom\n",
       "AIC: 6312.6\n",
       "\n",
       "Number of Fisher Scoring iterations: 6\n"
      ]
     },
     "metadata": {},
     "output_type": "display_data"
    },
    {
     "data": {
      "text/plain": [
       "\n",
       "Call:\n",
       "glm(formula = hws ~ EP_DISABL + offset(log(tot)), family = \"poisson\", \n",
       "    data = df)\n",
       "\n",
       "Deviance Residuals: \n",
       "    Min       1Q   Median       3Q      Max  \n",
       "-0.5271  -0.3993  -0.3990  -0.3986  14.6639  \n",
       "\n",
       "Coefficients:\n",
       "              Estimate Std. Error  z value Pr(>|z|)    \n",
       "(Intercept) -1.113e+01  3.799e-02 -293.072   <2e-16 ***\n",
       "EP_DISABL   -5.516e-04  3.848e-04   -1.434    0.152    \n",
       "---\n",
       "Signif. codes:  0 ‘***’ 0.001 ‘**’ 0.01 ‘*’ 0.05 ‘.’ 0.1 ‘ ’ 1\n",
       "\n",
       "(Dispersion parameter for poisson family taken to be 1)\n",
       "\n",
       "    Null deviance: 5700.4  on 8672  degrees of freedom\n",
       "Residual deviance: 5698.7  on 8671  degrees of freedom\n",
       "AIC: 6339.3\n",
       "\n",
       "Number of Fisher Scoring iterations: 6\n"
      ]
     },
     "metadata": {},
     "output_type": "display_data"
    },
    {
     "data": {
      "text/plain": [
       "\n",
       "Call:\n",
       "glm(formula = hws ~ EP_MINRTY + offset(log(tot)), family = \"poisson\", \n",
       "    data = df)\n",
       "\n",
       "Deviance Residuals: \n",
       "    Min       1Q   Median       3Q      Max  \n",
       "-0.5608  -0.4407  -0.3823  -0.3364  14.3312  \n",
       "\n",
       "Coefficients:\n",
       "              Estimate Std. Error  z value Pr(>|z|)    \n",
       "(Intercept) -10.457971   0.086837 -120.432  < 2e-16 ***\n",
       "EP_MINRTY    -0.011731   0.001454   -8.066 7.28e-16 ***\n",
       "---\n",
       "Signif. codes:  0 ‘***’ 0.001 ‘**’ 0.01 ‘*’ 0.05 ‘.’ 0.1 ‘ ’ 1\n",
       "\n",
       "(Dispersion parameter for poisson family taken to be 1)\n",
       "\n",
       "    Null deviance: 5700.4  on 8672  degrees of freedom\n",
       "Residual deviance: 5635.1  on 8671  degrees of freedom\n",
       "AIC: 6275.8\n",
       "\n",
       "Number of Fisher Scoring iterations: 7\n"
      ]
     },
     "metadata": {},
     "output_type": "display_data"
    },
    {
     "data": {
      "text/plain": [
       "\n",
       "Call:\n",
       "glm(formula = hws ~ EP_POV150 + offset(log(tot)), family = \"poisson\", \n",
       "    data = df)\n",
       "\n",
       "Deviance Residuals: \n",
       "    Min       1Q   Median       3Q      Max  \n",
       "-0.5654  -0.4125  -0.3907  -0.3773  14.8368  \n",
       "\n",
       "Coefficients:\n",
       "              Estimate Std. Error  z value Pr(>|z|)    \n",
       "(Intercept) -11.332275   0.067963 -166.743  < 2e-16 ***\n",
       "EP_POV150     0.008907   0.002429    3.667 0.000245 ***\n",
       "---\n",
       "Signif. codes:  0 ‘***’ 0.001 ‘**’ 0.01 ‘*’ 0.05 ‘.’ 0.1 ‘ ’ 1\n",
       "\n",
       "(Dispersion parameter for poisson family taken to be 1)\n",
       "\n",
       "    Null deviance: 5700.4  on 8672  degrees of freedom\n",
       "Residual deviance: 5687.5  on 8671  degrees of freedom\n",
       "AIC: 6328.2\n",
       "\n",
       "Number of Fisher Scoring iterations: 6\n"
      ]
     },
     "metadata": {},
     "output_type": "display_data"
    },
    {
     "data": {
      "text/plain": [
       "\n",
       "Call:\n",
       "glm(formula = hws ~ EP_UNINSUR + offset(log(tot)), family = \"poisson\", \n",
       "    data = df)\n",
       "\n",
       "Deviance Residuals: \n",
       "    Min       1Q   Median       3Q      Max  \n",
       "-0.5777  -0.3991  -0.3987  -0.3980  14.6610  \n",
       "\n",
       "Coefficients:\n",
       "              Estimate Std. Error  z value Pr(>|z|)    \n",
       "(Intercept) -1.114e+01  3.802e-02 -292.919   <2e-16 ***\n",
       "EP_UNINSUR  -7.379e-04  3.526e-04   -2.092   0.0364 *  \n",
       "---\n",
       "Signif. codes:  0 ‘***’ 0.001 ‘**’ 0.01 ‘*’ 0.05 ‘.’ 0.1 ‘ ’ 1\n",
       "\n",
       "(Dispersion parameter for poisson family taken to be 1)\n",
       "\n",
       "    Null deviance: 5700.4  on 8672  degrees of freedom\n",
       "Residual deviance: 5696.9  on 8671  degrees of freedom\n",
       "AIC: 6337.6\n",
       "\n",
       "Number of Fisher Scoring iterations: 6\n"
      ]
     },
     "metadata": {},
     "output_type": "display_data"
    }
   ],
   "source": [
    "summary(m1 <- glm(hws ~ EP_AGE65 +offset(log(tot)), family=\"poisson\", data=df))\n",
    "summary(m1 <- glm(hws~ EP_DISABL +offset(log(tot)), family=\"poisson\", data=df))\n",
    "summary(m1 <- glm(hws ~ EP_MINRTY +offset(log(tot)), family=\"poisson\", data=df))\n",
    "summary(m1 <- glm(hws~ EP_POV150 +offset(log(tot)), family=\"poisson\", data=df))\n",
    "summary(m1 <- glm(hws ~ EP_UNINSUR +offset(log(tot)), family=\"poisson\", data=df))\n"
   ]
  },
  {
   "cell_type": "code",
   "execution_count": 28,
   "id": "ca0684af",
   "metadata": {},
   "outputs": [
    {
     "data": {
      "text/plain": [
       "\n",
       "Call:\n",
       "glm(formula = heatday ~ EP_AGE65 + offset(log(tot)), family = \"poisson\", \n",
       "    data = df)\n",
       "\n",
       "Deviance Residuals: \n",
       "    Min       1Q   Median       3Q      Max  \n",
       "-4.1148  -1.0270  -0.3153   0.9681   4.4209  \n",
       "\n",
       "Coefficients:\n",
       "              Estimate Std. Error   z value Pr(>|z|)    \n",
       "(Intercept) -2.934e+00  6.441e-04 -4554.744  < 2e-16 ***\n",
       "EP_AGE65     3.581e-05  1.141e-05     3.139  0.00169 ** \n",
       "---\n",
       "Signif. codes:  0 ‘***’ 0.001 ‘**’ 0.01 ‘*’ 0.05 ‘.’ 0.1 ‘ ’ 1\n",
       "\n",
       "(Dispersion parameter for poisson family taken to be 1)\n",
       "\n",
       "    Null deviance: 16415  on 8672  degrees of freedom\n",
       "Residual deviance: 16405  on 8671  degrees of freedom\n",
       "AIC: 81541\n",
       "\n",
       "Number of Fisher Scoring iterations: 3\n"
      ]
     },
     "metadata": {},
     "output_type": "display_data"
    },
    {
     "data": {
      "text/plain": [
       "\n",
       "Call:\n",
       "glm(formula = heatday ~ EP_DISABL + offset(log(tot)), family = \"poisson\", \n",
       "    data = df)\n",
       "\n",
       "Deviance Residuals: \n",
       "    Min       1Q   Median       3Q      Max  \n",
       "-4.1171  -1.0287  -0.3167   0.9651   4.4189  \n",
       "\n",
       "Coefficients:\n",
       "              Estimate Std. Error   z value Pr(>|z|)    \n",
       "(Intercept) -2.934e+00  6.308e-04 -4650.442   <2e-16 ***\n",
       "EP_DISABL    2.164e-05  8.468e-06     2.556   0.0106 *  \n",
       "---\n",
       "Signif. codes:  0 ‘***’ 0.001 ‘**’ 0.01 ‘*’ 0.05 ‘.’ 0.1 ‘ ’ 1\n",
       "\n",
       "(Dispersion parameter for poisson family taken to be 1)\n",
       "\n",
       "    Null deviance: 16415  on 8672  degrees of freedom\n",
       "Residual deviance: 16408  on 8671  degrees of freedom\n",
       "AIC: 81544\n",
       "\n",
       "Number of Fisher Scoring iterations: 3\n"
      ]
     },
     "metadata": {},
     "output_type": "display_data"
    },
    {
     "data": {
      "text/plain": [
       "\n",
       "Call:\n",
       "glm(formula = heatday ~ EP_MINRTY + offset(log(tot)), family = \"poisson\", \n",
       "    data = df)\n",
       "\n",
       "Deviance Residuals: \n",
       "    Min       1Q   Median       3Q      Max  \n",
       "-4.1392  -1.0191  -0.3103   1.0034   4.4842  \n",
       "\n",
       "Coefficients:\n",
       "              Estimate Std. Error   z value Pr(>|z|)    \n",
       "(Intercept) -2.941e+00  1.628e-03 -1805.902  < 2e-16 ***\n",
       "EP_MINRTY    1.184e-04  2.431e-05     4.869 1.12e-06 ***\n",
       "---\n",
       "Signif. codes:  0 ‘***’ 0.001 ‘**’ 0.01 ‘*’ 0.05 ‘.’ 0.1 ‘ ’ 1\n",
       "\n",
       "(Dispersion parameter for poisson family taken to be 1)\n",
       "\n",
       "    Null deviance: 16415  on 8672  degrees of freedom\n",
       "Residual deviance: 16391  on 8671  degrees of freedom\n",
       "AIC: 81527\n",
       "\n",
       "Number of Fisher Scoring iterations: 3\n"
      ]
     },
     "metadata": {},
     "output_type": "display_data"
    },
    {
     "data": {
      "text/plain": [
       "\n",
       "Call:\n",
       "glm(formula = heatday ~ EP_POV150 + offset(log(tot)), family = \"poisson\", \n",
       "    data = df)\n",
       "\n",
       "Deviance Residuals: \n",
       "    Min       1Q   Median       3Q      Max  \n",
       "-4.0960  -1.0273  -0.3200   0.9766   4.4385  \n",
       "\n",
       "Coefficients:\n",
       "              Estimate Std. Error   z value Pr(>|z|)    \n",
       "(Intercept) -2.929e+00  1.108e-03 -2643.588  < 2e-16 ***\n",
       "EP_POV150   -2.040e-04  4.318e-05    -4.724 2.31e-06 ***\n",
       "---\n",
       "Signif. codes:  0 ‘***’ 0.001 ‘**’ 0.01 ‘*’ 0.05 ‘.’ 0.1 ‘ ’ 1\n",
       "\n",
       "(Dispersion parameter for poisson family taken to be 1)\n",
       "\n",
       "    Null deviance: 16415  on 8672  degrees of freedom\n",
       "Residual deviance: 16392  on 8671  degrees of freedom\n",
       "AIC: 81529\n",
       "\n",
       "Number of Fisher Scoring iterations: 3\n"
      ]
     },
     "metadata": {},
     "output_type": "display_data"
    },
    {
     "data": {
      "text/plain": [
       "\n",
       "Call:\n",
       "glm(formula = heatday ~ EP_UNINSUR + offset(log(tot)), family = \"poisson\", \n",
       "    data = df)\n",
       "\n",
       "Deviance Residuals: \n",
       "    Min       1Q   Median       3Q      Max  \n",
       "-4.1180  -1.0288  -0.3167   0.9654   4.4208  \n",
       "\n",
       "Coefficients:\n",
       "              Estimate Std. Error  z value Pr(>|z|)    \n",
       "(Intercept) -2.933e+00  6.293e-04 -4661.72  < 2e-16 ***\n",
       "EP_UNINSUR   3.098e-05  8.535e-06     3.63 0.000283 ***\n",
       "---\n",
       "Signif. codes:  0 ‘***’ 0.001 ‘**’ 0.01 ‘*’ 0.05 ‘.’ 0.1 ‘ ’ 1\n",
       "\n",
       "(Dispersion parameter for poisson family taken to be 1)\n",
       "\n",
       "    Null deviance: 16415  on 8672  degrees of freedom\n",
       "Residual deviance: 16401  on 8671  degrees of freedom\n",
       "AIC: 81538\n",
       "\n",
       "Number of Fisher Scoring iterations: 3\n"
      ]
     },
     "metadata": {},
     "output_type": "display_data"
    }
   ],
   "source": [
    "summary(m1 <- glm(heatday ~ EP_AGE65 +offset(log(tot)), family=\"poisson\", data=df))\n",
    "summary(m1 <- glm(heatday ~ EP_DISABL +offset(log(tot)), family=\"poisson\", data=df))\n",
    "summary(m1 <- glm(heatday ~ EP_MINRTY +offset(log(tot)), family=\"poisson\", data=df))\n",
    "summary(m1 <- glm(heatday ~ EP_POV150 +offset(log(tot)), family=\"poisson\", data=df))\n",
    "summary(m1 <- glm(heatday ~ EP_UNINSUR +offset(log(tot)), family=\"poisson\", data=df))\n"
   ]
  },
  {
   "cell_type": "code",
   "execution_count": 7,
   "id": "6d9ca3f3",
   "metadata": {},
   "outputs": [
    {
     "data": {
      "text/plain": [
       "     GEOID              heatday          wfday            coldday     \n",
       " Min.   :6.001e+09   Min.   :224.0   Min.   :  0.000   Min.   :203.0  \n",
       " 1st Qu.:6.037e+09   1st Qu.:274.0   1st Qu.:  0.000   1st Qu.:240.0  \n",
       " Median :6.059e+09   Median :286.0   Median :  0.000   Median :249.0  \n",
       " Mean   :6.055e+09   Mean   :291.4   Mean   :  3.518   Mean   :249.9  \n",
       " 3rd Qu.:6.073e+09   3rd Qu.:308.0   3rd Qu.:  0.000   3rd Qu.:258.0  \n",
       " Max.   :6.115e+09   Max.   :370.0   Max.   :525.000   Max.   :341.0  \n",
       "    polluted      smoke_pm_non_zero smoke_pm_gt_five       hw         \n",
       " Min.   :  0.00   Min.   : 190.0    Min.   : 39.0    Min.   : 0.0000  \n",
       " 1st Qu.: 13.00   1st Qu.: 282.0    1st Qu.: 85.0    1st Qu.: 0.0000  \n",
       " Median : 36.00   Median : 313.0    Median :109.0    Median : 0.0000  \n",
       " Mean   : 57.09   Mean   : 382.4    Mean   :134.2    Mean   : 0.2021  \n",
       " 3rd Qu.: 68.00   3rd Qu.: 451.0    3rd Qu.:173.0    3rd Qu.: 0.0000  \n",
       " Max.   :684.00   Max.   :1384.0    Max.   :522.0    Max.   :59.0000  \n",
       "       hp              hwp                hwps              hs        \n",
       " Min.   : 0.000   Min.   : 0.00000   Min.   : 453.0   Min.   : 19.00  \n",
       " 1st Qu.: 1.000   1st Qu.: 0.00000   1st Qu.: 611.0   1st Qu.: 48.00  \n",
       " Median : 3.000   Median : 0.00000   Median : 698.0   Median : 54.00  \n",
       " Mean   : 4.157   Mean   : 0.01937   Mean   : 734.3   Mean   : 56.48  \n",
       " 3rd Qu.: 6.000   3rd Qu.: 0.00000   3rd Qu.: 805.0   3rd Qu.: 62.00  \n",
       " Max.   :21.000   Max.   :11.00000   Max.   :1908.0   Max.   :140.00  \n",
       "      hws                ws                hs5             hws5         \n",
       " Min.   : 0.0000   Min.   :  0.0000   Min.   : 1.00   Min.   : 0.00000  \n",
       " 1st Qu.: 0.0000   1st Qu.:  0.0000   1st Qu.:15.00   1st Qu.: 0.00000  \n",
       " Median : 0.0000   Median :  0.0000   Median :20.00   Median : 0.00000  \n",
       " Mean   : 0.0799   Mean   :  0.6486   Mean   :20.98   Mean   : 0.04231  \n",
       " 3rd Qu.: 0.0000   3rd Qu.:  0.0000   3rd Qu.:25.00   3rd Qu.: 0.00000  \n",
       " Max.   :23.0000   Max.   :153.0000   Max.   :71.00   Max.   :16.00000  \n",
       "      ws5          POPULATION_2020   POP20_SQMI         SQMI        \n",
       " Min.   : 0.0000   Min.   :    0   Min.   :    0   Min.   :   0.04  \n",
       " 1st Qu.: 0.0000   1st Qu.: 3248   1st Qu.: 2582   1st Qu.:   0.39  \n",
       " Median : 0.0000   Median : 4248   Median : 6301   Median :   0.71  \n",
       " Mean   : 0.3166   Mean   : 4381   Mean   : 7896   Mean   :  17.94  \n",
       " 3rd Qu.: 0.0000   3rd Qu.: 5386   3rd Qu.:10538   3rd Qu.:   1.71  \n",
       " Max.   :92.0000   Max.   :37892   Max.   :81120   Max.   :6954.27  \n",
       "      FIPS              E_TOTPOP        M_TOTPOP           E_HU     \n",
       " Min.   :6.001e+09   Min.   :    0   Min.   :   6.0   Min.   :   0  \n",
       " 1st Qu.:6.037e+09   1st Qu.: 3199   1st Qu.: 455.0   1st Qu.:1143  \n",
       " Median :6.059e+09   Median : 4239   Median : 610.0   Median :1494  \n",
       " Mean   :6.055e+09   Mean   : 4362   Mean   : 651.7   Mean   :1560  \n",
       " 3rd Qu.:6.073e+09   3rd Qu.: 5388   3rd Qu.: 793.0   3rd Qu.:1919  \n",
       " Max.   :6.115e+09   Max.   :39373   Max.   :3739.0   Max.   :7960  \n",
       "      M_HU            E_HH           M_HH       EP_POV150     \n",
       " Min.   :  6.0   Min.   :   0   Min.   :  6   Min.   :  0.00  \n",
       " 1st Qu.:126.0   1st Qu.:1051   1st Qu.:130   1st Qu.:  9.80  \n",
       " Median :170.0   Median :1387   Median :173   Median : 17.70  \n",
       " Mean   :181.8   Mean   :1441   Mean   :185   Mean   : 21.17  \n",
       " 3rd Qu.:224.0   3rd Qu.:1787   3rd Qu.:227   3rd Qu.: 29.70  \n",
       " Max.   :843.0   Max.   :7133   Max.   :845   Max.   :100.00  \n",
       "   MP_POV150           EP_UNEMP           MP_UNEMP            EP_HBURD     \n",
       " Min.   :-999.000   Min.   :-999.000   Min.   :-999.0000   Min.   :  0.00  \n",
       " 1st Qu.:   4.800   1st Qu.:   3.500   1st Qu.:   2.6000   1st Qu.: 21.70  \n",
       " Median :   7.100   Median :   5.600   Median :   3.6000   Median : 31.30  \n",
       " Mean   :   1.837   Mean   :   1.207   Mean   :  -0.8073   Mean   : 32.12  \n",
       " 3rd Qu.:   9.900   3rd Qu.:   8.200   3rd Qu.:   5.2000   3rd Qu.: 41.70  \n",
       " Max.   : 226.300   Max.   : 100.000   Max.   : 100.0000   Max.   :100.00  \n",
       "    MP_HBURD          EP_NOHSDP         MP_NOHSDP          EP_UNINSUR      \n",
       " Min.   :-999.000   Min.   :-999.00   Min.   :-999.000   Min.   :-999.000  \n",
       " 1st Qu.:   7.500   1st Qu.:   5.30   1st Qu.:   3.100   1st Qu.:   3.100  \n",
       " Median :   9.700   Median :  12.00   Median :   5.100   Median :   5.900  \n",
       " Mean   :   4.254   Mean   :  13.13   Mean   :   2.001   Mean   :   1.648  \n",
       " 3rd Qu.:  12.100   3rd Qu.:  25.00   3rd Qu.:   7.100   3rd Qu.:  10.000  \n",
       " Max.   : 950.000   Max.   :  95.60   Max.   : 100.000   Max.   :  50.100  \n",
       "   MP_UNINSUR          EP_AGE65          MP_AGE65           EP_AGE17    \n",
       " Min.   :-999.000   Min.   :-999.00   Min.   :-999.000   Min.   : 0.00  \n",
       " 1st Qu.:   2.200   1st Qu.:   9.40   1st Qu.:   2.800   1st Qu.:18.00  \n",
       " Median :   3.400   Median :  13.50   Median :   3.700   Median :22.40  \n",
       " Mean   :  -1.577   Mean   :  12.03   Mean   :   1.221   Mean   :22.26  \n",
       " 3rd Qu.:   4.900   3rd Qu.:  18.80   3rd Qu.:   4.900   3rd Qu.:27.10  \n",
       " Max.   : 100.000   Max.   :  92.20   Max.   : 100.000   Max.   :86.70  \n",
       "    MP_AGE17         EP_DISABL          MP_DISABL         EP_SNGPNT    \n",
       " Min.   :-999.00   Min.   :-999.000   Min.   :-999.00   Min.   : 0.00  \n",
       " 1st Qu.:   3.50   1st Qu.:   7.700   1st Qu.:   2.90   1st Qu.: 2.60  \n",
       " Median :   4.70   Median :  10.100   Median :   3.60   Median : 5.10  \n",
       " Mean   :   2.41   Mean   :   5.395   Mean   :  -1.45   Mean   : 6.22  \n",
       " 3rd Qu.:   6.50   3rd Qu.:  13.400   3rd Qu.:   4.70   3rd Qu.: 8.70  \n",
       " Max.   : 433.30   Max.   :  67.500   Max.   : 100.00   Max.   :52.10  \n",
       "   MP_SNGPNT          EP_LIMENG         MP_LIMENG          EP_MINRTY     \n",
       " Min.   :-999.000   Min.   :  0.000   Min.   :-999.000   Min.   :  0.00  \n",
       " 1st Qu.:   2.700   1st Qu.:  2.300   1st Qu.:   2.300   1st Qu.: 40.20  \n",
       " Median :   4.100   Median :  6.100   Median :   3.400   Median : 63.60  \n",
       " Mean   :  -1.394   Mean   :  8.958   Mean   :   1.456   Mean   : 61.69  \n",
       " 3rd Qu.:   5.800   3rd Qu.: 13.300   3rd Qu.:   4.900   3rd Qu.: 85.30  \n",
       " Max.   : 650.000   Max.   :100.000   Max.   :1654.600   Max.   :100.00  \n",
       "   MP_MINRTY           EP_NOVEH            MP_NOVEH          RPL_THEME1       \n",
       " Min.   :-999.000   Min.   :-999.0000   Min.   :-999.000   Min.   :-999.0000  \n",
       " 1st Qu.:   6.700   1st Qu.:   1.8000   1st Qu.:   2.400   1st Qu.:   0.2488  \n",
       " Median :   8.900   Median :   4.3000   Median :   3.700   Median :   0.5015  \n",
       " Mean   :   7.023   Mean   :  -0.0471   Mean   :  -1.956   Mean   :  -5.3749  \n",
       " 3rd Qu.:  11.600   3rd Qu.:   8.6000   3rd Qu.:   5.600   3rd Qu.:   0.7499  \n",
       " Max.   : 945.800   Max.   : 100.0000   Max.   : 100.000   Max.   :   1.0000  \n",
       "   RPL_THEME2          RPL_THEME3          RPL_THEME4       \n",
       " Min.   :-999.0000   Min.   :-999.0000   Min.   :-999.0000  \n",
       " 1st Qu.:   0.2529   1st Qu.:   0.2504   1st Qu.:   0.2408  \n",
       " Median :   0.5043   Median :   0.5014   Median :   0.4910  \n",
       " Mean   :  -5.0267   Mean   :  -2.4949   Mean   :  -5.9580  \n",
       " 3rd Qu.:   0.7522   3rd Qu.:   0.7500   3rd Qu.:   0.7418  \n",
       " Max.   :   1.0000   Max.   :   0.9948   Max.   :   1.0000  \n",
       "   RPL_THEMES       \n",
       " Min.   :-999.0000  \n",
       " 1st Qu.:   0.2479  \n",
       " Median :   0.4998  \n",
       " Mean   :  -6.0673  \n",
       " 3rd Qu.:   0.7490  \n",
       " Max.   :   1.0000  "
      ]
     },
     "metadata": {},
     "output_type": "display_data"
    }
   ],
   "source": [
    "MP_AGE65 "
   ]
  }
 ],
 "metadata": {
  "kernelspec": {
   "display_name": "R",
   "language": "R",
   "name": "ir"
  },
  "language_info": {
   "codemirror_mode": "r",
   "file_extension": ".r",
   "mimetype": "text/x-r-source",
   "name": "R",
   "pygments_lexer": "r",
   "version": "4.2.2"
  }
 },
 "nbformat": 4,
 "nbformat_minor": 5
}
