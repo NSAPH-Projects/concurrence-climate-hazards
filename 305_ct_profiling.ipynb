{
 "cells": [
  {
   "cell_type": "code",
   "execution_count": 21,
   "metadata": {
    "tags": []
   },
   "outputs": [],
   "source": [
    "import pandas as pd\n",
    "import numpy as np\n",
    "import seaborn as sns\n",
    "import geopandas as gpd\n",
    "import matplotlib.pyplot as plt"
   ]
  },
  {
   "cell_type": "code",
   "execution_count": 22,
   "metadata": {
    "tags": []
   },
   "outputs": [
    {
     "name": "stdout",
     "output_type": "stream",
     "text": [
      "The autoreload extension is already loaded. To reload it, use:\n",
      "  %reload_ext autoreload\n"
     ]
    },
    {
     "data": {
      "text/plain": [
       "<Figure size 800x600 with 0 Axes>"
      ]
     },
     "metadata": {},
     "output_type": "display_data"
    }
   ],
   "source": [
    "import helper_400\n",
    "\n",
    "%load_ext autoreload\n",
    "%autoreload 2\n",
    "helper_400.set_sns_style()"
   ]
  },
  {
   "cell_type": "code",
   "execution_count": 23,
   "metadata": {
    "tags": []
   },
   "outputs": [],
   "source": [
    "#df = pd.read_parquet(\"outputs/agg_hotspots_new_heat.parquet\")"
   ]
  },
  {
   "cell_type": "code",
   "execution_count": 24,
   "metadata": {
    "tags": []
   },
   "outputs": [],
   "source": [
    "df = gpd.read_file(\"outputs/d2-events-2d-230929_SVI_shapefile.geojson\")"
   ]
  },
  {
   "cell_type": "code",
   "execution_count": 25,
   "metadata": {
    "tags": []
   },
   "outputs": [],
   "source": [
    "df[\"TRACT\"] = df.GEOID.str.slice(5, 12)"
   ]
  },
  {
   "cell_type": "code",
   "execution_count": 26,
   "metadata": {},
   "outputs": [],
   "source": [
    "from tabulate import tabulate"
   ]
  },
  {
   "cell_type": "code",
   "execution_count": 27,
   "metadata": {
    "tags": []
   },
   "outputs": [
    {
     "data": {
      "text/plain": [
       "Index(['ST', 'STATE', 'ST_ABBR', 'STCNTY', 'COUNTY', 'FIPS', 'LOCATION',\n",
       "       'AREA_SQMI', 'E_TOTPOP', 'M_TOTPOP',\n",
       "       ...\n",
       "       'ws5', 'heatday_2d', 'smoke_pm_non_zero_2d', 'wfday_2d', '_hws_2d',\n",
       "       'hs_2d', 'hws_2d', 'ws_2d', 'geometry', 'TRACT'],\n",
       "      dtype='object', length=182)"
      ]
     },
     "execution_count": 27,
     "metadata": {},
     "output_type": "execute_result"
    }
   ],
   "source": [
    "df.columns"
   ]
  },
  {
   "cell_type": "markdown",
   "metadata": {},
   "source": [
    "# Average"
   ]
  },
  {
   "cell_type": "code",
   "execution_count": 28,
   "metadata": {},
   "outputs": [],
   "source": [
    "df = df[df != \"-999\"]"
   ]
  },
  {
   "cell_type": "code",
   "execution_count": 29,
   "metadata": {
    "tags": []
   },
   "outputs": [
    {
     "data": {
      "text/plain": [
       "ws      2.4\n",
       "hws     0.1\n",
       "hs     31.7\n",
       "hw      0.2\n",
       "dtype: float64"
      ]
     },
     "execution_count": 29,
     "metadata": {},
     "output_type": "execute_result"
    }
   ],
   "source": [
    "df[[\"ws\", \"hws\", \"hs\", \"hw\"]].mean().round(1)"
   ]
  },
  {
   "cell_type": "code",
   "execution_count": 30,
   "metadata": {},
   "outputs": [
    {
     "data": {
      "text/plain": [
       "EP_AGE65      11.4\n",
       "EP_DISABL      5.0\n",
       "EP_MINRTY     48.0\n",
       "EP_POV150     20.9\n",
       "EP_UNINSUR     0.8\n",
       "dtype: float64"
      ]
     },
     "execution_count": 30,
     "metadata": {},
     "output_type": "execute_result"
    }
   ],
   "source": [
    "df[[\"EP_AGE65\",\"EP_DISABL\",\"EP_MINRTY\",\"EP_POV150\",\"EP_UNINSUR\"]].mean().round(1)"
   ]
  },
  {
   "cell_type": "markdown",
   "metadata": {},
   "source": [
    "# Top CTs"
   ]
  },
  {
   "cell_type": "code",
   "execution_count": 31,
   "metadata": {
    "tags": []
   },
   "outputs": [
    {
     "name": "stdout",
     "output_type": "stream",
     "text": [
      "|   TRACT | COUNTY     | ST_ABBR   |   EP_AGE65 |   EP_DISABL |   EP_MINRTY |   EP_POV150 |   EP_UNINSUR |   ws |\n",
      "|--------:|:-----------|:----------|-----------:|------------:|------------:|------------:|-------------:|-----:|\n",
      "|  960100 | Idaho      | ID        |       34.5 |        28.6 |         6.3 |        22.7 |         17.7 |  627 |\n",
      "|  960200 | Caribou    | ID        |       15.7 |        15.5 |         5.7 |        16   |         12.9 |  478 |\n",
      "|  001300 | Siskiyou   | CA        |       26.3 |        21.1 |        38   |        35.7 |          5.8 |  438 |\n",
      "|  000800 | Siskiyou   | CA        |       28.9 |        18.7 |        21.7 |        27.7 |          3.6 |  403 |\n",
      "|  002701 | Tulare     | CA        |       32.4 |        25.7 |        26.6 |        45.9 |          5.2 |  387 |\n",
      "|  001500 | Coconino   | AZ        |       36.3 |        14.7 |        17.3 |        15.8 |         11.1 |  378 |\n",
      "|  970100 | Valley     | ID        |       47.7 |        29.4 |         6.7 |        24.8 |          6.5 |  340 |\n",
      "|  970100 | Clearwater | ID        |       36.6 |        24.4 |         3.8 |        21.4 |         15.7 |  318 |\n",
      "|  960200 | Custer     | ID        |       33.2 |        27   |        14.8 |        27.2 |          6.2 |  311 |\n",
      "|  960200 | Shoshone   | ID        |       28.8 |        29.7 |         7   |        29.3 |         13   |  308 |\n",
      "|   TRACT | COUNTY   | ST_ABBR   |   EP_AGE65 |   EP_DISABL |   EP_MINRTY |   EP_POV150 |   EP_UNINSUR |   hws |\n",
      "|--------:|:---------|:----------|-----------:|------------:|------------:|------------:|-------------:|------:|\n",
      "|  964100 | Grant    | NM        |       36.2 |        24.4 |        32.4 |        30.2 |          5.8 |    25 |\n",
      "|  951700 | Elko     | NV        |       13.7 |        15.2 |        74.4 |        31.4 |         12.5 |    24 |\n",
      "|  001300 | Siskiyou | CA        |       26.3 |        21.1 |        38   |        35.7 |          5.8 |    22 |\n",
      "|  210000 | Douglas  | OR        |       29.7 |        22.6 |         9.1 |        29.5 |          9.4 |    22 |\n",
      "|  970900 | Malheur  | OR        |       13.1 |        13.9 |        29.5 |        21   |         13.6 |    21 |\n",
      "|  976401 | Catron   | NM        |       37.3 |        24.3 |        26.7 |        53.9 |          3.1 |    21 |\n",
      "|  960100 | Greenlee | AZ        |       25.4 |        19.6 |        60.4 |        26.3 |          2.2 |    21 |\n",
      "|  962402 | Sierra   | NM        |       39.4 |        19.2 |        42.5 |        34.3 |          3.4 |    20 |\n",
      "|  940400 | Gila     | AZ        |        7.9 |        12.7 |        98.2 |        58.6 |          8.3 |    19 |\n",
      "|  961600 | Graham   | AZ        |        8.2 |        12.7 |        53.7 |        18   |         10.3 |    19 |\n",
      "|   TRACT | COUNTY     | ST_ABBR   |   EP_AGE65 |   EP_DISABL |   EP_MINRTY |   EP_POV150 |   EP_UNINSUR |   hs |\n",
      "|--------:|:-----------|:----------|-----------:|------------:|------------:|------------:|-------------:|-----:|\n",
      "|  960100 | Greenlee   | AZ        |       25.4 |        19.6 |        60.4 |        26.3 |          2.2 |  100 |\n",
      "|  000400 | Morgan     | CO        |       19.9 |        11.5 |        49.3 |        18.6 |          7.4 |   97 |\n",
      "|  000500 | Morgan     | CO        |       12.8 |        10.7 |        69.5 |        34.4 |          8.6 |   97 |\n",
      "|  000300 | Morgan     | CO        |       16.6 |        11.3 |        42.6 |        18.2 |         12.8 |   95 |\n",
      "|  000600 | Morgan     | CO        |       10.1 |         7.4 |        59.8 |        25.3 |         10.7 |   92 |\n",
      "|  000800 | Las Animas | CO        |       20   |        19.3 |        40.1 |        23   |          5.6 |   92 |\n",
      "|  962402 | Sierra     | NM        |       39.4 |        19.2 |        42.5 |        34.3 |          3.4 |   90 |\n",
      "|  964200 | Grant      | NM        |       35.5 |        21.7 |        25.4 |        26.9 |          6.5 |   89 |\n",
      "|  962100 | Kit Carson | CO        |       17.2 |        14   |        27.2 |        22.7 |         12   |   87 |\n",
      "|  000700 | Morgan     | CO        |       14.1 |        11.8 |        26.4 |        22.1 |          8.9 |   86 |\n",
      "|   TRACT | COUNTY   | ST_ABBR   |   EP_AGE65 |   EP_DISABL |   EP_MINRTY |   EP_POV150 |   EP_UNINSUR |   hw |\n",
      "|--------:|:---------|:----------|-----------:|------------:|------------:|------------:|-------------:|-----:|\n",
      "|  000800 | Gila     | AZ        |       31   |        29.4 |        46.5 |        51.7 |          3.5 |   44 |\n",
      "|  001300 | Gila     | AZ        |       20.5 |        22.8 |        73.7 |        43.7 |          7.6 |   38 |\n",
      "|  964100 | Grant    | NM        |       36.2 |        24.4 |        32.4 |        30.2 |          5.8 |   27 |\n",
      "|  970900 | Malheur  | OR        |       13.1 |        13.9 |        29.5 |        21   |         13.6 |   27 |\n",
      "|  210000 | Douglas  | OR        |       29.7 |        22.6 |         9.1 |        29.5 |          9.4 |   26 |\n",
      "|  960100 | Greenlee | AZ        |       25.4 |        19.6 |        60.4 |        26.3 |          2.2 |   25 |\n",
      "|  001500 | Coconino | AZ        |       36.3 |        14.7 |        17.3 |        15.8 |         11.1 |   25 |\n",
      "|  951700 | Elko     | NV        |       13.7 |        15.2 |        74.4 |        31.4 |         12.5 |   25 |\n",
      "|  961600 | Graham   | AZ        |        8.2 |        12.7 |        53.7 |        18   |         10.3 |   24 |\n",
      "|  976401 | Catron   | NM        |       37.3 |        24.3 |        26.7 |        53.9 |          3.1 |   23 |\n"
     ]
    }
   ],
   "source": [
    "for x in [\"ws\", \"hws\", \"hs\", \"hw\"]:\n",
    "    a= df.sort_values(by=x, ascending=False)[[\"TRACT\",\"COUNTY\",\"ST_ABBR\",\"EP_AGE65\",\"EP_DISABL\",\"EP_MINRTY\",\"EP_POV150\",\"EP_UNINSUR\",x]].head(10)\n",
    "    print(tabulate(a, headers='keys', tablefmt='pipe', showindex=False))"
   ]
  },
  {
   "cell_type": "markdown",
   "metadata": {},
   "source": [
    "|   TRACT | COUNTY     | ST_ABBR   |   EP_AGE65 |   EP_DISABL |   EP_MINRTY |   EP_POV150 |   EP_UNINSUR |   ws |\n",
    "|--------:|:-----------|:----------|-----------:|------------:|------------:|------------:|-------------:|-----:|\n",
    "|  960100 | Idaho      | ID        |       34.5 |        28.6 |         6.3 |        22.7 |         17.7 |  627 |\n",
    "|  960200 | Caribou    | ID        |       15.7 |        15.5 |         5.7 |        16   |         12.9 |  478 |\n",
    "|  001300 | Siskiyou   | CA        |       26.3 |        21.1 |        38   |        35.7 |          5.8 |  438 |\n",
    "|  000800 | Siskiyou   | CA        |       28.9 |        18.7 |        21.7 |        27.7 |          3.6 |  403 |\n",
    "|  002701 | Tulare     | CA        |       32.4 |        25.7 |        26.6 |        45.9 |          5.2 |  387 |\n",
    "|  001500 | Coconino   | AZ        |       36.3 |        14.7 |        17.3 |        15.8 |         11.1 |  378 |\n",
    "|  970100 | Valley     | ID        |       47.7 |        29.4 |         6.7 |        24.8 |          6.5 |  340 |\n",
    "|  970100 | Clearwater | ID        |       36.6 |        24.4 |         3.8 |        21.4 |         15.7 |  318 |\n",
    "|  960200 | Custer     | ID        |       33.2 |        27   |        14.8 |        27.2 |          6.2 |  311 |\n",
    "|  960200 | Shoshone   | ID        |       28.8 |        29.7 |         7   |        29.3 |         13   |  308 |\n",
    "|   TRACT | COUNTY   | ST_ABBR   |   EP_AGE65 |   EP_DISABL |   EP_MINRTY |   EP_POV150 |   EP_UNINSUR |   hws |\n",
    "|--------:|:---------|:----------|-----------:|------------:|------------:|------------:|-------------:|------:|\n",
    "|  964100 | Grant    | NM        |       36.2 |        24.4 |        32.4 |        30.2 |          5.8 |    25 |\n",
    "|  951700 | Elko     | NV        |       13.7 |        15.2 |        74.4 |        31.4 |         12.5 |    24 |\n",
    "|  001300 | Siskiyou | CA        |       26.3 |        21.1 |        38   |        35.7 |          5.8 |    22 |\n",
    "|  210000 | Douglas  | OR        |       29.7 |        22.6 |         9.1 |        29.5 |          9.4 |    22 |\n",
    "|  970900 | Malheur  | OR        |       13.1 |        13.9 |        29.5 |        21   |         13.6 |    21 |\n",
    "|  976401 | Catron   | NM        |       37.3 |        24.3 |        26.7 |        53.9 |          3.1 |    21 |\n",
    "|  960100 | Greenlee | AZ        |       25.4 |        19.6 |        60.4 |        26.3 |          2.2 |    21 |\n",
    "|  962402 | Sierra   | NM        |       39.4 |        19.2 |        42.5 |        34.3 |          3.4 |    20 |\n",
    "|  940400 | Gila     | AZ        |        7.9 |        12.7 |        98.2 |        58.6 |          8.3 |    19 |\n",
    "|  961600 | Graham   | AZ        |        8.2 |        12.7 |        53.7 |        18   |         10.3 |    19 |\n",
    "|   TRACT | COUNTY     | ST_ABBR   |   EP_AGE65 |   EP_DISABL |   EP_MINRTY |   EP_POV150 |   EP_UNINSUR |   hs |\n",
    "|--------:|:-----------|:----------|-----------:|------------:|------------:|------------:|-------------:|-----:|\n",
    "|  960100 | Greenlee   | AZ        |       25.4 |        19.6 |        60.4 |        26.3 |          2.2 |  100 |\n",
    "|  000400 | Morgan     | CO        |       19.9 |        11.5 |        49.3 |        18.6 |          7.4 |   97 |\n",
    "|  000500 | Morgan     | CO        |       12.8 |        10.7 |        69.5 |        34.4 |          8.6 |   97 |\n",
    "|  000300 | Morgan     | CO        |       16.6 |        11.3 |        42.6 |        18.2 |         12.8 |   95 |\n",
    "|  000600 | Morgan     | CO        |       10.1 |         7.4 |        59.8 |        25.3 |         10.7 |   92 |\n",
    "|  000800 | Las Animas | CO        |       20   |        19.3 |        40.1 |        23   |          5.6 |   92 |\n",
    "|  962402 | Sierra     | NM        |       39.4 |        19.2 |        42.5 |        34.3 |          3.4 |   90 |\n",
    "|  964200 | Grant      | NM        |       35.5 |        21.7 |        25.4 |        26.9 |          6.5 |   89 |\n",
    "|  962100 | Kit Carson | CO        |       17.2 |        14   |        27.2 |        22.7 |         12   |   87 |\n",
    "|  000700 | Morgan     | CO        |       14.1 |        11.8 |        26.4 |        22.1 |          8.9 |   86 |\n",
    "|   TRACT | COUNTY   | ST_ABBR   |   EP_AGE65 |   EP_DISABL |   EP_MINRTY |   EP_POV150 |   EP_UNINSUR |   hw |\n",
    "|--------:|:---------|:----------|-----------:|------------:|------------:|------------:|-------------:|-----:|\n",
    "|  000800 | Gila     | AZ        |       31   |        29.4 |        46.5 |        51.7 |          3.5 |   44 |\n",
    "|  001300 | Gila     | AZ        |       20.5 |        22.8 |        73.7 |        43.7 |          7.6 |   38 |\n",
    "|  964100 | Grant    | NM        |       36.2 |        24.4 |        32.4 |        30.2 |          5.8 |   27 |\n",
    "|  970900 | Malheur  | OR        |       13.1 |        13.9 |        29.5 |        21   |         13.6 |   27 |\n",
    "|  210000 | Douglas  | OR        |       29.7 |        22.6 |         9.1 |        29.5 |          9.4 |   26 |\n",
    "|  960100 | Greenlee | AZ        |       25.4 |        19.6 |        60.4 |        26.3 |          2.2 |   25 |\n",
    "|  001500 | Coconino | AZ        |       36.3 |        14.7 |        17.3 |        15.8 |         11.1 |   25 |\n",
    "|  951700 | Elko     | NV        |       13.7 |        15.2 |        74.4 |        31.4 |         12.5 |   25 |\n",
    "|  961600 | Graham   | AZ        |        8.2 |        12.7 |        53.7 |        18   |         10.3 |   24 |\n",
    "|  976401 | Catron   | NM        |       37.3 |        24.3 |        26.7 |        53.9 |          3.1 |   23 |\n",
    "|   TRACT | COUNTY     | ST_ABBR   |   EP_AGE65 |   EP_DISABL |   EP_MINRTY |   EP_POV150 |   EP_UNINSUR |   ws |\n",
    "|--------:|:-----------|:----------|-----------:|------------:|------------:|------------:|-------------:|-----:|\n",
    "|  960100 | Idaho      | ID        |       34.5 |        28.6 |         6.3 |        22.7 |         17.7 |  627 |\n",
    "|  960200 | Caribou    | ID        |       15.7 |        15.5 |         5.7 |        16   |         12.9 |  478 |\n",
    "|  001300 | Siskiyou   | CA        |       26.3 |        21.1 |        38   |        35.7 |          5.8 |  438 |\n",
    "|  000800 | Siskiyou   | CA        |       28.9 |        18.7 |        21.7 |        27.7 |          3.6 |  403 |\n",
    "|  002701 | Tulare     | CA        |       32.4 |        25.7 |        26.6 |        45.9 |          5.2 |  387 |\n",
    "|  001500 | Coconino   | AZ        |       36.3 |        14.7 |        17.3 |        15.8 |         11.1 |  378 |\n",
    "|  970100 | Valley     | ID        |       47.7 |        29.4 |         6.7 |        24.8 |          6.5 |  340 |\n",
    "|  970100 | Clearwater | ID        |       36.6 |        24.4 |         3.8 |        21.4 |         15.7 |  318 |\n",
    "|  960200 | Custer     | ID        |       33.2 |        27   |        14.8 |        27.2 |          6.2 |  311 |\n",
    "|  960200 | Shoshone   | ID        |       28.8 |        29.7 |         7   |        29.3 |         13   |  308 |"
   ]
  },
  {
   "cell_type": "code",
   "execution_count": null,
   "metadata": {},
   "outputs": [],
   "source": []
  }
 ],
 "metadata": {
  "kernelspec": {
   "display_name": ".venv",
   "language": "python",
   "name": "python3"
  },
  "language_info": {
   "codemirror_mode": {
    "name": "ipython",
    "version": 3
   },
   "file_extension": ".py",
   "mimetype": "text/x-python",
   "name": "python",
   "nbconvert_exporter": "python",
   "pygments_lexer": "ipython3",
   "version": "3.12.0"
  }
 },
 "nbformat": 4,
 "nbformat_minor": 4
}
